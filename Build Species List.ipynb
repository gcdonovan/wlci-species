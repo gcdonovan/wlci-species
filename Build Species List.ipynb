{
 "cells": [
  {
   "cell_type": "markdown",
   "metadata": {},
   "source": [
    "This notebook uses the existing Wyoming Landscape Conservation Initiative (WLIC) literature database and the eXtract Dark Data database (xDD, also known as GeoDeepDive: https://geodeepdive.org/) to build a list of unique specie names that have been published on in WLCI efforts."
   ]
  },
  {
   "cell_type": "code",
   "execution_count": 20,
   "metadata": {},
   "outputs": [],
   "source": [
    "#Import needed packages\n",
    "import requests\n",
    "import pandas as pd\n",
    "import json\n",
    "import bispy\n",
    "\n",
    "\n",
    "bis_utils = bispy.bis.Utils()"
   ]
  },
  {
   "cell_type": "code",
   "execution_count": 21,
   "metadata": {},
   "outputs": [],
   "source": [
    "#The WLCI literature database was exported as CSL JSON and posted to this ScienceBase Item: https://www.sciencebase.gov/catalog/item/4f4e476fe4b07f02db47e19f \n",
    "#as file wlci_lit_20190702.json.  The file can be accessed via \n",
    "\n",
    "#File download url\n",
    "lit_json_file = \"https://www.sciencebase.gov/catalog/file/get/4f4e476fe4b07f02db47e19f?f=__disk__ad%2F2e%2Fcc%2Fad2ecc69ef3957ef9cd23d4cba1c7c68b983acad\"\n",
    "#Request and return JSON of literature data\n",
    "lit_json = requests.get(lit_json_file).json()"
   ]
  },
  {
   "cell_type": "code",
   "execution_count": 22,
   "metadata": {},
   "outputs": [
    {
     "data": {
      "text/plain": [
       "303"
      ]
     },
     "execution_count": 22,
     "metadata": {},
     "output_type": "execute_result"
    }
   ],
   "source": [
    "len(lit_json)"
   ]
  },
  {
   "cell_type": "code",
   "execution_count": 23,
   "metadata": {},
   "outputs": [],
   "source": [
    "#Set function for accessing xDD database\n",
    "def xdd_api(route, params):\n",
    "    \"\"\"Create list of docs mentioning a term of interest\n",
    "    Parameters : see https://geodeepdive.org/api for more detail\n",
    "    ----------\n",
    "    routes : str of available api routes for xDD \n",
    "    params : str of key value pairs of paramaters:values separated by &\n",
    "    \"\"\"\n",
    "    base_url = 'https://geodeepdive.org/api'\n",
    "    search = (base_url + '/' + route + '?' + str(params))\n",
    "    #print (search)\n",
    "    try:\n",
    "        r=requests.get(search)\n",
    "        if r.status_code == 200 and 'success' in r.json():\n",
    "            json_r = r.json()\n",
    "            data = json_r['success']['data']\n",
    "            return data\n",
    "        elif r.status_code == 200:\n",
    "            data = []\n",
    "            return data\n",
    "        else:\n",
    "            raise Exception('xDD API returning: {}'.format(r.status_code))\n",
    "    except Exception as e:\n",
    "        raise Exception(e)"
   ]
  },
  {
   "cell_type": "code",
   "execution_count": 24,
   "metadata": {},
   "outputs": [],
   "source": [
    "#Create list of relationship information between WLCI database and xDD database\n",
    "wlci_xdd = []\n",
    "for ref in lit_json:\n",
    "    wlci_id = ref['id']\n",
    "    if 'DOI' in ref:\n",
    "        doi = ref['DOI']\n",
    "    elif 'note' in ref and 'OCLC' not in ref['note']:\n",
    "        doi = ref['note']\n",
    "    route = 'articles'\n",
    "    param = 'max=1&doi='+str(doi)\n",
    "    xdd_data = xdd_api(route, param)\n",
    "    if xdd_data:\n",
    "        xdd_id = xdd_data[0]['_gddid']\n",
    "        wlci_xdd.append(\n",
    "            {\n",
    "                'wlci_id': wlci_id, \n",
    "                'relation': 'doi_match', \n",
    "                'xdd_id':xdd_id, \n",
    "                'param':param, \n",
    "                'title': ref['title']\n",
    "            }\n",
    "        )\n",
    "    "
   ]
  },
  {
   "cell_type": "code",
   "execution_count": 25,
   "metadata": {},
   "outputs": [],
   "source": [
    "with open('cache/WLCI Literature xDD Matches.json', 'w') as f:\n",
    "    f.write(json.dumps(wlci_xdd, indent=4))\n",
    "    f.close()"
   ]
  },
  {
   "cell_type": "code",
   "execution_count": 26,
   "metadata": {},
   "outputs": [],
   "source": [
    "#Create list of species that are mentioned in the WLCI efforts\n",
    "specie_mentions = list()\n",
    "for xdd_record in wlci_xdd:\n",
    "    route = 'terms'\n",
    "    param = f\"docid={xdd_record['xdd_id']}&dictionary=ITIS\"\n",
    "    xdd_data = xdd_api(route, param)\n",
    "    for x in xdd_data:\n",
    "        if len(x['term'].split()) > 1:\n",
    "            specie = x['term']\n",
    "            hits = str(x['n_hits'])\n",
    "            specie_mentions.append(\n",
    "                {'Scientific Name':specie, \n",
    "                 'xdd_id':xdd_id, \n",
    "                 'wlci_id':wlci_id, \n",
    "                 'n_hits':hits\n",
    "                }\n",
    "            ) "
   ]
  },
  {
   "cell_type": "code",
   "execution_count": 27,
   "metadata": {},
   "outputs": [
    {
     "data": {
      "text/plain": [
       "{'Doc Cache File': 'cache/WLCI Species List from Literature.json',\n",
       " 'Number of Documents in Cache': 287,\n",
       " 'Document Number 193': {'Scientific Name': 'Populus tremuloides',\n",
       "  'xdd_id': '5c4e3f571faed655489408c3',\n",
       "  'wlci_id': 'http://zotero.org/groups/2341914/items/KP3R7Q33',\n",
       "  'n_hits': '7'}}"
      ]
     },
     "metadata": {},
     "output_type": "display_data"
    }
   ],
   "source": [
    "# Cache the array of retrieved documents and return/display a random sample for verification\n",
    "display(bis_utils.doc_cache(\"cache/WLCI Species List from Literature.json\", specie_mentions))"
   ]
  }
 ],
 "metadata": {
  "kernelspec": {
   "display_name": "Python 3",
   "language": "python",
   "name": "python3"
  },
  "language_info": {
   "codemirror_mode": {
    "name": "ipython",
    "version": 3
   },
   "file_extension": ".py",
   "mimetype": "text/x-python",
   "name": "python",
   "nbconvert_exporter": "python",
   "pygments_lexer": "ipython3",
   "version": "3.7.3"
  }
 },
 "nbformat": 4,
 "nbformat_minor": 2
}
