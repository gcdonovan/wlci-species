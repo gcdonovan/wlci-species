{
 "cells": [
  {
   "cell_type": "markdown",
   "metadata": {},
   "source": [
    "In this notebook information from TESS is retrieved using the valid/accepted ITIS species names and the invalid/not accepted ITIS species names. \n",
    "\n",
    "This notebook uses the TESS class of the TESS module in the bispy package. "
   ]
  },
  {
   "cell_type": "code",
   "execution_count": null,
   "metadata": {},
   "outputs": [],
   "source": [
    "#Import needed packages\n",
    "import json\n",
    "import bispy\n",
    "from IPython.display import display\n",
    "from collections import Counter\n",
    "from joblib import Parallel, delayed\n",
    "\n",
    "\n",
    "tess = bispy.ecos.Tess()\n",
    "bis_utils = bispy.bis.Utils()"
   ]
  },
  {
   "cell_type": "code",
   "execution_count": null,
   "metadata": {},
   "outputs": [],
   "source": [
    "# Open up cache updated ITIS list with valid/accepted species names from ITIS Exploration.ipynb\n",
    "with open(\"cache/valid_itis.json\", \"r\") as f:\n",
    "    valid_itis = json.loads(f.read())"
   ]
  },
  {
   "cell_type": "code",
   "execution_count": null,
   "metadata": {},
   "outputs": [],
   "source": [
    "# Use joblib to run multiple requests for TESS records in parallel via the valid/accepted ITIS scientific names\n",
    "tess_result = Parallel(n_jobs=8)(delayed(tess.search)(name) for name in [r[\"scientific_name\"] for r in valid_itis]) \n",
    "len(tess_result)"
   ]
  },
  {
   "cell_type": "code",
   "execution_count": null,
   "metadata": {},
   "outputs": [],
   "source": [
    "tess_result"
   ]
  },
  {
   "cell_type": "code",
   "execution_count": null,
   "metadata": {},
   "outputs": [],
   "source": [
    "# Filter to give just cases where TESS species names matched with valid/accepted ITIS species names\n",
    "tess_success=[i for i in tess_result if i['processing_metadata']['status'] == 'success']\n",
    "len(tess_success)"
   ]
  },
  {
   "cell_type": "code",
   "execution_count": null,
   "metadata": {},
   "outputs": [],
   "source": [
    "# Cache the array of retrieved documents and return/display a random sample for verification\n",
    "display(bis_utils.doc_cache(\"cache/tess.json\", tess_success))"
   ]
  },
  {
   "cell_type": "markdown",
   "metadata": {},
   "source": [
    "Check to see if any invalid/not accepted ITIS specie names matched with TESS records"
   ]
  },
  {
   "cell_type": "code",
   "execution_count": null,
   "metadata": {},
   "outputs": [],
   "source": [
    "# Open up the cached updated ITIS list with invalid/not accepted species names from ITIS Exploration.ipynb\n",
    "with open(\"cache/invalid_itis.json\", \"r\") as f:\n",
    "    invalid_itis = json.loads(f.read())"
   ]
  },
  {
   "cell_type": "code",
   "execution_count": null,
   "metadata": {},
   "outputs": [],
   "source": [
    "# Use joblib to run multiple requests for TESS documents in parallel via the invalid/not accepted ITIS scientific names\n",
    "invalid_result = Parallel(n_jobs=8)(delayed(tess.search)(name) for name in [r[\"scientific_name\"] for r in invalid_itis]) "
   ]
  },
  {
   "cell_type": "code",
   "execution_count": null,
   "metadata": {},
   "outputs": [],
   "source": [
    "# Filter to give just cases where TESS species names matched with invalid/not accepted ITIS names\n",
    "invalid_result=[i for i in invalid_result if i['processing_metadata']['status'] == 'success']\n",
    "len(invalid_result)"
   ]
  },
  {
   "cell_type": "code",
   "execution_count": null,
   "metadata": {},
   "outputs": [],
   "source": [
    "#Display result to identify the TESS record that matched the invalid/not accepted ITIS name\n",
    "invalid_result"
   ]
  },
  {
   "cell_type": "code",
   "execution_count": null,
   "metadata": {},
   "outputs": [],
   "source": [
    "# Cache the retrieved document and return/display a sample for verification\n",
    "display(bis_utils.doc_cache(\"cache/Results of Consultations with Invalid ITIS Species Names/invalid_tess.json\", invalid_result))"
   ]
  },
  {
   "cell_type": "code",
   "execution_count": null,
   "metadata": {},
   "outputs": [],
   "source": []
  }
 ],
 "metadata": {
  "kernelspec": {
   "display_name": "Python 3",
   "language": "python",
   "name": "python3"
  },
  "language_info": {
   "codemirror_mode": {
    "name": "ipython",
    "version": 3
   },
   "file_extension": ".py",
   "mimetype": "text/x-python",
   "name": "python",
   "nbconvert_exporter": "python",
   "pygments_lexer": "ipython3",
   "version": "3.7.3"
  }
 },
 "nbformat": 4,
 "nbformat_minor": 2
}
