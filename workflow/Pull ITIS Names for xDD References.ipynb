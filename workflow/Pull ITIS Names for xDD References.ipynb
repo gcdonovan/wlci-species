{
 "cells": [
  {
   "cell_type": "markdown",
   "metadata": {},
   "source": [
    "This notebook builds on the process I started of working this system from the Zotero API against a given library. In the first step I outlined in \"Pull References via Zotero API\", I established a linkage from a Zotero library item to an xDD item. From that point, we can essentially run any number of processes to extract value from xDD for the associated processed articles. This could come from an NLP process run on the xDD system, but in this case, we're looking at the dictionary routes that have already extracted/associated specific terms from a given dictionary against articles (ITIS scientific names in this case).\n",
    "\n",
    "One of the interesting dynamics with the Zotero platform is that we can create reference item attachments in a hierarchical structure (I don't yet know if there's a limit to hierarchy depth). Looking at the Zotero attachment schema, it seems reasonable to continue using the linked_url linkMode to record the route to the dictionary API that we use and then the tags construct to capture the specific ITIS scientific names for the given article. This puts everything into a logical structure that should make sense for both human users and subsequent software processing. We can again use the title property to give our algorithm-generated xDD dictionary attachment a logical name for classification."
   ]
  },
  {
   "cell_type": "code",
   "execution_count": 1,
   "metadata": {},
   "outputs": [],
   "source": [
    "from pyzotero import zotero\n",
    "import os\n",
    "import requests\n",
    "import json\n",
    "from IPython.display import display"
   ]
  },
  {
   "cell_type": "code",
   "execution_count": 2,
   "metadata": {},
   "outputs": [],
   "source": [
    "wlci_library_group_id = \"2341914\"\n",
    "wlci_lib = zotero.Zotero(wlci_library_group_id, \"group\", os.environ[\"ZOTERO_API_KEY\"])"
   ]
  },
  {
   "cell_type": "markdown",
   "metadata": {},
   "source": [
    "It ended up making the best sense (to me) to work this entire process into a specific combined function that retrieves and stores xDD Dictionary terms for a given xDD derivative associated with a given article or report. I found that I could not nest an attachment item under another attachment items, so these end up going in directly under the parent item. There is a relations concept in the attachment data model that could be explored further to create linkages between attachments that contain the xDD article association to any of those attachments where we stash terms, but it's not all that necessary at this point because the terms attachments will have everything necessary to get back to the xDD article.\n",
    "\n",
    "After fiddling with some different ways of structuring the data into these attachments, I ended up json dumping an array of objects containing the dictionary name (from xDD), the terms, and hit counts and then putting just the terms themselves into tags. Zotero treats the tags as facets within the context of the Library itself, so we immediately start adding a bunch of potentially useful tags to help filter through a library. However, we might want to revisit this if we determine that secondary processing filters out tags that we retrieve from the xDD process that are not actually relevant for our case.\n",
    "\n",
    "The function will either insert a new document or update an existing document with the fresh haul from the xDD dictionary lookup. We could refine this further so that we check to see if there's anything different in the xDD response before updating an item. One of the interesting things I found in this process was the fairly nice way that Zotero versions everything. It looks like there is a way to get back to older versions of any given item through the API as well that we might explore at some point."
   ]
  },
  {
   "cell_type": "code",
   "execution_count": 10,
   "metadata": {},
   "outputs": [],
   "source": [
    "def xdd_terms_to_zotero_attachment(parent_id, xdd_id, dictionary):\n",
    "    search_url = f\"https://geodeepdive.org/api/terms?docid={xdd_id}&dictionary={dictionary}\"\n",
    "    r = requests.get(search_url, headers={\"Accept\": \"application/json\"})\n",
    "    \n",
    "    if r.status_code == 200 and 'success' in r.json():\n",
    "        data = r.json()['success']['data']\n",
    "        # Prepare a list of tuples with scientific name and hit count to shove into the notes\n",
    "        terms_and_hits = [{\"dictionary\": dictionary, \"term\":i['term'], \"hit_count\":i['n_hits']} for i in data if len(i['term'].split()) > 1]\n",
    "\n",
    "        if len(terms_and_hits) == 0:\n",
    "            return None\n",
    "        \n",
    "        # Prepare just the list of scientific names to use as tags\n",
    "        tag_list = [i[\"term\"] for i in terms_and_hits]\n",
    "        \n",
    "        # Check to see if the top level item already has an attachment for this information\n",
    "        child_items = wlci_lib.children(parent_id)\n",
    "        current_xdd_doc_attachment = next((i for i in child_items if i[\"data\"][\"title\"] == f\"xDD terms from document for the {dictionary} dictionary\"), None)\n",
    "        \n",
    "        # If not create it\n",
    "        if current_xdd_doc_attachment is None:\n",
    "            template = wlci_lib.item_template(\"attachment\", linkmode=\"linked_url\")\n",
    "            template[\"parentItem\"] = parent_id\n",
    "            template[\"title\"] = f\"xDD terms from document for the {dictionary} dictionary\"\n",
    "            template[\"url\"] = search_url\n",
    "            template[\"accessDate\"] = \"CURRENT_TIMESTAMP\"\n",
    "            template[\"note\"] = json.dumps(terms_and_hits)\n",
    "\n",
    "            create_response = wlci_lib.create_items([template])\n",
    "            if create_response[\"successful\"]:\n",
    "                current_xdd_doc_attachment = create_response[\"successful\"][\"0\"]\n",
    "            else:\n",
    "                return create_response\n",
    "\n",
    "        # If the doc already exists update the note\n",
    "        else:\n",
    "            current_xdd_doc_attachment[\"data\"][\"note\"] = json.dumps(terms_and_hits)\n",
    "            wlci_lib.update_item(current_xdd_doc_attachment)\n",
    "            # Have to retrieve the document we just updated so we have the current version\n",
    "            current_xdd_doc_attachment = wlci_lib.item(current_xdd_doc_attachment[\"key\"])\n",
    "        \n",
    "        # We have to add the tags as a separate API call to the attachment that was either just created or updated\n",
    "        if current_xdd_doc_attachment is not None:\n",
    "            wlci_lib.add_tags(current_xdd_doc_attachment, *tag_list)\n",
    "\n",
    "        return True\n",
    "    else:\n",
    "        return None\n"
   ]
  },
  {
   "cell_type": "markdown",
   "metadata": {},
   "source": [
    "The final step here runs through everything in the library with the \"xdd_doc_link\" tag. I went back and added this tag to the process of establishing the linkage to an xDD document so that we have an easy way of simply querying for all of those established connections that we might want to exploit for various purposes over time. The responses that got kicked out in a saved snapshot from the Jupyter process might show some interim results that I was displaying in the function to keep track of what was going on. A True response means that we successfully updated the item with its tags. A None response indicates that we didn't get anything from the xDD API."
   ]
  },
  {
   "cell_type": "code",
   "execution_count": 8,
   "metadata": {},
   "outputs": [
    {
     "data": {
      "text/plain": [
       "True"
      ]
     },
     "metadata": {},
     "output_type": "display_data"
    },
    {
     "data": {
      "text/plain": [
       "True"
      ]
     },
     "metadata": {},
     "output_type": "display_data"
    },
    {
     "data": {
      "text/plain": [
       "None"
      ]
     },
     "metadata": {},
     "output_type": "display_data"
    },
    {
     "data": {
      "text/plain": [
       "None"
      ]
     },
     "metadata": {},
     "output_type": "display_data"
    },
    {
     "data": {
      "text/plain": [
       "None"
      ]
     },
     "metadata": {},
     "output_type": "display_data"
    },
    {
     "data": {
      "text/plain": [
       "None"
      ]
     },
     "metadata": {},
     "output_type": "display_data"
    },
    {
     "data": {
      "text/plain": [
       "None"
      ]
     },
     "metadata": {},
     "output_type": "display_data"
    },
    {
     "data": {
      "text/plain": [
       "None"
      ]
     },
     "metadata": {},
     "output_type": "display_data"
    },
    {
     "data": {
      "text/plain": [
       "None"
      ]
     },
     "metadata": {},
     "output_type": "display_data"
    },
    {
     "data": {
      "text/plain": [
       "{'itemType': 'attachment',\n",
       " 'linkMode': 'linked_url',\n",
       " 'title': 'xDD terms from document for the ITIS dictionary',\n",
       " 'accessDate': 'CURRENT_TIMESTAMP',\n",
       " 'url': 'https://geodeepdive.org/api/terms?docid=57c28175cf58f1aa5dd91edd&dictionary=ITIS',\n",
       " 'note': '[{\"dictionary\": \"ITIS\", \"term\": \"Centrocercus urophasianus\", \"hit_count\": 5}]',\n",
       " 'tags': [],\n",
       " 'collections': [],\n",
       " 'relations': {},\n",
       " 'contentType': '',\n",
       " 'charset': '',\n",
       " 'parentItem': '44AMWAPV'}"
      ]
     },
     "metadata": {},
     "output_type": "display_data"
    },
    {
     "data": {
      "text/plain": [
       "True"
      ]
     },
     "metadata": {},
     "output_type": "display_data"
    },
    {
     "data": {
      "text/plain": [
       "None"
      ]
     },
     "metadata": {},
     "output_type": "display_data"
    },
    {
     "data": {
      "text/plain": [
       "None"
      ]
     },
     "metadata": {},
     "output_type": "display_data"
    },
    {
     "data": {
      "text/plain": [
       "{'itemType': 'attachment',\n",
       " 'linkMode': 'linked_url',\n",
       " 'title': 'xDD terms from document for the ITIS dictionary',\n",
       " 'accessDate': 'CURRENT_TIMESTAMP',\n",
       " 'url': 'https://geodeepdive.org/api/terms?docid=585b52f3cf58f1a722da9ab5&dictionary=ITIS',\n",
       " 'note': '[{\"dictionary\": \"ITIS\", \"term\": \"Betula nana\", \"hit_count\": 1}]',\n",
       " 'tags': [],\n",
       " 'collections': [],\n",
       " 'relations': {},\n",
       " 'contentType': '',\n",
       " 'charset': '',\n",
       " 'parentItem': 'LSJ875PV'}"
      ]
     },
     "metadata": {},
     "output_type": "display_data"
    },
    {
     "data": {
      "text/plain": [
       "True"
      ]
     },
     "metadata": {},
     "output_type": "display_data"
    },
    {
     "data": {
      "text/plain": [
       "{'itemType': 'attachment',\n",
       " 'linkMode': 'linked_url',\n",
       " 'title': 'xDD terms from document for the ITIS dictionary',\n",
       " 'accessDate': 'CURRENT_TIMESTAMP',\n",
       " 'url': 'https://geodeepdive.org/api/terms?docid=551d6881e138236e51a9970e&dictionary=ITIS',\n",
       " 'note': '[{\"dictionary\": \"ITIS\", \"term\": \"Artemisia tridentata\", \"hit_count\": 4}]',\n",
       " 'tags': [],\n",
       " 'collections': [],\n",
       " 'relations': {},\n",
       " 'contentType': '',\n",
       " 'charset': '',\n",
       " 'parentItem': '5PXF3TPC'}"
      ]
     },
     "metadata": {},
     "output_type": "display_data"
    },
    {
     "data": {
      "text/plain": [
       "True"
      ]
     },
     "metadata": {},
     "output_type": "display_data"
    },
    {
     "data": {
      "text/plain": [
       "{'itemType': 'attachment',\n",
       " 'linkMode': 'linked_url',\n",
       " 'title': 'xDD terms from document for the ITIS dictionary',\n",
       " 'accessDate': 'CURRENT_TIMESTAMP',\n",
       " 'url': 'https://geodeepdive.org/api/terms?docid=579f4458cf58f123c56623f8&dictionary=ITIS',\n",
       " 'note': '[{\"dictionary\": \"ITIS\", \"term\": \"Artemisia tridentata\", \"hit_count\": 1}, {\"dictionary\": \"ITIS\", \"term\": \"Centrocercus urophasianus\", \"hit_count\": 5}]',\n",
       " 'tags': [],\n",
       " 'collections': [],\n",
       " 'relations': {},\n",
       " 'contentType': '',\n",
       " 'charset': '',\n",
       " 'parentItem': 'Z7TMPV6Q'}"
      ]
     },
     "metadata": {},
     "output_type": "display_data"
    },
    {
     "data": {
      "text/plain": [
       "True"
      ]
     },
     "metadata": {},
     "output_type": "display_data"
    },
    {
     "data": {
      "text/plain": [
       "{'itemType': 'attachment',\n",
       " 'linkMode': 'linked_url',\n",
       " 'title': 'xDD terms from document for the ITIS dictionary',\n",
       " 'accessDate': 'CURRENT_TIMESTAMP',\n",
       " 'url': 'https://geodeepdive.org/api/terms?docid=5ad055c3cf58f1a9152a8fd5&dictionary=ITIS',\n",
       " 'note': '[{\"dictionary\": \"ITIS\", \"term\": \"Aquila chrysaetos\", \"hit_count\": 1}, {\"dictionary\": \"ITIS\", \"term\": \"Artemisia tridentata\", \"hit_count\": 4}, {\"dictionary\": \"ITIS\", \"term\": \"Artemisia tridentata ssp. wyomingensis\", \"hit_count\": 1}, {\"dictionary\": \"ITIS\", \"term\": \"Atriplex gardneri\", \"hit_count\": 1}, {\"dictionary\": \"ITIS\", \"term\": \"Brachylagus idahoensis\", \"hit_count\": 1}, {\"dictionary\": \"ITIS\", \"term\": \"Branta leucopsis\", \"hit_count\": 1}, {\"dictionary\": \"ITIS\", \"term\": \"Bromus tectorum\", \"hit_count\": 2}, {\"dictionary\": \"ITIS\", \"term\": \"Buteo regalis\", \"hit_count\": 1}, {\"dictionary\": \"ITIS\", \"term\": \"Centrocercus urophasianus\", \"hit_count\": 1}, {\"dictionary\": \"ITIS\", \"term\": \"Elymus elymoides\", \"hit_count\": 1}, {\"dictionary\": \"ITIS\", \"term\": \"Elymus lanceolatus\", \"hit_count\": 1}, {\"dictionary\": \"ITIS\", \"term\": \"Ericameria nauseosa\", \"hit_count\": 1}, {\"dictionary\": \"ITIS\", \"term\": \"Festuca idahoensis\", \"hit_count\": 1}, {\"dictionary\": \"ITIS\", \"term\": \"Hesperostipa comata\", \"hit_count\": 1}, {\"dictionary\": \"ITIS\", \"term\": \"Krascheninnikovia lanata\", \"hit_count\": 1}, {\"dictionary\": \"ITIS\", \"term\": \"Odocoileus hemionus\", \"hit_count\": 1}, {\"dictionary\": \"ITIS\", \"term\": \"Pseudoroegneria spicata\", \"hit_count\": 1}]',\n",
       " 'tags': [],\n",
       " 'collections': [],\n",
       " 'relations': {},\n",
       " 'contentType': '',\n",
       " 'charset': '',\n",
       " 'parentItem': '822S7HY8'}"
      ]
     },
     "metadata": {},
     "output_type": "display_data"
    },
    {
     "data": {
      "text/plain": [
       "True"
      ]
     },
     "metadata": {},
     "output_type": "display_data"
    },
    {
     "data": {
      "text/plain": [
       "{'itemType': 'attachment',\n",
       " 'linkMode': 'linked_url',\n",
       " 'title': 'xDD terms from document for the ITIS dictionary',\n",
       " 'accessDate': 'CURRENT_TIMESTAMP',\n",
       " 'url': 'https://geodeepdive.org/api/terms?docid=58e2c641cf58f1697d39b86b&dictionary=ITIS',\n",
       " 'note': '[{\"dictionary\": \"ITIS\", \"term\": \"Centrocercus urophasianus\", \"hit_count\": 6}]',\n",
       " 'tags': [],\n",
       " 'collections': [],\n",
       " 'relations': {},\n",
       " 'contentType': '',\n",
       " 'charset': '',\n",
       " 'parentItem': 'Q5TCVPYX'}"
      ]
     },
     "metadata": {},
     "output_type": "display_data"
    },
    {
     "data": {
      "text/plain": [
       "True"
      ]
     },
     "metadata": {},
     "output_type": "display_data"
    },
    {
     "data": {
      "text/plain": [
       "None"
      ]
     },
     "metadata": {},
     "output_type": "display_data"
    },
    {
     "data": {
      "text/plain": [
       "None"
      ]
     },
     "metadata": {},
     "output_type": "display_data"
    },
    {
     "data": {
      "text/plain": [
       "{'itemType': 'attachment',\n",
       " 'linkMode': 'linked_url',\n",
       " 'title': 'xDD terms from document for the ITIS dictionary',\n",
       " 'accessDate': 'CURRENT_TIMESTAMP',\n",
       " 'url': 'https://geodeepdive.org/api/terms?docid=551d04b9e138236e51a9956a&dictionary=ITIS',\n",
       " 'note': '[{\"dictionary\": \"ITIS\", \"term\": \"Dendroctonus ponderosae\", \"hit_count\": 1}]',\n",
       " 'tags': [],\n",
       " 'collections': [],\n",
       " 'relations': {},\n",
       " 'contentType': '',\n",
       " 'charset': '',\n",
       " 'parentItem': '4W5FVZZM'}"
      ]
     },
     "metadata": {},
     "output_type": "display_data"
    },
    {
     "data": {
      "text/plain": [
       "True"
      ]
     },
     "metadata": {},
     "output_type": "display_data"
    },
    {
     "data": {
      "text/plain": [
       "{'itemType': 'attachment',\n",
       " 'linkMode': 'linked_url',\n",
       " 'title': 'xDD terms from document for the ITIS dictionary',\n",
       " 'accessDate': 'CURRENT_TIMESTAMP',\n",
       " 'url': 'https://geodeepdive.org/api/terms?docid=5a49f8becf58f132c3775c3a&dictionary=ITIS',\n",
       " 'note': '[{\"dictionary\": \"ITIS\", \"term\": \"Atriplex canescens\", \"hit_count\": 5}, {\"dictionary\": \"ITIS\", \"term\": \"Atriplex gardneri\", \"hit_count\": 2}, {\"dictionary\": \"ITIS\", \"term\": \"Bassia prostrata\", \"hit_count\": 4}, {\"dictionary\": \"ITIS\", \"term\": \"Halogeton glomeratus\", \"hit_count\": 7}, {\"dictionary\": \"ITIS\", \"term\": \"Kochia prostrata\", \"hit_count\": 5}, {\"dictionary\": \"ITIS\", \"term\": \"Medicago sativa\", \"hit_count\": 3}, {\"dictionary\": \"ITIS\", \"term\": \"Suaeda maritima\", \"hit_count\": 2}, {\"dictionary\": \"ITIS\", \"term\": \"Thinopyrum ponticum\", \"hit_count\": 3}, {\"dictionary\": \"ITIS\", \"term\": \"Thinopyrum ponticum\", \"hit_count\": 3}, {\"dictionary\": \"ITIS\", \"term\": \"Zea mays\", \"hit_count\": 1}]',\n",
       " 'tags': [],\n",
       " 'collections': [],\n",
       " 'relations': {},\n",
       " 'contentType': '',\n",
       " 'charset': '',\n",
       " 'parentItem': 'JK87YUFS'}"
      ]
     },
     "metadata": {},
     "output_type": "display_data"
    },
    {
     "data": {
      "text/plain": [
       "True"
      ]
     },
     "metadata": {},
     "output_type": "display_data"
    },
    {
     "data": {
      "text/plain": [
       "{'itemType': 'attachment',\n",
       " 'linkMode': 'linked_url',\n",
       " 'title': 'xDD terms from document for the ITIS dictionary',\n",
       " 'accessDate': 'CURRENT_TIMESTAMP',\n",
       " 'url': 'https://geodeepdive.org/api/terms?docid=5c1cc81f1faed65548897433&dictionary=ITIS',\n",
       " 'note': '[{\"dictionary\": \"ITIS\", \"term\": \"Achnatherum hymenoides\", \"hit_count\": 1}, {\"dictionary\": \"ITIS\", \"term\": \"Artemisia tridentata\", \"hit_count\": 2}, {\"dictionary\": \"ITIS\", \"term\": \"Artemisiospiza nevadensis\", \"hit_count\": 1}, {\"dictionary\": \"ITIS\", \"term\": \"Centrocercus urophasianus\", \"hit_count\": 1}, {\"dictionary\": \"ITIS\", \"term\": \"Corvus corax\", \"hit_count\": 1}, {\"dictionary\": \"ITIS\", \"term\": \"Descurainia sophia\", \"hit_count\": 2}, {\"dictionary\": \"ITIS\", \"term\": \"Elymus elymoides\", \"hit_count\": 1}, {\"dictionary\": \"ITIS\", \"term\": \"Leymus cinereus\", \"hit_count\": 2}, {\"dictionary\": \"ITIS\", \"term\": \"Oreoscoptes montanus\", \"hit_count\": 1}, {\"dictionary\": \"ITIS\", \"term\": \"Peromyscus maniculatus\", \"hit_count\": 9}, {\"dictionary\": \"ITIS\", \"term\": \"Phleum pratense\", \"hit_count\": 1}, {\"dictionary\": \"ITIS\", \"term\": \"Spizella breweri\", \"hit_count\": 1}, {\"dictionary\": \"ITIS\", \"term\": \"Thrichomys fosteri\", \"hit_count\": 1}]',\n",
       " 'tags': [],\n",
       " 'collections': [],\n",
       " 'relations': {},\n",
       " 'contentType': '',\n",
       " 'charset': '',\n",
       " 'parentItem': 'K4YNMGZX'}"
      ]
     },
     "metadata": {},
     "output_type": "display_data"
    },
    {
     "data": {
      "text/plain": [
       "True"
      ]
     },
     "metadata": {},
     "output_type": "display_data"
    },
    {
     "data": {
      "text/plain": [
       "{'itemType': 'attachment',\n",
       " 'linkMode': 'linked_url',\n",
       " 'title': 'xDD terms from document for the ITIS dictionary',\n",
       " 'accessDate': 'CURRENT_TIMESTAMP',\n",
       " 'url': 'https://geodeepdive.org/api/terms?docid=583da612cf58f107cb09840d&dictionary=ITIS',\n",
       " 'note': '[{\"dictionary\": \"ITIS\", \"term\": \"Antilocapra americana\", \"hit_count\": 1}, {\"dictionary\": \"ITIS\", \"term\": \"Cervus elaphus\", \"hit_count\": 1}, {\"dictionary\": \"ITIS\", \"term\": \"Connochaetes taurinus\", \"hit_count\": 1}, {\"dictionary\": \"ITIS\", \"term\": \"Fringilla montifringilla\", \"hit_count\": 1}, {\"dictionary\": \"ITIS\", \"term\": \"Odocoileus hemionus\", \"hit_count\": 3}, {\"dictionary\": \"ITIS\", \"term\": \"Rangifer tarandus\", \"hit_count\": 1}]',\n",
       " 'tags': [],\n",
       " 'collections': [],\n",
       " 'relations': {},\n",
       " 'contentType': '',\n",
       " 'charset': '',\n",
       " 'parentItem': 'Q9VEKFZX'}"
      ]
     },
     "metadata": {},
     "output_type": "display_data"
    },
    {
     "data": {
      "text/plain": [
       "True"
      ]
     },
     "metadata": {},
     "output_type": "display_data"
    },
    {
     "data": {
      "text/plain": [
       "{'itemType': 'attachment',\n",
       " 'linkMode': 'linked_url',\n",
       " 'title': 'xDD terms from document for the ITIS dictionary',\n",
       " 'accessDate': 'CURRENT_TIMESTAMP',\n",
       " 'url': 'https://geodeepdive.org/api/terms?docid=58976134cf58f1a1de231c7a&dictionary=ITIS',\n",
       " 'note': '[{\"dictionary\": \"ITIS\", \"term\": \"Connochaetes taurinus\", \"hit_count\": 1}, {\"dictionary\": \"ITIS\", \"term\": \"Equus burchelli\", \"hit_count\": 1}, {\"dictionary\": \"ITIS\", \"term\": \"Odocoileus hemionus\", \"hit_count\": 2}, {\"dictionary\": \"ITIS\", \"term\": \"Procapra gutturosa\", \"hit_count\": 1}, {\"dictionary\": \"ITIS\", \"term\": \"Purshia tridentata\", \"hit_count\": 1}, {\"dictionary\": \"ITIS\", \"term\": \"Sarcobatus vermiculatus\", \"hit_count\": 1}]',\n",
       " 'tags': [],\n",
       " 'collections': [],\n",
       " 'relations': {},\n",
       " 'contentType': '',\n",
       " 'charset': '',\n",
       " 'parentItem': '7243RZFL'}"
      ]
     },
     "metadata": {},
     "output_type": "display_data"
    },
    {
     "data": {
      "text/plain": [
       "True"
      ]
     },
     "metadata": {},
     "output_type": "display_data"
    },
    {
     "data": {
      "text/plain": [
       "{'itemType': 'attachment',\n",
       " 'linkMode': 'linked_url',\n",
       " 'title': 'xDD terms from document for the ITIS dictionary',\n",
       " 'accessDate': 'CURRENT_TIMESTAMP',\n",
       " 'url': 'https://geodeepdive.org/api/terms?docid=572c8f7ccf58f1127a9809f7&dictionary=ITIS',\n",
       " 'note': '[{\"dictionary\": \"ITIS\", \"term\": \"Antilocapra americana\", \"hit_count\": 2}, {\"dictionary\": \"ITIS\", \"term\": \"Artemisia tridentata\", \"hit_count\": 1}, {\"dictionary\": \"ITIS\", \"term\": \"Centrocercus urophasianus\", \"hit_count\": 1}, {\"dictionary\": \"ITIS\", \"term\": \"Odocoileus hemionus\", \"hit_count\": 3}]',\n",
       " 'tags': [],\n",
       " 'collections': [],\n",
       " 'relations': {},\n",
       " 'contentType': '',\n",
       " 'charset': '',\n",
       " 'parentItem': 'F4N9CWU6'}"
      ]
     },
     "metadata": {},
     "output_type": "display_data"
    },
    {
     "data": {
      "text/plain": [
       "True"
      ]
     },
     "metadata": {},
     "output_type": "display_data"
    },
    {
     "data": {
      "text/plain": [
       "{'itemType': 'attachment',\n",
       " 'linkMode': 'linked_url',\n",
       " 'title': 'xDD terms from document for the ITIS dictionary',\n",
       " 'accessDate': 'CURRENT_TIMESTAMP',\n",
       " 'url': 'https://geodeepdive.org/api/terms?docid=5839f904cf58f149de664120&dictionary=ITIS',\n",
       " 'note': '[{\"dictionary\": \"ITIS\", \"term\": \"Alces alces\", \"hit_count\": 1}, {\"dictionary\": \"ITIS\", \"term\": \"Amelanchier alnifolia\", \"hit_count\": 1}, {\"dictionary\": \"ITIS\", \"term\": \"Antilocapra americana\", \"hit_count\": 1}, {\"dictionary\": \"ITIS\", \"term\": \"Cervus elaphus\", \"hit_count\": 2}, {\"dictionary\": \"ITIS\", \"term\": \"Fringilla montifringilla\", \"hit_count\": 1}, {\"dictionary\": \"ITIS\", \"term\": \"Odocoileus hemionus\", \"hit_count\": 4}, {\"dictionary\": \"ITIS\", \"term\": \"Ovis canadensis\", \"hit_count\": 1}, {\"dictionary\": \"ITIS\", \"term\": \"Prunus virginiana\", \"hit_count\": 1}, {\"dictionary\": \"ITIS\", \"term\": \"Purshia tridentata\", \"hit_count\": 1}, {\"dictionary\": \"ITIS\", \"term\": \"Rangifer tarandus\", \"hit_count\": 2}]',\n",
       " 'tags': [],\n",
       " 'collections': [],\n",
       " 'relations': {},\n",
       " 'contentType': '',\n",
       " 'charset': '',\n",
       " 'parentItem': 'K7EW3YQE'}"
      ]
     },
     "metadata": {},
     "output_type": "display_data"
    },
    {
     "data": {
      "text/plain": [
       "True"
      ]
     },
     "metadata": {},
     "output_type": "display_data"
    },
    {
     "data": {
      "text/plain": [
       "None"
      ]
     },
     "metadata": {},
     "output_type": "display_data"
    },
    {
     "data": {
      "text/plain": [
       "{'itemType': 'attachment',\n",
       " 'linkMode': 'linked_url',\n",
       " 'title': 'xDD terms from document for the ITIS dictionary',\n",
       " 'accessDate': 'CURRENT_TIMESTAMP',\n",
       " 'url': 'https://geodeepdive.org/api/terms?docid=5c4977e21faed6554893aeb0&dictionary=ITIS',\n",
       " 'note': '[{\"dictionary\": \"ITIS\", \"term\": \"Abies lasiocarpa\", \"hit_count\": 1}, {\"dictionary\": \"ITIS\", \"term\": \"Alces alces\", \"hit_count\": 1}, {\"dictionary\": \"ITIS\", \"term\": \"Atriplex gardneri\", \"hit_count\": 1}, {\"dictionary\": \"ITIS\", \"term\": \"Bison bison\", \"hit_count\": 1}, {\"dictionary\": \"ITIS\", \"term\": \"Capreolus capreolus\", \"hit_count\": 1}, {\"dictionary\": \"ITIS\", \"term\": \"Cervus elaphus\", \"hit_count\": 1}, {\"dictionary\": \"ITIS\", \"term\": \"Odocoileus hemionus\", \"hit_count\": 2}, {\"dictionary\": \"ITIS\", \"term\": \"Picea engelmannii\", \"hit_count\": 1}, {\"dictionary\": \"ITIS\", \"term\": \"Pinus contorta\", \"hit_count\": 1}, {\"dictionary\": \"ITIS\", \"term\": \"Rangifer tarandus\", \"hit_count\": 3}, {\"dictionary\": \"ITIS\", \"term\": \"Rangifer tarandus groenlandicus\", \"hit_count\": 1}, {\"dictionary\": \"ITIS\", \"term\": \"Rangifer tarandus groenlandicus\", \"hit_count\": 1}, {\"dictionary\": \"ITIS\", \"term\": \"Sarcobatus vermiculatus\", \"hit_count\": 1}]',\n",
       " 'tags': [],\n",
       " 'collections': [],\n",
       " 'relations': {},\n",
       " 'contentType': '',\n",
       " 'charset': '',\n",
       " 'parentItem': '5GTCJ27A'}"
      ]
     },
     "metadata": {},
     "output_type": "display_data"
    },
    {
     "data": {
      "text/plain": [
       "True"
      ]
     },
     "metadata": {},
     "output_type": "display_data"
    },
    {
     "data": {
      "text/plain": [
       "{'itemType': 'attachment',\n",
       " 'linkMode': 'linked_url',\n",
       " 'title': 'xDD terms from document for the ITIS dictionary',\n",
       " 'accessDate': 'CURRENT_TIMESTAMP',\n",
       " 'url': 'https://geodeepdive.org/api/terms?docid=5904c6c6cf58f152d18be8bf&dictionary=ITIS',\n",
       " 'note': '[{\"dictionary\": \"ITIS\", \"term\": \"Artemisia tridentata\", \"hit_count\": 1}]',\n",
       " 'tags': [],\n",
       " 'collections': [],\n",
       " 'relations': {},\n",
       " 'contentType': '',\n",
       " 'charset': '',\n",
       " 'parentItem': 'TRECRZAA'}"
      ]
     },
     "metadata": {},
     "output_type": "display_data"
    },
    {
     "data": {
      "text/plain": [
       "True"
      ]
     },
     "metadata": {},
     "output_type": "display_data"
    },
    {
     "data": {
      "text/plain": [
       "{'itemType': 'attachment',\n",
       " 'linkMode': 'linked_url',\n",
       " 'title': 'xDD terms from document for the ITIS dictionary',\n",
       " 'accessDate': 'CURRENT_TIMESTAMP',\n",
       " 'url': 'https://geodeepdive.org/api/terms?docid=5900f56ccf58f172049f469a&dictionary=ITIS',\n",
       " 'note': '[{\"dictionary\": \"ITIS\", \"term\": \"Branta leucopsis\", \"hit_count\": 1}, {\"dictionary\": \"ITIS\", \"term\": \"Cervus elaphus\", \"hit_count\": 1}, {\"dictionary\": \"ITIS\", \"term\": \"Clupea pallasii\", \"hit_count\": 1}, {\"dictionary\": \"ITIS\", \"term\": \"Connochaetes taurinus\", \"hit_count\": 1}, {\"dictionary\": \"ITIS\", \"term\": \"Melanitta perspicillata\", \"hit_count\": 1}, {\"dictionary\": \"ITIS\", \"term\": \"Odocoileus hemionus\", \"hit_count\": 3}, {\"dictionary\": \"ITIS\", \"term\": \"Oncorhynchus nerka\", \"hit_count\": 1}, {\"dictionary\": \"ITIS\", \"term\": \"Populus tremuloides\", \"hit_count\": 1}, {\"dictionary\": \"ITIS\", \"term\": \"Ursus arctos\", \"hit_count\": 1}]',\n",
       " 'tags': [],\n",
       " 'collections': [],\n",
       " 'relations': {},\n",
       " 'contentType': '',\n",
       " 'charset': '',\n",
       " 'parentItem': 'BH3VH7QL'}"
      ]
     },
     "metadata": {},
     "output_type": "display_data"
    },
    {
     "data": {
      "text/plain": [
       "True"
      ]
     },
     "metadata": {},
     "output_type": "display_data"
    },
    {
     "data": {
      "text/plain": [
       "{'itemType': 'attachment',\n",
       " 'linkMode': 'linked_url',\n",
       " 'title': 'xDD terms from document for the ITIS dictionary',\n",
       " 'accessDate': 'CURRENT_TIMESTAMP',\n",
       " 'url': 'https://geodeepdive.org/api/terms?docid=594407d1cf58f1b3059ba5a4&dictionary=ITIS',\n",
       " 'note': '[{\"dictionary\": \"ITIS\", \"term\": \"Abies lasiocarpa\", \"hit_count\": 1}, {\"dictionary\": \"ITIS\", \"term\": \"Arctostaphylos patula\", \"hit_count\": 1}, {\"dictionary\": \"ITIS\", \"term\": \"Arctostaphylos patula\", \"hit_count\": 1}, {\"dictionary\": \"ITIS\", \"term\": \"Dendroctonus pseudotsugae\", \"hit_count\": 1}, {\"dictionary\": \"ITIS\", \"term\": \"Juniperus communis\", \"hit_count\": 1}, {\"dictionary\": \"ITIS\", \"term\": \"Juniperus communis var. depressa\", \"hit_count\": 1}, {\"dictionary\": \"ITIS\", \"term\": \"Pinus contorta\", \"hit_count\": 1}, {\"dictionary\": \"ITIS\", \"term\": \"Pinus flexilis\", \"hit_count\": 1}, {\"dictionary\": \"ITIS\", \"term\": \"Populus tremuloides\", \"hit_count\": 1}, {\"dictionary\": \"ITIS\", \"term\": \"Pseudotsuga menziesii\", \"hit_count\": 1}]',\n",
       " 'tags': [],\n",
       " 'collections': [],\n",
       " 'relations': {},\n",
       " 'contentType': '',\n",
       " 'charset': '',\n",
       " 'parentItem': 'X3I66DJ8'}"
      ]
     },
     "metadata": {},
     "output_type": "display_data"
    },
    {
     "data": {
      "text/plain": [
       "True"
      ]
     },
     "metadata": {},
     "output_type": "display_data"
    },
    {
     "data": {
      "text/plain": [
       "{'itemType': 'attachment',\n",
       " 'linkMode': 'linked_url',\n",
       " 'title': 'xDD terms from document for the ITIS dictionary',\n",
       " 'accessDate': 'CURRENT_TIMESTAMP',\n",
       " 'url': 'https://geodeepdive.org/api/terms?docid=577bdf78cf58f1585217325f&dictionary=ITIS',\n",
       " 'note': '[{\"dictionary\": \"ITIS\", \"term\": \"Abies lasiocarpa\", \"hit_count\": 1}, {\"dictionary\": \"ITIS\", \"term\": \"Arctostaphylos patula\", \"hit_count\": 1}, {\"dictionary\": \"ITIS\", \"term\": \"Arctostaphylos patula\", \"hit_count\": 1}, {\"dictionary\": \"ITIS\", \"term\": \"Artemisia tridentata\", \"hit_count\": 1}, {\"dictionary\": \"ITIS\", \"term\": \"Dendroctonus ponderosae\", \"hit_count\": 1}, {\"dictionary\": \"ITIS\", \"term\": \"Dendroctonus pseudotsugae\", \"hit_count\": 1}, {\"dictionary\": \"ITIS\", \"term\": \"Juniperus communis\", \"hit_count\": 1}, {\"dictionary\": \"ITIS\", \"term\": \"Juniperus communis var. depressa\", \"hit_count\": 1}, {\"dictionary\": \"ITIS\", \"term\": \"Orgyia pseudotsugata\", \"hit_count\": 1}, {\"dictionary\": \"ITIS\", \"term\": \"Picea engelmannii\", \"hit_count\": 1}, {\"dictionary\": \"ITIS\", \"term\": \"Pinus contorta\", \"hit_count\": 1}, {\"dictionary\": \"ITIS\", \"term\": \"Populus tremuloides\", \"hit_count\": 7}, {\"dictionary\": \"ITIS\", \"term\": \"Pseudotsuga menziesii\", \"hit_count\": 1}]',\n",
       " 'tags': [],\n",
       " 'collections': [],\n",
       " 'relations': {},\n",
       " 'contentType': '',\n",
       " 'charset': '',\n",
       " 'parentItem': 'RUATTVSK'}"
      ]
     },
     "metadata": {},
     "output_type": "display_data"
    },
    {
     "data": {
      "text/plain": [
       "True"
      ]
     },
     "metadata": {},
     "output_type": "display_data"
    },
    {
     "data": {
      "text/plain": [
       "None"
      ]
     },
     "metadata": {},
     "output_type": "display_data"
    },
    {
     "data": {
      "text/plain": [
       "None"
      ]
     },
     "metadata": {},
     "output_type": "display_data"
    },
    {
     "data": {
      "text/plain": [
       "{'itemType': 'attachment',\n",
       " 'linkMode': 'linked_url',\n",
       " 'title': 'xDD terms from document for the ITIS dictionary',\n",
       " 'accessDate': 'CURRENT_TIMESTAMP',\n",
       " 'url': 'https://geodeepdive.org/api/terms?docid=5c2c1b8a1faed655488b27d9&dictionary=ITIS',\n",
       " 'note': '[{\"dictionary\": \"ITIS\", \"term\": \"Centrocercus urophasianus\", \"hit_count\": 6}, {\"dictionary\": \"ITIS\", \"term\": \"Colinus virginianus\", \"hit_count\": 1}, {\"dictionary\": \"ITIS\", \"term\": \"Lepidochelys olivacea\", \"hit_count\": 1}, {\"dictionary\": \"ITIS\", \"term\": \"Lullula arborea\", \"hit_count\": 1}, {\"dictionary\": \"ITIS\", \"term\": \"Microtus agrestis\", \"hit_count\": 1}, {\"dictionary\": \"ITIS\", \"term\": \"Otis tarda\", \"hit_count\": 1}, {\"dictionary\": \"ITIS\", \"term\": \"Passer domesticus\", \"hit_count\": 1}, {\"dictionary\": \"ITIS\", \"term\": \"Tetrao tetrix\", \"hit_count\": 1}]',\n",
       " 'tags': [],\n",
       " 'collections': [],\n",
       " 'relations': {},\n",
       " 'contentType': '',\n",
       " 'charset': '',\n",
       " 'parentItem': 'JFV5GDKM'}"
      ]
     },
     "metadata": {},
     "output_type": "display_data"
    },
    {
     "data": {
      "text/plain": [
       "True"
      ]
     },
     "metadata": {},
     "output_type": "display_data"
    },
    {
     "data": {
      "text/plain": [
       "{'itemType': 'attachment',\n",
       " 'linkMode': 'linked_url',\n",
       " 'title': 'xDD terms from document for the ITIS dictionary',\n",
       " 'accessDate': 'CURRENT_TIMESTAMP',\n",
       " 'url': 'https://geodeepdive.org/api/terms?docid=5c2c30a41faed655488b29a1&dictionary=ITIS',\n",
       " 'note': '[{\"dictionary\": \"ITIS\", \"term\": \"Centrocercus urophasianus\", \"hit_count\": 8}]',\n",
       " 'tags': [],\n",
       " 'collections': [],\n",
       " 'relations': {},\n",
       " 'contentType': '',\n",
       " 'charset': '',\n",
       " 'parentItem': '4TCBL9S3'}"
      ]
     },
     "metadata": {},
     "output_type": "display_data"
    },
    {
     "data": {
      "text/plain": [
       "True"
      ]
     },
     "metadata": {},
     "output_type": "display_data"
    },
    {
     "data": {
      "text/plain": [
       "{'itemType': 'attachment',\n",
       " 'linkMode': 'linked_url',\n",
       " 'title': 'xDD terms from document for the ITIS dictionary',\n",
       " 'accessDate': 'CURRENT_TIMESTAMP',\n",
       " 'url': 'https://geodeepdive.org/api/terms?docid=5c4e3f571faed655489408c3&dictionary=ITIS',\n",
       " 'note': '[{\"dictionary\": \"ITIS\", \"term\": \"Artemisia cana\", \"hit_count\": 1}, {\"dictionary\": \"ITIS\", \"term\": \"Artemisia tridentata\", \"hit_count\": 2}, {\"dictionary\": \"ITIS\", \"term\": \"Centrocercus minimus\", \"hit_count\": 1}, {\"dictionary\": \"ITIS\", \"term\": \"Centrocercus urophasianus\", \"hit_count\": 10}, {\"dictionary\": \"ITIS\", \"term\": \"Cervus elaphus\", \"hit_count\": 1}, {\"dictionary\": \"ITIS\", \"term\": \"Medicago sativa\", \"hit_count\": 1}, {\"dictionary\": \"ITIS\", \"term\": \"Odocoileus hemionus\", \"hit_count\": 1}, {\"dictionary\": \"ITIS\", \"term\": \"Salvelinus namaycush\", \"hit_count\": 1}]',\n",
       " 'tags': [],\n",
       " 'collections': [],\n",
       " 'relations': {},\n",
       " 'contentType': '',\n",
       " 'charset': '',\n",
       " 'parentItem': 'A2WG577D'}"
      ]
     },
     "metadata": {},
     "output_type": "display_data"
    },
    {
     "data": {
      "text/plain": [
       "True"
      ]
     },
     "metadata": {},
     "output_type": "display_data"
    },
    {
     "data": {
      "text/plain": [
       "{'itemType': 'attachment',\n",
       " 'linkMode': 'linked_url',\n",
       " 'title': 'xDD terms from document for the ITIS dictionary',\n",
       " 'accessDate': 'CURRENT_TIMESTAMP',\n",
       " 'url': 'https://geodeepdive.org/api/terms?docid=5d1ed9d20b45c76caf912f8f&dictionary=ITIS',\n",
       " 'note': '[{\"dictionary\": \"ITIS\", \"term\": \"Artemisia tridentata\", \"hit_count\": 2}, {\"dictionary\": \"ITIS\", \"term\": \"Atriplex argentea\", \"hit_count\": 1}, {\"dictionary\": \"ITIS\", \"term\": \"Brachylagus idahoensis\", \"hit_count\": 20}, {\"dictionary\": \"ITIS\", \"term\": \"Centrocercus urophasianus\", \"hit_count\": 1}, {\"dictionary\": \"ITIS\", \"term\": \"Corvus corax\", \"hit_count\": 1}, {\"dictionary\": \"ITIS\", \"term\": \"Hesperostipa comata\", \"hit_count\": 1}, {\"dictionary\": \"ITIS\", \"term\": \"Lepus townsendii\", \"hit_count\": 2}, {\"dictionary\": \"ITIS\", \"term\": \"Pascopyrum smithii\", \"hit_count\": 1}, {\"dictionary\": \"ITIS\", \"term\": \"Pascopyrum smithii\", \"hit_count\": 1}, {\"dictionary\": \"ITIS\", \"term\": \"Poa secunda\", \"hit_count\": 1}, {\"dictionary\": \"ITIS\", \"term\": \"Poa secunda\", \"hit_count\": 1}, {\"dictionary\": \"ITIS\", \"term\": \"Sphaeralcea coccinea\", \"hit_count\": 1}]',\n",
       " 'tags': [],\n",
       " 'collections': [],\n",
       " 'relations': {},\n",
       " 'contentType': '',\n",
       " 'charset': '',\n",
       " 'parentItem': 'ARXBE7P4'}"
      ]
     },
     "metadata": {},
     "output_type": "display_data"
    },
    {
     "data": {
      "text/plain": [
       "True"
      ]
     },
     "metadata": {},
     "output_type": "display_data"
    },
    {
     "data": {
      "text/plain": [
       "None"
      ]
     },
     "metadata": {},
     "output_type": "display_data"
    },
    {
     "data": {
      "text/plain": [
       "None"
      ]
     },
     "metadata": {},
     "output_type": "display_data"
    },
    {
     "data": {
      "text/plain": [
       "{'itemType': 'attachment',\n",
       " 'linkMode': 'linked_url',\n",
       " 'title': 'xDD terms from document for the ITIS dictionary',\n",
       " 'accessDate': 'CURRENT_TIMESTAMP',\n",
       " 'url': 'https://geodeepdive.org/api/terms?docid=5c2c22901faed655488b289b&dictionary=ITIS',\n",
       " 'note': '[{\"dictionary\": \"ITIS\", \"term\": \"Bison bison\", \"hit_count\": 2}, {\"dictionary\": \"ITIS\", \"term\": \"Brucella abortus\", \"hit_count\": 1}, {\"dictionary\": \"ITIS\", \"term\": \"Canis lupus\", \"hit_count\": 2}, {\"dictionary\": \"ITIS\", \"term\": \"Cervus elaphus\", \"hit_count\": 1}, {\"dictionary\": \"ITIS\", \"term\": \"Cronartium ribicola\", \"hit_count\": 1}, {\"dictionary\": \"ITIS\", \"term\": \"Dendroctonus ponderosae\", \"hit_count\": 1}, {\"dictionary\": \"ITIS\", \"term\": \"Oncorhynchus clarkii\", \"hit_count\": 1}, {\"dictionary\": \"ITIS\", \"term\": \"Pinus albicaulis\", \"hit_count\": 2}, {\"dictionary\": \"ITIS\", \"term\": \"Potorous tridactylus\", \"hit_count\": 1}, {\"dictionary\": \"ITIS\", \"term\": \"Salvelinus namaycush\", \"hit_count\": 1}, {\"dictionary\": \"ITIS\", \"term\": \"Shepherdia canadensis\", \"hit_count\": 1}, {\"dictionary\": \"ITIS\", \"term\": \"Tamiasciurus hudsonicus\", \"hit_count\": 1}, {\"dictionary\": \"ITIS\", \"term\": \"Ursus americanus\", \"hit_count\": 3}, {\"dictionary\": \"ITIS\", \"term\": \"Ursus arctos\", \"hit_count\": 4}, {\"dictionary\": \"ITIS\", \"term\": \"Vaccinium membranaceum\", \"hit_count\": 1}]',\n",
       " 'tags': [],\n",
       " 'collections': [],\n",
       " 'relations': {},\n",
       " 'contentType': '',\n",
       " 'charset': '',\n",
       " 'parentItem': 'W5K4UAZ8'}"
      ]
     },
     "metadata": {},
     "output_type": "display_data"
    },
    {
     "data": {
      "text/plain": [
       "True"
      ]
     },
     "metadata": {},
     "output_type": "display_data"
    },
    {
     "data": {
      "text/plain": [
       "{'itemType': 'attachment',\n",
       " 'linkMode': 'linked_url',\n",
       " 'title': 'xDD terms from document for the ITIS dictionary',\n",
       " 'accessDate': 'CURRENT_TIMESTAMP',\n",
       " 'url': 'https://geodeepdive.org/api/terms?docid=5acfde1ecf58f17c7517b27d&dictionary=ITIS',\n",
       " 'note': '[{\"dictionary\": \"ITIS\", \"term\": \"Centrocercus urophasianus\", \"hit_count\": 5}]',\n",
       " 'tags': [],\n",
       " 'collections': [],\n",
       " 'relations': {},\n",
       " 'contentType': '',\n",
       " 'charset': '',\n",
       " 'parentItem': 'G9L9FU5W'}"
      ]
     },
     "metadata": {},
     "output_type": "display_data"
    },
    {
     "data": {
      "text/plain": [
       "True"
      ]
     },
     "metadata": {},
     "output_type": "display_data"
    },
    {
     "data": {
      "text/plain": [
       "{'itemType': 'attachment',\n",
       " 'linkMode': 'linked_url',\n",
       " 'title': 'xDD terms from document for the ITIS dictionary',\n",
       " 'accessDate': 'CURRENT_TIMESTAMP',\n",
       " 'url': 'https://geodeepdive.org/api/terms?docid=57a84443cf58f17046db1a8a&dictionary=ITIS',\n",
       " 'note': '[{\"dictionary\": \"ITIS\", \"term\": \"Amphispiza belli\", \"hit_count\": 1}, {\"dictionary\": \"ITIS\", \"term\": \"Artemisia tridentata\", \"hit_count\": 1}, {\"dictionary\": \"ITIS\", \"term\": \"Artemisiospiza nevadensis\", \"hit_count\": 2}, {\"dictionary\": \"ITIS\", \"term\": \"Microtus californicus\", \"hit_count\": 1}, {\"dictionary\": \"ITIS\", \"term\": \"Oreoscoptes montanus\", \"hit_count\": 3}, {\"dictionary\": \"ITIS\", \"term\": \"Spizella breweri\", \"hit_count\": 3}]',\n",
       " 'tags': [],\n",
       " 'collections': [],\n",
       " 'relations': {},\n",
       " 'contentType': '',\n",
       " 'charset': '',\n",
       " 'parentItem': '88PSMFIC'}"
      ]
     },
     "metadata": {},
     "output_type": "display_data"
    },
    {
     "data": {
      "text/plain": [
       "True"
      ]
     },
     "metadata": {},
     "output_type": "display_data"
    },
    {
     "data": {
      "text/plain": [
       "{'itemType': 'attachment',\n",
       " 'linkMode': 'linked_url',\n",
       " 'title': 'xDD terms from document for the ITIS dictionary',\n",
       " 'accessDate': 'CURRENT_TIMESTAMP',\n",
       " 'url': 'https://geodeepdive.org/api/terms?docid=5897848bcf58f1ac5aa42563&dictionary=ITIS',\n",
       " 'note': '[{\"dictionary\": \"ITIS\", \"term\": \"Artemisiospiza nevadensis\", \"hit_count\": 4}, {\"dictionary\": \"ITIS\", \"term\": \"Canis latrans\", \"hit_count\": 1}, {\"dictionary\": \"ITIS\", \"term\": \"Centrocercus urophasianus\", \"hit_count\": 1}, {\"dictionary\": \"ITIS\", \"term\": \"Corvus corax\", \"hit_count\": 1}, {\"dictionary\": \"ITIS\", \"term\": \"Falco sparverius\", \"hit_count\": 1}, {\"dictionary\": \"ITIS\", \"term\": \"Glaucomys volans\", \"hit_count\": 1}, {\"dictionary\": \"ITIS\", \"term\": \"Ictidomys tridecemlineatus\", \"hit_count\": 3}, {\"dictionary\": \"ITIS\", \"term\": \"Lanius ludovicianus\", \"hit_count\": 1}, {\"dictionary\": \"ITIS\", \"term\": \"Oreoscoptes montanus\", \"hit_count\": 5}, {\"dictionary\": \"ITIS\", \"term\": \"Peromyscus keeni\", \"hit_count\": 1}, {\"dictionary\": \"ITIS\", \"term\": \"Peromyscus maniculatus\", \"hit_count\": 3}, {\"dictionary\": \"ITIS\", \"term\": \"Procyon lotor\", \"hit_count\": 1}, {\"dictionary\": \"ITIS\", \"term\": \"Reithrodontomys megalotis\", \"hit_count\": 3}, {\"dictionary\": \"ITIS\", \"term\": \"Spizella breweri\", \"hit_count\": 6}, {\"dictionary\": \"ITIS\", \"term\": \"Tamias minimus\", \"hit_count\": 3}, {\"dictionary\": \"ITIS\", \"term\": \"Taxidea taxus\", \"hit_count\": 2}, {\"dictionary\": \"ITIS\", \"term\": \"Urocitellus armatus\", \"hit_count\": 3}, {\"dictionary\": \"ITIS\", \"term\": \"Vulpes vulpes\", \"hit_count\": 1}]',\n",
       " 'tags': [],\n",
       " 'collections': [],\n",
       " 'relations': {},\n",
       " 'contentType': '',\n",
       " 'charset': '',\n",
       " 'parentItem': 'NNI3PJ5Z'}"
      ]
     },
     "metadata": {},
     "output_type": "display_data"
    },
    {
     "data": {
      "text/plain": [
       "True"
      ]
     },
     "metadata": {},
     "output_type": "display_data"
    },
    {
     "data": {
      "text/plain": [
       "{'itemType': 'attachment',\n",
       " 'linkMode': 'linked_url',\n",
       " 'title': 'xDD terms from document for the ITIS dictionary',\n",
       " 'accessDate': 'CURRENT_TIMESTAMP',\n",
       " 'url': 'https://geodeepdive.org/api/terms?docid=5c2c30a41faed655488b299b&dictionary=ITIS',\n",
       " 'note': '[{\"dictionary\": \"ITIS\", \"term\": \"Branta canadensis\", \"hit_count\": 1}, {\"dictionary\": \"ITIS\", \"term\": \"Castor canadensis\", \"hit_count\": 1}, {\"dictionary\": \"ITIS\", \"term\": \"Haliaeetus leucocephalus\", \"hit_count\": 6}, {\"dictionary\": \"ITIS\", \"term\": \"Macaca sylvanus\", \"hit_count\": 1}]',\n",
       " 'tags': [],\n",
       " 'collections': [],\n",
       " 'relations': {},\n",
       " 'contentType': '',\n",
       " 'charset': '',\n",
       " 'parentItem': 'R3NSCC9R'}"
      ]
     },
     "metadata": {},
     "output_type": "display_data"
    },
    {
     "data": {
      "text/plain": [
       "True"
      ]
     },
     "metadata": {},
     "output_type": "display_data"
    }
   ],
   "source": [
    "for xdd_record in wlci_lib.items(tag=\"xdd_doc_link\"):\n",
    "    display(\n",
    "        xdd_terms_to_zotero_attachment(\n",
    "            xdd_record[\"data\"][\"parentItem\"], \n",
    "            xdd_record[\"data\"][\"url\"].split(\"=\")[-1],\n",
    "            \"ITIS\"\n",
    "        )\n",
    "    )\n"
   ]
  },
  {
   "cell_type": "code",
   "execution_count": null,
   "metadata": {},
   "outputs": [],
   "source": []
  }
 ],
 "metadata": {
  "kernelspec": {
   "display_name": "Python 3",
   "language": "python",
   "name": "python3"
  },
  "language_info": {
   "codemirror_mode": {
    "name": "ipython",
    "version": 3
   },
   "file_extension": ".py",
   "mimetype": "text/x-python",
   "name": "python",
   "nbconvert_exporter": "python",
   "pygments_lexer": "ipython3",
   "version": "3.7.3"
  }
 },
 "nbformat": 4,
 "nbformat_minor": 2
}
