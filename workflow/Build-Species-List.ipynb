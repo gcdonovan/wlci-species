{
 "cells": [
  {
   "cell_type": "markdown",
   "metadata": {},
   "source": [
    "This notebook uses the existing Wyoming Landscape Conservation Initiative (WLIC) literature database and the eXtract Dark Data database (xDD, also known as GeoDeepDive: https://geodeepdive.org/) to build a list of unique specie names that have been published on in WLCI efforts.\n",
    "\n",
    "Output Files\n",
    "\n",
    "1) sources/WLCI_Literature_xDD_Matches.json\n",
    "    *This file stores identifiers of articles from the WLCI literature database and xDD database where articles have a common DOI (same article)\n",
    "    \n",
    "2) sources/WLCI_Species_List_from_Literature.json\n",
    "    *This files stores a list of scientific names that were mentioned in WLCI literature that are currently present in xDD based on the common DOI match documented in file one "
   ]
  },
  {
   "cell_type": "code",
   "execution_count": 3,
   "metadata": {},
   "outputs": [],
   "source": [
    "#Import needed packages\n",
    "import requests\n",
    "import pandas as pd\n",
    "import json\n",
    "import bispy\n",
    "from IPython.display import display\n",
    "\n",
    "bis_utils = bispy.bis.Utils()"
   ]
  },
  {
   "cell_type": "code",
   "execution_count": 4,
   "metadata": {},
   "outputs": [],
   "source": [
    "#The WLCI literature database was exported as CSL JSON and posted to this ScienceBase Item: https://www.sciencebase.gov/catalog/item/4f4e476fe4b07f02db47e19f \n",
    "#as file wlci_lit_20190702.json (This should be replaced with the offical literature database release as that is finalized).  The file can be accessed via \n",
    "\n",
    "#File download url\n",
    "lit_json_file = \"https://www.sciencebase.gov/catalog/file/get/4f4e476fe4b07f02db47e19f?f=__disk__ad%2F2e%2Fcc%2Fad2ecc69ef3957ef9cd23d4cba1c7c68b983acad\"\n",
    "\n",
    "#Request and return JSON of literature data\n",
    "lit_json = requests.get(lit_json_file).json()"
   ]
  },
  {
   "cell_type": "code",
   "execution_count": 5,
   "metadata": {},
   "outputs": [
    {
     "name": "stdout",
     "output_type": "stream",
     "text": [
      "Number of articles in WLCI literature database: 303\n"
     ]
    }
   ],
   "source": [
    "#Print number of records in literature database.  \n",
    "print (f'Number of articles in WLCI literature database: {len(lit_json)}')"
   ]
  },
  {
   "cell_type": "code",
   "execution_count": 6,
   "metadata": {},
   "outputs": [
    {
     "data": {
      "text/plain": [
       "{'id': 'http://zotero.org/groups/2341914/items/R3NSCC9R',\n",
       " 'type': 'article-journal',\n",
       " 'title': 'Greater Sage-Grouse Population Trends Across Wyoming: WY Sage-grouse Population Viability Analysis',\n",
       " 'container-title': 'The Journal of Wildlife Management',\n",
       " 'page': '397-412',\n",
       " 'volume': '82',\n",
       " 'issue': '2',\n",
       " 'source': 'DOI.org (Crossref)',\n",
       " 'abstract': \"The scale at which analyses are performed can have an effect on model results and often one scale does not accurately describe the ecological phenomena of interest (e.g., population trends) for wide‐ranging species: yet, most ecological studies are performed at a single, arbitrary scale. To best determine local and regional trends for greater sage‐grouse (Centrocercus urophasianus) in Wyoming, USA, we modeled density‐independent and ‐dependent population growth across multiple spatial scales relevant to management and conservation (Core Areas [habitat encompassing approximately 83% of the sage‐grouse population on ∼24% of surface area in Wyoming], local Working Groups [7 regional areas for which groups of local experts are tasked with implementing Wyoming's statewide sage‐grouse conservation plan at the local level], Core Area status (Core Area vs. Non‐Core Area) by Working Groups, and Core Areas by Working Groups). Our goal was to determine the influence of fine‐scale population trends (Core Areas) on larger‐scale populations (Working Group Areas). We modeled the natural log of change in population size (urn:x-wiley:14381656:media:jwmg21386:jwmg21386-math-0001 peak M lek counts) by time to calculate the finite rate of population growth (λ) for each population of interest from 1993 to 2015. We found that in general when Core Area status (Core Area vs. Non‐Core Area) was investigated by Working Group Area, the 2 populations trended similarly and agreed with the overall trend of the Working Group Area. However, at the finer scale where Core Areas were analyzed separately, Core Areas within the same Working Group Area often trended differently and a few large Core Areas could influence the overall Working Group Area trend and mask trends occurring in smaller Core Areas. Relatively close fine‐scale populations of sage‐grouse can trend differently, indicating that large‐scale trends may not accurately depict what is occurring across the landscape (e.g., local effects of gas and oil fields may be masked by increasing larger populations). Published 2017. This article is a U.S. Government work and is in the public domain in the USA.\",\n",
       " 'URL': 'http://doi.wiley.com/10.1002/jwmg.21386',\n",
       " 'DOI': '10.1002/jwmg.21386',\n",
       " 'ISSN': '0022541X',\n",
       " 'title-short': 'Greater sage-grouse population trends across Wyoming',\n",
       " 'journalAbbreviation': 'Jour. Wild. Mgmt.',\n",
       " 'language': 'en',\n",
       " 'author': [{'family': 'Edmunds', 'given': 'David R.'},\n",
       "  {'family': 'Aldridge', 'given': 'Cameron L.'},\n",
       "  {'family': \"O'Donnell\", 'given': 'Michael S.'},\n",
       "  {'family': 'Monroe', 'given': 'Adrian P.'}],\n",
       " 'issued': {'date-parts': [['2018']]},\n",
       " 'accessed': {'date-parts': [['2019', 6, 18]]}}"
      ]
     },
     "execution_count": 6,
     "metadata": {},
     "output_type": "execute_result"
    }
   ],
   "source": [
    "#Display the first record from the literature database\n",
    "lit_json[0]"
   ]
  },
  {
   "cell_type": "code",
   "execution_count": 7,
   "metadata": {},
   "outputs": [],
   "source": [
    "#Set function for accessing xDD database\n",
    "def xdd_api(route, params):\n",
    "    \"\"\"Create list of docs mentioning a term of interest\n",
    "    Parameters : see https://geodeepdive.org/api for more detail\n",
    "    ----------\n",
    "    routes : str of available api routes for xDD \n",
    "    params : str of key value pairs of paramaters:values separated by &\n",
    "    \"\"\"\n",
    "    base_url = 'https://geodeepdive.org/api'\n",
    "    search = (base_url + '/' + route + '?' + str(params))\n",
    "    #print (search)\n",
    "    try:\n",
    "        r=requests.get(search)\n",
    "        if r.status_code == 200 and 'success' in r.json():\n",
    "            json_r = r.json()\n",
    "            data = json_r['success']['data']\n",
    "            return data\n",
    "        elif r.status_code == 200:\n",
    "            data = []\n",
    "            return data\n",
    "        else:\n",
    "            raise Exception('xDD API returning: {}'.format(r.status_code))\n",
    "    except Exception as e:\n",
    "        raise Exception(e)"
   ]
  },
  {
   "cell_type": "code",
   "execution_count": 8,
   "metadata": {},
   "outputs": [],
   "source": [
    "#Create list of relationship information between WLCI database and xDD database\n",
    "wlci_xdd = []\n",
    "#For each reference in the WLCI literature database attempt to match article to a GeoDeepDive ID using the DOI.\n",
    "#Note that not all articles with have a DOI documented for both databases.  In these cases we could attempt a title match in future iterations.\n",
    "for ref in lit_json:\n",
    "    wlci_id = ref['id']\n",
    "    if 'DOI' in ref:\n",
    "        doi = ref['DOI']\n",
    "    #In Zotero some types of articles did not provide an 'id' field.  If this was the case we stored available DOIs in the note field\n",
    "    elif 'note' in ref and 'OCLC' not in ref['note']:\n",
    "        doi = ref['note']\n",
    "        \n",
    "    #Set parameters for xDD search, return only 1 result (max=1)    \n",
    "    route = 'articles'\n",
    "    param = 'max=1&doi='+str(doi)\n",
    "    \n",
    "    #Search xDD, return json data\n",
    "    xdd_data = xdd_api(route, param)\n",
    "    #If there is a match for the article from WLCI to xDD then record the identifiers and their relationship across databases\n",
    "    if xdd_data:\n",
    "        xdd_id = xdd_data[0]['_gddid']\n",
    "        wlci_xdd.append(\n",
    "            {\n",
    "                'wlci_id': wlci_id, \n",
    "                'relation': 'doi_match', \n",
    "                'xdd_id':xdd_id, \n",
    "                'param':param, \n",
    "                'title': ref['title']\n",
    "            }\n",
    "        )"
   ]
  },
  {
   "cell_type": "code",
   "execution_count": 9,
   "metadata": {},
   "outputs": [],
   "source": [
    "#Store relationship data between WLCI literature database and xDD database\n",
    "with open('../sources/WLCI_Literature_xDD_Matches.json', 'w') as f:\n",
    "    f.write(json.dumps(wlci_xdd, indent=4))\n",
    "    f.close()"
   ]
  },
  {
   "cell_type": "code",
   "execution_count": 10,
   "metadata": {},
   "outputs": [
    {
     "data": {
      "text/plain": [
       "[{'wlci_id': 'http://zotero.org/groups/2341914/items/R3NSCC9R',\n",
       "  'relation': 'doi_match',\n",
       "  'xdd_id': '5c2c30a41faed655488b299b',\n",
       "  'param': 'max=1&doi=10.1002/jwmg.21386',\n",
       "  'title': 'Greater Sage-Grouse Population Trends Across Wyoming: WY Sage-grouse Population Viability Analysis'},\n",
       " {'wlci_id': 'http://zotero.org/groups/2341914/items/Z7TMPV6Q',\n",
       "  'relation': 'doi_match',\n",
       "  'xdd_id': '579f4458cf58f123c56623f8',\n",
       "  'param': 'max=1&doi=10.1016/j.ecolind.2015.03.002',\n",
       "  'title': 'Forecasting Sagebrush Ecosystem Components and Greater Sage-grouse Habitat for 2050: Learning from Past Climate Patterns and Landsat Imagery to Predict the Future'},\n",
       " {'wlci_id': 'http://zotero.org/groups/2341914/items/XYW5M83E',\n",
       "  'relation': 'doi_match',\n",
       "  'xdd_id': '5d4384980b45c76cafa2c0eb',\n",
       "  'param': 'max=1&doi=10.1002/jwmg.1050',\n",
       "  'title': 'Effects of Lek Count Protocols on Greater Sage-grouse Population Trend Estimates: Lek Count Timing and Trend Estimates'},\n",
       " {'wlci_id': 'http://zotero.org/groups/2341914/items/JFV5GDKM',\n",
       "  'relation': 'doi_match',\n",
       "  'xdd_id': '5c2c1b8a1faed655488b27d9',\n",
       "  'param': 'max=1&doi=10.1002/jwmg.155',\n",
       "  'title': 'The Importance of Within-Year Repeated Counts and the Influence of Scale on Long-Term Monitoring of Sage-grouse'},\n",
       " {'wlci_id': 'http://zotero.org/groups/2341914/items/Q5TCVPYX',\n",
       "  'relation': 'doi_match',\n",
       "  'xdd_id': '58e2c641cf58f1697d39b86b',\n",
       "  'param': 'max=1&doi=10.1002/eap.1512',\n",
       "  'title': 'Patterns in Greater Sage-grouse population dynamics correspond with public grazing records at broad scales'},\n",
       " {'wlci_id': 'http://zotero.org/groups/2341914/items/W5K4UAZ8',\n",
       "  'relation': 'doi_match',\n",
       "  'xdd_id': '5c2c22901faed655488b289b',\n",
       "  'param': 'max=1&doi=10.1002/jwmg.21179',\n",
       "  'title': 'Investigating Impacts of Oil and Gas Development on Greater Sage-grouse: Oil and Gas Impacts on Sage-grouse'}]"
      ]
     },
     "execution_count": 10,
     "metadata": {},
     "output_type": "execute_result"
    }
   ],
   "source": [
    "#Show first 5 matches as example\n",
    "wlci_xdd[0:6]"
   ]
  },
  {
   "cell_type": "code",
   "execution_count": 11,
   "metadata": {},
   "outputs": [],
   "source": [
    "#Create list of species that are mentioned in the WLCI efforts \n",
    "specie_mentions = list()\n",
    "\n",
    "#Search each article for a list of ITIS terms (this example uses scientific name only) and create a unique list for all WLCI articles in xDD\n",
    "#Also record hits which are the number of times that term was referenced in the article\n",
    "for xdd_record in wlci_xdd:\n",
    "    route = 'terms'\n",
    "    param = f\"docid={xdd_record['xdd_id']}&dictionary=ITIS\"\n",
    "    xdd_data = xdd_api(route, param)\n",
    "    for x in xdd_data:\n",
    "        #x['term'] is a list of ITIS terms mentioned in the article\n",
    "        if len(x['term'].split()) > 1:\n",
    "            specie = x['term']\n",
    "            hits = str(x['n_hits'])\n",
    "            specie_mentions.append(\n",
    "                {'Scientific Name':specie, \n",
    "                 'xdd_id':xdd_id, \n",
    "                 'wlci_id':wlci_id, \n",
    "                 'n_hits':hits\n",
    "                }\n",
    "            ) "
   ]
  },
  {
   "cell_type": "code",
   "execution_count": 12,
   "metadata": {},
   "outputs": [
    {
     "data": {
      "text/plain": [
       "[{'Scientific Name': 'Branta canadensis',\n",
       "  'xdd_id': '5c4e3f571faed655489408c3',\n",
       "  'wlci_id': 'http://zotero.org/groups/2341914/items/KP3R7Q33',\n",
       "  'n_hits': '1'},\n",
       " {'Scientific Name': 'Castor canadensis',\n",
       "  'xdd_id': '5c4e3f571faed655489408c3',\n",
       "  'wlci_id': 'http://zotero.org/groups/2341914/items/KP3R7Q33',\n",
       "  'n_hits': '1'},\n",
       " {'Scientific Name': 'Haliaeetus leucocephalus',\n",
       "  'xdd_id': '5c4e3f571faed655489408c3',\n",
       "  'wlci_id': 'http://zotero.org/groups/2341914/items/KP3R7Q33',\n",
       "  'n_hits': '6'},\n",
       " {'Scientific Name': 'Macaca sylvanus',\n",
       "  'xdd_id': '5c4e3f571faed655489408c3',\n",
       "  'wlci_id': 'http://zotero.org/groups/2341914/items/KP3R7Q33',\n",
       "  'n_hits': '1'},\n",
       " {'Scientific Name': 'Artemisia tridentata',\n",
       "  'xdd_id': '5c4e3f571faed655489408c3',\n",
       "  'wlci_id': 'http://zotero.org/groups/2341914/items/KP3R7Q33',\n",
       "  'n_hits': '1'},\n",
       " {'Scientific Name': 'Centrocercus urophasianus',\n",
       "  'xdd_id': '5c4e3f571faed655489408c3',\n",
       "  'wlci_id': 'http://zotero.org/groups/2341914/items/KP3R7Q33',\n",
       "  'n_hits': '5'}]"
      ]
     },
     "execution_count": 12,
     "metadata": {},
     "output_type": "execute_result"
    }
   ],
   "source": [
    "#Show first 5 mentions\n",
    "specie_mentions[0:6]"
   ]
  },
  {
   "cell_type": "code",
   "execution_count": 13,
   "metadata": {},
   "outputs": [
    {
     "data": {
      "text/plain": [
       "{'Doc Cache File': '../sources/WLCI_Species_List_from_Literature.json',\n",
       " 'Number of Documents in Cache': 346,\n",
       " 'Document Number 286': {'Scientific Name': 'Oncorhynchus clarkii',\n",
       "  'xdd_id': '5c4e3f571faed655489408c3',\n",
       "  'wlci_id': 'http://zotero.org/groups/2341914/items/KP3R7Q33',\n",
       "  'n_hits': '2'}}"
      ]
     },
     "metadata": {},
     "output_type": "display_data"
    }
   ],
   "source": [
    "# Cache the array of retrieved documents and return/display a random sample for verification\n",
    "display(bis_utils.doc_cache(\"../sources/WLCI_Species_List_from_Literature.json\", specie_mentions))"
   ]
  },
  {
   "cell_type": "code",
   "execution_count": null,
   "metadata": {},
   "outputs": [],
   "source": []
  }
 ],
 "metadata": {
  "kernelspec": {
   "display_name": "Python 3",
   "language": "python",
   "name": "python3"
  },
  "language_info": {
   "codemirror_mode": {
    "name": "ipython",
    "version": 3
   },
   "file_extension": ".py",
   "mimetype": "text/x-python",
   "name": "python",
   "nbconvert_exporter": "python",
   "pygments_lexer": "ipython3",
   "version": "3.6.8"
  }
 },
 "nbformat": 4,
 "nbformat_minor": 2
}
