{
 "cells": [
  {
   "cell_type": "markdown",
   "metadata": {},
   "source": [
    "This notebook builds on the process I started of working this system from the Zotero API against a given library. In the first step I outlined in \"Pull References via Zotero API\", I established a linkage from a Zotero library item to an xDD item. From that point, we can essentially run any number of processes to extract value from xDD for the associated processed articles. This could come from an NLP process run on the xDD system, but in this case, we're looking at the dictionary routes that have already extracted/associated specific terms from a given dictionary against articles (ITIS scientific names in this case).\n",
    "\n",
    "One of the interesting dynamics with the Zotero platform is that we can create reference item attachments in a hierarchical structure (I don't yet know if there's a limit to hierarchy depth). Looking at the Zotero attachment schema, it seems reasonable to continue using the linked_url linkMode to record the route to the dictionary API that we use and then the tags construct to capture the specific ITIS scientific names for the given article. This puts everything into a logical structure that should make sense for both human users and subsequent software processing. We can again use the title property to give our algorithm-generated xDD dictionary attachment a logical name for classification."
   ]
  },
  {
   "cell_type": "code",
   "execution_count": 1,
   "metadata": {},
   "outputs": [],
   "source": [
    "from pyzotero import zotero\n",
    "import os\n",
    "import requests\n",
    "import json\n",
    "from IPython.display import display"
   ]
  },
  {
   "cell_type": "code",
   "execution_count": 2,
   "metadata": {},
   "outputs": [],
   "source": [
    "wlci_library_group_id = \"2341914\"\n",
    "wlci_lib = zotero.Zotero(wlci_library_group_id, \"group\", os.environ[\"ZOTERO_API_KEY\"])"
   ]
  },
  {
   "cell_type": "markdown",
   "metadata": {},
   "source": [
    "It ended up making the best sense (to me) to work this entire process into a specific combined function that retrieves and stores xDD Dictionary terms for a given xDD derivative associated with a given article or report. I found that I could not nest an attachment item under another attachment items, so these end up going in directly under the parent item. There is a relations concept in the attachment data model that could be explored further to create linkages between attachments that contain the xDD article association to any of those attachments where we stash terms, but it's not all that necessary at this point because the terms attachments will have everything necessary to get back to the xDD article.\n",
    "\n",
    "After fiddling with some different ways of structuring the data into these attachments, I ended up json dumping an array of objects containing the dictionary name (from xDD), the terms, and hit counts and then putting just the terms themselves into tags. Zotero treats the tags as facets within the context of the Library itself, so we immediately start adding a bunch of potentially useful tags to help filter through a library. However, we might want to revisit this if we determine that secondary processing filters out tags that we retrieve from the xDD process that are not actually relevant for our case.\n",
    "\n",
    "The function will either insert a new document or update an existing document with the fresh haul from the xDD dictionary lookup. We could refine this further so that we check to see if there's anything different in the xDD response before updating an item. One of the interesting things I found in this process was the fairly nice way that Zotero versions everything. It looks like there is a way to get back to older versions of any given item through the API as well that we might explore at some point."
   ]
  },
  {
   "cell_type": "code",
   "execution_count": 3,
   "metadata": {},
   "outputs": [],
   "source": [
    "def xdd_terms_to_zotero_attachment(parent_id, xdd_id, dictionary):\n",
    "    search_url = f\"https://geodeepdive.org/api/terms?docid={xdd_id}&dictionary={dictionary}\"\n",
    "    r = requests.get(search_url, headers={\"Accept\": \"application/json\"})\n",
    "    \n",
    "    if r.status_code == 200 and 'success' in r.json():\n",
    "        data = r.json()['success']['data']\n",
    "        # Prepare a list of tuples with scientific name and hit count to shove into the notes\n",
    "        terms_and_hits = [{\"dictionary\": dictionary, \"term\":i['term'], \"hit_count\":i['n_hits']} for i in data if len(i['term'].split()) > 1]\n",
    "\n",
    "        if len(terms_and_hits) == 0:\n",
    "            return None\n",
    "        \n",
    "        # Prepare just the list of scientific names to use as tags\n",
    "        tag_list = [i[\"term\"] for i in terms_and_hits]\n",
    "        \n",
    "        # Check to see if the top level item already has an attachment for this information\n",
    "        child_items = wlci_lib.children(parent_id)\n",
    "        current_xdd_doc_attachment = next((i for i in child_items if i[\"data\"][\"title\"] == f\"xDD terms from document for the {dictionary} dictionary\"), None)\n",
    "        \n",
    "        # If not create it\n",
    "        if current_xdd_doc_attachment is None:\n",
    "            template = wlci_lib.item_template(\"attachment\", linkmode=\"linked_url\")\n",
    "            template[\"parentItem\"] = parent_id\n",
    "            template[\"title\"] = f\"xDD terms from document for the {dictionary} dictionary\"\n",
    "            template[\"url\"] = search_url\n",
    "            template[\"accessDate\"] = \"CURRENT_TIMESTAMP\"\n",
    "            template[\"note\"] = json.dumps(terms_and_hits)\n",
    "\n",
    "            create_response = wlci_lib.create_items([template])\n",
    "            if create_response[\"successful\"]:\n",
    "                current_xdd_doc_attachment = create_response[\"successful\"][\"0\"]\n",
    "            else:\n",
    "                return create_response\n",
    "\n",
    "        # If the doc already exists update the note\n",
    "        else:\n",
    "            current_xdd_doc_attachment[\"data\"][\"note\"] = json.dumps(terms_and_hits)\n",
    "            wlci_lib.update_item(current_xdd_doc_attachment)\n",
    "            # Have to retrieve the document we just updated so we have the current version\n",
    "            current_xdd_doc_attachment = wlci_lib.item(current_xdd_doc_attachment[\"key\"])\n",
    "        \n",
    "        # We have to add the tags as a separate API call to the attachment that was either just created or updated\n",
    "        if current_xdd_doc_attachment is not None:\n",
    "            wlci_lib.add_tags(current_xdd_doc_attachment, *tag_list)\n",
    "\n",
    "        return True\n",
    "    else:\n",
    "        return None\n"
   ]
  },
  {
   "cell_type": "markdown",
   "metadata": {},
   "source": [
    "The final step here runs through everything in the library with the \"xdd_doc_link\" tag. I went back and added this tag to the process of establishing the linkage to an xDD document so that we have an easy way of simply querying for all of those established connections that we might want to exploit for various purposes over time. The responses that got kicked out in a saved snapshot from the Jupyter process might show some interim results that I was displaying in the function to keep track of what was going on. A True response means that we successfully updated the item with its tags. A None response indicates that we didn't get anything from the xDD API."
   ]
  },
  {
   "cell_type": "code",
   "execution_count": 5,
   "metadata": {},
   "outputs": [
    {
     "data": {
      "text/plain": [
       "True"
      ]
     },
     "metadata": {},
     "output_type": "display_data"
    },
    {
     "data": {
      "text/plain": [
       "True"
      ]
     },
     "metadata": {},
     "output_type": "display_data"
    },
    {
     "data": {
      "text/plain": [
       "None"
      ]
     },
     "metadata": {},
     "output_type": "display_data"
    },
    {
     "data": {
      "text/plain": [
       "None"
      ]
     },
     "metadata": {},
     "output_type": "display_data"
    },
    {
     "data": {
      "text/plain": [
       "None"
      ]
     },
     "metadata": {},
     "output_type": "display_data"
    },
    {
     "data": {
      "text/plain": [
       "None"
      ]
     },
     "metadata": {},
     "output_type": "display_data"
    },
    {
     "data": {
      "text/plain": [
       "None"
      ]
     },
     "metadata": {},
     "output_type": "display_data"
    },
    {
     "data": {
      "text/plain": [
       "None"
      ]
     },
     "metadata": {},
     "output_type": "display_data"
    },
    {
     "data": {
      "text/plain": [
       "None"
      ]
     },
     "metadata": {},
     "output_type": "display_data"
    },
    {
     "data": {
      "text/plain": [
       "True"
      ]
     },
     "metadata": {},
     "output_type": "display_data"
    },
    {
     "data": {
      "text/plain": [
       "None"
      ]
     },
     "metadata": {},
     "output_type": "display_data"
    },
    {
     "data": {
      "text/plain": [
       "None"
      ]
     },
     "metadata": {},
     "output_type": "display_data"
    },
    {
     "data": {
      "text/plain": [
       "True"
      ]
     },
     "metadata": {},
     "output_type": "display_data"
    },
    {
     "data": {
      "text/plain": [
       "True"
      ]
     },
     "metadata": {},
     "output_type": "display_data"
    },
    {
     "data": {
      "text/plain": [
       "True"
      ]
     },
     "metadata": {},
     "output_type": "display_data"
    },
    {
     "data": {
      "text/plain": [
       "True"
      ]
     },
     "metadata": {},
     "output_type": "display_data"
    },
    {
     "data": {
      "text/plain": [
       "True"
      ]
     },
     "metadata": {},
     "output_type": "display_data"
    },
    {
     "data": {
      "text/plain": [
       "None"
      ]
     },
     "metadata": {},
     "output_type": "display_data"
    },
    {
     "data": {
      "text/plain": [
       "None"
      ]
     },
     "metadata": {},
     "output_type": "display_data"
    },
    {
     "data": {
      "text/plain": [
       "True"
      ]
     },
     "metadata": {},
     "output_type": "display_data"
    },
    {
     "data": {
      "text/plain": [
       "True"
      ]
     },
     "metadata": {},
     "output_type": "display_data"
    },
    {
     "data": {
      "text/plain": [
       "True"
      ]
     },
     "metadata": {},
     "output_type": "display_data"
    },
    {
     "data": {
      "text/plain": [
       "True"
      ]
     },
     "metadata": {},
     "output_type": "display_data"
    },
    {
     "data": {
      "text/plain": [
       "True"
      ]
     },
     "metadata": {},
     "output_type": "display_data"
    },
    {
     "data": {
      "text/plain": [
       "True"
      ]
     },
     "metadata": {},
     "output_type": "display_data"
    },
    {
     "ename": "PreConditionFailed",
     "evalue": "\nCode: 412\nURL: https://api.zotero.org/groups/2341914/items/BSGI73AF\nMethod: PATCH\nResponse: Item has been modified since specified version (expected 3259, found 3392)",
     "output_type": "error",
     "traceback": [
      "\u001b[1;31m---------------------------------------------------------------------------\u001b[0m",
      "\u001b[1;31mHTTPError\u001b[0m                                 Traceback (most recent call last)",
      "\u001b[1;32m~\\AppData\\Local\\Continuum\\Anaconda3\\envs\\wlci-species\\lib\\site-packages\\pyzotero\\zotero.py\u001b[0m in \u001b[0;36mwrapped_f\u001b[1;34m(self, *args, **kwargs)\u001b[0m\n\u001b[0;32m    163\u001b[0m         \u001b[1;32mtry\u001b[0m\u001b[1;33m:\u001b[0m\u001b[1;33m\u001b[0m\u001b[1;33m\u001b[0m\u001b[0m\n\u001b[1;32m--> 164\u001b[1;33m             \u001b[0mresp\u001b[0m\u001b[1;33m.\u001b[0m\u001b[0mraise_for_status\u001b[0m\u001b[1;33m(\u001b[0m\u001b[1;33m)\u001b[0m\u001b[1;33m\u001b[0m\u001b[1;33m\u001b[0m\u001b[0m\n\u001b[0m\u001b[0;32m    165\u001b[0m         \u001b[1;32mexcept\u001b[0m \u001b[0mrequests\u001b[0m\u001b[1;33m.\u001b[0m\u001b[0mexceptions\u001b[0m\u001b[1;33m.\u001b[0m\u001b[0mHTTPError\u001b[0m\u001b[1;33m:\u001b[0m\u001b[1;33m\u001b[0m\u001b[1;33m\u001b[0m\u001b[0m\n",
      "\u001b[1;32m~\\AppData\\Local\\Continuum\\Anaconda3\\envs\\wlci-species\\lib\\site-packages\\requests\\models.py\u001b[0m in \u001b[0;36mraise_for_status\u001b[1;34m(self)\u001b[0m\n\u001b[0;32m    939\u001b[0m         \u001b[1;32mif\u001b[0m \u001b[0mhttp_error_msg\u001b[0m\u001b[1;33m:\u001b[0m\u001b[1;33m\u001b[0m\u001b[1;33m\u001b[0m\u001b[0m\n\u001b[1;32m--> 940\u001b[1;33m             \u001b[1;32mraise\u001b[0m \u001b[0mHTTPError\u001b[0m\u001b[1;33m(\u001b[0m\u001b[0mhttp_error_msg\u001b[0m\u001b[1;33m,\u001b[0m \u001b[0mresponse\u001b[0m\u001b[1;33m=\u001b[0m\u001b[0mself\u001b[0m\u001b[1;33m)\u001b[0m\u001b[1;33m\u001b[0m\u001b[1;33m\u001b[0m\u001b[0m\n\u001b[0m\u001b[0;32m    941\u001b[0m \u001b[1;33m\u001b[0m\u001b[0m\n",
      "\u001b[1;31mHTTPError\u001b[0m: 412 Client Error: Precondition Failed for url: https://api.zotero.org/groups/2341914/items/BSGI73AF",
      "\nDuring handling of the above exception, another exception occurred:\n",
      "\u001b[1;31mPreConditionFailed\u001b[0m                        Traceback (most recent call last)",
      "\u001b[1;32m<ipython-input-5-3a747caa42ae>\u001b[0m in \u001b[0;36m<module>\u001b[1;34m\u001b[0m\n\u001b[0;32m      4\u001b[0m             \u001b[0mxdd_record\u001b[0m\u001b[1;33m[\u001b[0m\u001b[1;34m\"data\"\u001b[0m\u001b[1;33m]\u001b[0m\u001b[1;33m[\u001b[0m\u001b[1;34m\"parentItem\"\u001b[0m\u001b[1;33m]\u001b[0m\u001b[1;33m,\u001b[0m\u001b[1;33m\u001b[0m\u001b[1;33m\u001b[0m\u001b[0m\n\u001b[0;32m      5\u001b[0m             \u001b[0mxdd_record\u001b[0m\u001b[1;33m[\u001b[0m\u001b[1;34m\"data\"\u001b[0m\u001b[1;33m]\u001b[0m\u001b[1;33m[\u001b[0m\u001b[1;34m\"url\"\u001b[0m\u001b[1;33m]\u001b[0m\u001b[1;33m.\u001b[0m\u001b[0msplit\u001b[0m\u001b[1;33m(\u001b[0m\u001b[1;34m\"=\"\u001b[0m\u001b[1;33m)\u001b[0m\u001b[1;33m[\u001b[0m\u001b[1;33m-\u001b[0m\u001b[1;36m1\u001b[0m\u001b[1;33m]\u001b[0m\u001b[1;33m,\u001b[0m\u001b[1;33m\u001b[0m\u001b[1;33m\u001b[0m\u001b[0m\n\u001b[1;32m----> 6\u001b[1;33m             \u001b[1;34m\"ITIS\"\u001b[0m\u001b[1;33m\u001b[0m\u001b[1;33m\u001b[0m\u001b[0m\n\u001b[0m\u001b[0;32m      7\u001b[0m         )\n\u001b[0;32m      8\u001b[0m     )\n",
      "\u001b[1;32m<ipython-input-3-624c74f3107c>\u001b[0m in \u001b[0;36mxdd_terms_to_zotero_attachment\u001b[1;34m(parent_id, xdd_id, dictionary)\u001b[0m\n\u001b[0;32m     42\u001b[0m         \u001b[1;31m# We have to add the tags as a separate API call to the attachment that was either just created or updated\u001b[0m\u001b[1;33m\u001b[0m\u001b[1;33m\u001b[0m\u001b[1;33m\u001b[0m\u001b[0m\n\u001b[0;32m     43\u001b[0m         \u001b[1;32mif\u001b[0m \u001b[0mcurrent_xdd_doc_attachment\u001b[0m \u001b[1;32mis\u001b[0m \u001b[1;32mnot\u001b[0m \u001b[1;32mNone\u001b[0m\u001b[1;33m:\u001b[0m\u001b[1;33m\u001b[0m\u001b[1;33m\u001b[0m\u001b[0m\n\u001b[1;32m---> 44\u001b[1;33m             \u001b[0mwlci_lib\u001b[0m\u001b[1;33m.\u001b[0m\u001b[0madd_tags\u001b[0m\u001b[1;33m(\u001b[0m\u001b[0mcurrent_xdd_doc_attachment\u001b[0m\u001b[1;33m,\u001b[0m \u001b[1;33m*\u001b[0m\u001b[0mtag_list\u001b[0m\u001b[1;33m)\u001b[0m\u001b[1;33m\u001b[0m\u001b[1;33m\u001b[0m\u001b[0m\n\u001b[0m\u001b[0;32m     45\u001b[0m \u001b[1;33m\u001b[0m\u001b[0m\n\u001b[0;32m     46\u001b[0m         \u001b[1;32mreturn\u001b[0m \u001b[1;32mTrue\u001b[0m\u001b[1;33m\u001b[0m\u001b[1;33m\u001b[0m\u001b[0m\n",
      "\u001b[1;32m~\\AppData\\Local\\Continuum\\Anaconda3\\envs\\wlci-species\\lib\\site-packages\\pyzotero\\zotero.py\u001b[0m in \u001b[0;36madd_tags\u001b[1;34m(self, item, *tags)\u001b[0m\n\u001b[0;32m   1121\u001b[0m         \u001b[1;31m# make sure everything's OK\u001b[0m\u001b[1;33m\u001b[0m\u001b[1;33m\u001b[0m\u001b[1;33m\u001b[0m\u001b[0m\n\u001b[0;32m   1122\u001b[0m         \u001b[1;32massert\u001b[0m \u001b[0mself\u001b[0m\u001b[1;33m.\u001b[0m\u001b[0mcheck_items\u001b[0m\u001b[1;33m(\u001b[0m\u001b[1;33m[\u001b[0m\u001b[0mitem\u001b[0m\u001b[1;33m]\u001b[0m\u001b[1;33m)\u001b[0m\u001b[1;33m\u001b[0m\u001b[1;33m\u001b[0m\u001b[0m\n\u001b[1;32m-> 1123\u001b[1;33m         \u001b[1;32mreturn\u001b[0m \u001b[0mself\u001b[0m\u001b[1;33m.\u001b[0m\u001b[0mupdate_item\u001b[0m\u001b[1;33m(\u001b[0m\u001b[0mitem\u001b[0m\u001b[1;33m)\u001b[0m\u001b[1;33m\u001b[0m\u001b[1;33m\u001b[0m\u001b[0m\n\u001b[0m\u001b[0;32m   1124\u001b[0m \u001b[1;33m\u001b[0m\u001b[0m\n\u001b[0;32m   1125\u001b[0m     \u001b[1;32mdef\u001b[0m \u001b[0mcheck_items\u001b[0m\u001b[1;33m(\u001b[0m\u001b[0mself\u001b[0m\u001b[1;33m,\u001b[0m \u001b[0mitems\u001b[0m\u001b[1;33m)\u001b[0m\u001b[1;33m:\u001b[0m\u001b[1;33m\u001b[0m\u001b[1;33m\u001b[0m\u001b[0m\n",
      "\u001b[1;32m~\\AppData\\Local\\Continuum\\Anaconda3\\envs\\wlci-species\\lib\\site-packages\\pyzotero\\zotero.py\u001b[0m in \u001b[0;36mwrapped_f\u001b[1;34m(self, *args, **kwargs)\u001b[0m\n\u001b[0;32m    164\u001b[0m             \u001b[0mresp\u001b[0m\u001b[1;33m.\u001b[0m\u001b[0mraise_for_status\u001b[0m\u001b[1;33m(\u001b[0m\u001b[1;33m)\u001b[0m\u001b[1;33m\u001b[0m\u001b[1;33m\u001b[0m\u001b[0m\n\u001b[0;32m    165\u001b[0m         \u001b[1;32mexcept\u001b[0m \u001b[0mrequests\u001b[0m\u001b[1;33m.\u001b[0m\u001b[0mexceptions\u001b[0m\u001b[1;33m.\u001b[0m\u001b[0mHTTPError\u001b[0m\u001b[1;33m:\u001b[0m\u001b[1;33m\u001b[0m\u001b[1;33m\u001b[0m\u001b[0m\n\u001b[1;32m--> 166\u001b[1;33m             \u001b[0merror_handler\u001b[0m\u001b[1;33m(\u001b[0m\u001b[0mself\u001b[0m\u001b[1;33m,\u001b[0m \u001b[0mresp\u001b[0m\u001b[1;33m)\u001b[0m\u001b[1;33m\u001b[0m\u001b[1;33m\u001b[0m\u001b[0m\n\u001b[0m\u001b[0;32m    167\u001b[0m         \u001b[0mself\u001b[0m\u001b[1;33m.\u001b[0m\u001b[0mrequest\u001b[0m \u001b[1;33m=\u001b[0m \u001b[0mresp\u001b[0m\u001b[1;33m\u001b[0m\u001b[1;33m\u001b[0m\u001b[0m\n\u001b[0;32m    168\u001b[0m         \u001b[0mbackoff\u001b[0m \u001b[1;33m=\u001b[0m \u001b[0mresp\u001b[0m\u001b[1;33m.\u001b[0m\u001b[0mheaders\u001b[0m\u001b[1;33m.\u001b[0m\u001b[0mget\u001b[0m\u001b[1;33m(\u001b[0m\u001b[1;34m\"backoff\"\u001b[0m\u001b[1;33m)\u001b[0m\u001b[1;33m\u001b[0m\u001b[1;33m\u001b[0m\u001b[0m\n",
      "\u001b[1;32m~\\AppData\\Local\\Continuum\\Anaconda3\\envs\\wlci-species\\lib\\site-packages\\pyzotero\\zotero.py\u001b[0m in \u001b[0;36merror_handler\u001b[1;34m(zot, req)\u001b[0m\n\u001b[0;32m   1645\u001b[0m                 \u001b[0mzot\u001b[0m\u001b[1;33m.\u001b[0m\u001b[0m_set_backoff\u001b[0m\u001b[1;33m(\u001b[0m\u001b[0mdelay\u001b[0m\u001b[1;33m)\u001b[0m\u001b[1;33m\u001b[0m\u001b[1;33m\u001b[0m\u001b[0m\n\u001b[0;32m   1646\u001b[0m         \u001b[1;32melse\u001b[0m\u001b[1;33m:\u001b[0m\u001b[1;33m\u001b[0m\u001b[1;33m\u001b[0m\u001b[0m\n\u001b[1;32m-> 1647\u001b[1;33m             \u001b[1;32mraise\u001b[0m \u001b[0merror_codes\u001b[0m\u001b[1;33m.\u001b[0m\u001b[0mget\u001b[0m\u001b[1;33m(\u001b[0m\u001b[0mreq\u001b[0m\u001b[1;33m.\u001b[0m\u001b[0mstatus_code\u001b[0m\u001b[1;33m)\u001b[0m\u001b[1;33m(\u001b[0m\u001b[0merr_msg\u001b[0m\u001b[1;33m(\u001b[0m\u001b[0mreq\u001b[0m\u001b[1;33m)\u001b[0m\u001b[1;33m)\u001b[0m\u001b[1;33m\u001b[0m\u001b[1;33m\u001b[0m\u001b[0m\n\u001b[0m\u001b[0;32m   1648\u001b[0m     \u001b[1;32melse\u001b[0m\u001b[1;33m:\u001b[0m\u001b[1;33m\u001b[0m\u001b[1;33m\u001b[0m\u001b[0m\n\u001b[0;32m   1649\u001b[0m         \u001b[1;32mraise\u001b[0m \u001b[0mze\u001b[0m\u001b[1;33m.\u001b[0m\u001b[0mHTTPError\u001b[0m\u001b[1;33m(\u001b[0m\u001b[0merr_msg\u001b[0m\u001b[1;33m(\u001b[0m\u001b[0mreq\u001b[0m\u001b[1;33m)\u001b[0m\u001b[1;33m)\u001b[0m\u001b[1;33m\u001b[0m\u001b[1;33m\u001b[0m\u001b[0m\n",
      "\u001b[1;31mPreConditionFailed\u001b[0m: \nCode: 412\nURL: https://api.zotero.org/groups/2341914/items/BSGI73AF\nMethod: PATCH\nResponse: Item has been modified since specified version (expected 3259, found 3392)"
     ]
    }
   ],
   "source": [
    "for xdd_record in wlci_lib.items(tag=\"xdd_doc_link\"):\n",
    "    display(\n",
    "        xdd_terms_to_zotero_attachment(\n",
    "            xdd_record[\"data\"][\"parentItem\"], \n",
    "            xdd_record[\"data\"][\"url\"].split(\"=\")[-1],\n",
    "            \"ITIS\"\n",
    "        )\n",
    "    )\n"
   ]
  },
  {
   "cell_type": "code",
   "execution_count": null,
   "metadata": {},
   "outputs": [],
   "source": []
  }
 ],
 "metadata": {
  "kernelspec": {
   "display_name": "wlci-species",
   "language": "python",
   "name": "wlci-species"
  },
  "language_info": {
   "codemirror_mode": {
    "name": "ipython",
    "version": 3
   },
   "file_extension": ".py",
   "mimetype": "text/x-python",
   "name": "python",
   "nbconvert_exporter": "python",
   "pygments_lexer": "ipython3",
   "version": "3.7.3"
  }
 },
 "nbformat": 4,
 "nbformat_minor": 2
}
