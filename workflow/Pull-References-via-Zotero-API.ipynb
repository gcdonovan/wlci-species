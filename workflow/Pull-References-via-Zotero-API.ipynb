{
 "cells": [
  {
   "cell_type": "markdown",
   "metadata": {},
   "source": [
    "This notebook establishes linkages between a WLCI literature database in Zotero and the xDD Digital Library (previously known as GeoDeepDive), using Digital Object Identifiers.  This process uses the Zotero API via a modified version of the pyzotero package to access information from the WLCI literature database.  The literature database is used in this case to help build a list of species that are referened by WLCI efforts (see Pull ITIS Names for xDD References.ipynb and Pull Species List from Zotero Items.ipynb).\n",
    "\n",
    "The linkages made between the two databases are documented in Zotero by putting a link attachment back onto the Zotero library item. That establishes a base of operations for subsequent data extraction processes, keeping everything on established Zotero library items where continued curation can occur via web or desktop clients.\n",
    "\n",
    "To operate this code, you will need to establish the ZOTERO_API_KEY environment variable in your Python environment. That key is tied to a given user account that has read/write permissions to the WLCI Library Group (established with the group ID parameter."
   ]
  },
  {
   "cell_type": "markdown",
   "metadata": {},
   "source": [
    "Note: This same idea should apply for any other Zotero library where we want to run the same overall process of linking a library reference to an xDD digital NLP representation. In the second part of this experiment, I will pick up from the established \"xDD Document Link\" identifier, pull back a list of associated species scientific names, and put those into a child attachment of the xDD Document Link attachment. This then begins to lay out structured annotation retrieved via algorithms directly into the Zotero library items, adding value to those items and using the Zotero library as a living cloud-based repository with both human and software generated value."
   ]
  },
  {
   "cell_type": "code",
   "execution_count": 1,
   "metadata": {},
   "outputs": [],
   "source": [
    "from pyzotero import zotero\n",
    "import os\n",
    "import requests\n",
    "from IPython.display import display"
   ]
  },
  {
   "cell_type": "code",
   "execution_count": 2,
   "metadata": {},
   "outputs": [],
   "source": [
    "wlci_library_group_id = \"2341914\""
   ]
  },
  {
   "cell_type": "code",
   "execution_count": 3,
   "metadata": {},
   "outputs": [],
   "source": [
    "wlci_lib = zotero.Zotero(wlci_library_group_id, \"group\", os.environ[\"ZOTERO_API_KEY\"])"
   ]
  },
  {
   "cell_type": "code",
   "execution_count": 4,
   "metadata": {},
   "outputs": [],
   "source": [
    "wlci_lib_items = wlci_lib.everything(wlci_lib.top())"
   ]
  },
  {
   "cell_type": "code",
   "execution_count": 5,
   "metadata": {},
   "outputs": [
    {
     "name": "stdout",
     "output_type": "stream",
     "text": [
      "300\n"
     ]
    }
   ],
   "source": [
    "print(len(wlci_lib_items))"
   ]
  },
  {
   "cell_type": "code",
   "execution_count": 6,
   "metadata": {},
   "outputs": [
    {
     "data": {
      "text/plain": [
       "{'attachment',\n",
       " 'book',\n",
       " 'document',\n",
       " 'journalArticle',\n",
       " 'presentation',\n",
       " 'report',\n",
       " 'thesis',\n",
       " 'videoRecording',\n",
       " 'webpage'}"
      ]
     },
     "execution_count": 6,
     "metadata": {},
     "output_type": "execute_result"
    }
   ],
   "source": [
    "set([i[\"data\"][\"itemType\"] for i in wlci_lib_items])"
   ]
  },
  {
   "cell_type": "markdown",
   "metadata": {},
   "source": [
    "In our current work with the xDD library, we are only working on those articles for which we were able to establish a DOI in our Zotero library. DOIs either came from the original article metadata imported into the library and are in the DOI property, or they were added as a note and will show up in the extra property for now. (Need to revisit how we manage this in the library.) To work these over, I assemble a list of Zotero IDs and DOIs."
   ]
  },
  {
   "cell_type": "code",
   "execution_count": 12,
   "metadata": {},
   "outputs": [],
   "source": [
    "lookup_doi_list = [(i[\"data\"][\"key\"],i[\"data\"][\"DOI\"]) for i in wlci_lib_items if \"DOI\" in i[\"data\"].keys() and len(i[\"data\"][\"DOI\"]) > 0]\n",
    "lookup_doi_list.extend([(i[\"data\"][\"key\"],i[\"data\"][\"extra\"]) for i in wlci_lib_items if \"DOI\" not in i[\"data\"].keys() and 'extra' in i['data'].keys() and len(i[\"data\"][\"extra\"]) > 0 and i[\"data\"][\"extra\"].split(\":\")[0] != \"OCLC\"] )"
   ]
  },
  {
   "cell_type": "markdown",
   "metadata": {},
   "source": [
    "We will eventually pull these functions out into our Python package for this work. Here we consult xdd using xdd_api and we use a helper function to assemble the necessary information into the Zotero template for the attachment.\n",
    "\n",
    "We had to fork the pyzotero package and create a [branch](https://github.com/skybristol/pyzotero/tree/attachment-template-type) with an adjustment to the item_template function, which was failing on the \"attachment\" template type and needed an additional parameter against the Zotero REST API. This was posted back to the project as a pull request for consideration by Sky."
   ]
  },
  {
   "cell_type": "code",
   "execution_count": 13,
   "metadata": {},
   "outputs": [],
   "source": [
    "def xdd_api(route, params):\n",
    "    \"\"\"Create list of docs mentioning a term of interest\n",
    "    Parameters : see https://geodeepdive.org/api for more detail\n",
    "    ----------\n",
    "    routes : str of available api routes for xDD \n",
    "    params : str of key value pairs of paramaters:values separated by &\n",
    "    \"\"\"\n",
    "    base_url = 'https://geodeepdive.org/api'\n",
    "    search = (base_url + '/' + route + '?' + str(params))\n",
    "    r=requests.get(search)\n",
    "    if r.status_code == 200 and 'success' in r.json():\n",
    "        json_r = r.json()\n",
    "        data = json_r['success']['data']\n",
    "        return data\n",
    "    elif r.status_code == 200:\n",
    "        return None\n",
    "    else:\n",
    "        return None\n",
    "\n",
    "    \n",
    "def xdd_link_attachment(parent_id, xdd_record, template):\n",
    "    template[\"parentItem\"] = parent_id\n",
    "    template[\"title\"] = \"xDD Document Link\"\n",
    "    template[\"url\"] = f\"https://geodeepdive.org/api/articles?docid={xdd_record['_gddid']}\"\n",
    "    template[\"accessDate\"] = \"CURRENT_TIMESTAMP\"\n",
    "    template[\"note\"] = \"Link to xDD document established through search algorithm\"\n",
    "    template[\"tags\"] = [\"xdd_doc_link\"]\n",
    "    return template"
   ]
  },
  {
   "cell_type": "markdown",
   "metadata": {},
   "source": [
    "Here I run through the list of DOIs and Zotero IDs to check xDD for a link. This could be rearranged in a variety of ways and will need to be explored further for production use. I do check to make sure we don't already have a link of the appropriate \"type\" (based on assigning a particular title to the attachment)."
   ]
  },
  {
   "cell_type": "code",
   "execution_count": 14,
   "metadata": {},
   "outputs": [
    {
     "name": "stdout",
     "output_type": "stream",
     "text": [
      "NNI3PJ5Z 10.1111/1365-2664.12513\n"
     ]
    },
    {
     "data": {
      "text/plain": [
       "{'key': '2QVF3BJH',\n",
       " 'version': 3159,\n",
       " 'library': {'type': 'group',\n",
       "  'id': 2341914,\n",
       "  'name': 'WLCI',\n",
       "  'links': {'alternate': {'href': 'https://www.zotero.org/groups/wlci',\n",
       "    'type': 'text/html'}}},\n",
       " 'links': {'self': {'href': 'https://api.zotero.org/groups/2341914/items/2QVF3BJH',\n",
       "   'type': 'application/json'},\n",
       "  'alternate': {'href': 'https://www.zotero.org/groups/wlci/items/2QVF3BJH',\n",
       "   'type': 'text/html'},\n",
       "  'up': {'href': 'https://api.zotero.org/groups/2341914/items/NNI3PJ5Z',\n",
       "   'type': 'application/json'}},\n",
       " 'meta': {'createdByUser': {'id': 1119084,\n",
       "   'username': 'skybristol',\n",
       "   'name': 'Sky Bristol',\n",
       "   'links': {'alternate': {'href': 'https://www.zotero.org/skybristol',\n",
       "     'type': 'text/html'}}}},\n",
       " 'data': {'key': '2QVF3BJH',\n",
       "  'version': 3159,\n",
       "  'parentItem': 'NNI3PJ5Z',\n",
       "  'itemType': 'attachment',\n",
       "  'linkMode': 'linked_url',\n",
       "  'title': 'xDD Document Link',\n",
       "  'accessDate': '2019-09-28T17:42:09Z',\n",
       "  'url': 'https://geodeepdive.org/api/articles?docid=5897848bcf58f1ac5aa42563',\n",
       "  'note': 'Link to xDD document established through search algorithm',\n",
       "  'contentType': '',\n",
       "  'charset': '',\n",
       "  'tags': [{'tag': 'xdd_doc_link'}],\n",
       "  'relations': {},\n",
       "  'dateAdded': '2019-09-28T17:42:09Z',\n",
       "  'dateModified': '2019-09-28T17:42:09Z'}}"
      ]
     },
     "metadata": {},
     "output_type": "display_data"
    },
    {
     "name": "stdout",
     "output_type": "stream",
     "text": [
      "88PSMFIC 10.1016/j.biocon.2015.02.009\n"
     ]
    },
    {
     "data": {
      "text/plain": [
       "{'key': 'JV8EH3GN',\n",
       " 'version': 3160,\n",
       " 'library': {'type': 'group',\n",
       "  'id': 2341914,\n",
       "  'name': 'WLCI',\n",
       "  'links': {'alternate': {'href': 'https://www.zotero.org/groups/wlci',\n",
       "    'type': 'text/html'}}},\n",
       " 'links': {'self': {'href': 'https://api.zotero.org/groups/2341914/items/JV8EH3GN',\n",
       "   'type': 'application/json'},\n",
       "  'alternate': {'href': 'https://www.zotero.org/groups/wlci/items/JV8EH3GN',\n",
       "   'type': 'text/html'},\n",
       "  'up': {'href': 'https://api.zotero.org/groups/2341914/items/88PSMFIC',\n",
       "   'type': 'application/json'}},\n",
       " 'meta': {'createdByUser': {'id': 1119084,\n",
       "   'username': 'skybristol',\n",
       "   'name': 'Sky Bristol',\n",
       "   'links': {'alternate': {'href': 'https://www.zotero.org/skybristol',\n",
       "     'type': 'text/html'}}}},\n",
       " 'data': {'key': 'JV8EH3GN',\n",
       "  'version': 3160,\n",
       "  'parentItem': '88PSMFIC',\n",
       "  'itemType': 'attachment',\n",
       "  'linkMode': 'linked_url',\n",
       "  'title': 'xDD Document Link',\n",
       "  'accessDate': '2019-09-28T17:44:07Z',\n",
       "  'url': 'https://geodeepdive.org/api/articles?docid=57a84443cf58f17046db1a8a',\n",
       "  'note': 'Link to xDD document established through search algorithm',\n",
       "  'contentType': '',\n",
       "  'charset': '',\n",
       "  'tags': [{'tag': 'xdd_doc_link'}],\n",
       "  'relations': {},\n",
       "  'dateAdded': '2019-09-28T17:44:07Z',\n",
       "  'dateModified': '2019-09-28T17:44:07Z'}}"
      ]
     },
     "metadata": {},
     "output_type": "display_data"
    },
    {
     "name": "stdout",
     "output_type": "stream",
     "text": [
      "G9L9FU5W 10.1016/j.ecolmodel.2017.05.017\n"
     ]
    },
    {
     "data": {
      "text/plain": [
       "{'key': 'GDDCHMSE',\n",
       " 'version': 3161,\n",
       " 'library': {'type': 'group',\n",
       "  'id': 2341914,\n",
       "  'name': 'WLCI',\n",
       "  'links': {'alternate': {'href': 'https://www.zotero.org/groups/wlci',\n",
       "    'type': 'text/html'}}},\n",
       " 'links': {'self': {'href': 'https://api.zotero.org/groups/2341914/items/GDDCHMSE',\n",
       "   'type': 'application/json'},\n",
       "  'alternate': {'href': 'https://www.zotero.org/groups/wlci/items/GDDCHMSE',\n",
       "   'type': 'text/html'},\n",
       "  'up': {'href': 'https://api.zotero.org/groups/2341914/items/G9L9FU5W',\n",
       "   'type': 'application/json'}},\n",
       " 'meta': {'createdByUser': {'id': 1119084,\n",
       "   'username': 'skybristol',\n",
       "   'name': 'Sky Bristol',\n",
       "   'links': {'alternate': {'href': 'https://www.zotero.org/skybristol',\n",
       "     'type': 'text/html'}}}},\n",
       " 'data': {'key': 'GDDCHMSE',\n",
       "  'version': 3161,\n",
       "  'parentItem': 'G9L9FU5W',\n",
       "  'itemType': 'attachment',\n",
       "  'linkMode': 'linked_url',\n",
       "  'title': 'xDD Document Link',\n",
       "  'accessDate': '2019-09-28T17:48:19Z',\n",
       "  'url': 'https://geodeepdive.org/api/articles?docid=5acfde1ecf58f17c7517b27d',\n",
       "  'note': 'Link to xDD document established through search algorithm',\n",
       "  'contentType': '',\n",
       "  'charset': '',\n",
       "  'tags': [{'tag': 'xdd_doc_link'}],\n",
       "  'relations': {},\n",
       "  'dateAdded': '2019-09-28T17:48:19Z',\n",
       "  'dateModified': '2019-09-28T17:48:19Z'}}"
      ]
     },
     "metadata": {},
     "output_type": "display_data"
    },
    {
     "name": "stdout",
     "output_type": "stream",
     "text": [
      "W5K4UAZ8 10.1002/jwmg.21179\n"
     ]
    },
    {
     "data": {
      "text/plain": [
       "{'key': '2S6BI6XI',\n",
       " 'version': 3163,\n",
       " 'library': {'type': 'group',\n",
       "  'id': 2341914,\n",
       "  'name': 'WLCI',\n",
       "  'links': {'alternate': {'href': 'https://www.zotero.org/groups/wlci',\n",
       "    'type': 'text/html'}}},\n",
       " 'links': {'self': {'href': 'https://api.zotero.org/groups/2341914/items/2S6BI6XI',\n",
       "   'type': 'application/json'},\n",
       "  'alternate': {'href': 'https://www.zotero.org/groups/wlci/items/2S6BI6XI',\n",
       "   'type': 'text/html'},\n",
       "  'up': {'href': 'https://api.zotero.org/groups/2341914/items/W5K4UAZ8',\n",
       "   'type': 'application/json'}},\n",
       " 'meta': {'createdByUser': {'id': 1119084,\n",
       "   'username': 'skybristol',\n",
       "   'name': 'Sky Bristol',\n",
       "   'links': {'alternate': {'href': 'https://www.zotero.org/skybristol',\n",
       "     'type': 'text/html'}}}},\n",
       " 'data': {'key': '2S6BI6XI',\n",
       "  'version': 3163,\n",
       "  'parentItem': 'W5K4UAZ8',\n",
       "  'itemType': 'attachment',\n",
       "  'linkMode': 'linked_url',\n",
       "  'title': 'xDD Document Link',\n",
       "  'accessDate': '2019-09-28T17:48:20Z',\n",
       "  'url': 'https://geodeepdive.org/api/articles?docid=5c2c22901faed655488b289b',\n",
       "  'note': 'Link to xDD document established through search algorithm',\n",
       "  'contentType': '',\n",
       "  'charset': '',\n",
       "  'tags': [{'tag': 'xdd_doc_link'}],\n",
       "  'relations': {},\n",
       "  'dateAdded': '2019-09-28T17:48:20Z',\n",
       "  'dateModified': '2019-09-28T17:48:20Z'}}"
      ]
     },
     "metadata": {},
     "output_type": "display_data"
    },
    {
     "name": "stdout",
     "output_type": "stream",
     "text": [
      "2S5E6PXT 10.1111/fme.12303\n"
     ]
    },
    {
     "data": {
      "text/plain": [
       "{'key': 'WQCJ2VNR',\n",
       " 'version': 3164,\n",
       " 'library': {'type': 'group',\n",
       "  'id': 2341914,\n",
       "  'name': 'WLCI',\n",
       "  'links': {'alternate': {'href': 'https://www.zotero.org/groups/wlci',\n",
       "    'type': 'text/html'}}},\n",
       " 'links': {'self': {'href': 'https://api.zotero.org/groups/2341914/items/WQCJ2VNR',\n",
       "   'type': 'application/json'},\n",
       "  'alternate': {'href': 'https://www.zotero.org/groups/wlci/items/WQCJ2VNR',\n",
       "   'type': 'text/html'},\n",
       "  'up': {'href': 'https://api.zotero.org/groups/2341914/items/2S5E6PXT',\n",
       "   'type': 'application/json'}},\n",
       " 'meta': {'createdByUser': {'id': 1119084,\n",
       "   'username': 'skybristol',\n",
       "   'name': 'Sky Bristol',\n",
       "   'links': {'alternate': {'href': 'https://www.zotero.org/skybristol',\n",
       "     'type': 'text/html'}}}},\n",
       " 'data': {'key': 'WQCJ2VNR',\n",
       "  'version': 3164,\n",
       "  'parentItem': '2S5E6PXT',\n",
       "  'itemType': 'attachment',\n",
       "  'linkMode': 'linked_url',\n",
       "  'title': 'xDD Document Link',\n",
       "  'accessDate': '2019-09-28T17:53:58Z',\n",
       "  'url': 'https://geodeepdive.org/api/articles?docid=5d3c21570b45c76cafa16ab2',\n",
       "  'note': 'Link to xDD document established through search algorithm',\n",
       "  'contentType': '',\n",
       "  'charset': '',\n",
       "  'tags': [{'tag': 'xdd_doc_link'}],\n",
       "  'relations': {},\n",
       "  'dateAdded': '2019-09-28T17:53:58Z',\n",
       "  'dateModified': '2019-09-28T17:53:58Z'}}"
      ]
     },
     "metadata": {},
     "output_type": "display_data"
    },
    {
     "name": "stdout",
     "output_type": "stream",
     "text": [
      "EDVXJFQK 10.1002/jwmg.123\n"
     ]
    },
    {
     "data": {
      "text/plain": [
       "{'key': '43A79WUT',\n",
       " 'version': 3165,\n",
       " 'library': {'type': 'group',\n",
       "  'id': 2341914,\n",
       "  'name': 'WLCI',\n",
       "  'links': {'alternate': {'href': 'https://www.zotero.org/groups/wlci',\n",
       "    'type': 'text/html'}}},\n",
       " 'links': {'self': {'href': 'https://api.zotero.org/groups/2341914/items/43A79WUT',\n",
       "   'type': 'application/json'},\n",
       "  'alternate': {'href': 'https://www.zotero.org/groups/wlci/items/43A79WUT',\n",
       "   'type': 'text/html'},\n",
       "  'up': {'href': 'https://api.zotero.org/groups/2341914/items/EDVXJFQK',\n",
       "   'type': 'application/json'}},\n",
       " 'meta': {'createdByUser': {'id': 1119084,\n",
       "   'username': 'skybristol',\n",
       "   'name': 'Sky Bristol',\n",
       "   'links': {'alternate': {'href': 'https://www.zotero.org/skybristol',\n",
       "     'type': 'text/html'}}}},\n",
       " 'data': {'key': '43A79WUT',\n",
       "  'version': 3165,\n",
       "  'parentItem': 'EDVXJFQK',\n",
       "  'itemType': 'attachment',\n",
       "  'linkMode': 'linked_url',\n",
       "  'title': 'xDD Document Link',\n",
       "  'accessDate': '2019-09-28T17:54:00Z',\n",
       "  'url': 'https://geodeepdive.org/api/articles?docid=5d4384980b45c76cafa2c0b0',\n",
       "  'note': 'Link to xDD document established through search algorithm',\n",
       "  'contentType': '',\n",
       "  'charset': '',\n",
       "  'tags': [{'tag': 'xdd_doc_link'}],\n",
       "  'relations': {},\n",
       "  'dateAdded': '2019-09-28T17:54:00Z',\n",
       "  'dateModified': '2019-09-28T17:54:00Z'}}"
      ]
     },
     "metadata": {},
     "output_type": "display_data"
    },
    {
     "name": "stdout",
     "output_type": "stream",
     "text": [
      "EC835SP7 10.3996/022014-JFWM-016\n",
      "ARXBE7P4 10.1002/ecs2.1817\n"
     ]
    },
    {
     "data": {
      "text/plain": [
       "{'key': '5TGURDT2',\n",
       " 'version': 3166,\n",
       " 'library': {'type': 'group',\n",
       "  'id': 2341914,\n",
       "  'name': 'WLCI',\n",
       "  'links': {'alternate': {'href': 'https://www.zotero.org/groups/wlci',\n",
       "    'type': 'text/html'}}},\n",
       " 'links': {'self': {'href': 'https://api.zotero.org/groups/2341914/items/5TGURDT2',\n",
       "   'type': 'application/json'},\n",
       "  'alternate': {'href': 'https://www.zotero.org/groups/wlci/items/5TGURDT2',\n",
       "   'type': 'text/html'},\n",
       "  'up': {'href': 'https://api.zotero.org/groups/2341914/items/ARXBE7P4',\n",
       "   'type': 'application/json'}},\n",
       " 'meta': {'createdByUser': {'id': 1119084,\n",
       "   'username': 'skybristol',\n",
       "   'name': 'Sky Bristol',\n",
       "   'links': {'alternate': {'href': 'https://www.zotero.org/skybristol',\n",
       "     'type': 'text/html'}}}},\n",
       " 'data': {'key': '5TGURDT2',\n",
       "  'version': 3166,\n",
       "  'parentItem': 'ARXBE7P4',\n",
       "  'itemType': 'attachment',\n",
       "  'linkMode': 'linked_url',\n",
       "  'title': 'xDD Document Link',\n",
       "  'accessDate': '2019-09-28T17:57:46Z',\n",
       "  'url': 'https://geodeepdive.org/api/articles?docid=5d1ed9d20b45c76caf912f8f',\n",
       "  'note': 'Link to xDD document established through search algorithm',\n",
       "  'contentType': '',\n",
       "  'charset': '',\n",
       "  'tags': [{'tag': 'xdd_doc_link'}],\n",
       "  'relations': {},\n",
       "  'dateAdded': '2019-09-28T17:57:46Z',\n",
       "  'dateModified': '2019-09-28T17:57:46Z'}}"
      ]
     },
     "metadata": {},
     "output_type": "display_data"
    },
    {
     "name": "stdout",
     "output_type": "stream",
     "text": [
      "ZURD2T85 10.1007/s10666-017-9559-1\n",
      "A2WG577D 10.1002/wmon.1014\n"
     ]
    },
    {
     "data": {
      "text/plain": [
       "{'key': '7MRCVTXK',\n",
       " 'version': 3168,\n",
       " 'library': {'type': 'group',\n",
       "  'id': 2341914,\n",
       "  'name': 'WLCI',\n",
       "  'links': {'alternate': {'href': 'https://www.zotero.org/groups/wlci',\n",
       "    'type': 'text/html'}}},\n",
       " 'links': {'self': {'href': 'https://api.zotero.org/groups/2341914/items/7MRCVTXK',\n",
       "   'type': 'application/json'},\n",
       "  'alternate': {'href': 'https://www.zotero.org/groups/wlci/items/7MRCVTXK',\n",
       "   'type': 'text/html'},\n",
       "  'up': {'href': 'https://api.zotero.org/groups/2341914/items/A2WG577D',\n",
       "   'type': 'application/json'}},\n",
       " 'meta': {'createdByUser': {'id': 1119084,\n",
       "   'username': 'skybristol',\n",
       "   'name': 'Sky Bristol',\n",
       "   'links': {'alternate': {'href': 'https://www.zotero.org/skybristol',\n",
       "     'type': 'text/html'}}}},\n",
       " 'data': {'key': '7MRCVTXK',\n",
       "  'version': 3168,\n",
       "  'parentItem': 'A2WG577D',\n",
       "  'itemType': 'attachment',\n",
       "  'linkMode': 'linked_url',\n",
       "  'title': 'xDD Document Link',\n",
       "  'accessDate': '2019-09-28T17:58:01Z',\n",
       "  'url': 'https://geodeepdive.org/api/articles?docid=5c4e3f571faed655489408c3',\n",
       "  'note': 'Link to xDD document established through search algorithm',\n",
       "  'contentType': '',\n",
       "  'charset': '',\n",
       "  'tags': [{'tag': 'xdd_doc_link'}],\n",
       "  'relations': {},\n",
       "  'dateAdded': '2019-09-28T17:58:01Z',\n",
       "  'dateModified': '2019-09-28T17:58:01Z'}}"
      ]
     },
     "metadata": {},
     "output_type": "display_data"
    },
    {
     "name": "stdout",
     "output_type": "stream",
     "text": [
      "K8PT4QFH 10.1007/s00442-010-1768-0\n",
      "4TCBL9S3 10.1002/jwmg.337\n"
     ]
    },
    {
     "data": {
      "text/plain": [
       "{'key': '6HZET7Q3',\n",
       " 'version': 3169,\n",
       " 'library': {'type': 'group',\n",
       "  'id': 2341914,\n",
       "  'name': 'WLCI',\n",
       "  'links': {'alternate': {'href': 'https://www.zotero.org/groups/wlci',\n",
       "    'type': 'text/html'}}},\n",
       " 'links': {'self': {'href': 'https://api.zotero.org/groups/2341914/items/6HZET7Q3',\n",
       "   'type': 'application/json'},\n",
       "  'alternate': {'href': 'https://www.zotero.org/groups/wlci/items/6HZET7Q3',\n",
       "   'type': 'text/html'},\n",
       "  'up': {'href': 'https://api.zotero.org/groups/2341914/items/4TCBL9S3',\n",
       "   'type': 'application/json'}},\n",
       " 'meta': {'createdByUser': {'id': 1119084,\n",
       "   'username': 'skybristol',\n",
       "   'name': 'Sky Bristol',\n",
       "   'links': {'alternate': {'href': 'https://www.zotero.org/skybristol',\n",
       "     'type': 'text/html'}}}},\n",
       " 'data': {'key': '6HZET7Q3',\n",
       "  'version': 3169,\n",
       "  'parentItem': '4TCBL9S3',\n",
       "  'itemType': 'attachment',\n",
       "  'linkMode': 'linked_url',\n",
       "  'title': 'xDD Document Link',\n",
       "  'accessDate': '2019-09-28T17:58:03Z',\n",
       "  'url': 'https://geodeepdive.org/api/articles?docid=5c2c30a41faed655488b29a1',\n",
       "  'note': 'Link to xDD document established through search algorithm',\n",
       "  'contentType': '',\n",
       "  'charset': '',\n",
       "  'tags': [{'tag': 'xdd_doc_link'}],\n",
       "  'relations': {},\n",
       "  'dateAdded': '2019-09-28T17:58:03Z',\n",
       "  'dateModified': '2019-09-28T17:58:03Z'}}"
      ]
     },
     "metadata": {},
     "output_type": "display_data"
    },
    {
     "name": "stdout",
     "output_type": "stream",
     "text": [
      "JFV5GDKM 10.1002/jwmg.155\n"
     ]
    },
    {
     "data": {
      "text/plain": [
       "{'key': '5X7TXRRG',\n",
       " 'version': 3170,\n",
       " 'library': {'type': 'group',\n",
       "  'id': 2341914,\n",
       "  'name': 'WLCI',\n",
       "  'links': {'alternate': {'href': 'https://www.zotero.org/groups/wlci',\n",
       "    'type': 'text/html'}}},\n",
       " 'links': {'self': {'href': 'https://api.zotero.org/groups/2341914/items/5X7TXRRG',\n",
       "   'type': 'application/json'},\n",
       "  'alternate': {'href': 'https://www.zotero.org/groups/wlci/items/5X7TXRRG',\n",
       "   'type': 'text/html'},\n",
       "  'up': {'href': 'https://api.zotero.org/groups/2341914/items/JFV5GDKM',\n",
       "   'type': 'application/json'}},\n",
       " 'meta': {'createdByUser': {'id': 1119084,\n",
       "   'username': 'skybristol',\n",
       "   'name': 'Sky Bristol',\n",
       "   'links': {'alternate': {'href': 'https://www.zotero.org/skybristol',\n",
       "     'type': 'text/html'}}}},\n",
       " 'data': {'key': '5X7TXRRG',\n",
       "  'version': 3170,\n",
       "  'parentItem': 'JFV5GDKM',\n",
       "  'itemType': 'attachment',\n",
       "  'linkMode': 'linked_url',\n",
       "  'title': 'xDD Document Link',\n",
       "  'accessDate': '2019-09-28T17:58:05Z',\n",
       "  'url': 'https://geodeepdive.org/api/articles?docid=5c2c1b8a1faed655488b27d9',\n",
       "  'note': 'Link to xDD document established through search algorithm',\n",
       "  'contentType': '',\n",
       "  'charset': '',\n",
       "  'tags': [{'tag': 'xdd_doc_link'}],\n",
       "  'relations': {},\n",
       "  'dateAdded': '2019-09-28T17:58:05Z',\n",
       "  'dateModified': '2019-09-28T17:58:05Z'}}"
      ]
     },
     "metadata": {},
     "output_type": "display_data"
    },
    {
     "name": "stdout",
     "output_type": "stream",
     "text": [
      "R3NSCC9R 10.1002/jwmg.21386\n"
     ]
    },
    {
     "data": {
      "text/plain": [
       "{'key': '9ETANTY8',\n",
       " 'version': 3171,\n",
       " 'library': {'type': 'group',\n",
       "  'id': 2341914,\n",
       "  'name': 'WLCI',\n",
       "  'links': {'alternate': {'href': 'https://www.zotero.org/groups/wlci',\n",
       "    'type': 'text/html'}}},\n",
       " 'links': {'self': {'href': 'https://api.zotero.org/groups/2341914/items/9ETANTY8',\n",
       "   'type': 'application/json'},\n",
       "  'alternate': {'href': 'https://www.zotero.org/groups/wlci/items/9ETANTY8',\n",
       "   'type': 'text/html'},\n",
       "  'up': {'href': 'https://api.zotero.org/groups/2341914/items/R3NSCC9R',\n",
       "   'type': 'application/json'}},\n",
       " 'meta': {'createdByUser': {'id': 1119084,\n",
       "   'username': 'skybristol',\n",
       "   'name': 'Sky Bristol',\n",
       "   'links': {'alternate': {'href': 'https://www.zotero.org/skybristol',\n",
       "     'type': 'text/html'}}}},\n",
       " 'data': {'key': '9ETANTY8',\n",
       "  'version': 3171,\n",
       "  'parentItem': 'R3NSCC9R',\n",
       "  'itemType': 'attachment',\n",
       "  'linkMode': 'linked_url',\n",
       "  'title': 'xDD Document Link',\n",
       "  'accessDate': '2019-09-27T21:17:21Z',\n",
       "  'url': 'https://geodeepdive.org/api/articles?docid=5c2c30a41faed655488b299b',\n",
       "  'note': '',\n",
       "  'contentType': '',\n",
       "  'charset': '',\n",
       "  'tags': [{'tag': 'xdd_doc_link'}],\n",
       "  'relations': {},\n",
       "  'dateAdded': '2019-09-27T21:17:21Z',\n",
       "  'dateModified': '2019-09-28T16:51:48Z'}}"
      ]
     },
     "metadata": {},
     "output_type": "display_data"
    },
    {
     "name": "stdout",
     "output_type": "stream",
     "text": [
      "M7QX7I8U 10.1002/jwmg.21560\n"
     ]
    },
    {
     "data": {
      "text/plain": [
       "{'key': '9MBSGW4H',\n",
       " 'version': 3172,\n",
       " 'library': {'type': 'group',\n",
       "  'id': 2341914,\n",
       "  'name': 'WLCI',\n",
       "  'links': {'alternate': {'href': 'https://www.zotero.org/groups/wlci',\n",
       "    'type': 'text/html'}}},\n",
       " 'links': {'self': {'href': 'https://api.zotero.org/groups/2341914/items/9MBSGW4H',\n",
       "   'type': 'application/json'},\n",
       "  'alternate': {'href': 'https://www.zotero.org/groups/wlci/items/9MBSGW4H',\n",
       "   'type': 'text/html'},\n",
       "  'up': {'href': 'https://api.zotero.org/groups/2341914/items/M7QX7I8U',\n",
       "   'type': 'application/json'}},\n",
       " 'meta': {'createdByUser': {'id': 1119084,\n",
       "   'username': 'skybristol',\n",
       "   'name': 'Sky Bristol',\n",
       "   'links': {'alternate': {'href': 'https://www.zotero.org/skybristol',\n",
       "     'type': 'text/html'}}}},\n",
       " 'data': {'key': '9MBSGW4H',\n",
       "  'version': 3172,\n",
       "  'parentItem': 'M7QX7I8U',\n",
       "  'itemType': 'attachment',\n",
       "  'linkMode': 'linked_url',\n",
       "  'title': 'xDD Document Link',\n",
       "  'accessDate': '2019-09-28T17:58:07Z',\n",
       "  'url': 'https://geodeepdive.org/api/articles?docid=5d4384960b45c76cafa2bfc8',\n",
       "  'note': 'Link to xDD document established through search algorithm',\n",
       "  'contentType': '',\n",
       "  'charset': '',\n",
       "  'tags': [{'tag': 'xdd_doc_link'}],\n",
       "  'relations': {},\n",
       "  'dateAdded': '2019-09-28T17:58:07Z',\n",
       "  'dateModified': '2019-09-28T17:58:07Z'}}"
      ]
     },
     "metadata": {},
     "output_type": "display_data"
    },
    {
     "name": "stdout",
     "output_type": "stream",
     "text": [
      "HJ28LVB4 10.1016/j.jhydrol.2015.02.020\n"
     ]
    },
    {
     "data": {
      "text/plain": [
       "{'key': 'DPMNHCVM',\n",
       " 'version': 3177,\n",
       " 'library': {'type': 'group',\n",
       "  'id': 2341914,\n",
       "  'name': 'WLCI',\n",
       "  'links': {'alternate': {'href': 'https://www.zotero.org/groups/wlci',\n",
       "    'type': 'text/html'}}},\n",
       " 'links': {'self': {'href': 'https://api.zotero.org/groups/2341914/items/DPMNHCVM',\n",
       "   'type': 'application/json'},\n",
       "  'alternate': {'href': 'https://www.zotero.org/groups/wlci/items/DPMNHCVM',\n",
       "   'type': 'text/html'},\n",
       "  'up': {'href': 'https://api.zotero.org/groups/2341914/items/HJ28LVB4',\n",
       "   'type': 'application/json'}},\n",
       " 'meta': {'createdByUser': {'id': 1119084,\n",
       "   'username': 'skybristol',\n",
       "   'name': 'Sky Bristol',\n",
       "   'links': {'alternate': {'href': 'https://www.zotero.org/skybristol',\n",
       "     'type': 'text/html'}}}},\n",
       " 'data': {'key': 'DPMNHCVM',\n",
       "  'version': 3177,\n",
       "  'parentItem': 'HJ28LVB4',\n",
       "  'itemType': 'attachment',\n",
       "  'linkMode': 'linked_url',\n",
       "  'title': 'xDD Document Link',\n",
       "  'accessDate': '2019-09-28T17:58:09Z',\n",
       "  'url': 'https://geodeepdive.org/api/articles?docid=54fefadfe13823a766aa719f',\n",
       "  'note': 'Link to xDD document established through search algorithm',\n",
       "  'contentType': '',\n",
       "  'charset': '',\n",
       "  'tags': [{'tag': 'xdd_doc_link'}],\n",
       "  'relations': {},\n",
       "  'dateAdded': '2019-09-28T17:58:09Z',\n",
       "  'dateModified': '2019-09-28T17:58:09Z'}}"
      ]
     },
     "metadata": {},
     "output_type": "display_data"
    },
    {
     "name": "stdout",
     "output_type": "stream",
     "text": [
      "RUATTVSK 10.1016/j.foreco.2016.01.017\n"
     ]
    },
    {
     "data": {
      "text/plain": [
       "{'key': 'WB7ZR7PT',\n",
       " 'version': 3179,\n",
       " 'library': {'type': 'group',\n",
       "  'id': 2341914,\n",
       "  'name': 'WLCI',\n",
       "  'links': {'alternate': {'href': 'https://www.zotero.org/groups/wlci',\n",
       "    'type': 'text/html'}}},\n",
       " 'links': {'self': {'href': 'https://api.zotero.org/groups/2341914/items/WB7ZR7PT',\n",
       "   'type': 'application/json'},\n",
       "  'alternate': {'href': 'https://www.zotero.org/groups/wlci/items/WB7ZR7PT',\n",
       "   'type': 'text/html'},\n",
       "  'up': {'href': 'https://api.zotero.org/groups/2341914/items/RUATTVSK',\n",
       "   'type': 'application/json'}},\n",
       " 'meta': {'createdByUser': {'id': 1119084,\n",
       "   'username': 'skybristol',\n",
       "   'name': 'Sky Bristol',\n",
       "   'links': {'alternate': {'href': 'https://www.zotero.org/skybristol',\n",
       "     'type': 'text/html'}}}},\n",
       " 'data': {'key': 'WB7ZR7PT',\n",
       "  'version': 3179,\n",
       "  'parentItem': 'RUATTVSK',\n",
       "  'itemType': 'attachment',\n",
       "  'linkMode': 'linked_url',\n",
       "  'title': 'xDD Document Link',\n",
       "  'accessDate': '2019-09-28T17:58:10Z',\n",
       "  'url': 'https://geodeepdive.org/api/articles?docid=577bdf78cf58f1585217325f',\n",
       "  'note': 'Link to xDD document established through search algorithm',\n",
       "  'contentType': '',\n",
       "  'charset': '',\n",
       "  'tags': [{'tag': 'xdd_doc_link'}],\n",
       "  'relations': {},\n",
       "  'dateAdded': '2019-09-28T17:58:10Z',\n",
       "  'dateModified': '2019-09-28T17:58:10Z'}}"
      ]
     },
     "metadata": {},
     "output_type": "display_data"
    },
    {
     "name": "stdout",
     "output_type": "stream",
     "text": [
      "X3I66DJ8 10.1080/2150704X.2015.1072289\n"
     ]
    },
    {
     "data": {
      "text/plain": [
       "{'key': '93UZIE5X',\n",
       " 'version': 3180,\n",
       " 'library': {'type': 'group',\n",
       "  'id': 2341914,\n",
       "  'name': 'WLCI',\n",
       "  'links': {'alternate': {'href': 'https://www.zotero.org/groups/wlci',\n",
       "    'type': 'text/html'}}},\n",
       " 'links': {'self': {'href': 'https://api.zotero.org/groups/2341914/items/93UZIE5X',\n",
       "   'type': 'application/json'},\n",
       "  'alternate': {'href': 'https://www.zotero.org/groups/wlci/items/93UZIE5X',\n",
       "   'type': 'text/html'},\n",
       "  'up': {'href': 'https://api.zotero.org/groups/2341914/items/X3I66DJ8',\n",
       "   'type': 'application/json'}},\n",
       " 'meta': {'createdByUser': {'id': 1119084,\n",
       "   'username': 'skybristol',\n",
       "   'name': 'Sky Bristol',\n",
       "   'links': {'alternate': {'href': 'https://www.zotero.org/skybristol',\n",
       "     'type': 'text/html'}}}},\n",
       " 'data': {'key': '93UZIE5X',\n",
       "  'version': 3180,\n",
       "  'parentItem': 'X3I66DJ8',\n",
       "  'itemType': 'attachment',\n",
       "  'linkMode': 'linked_url',\n",
       "  'title': 'xDD Document Link',\n",
       "  'accessDate': '2019-09-28T17:58:12Z',\n",
       "  'url': 'https://geodeepdive.org/api/articles?docid=594407d1cf58f1b3059ba5a4',\n",
       "  'note': 'Link to xDD document established through search algorithm',\n",
       "  'contentType': '',\n",
       "  'charset': '',\n",
       "  'tags': [{'tag': 'xdd_doc_link'}],\n",
       "  'relations': {},\n",
       "  'dateAdded': '2019-09-28T17:58:12Z',\n",
       "  'dateModified': '2019-09-28T17:58:12Z'}}"
      ]
     },
     "metadata": {},
     "output_type": "display_data"
    },
    {
     "name": "stdout",
     "output_type": "stream",
     "text": [
      "BH3VH7QL 10.1111/ele.12772\n"
     ]
    },
    {
     "data": {
      "text/plain": [
       "{'key': 'GTCT5NII',\n",
       " 'version': 3181,\n",
       " 'library': {'type': 'group',\n",
       "  'id': 2341914,\n",
       "  'name': 'WLCI',\n",
       "  'links': {'alternate': {'href': 'https://www.zotero.org/groups/wlci',\n",
       "    'type': 'text/html'}}},\n",
       " 'links': {'self': {'href': 'https://api.zotero.org/groups/2341914/items/GTCT5NII',\n",
       "   'type': 'application/json'},\n",
       "  'alternate': {'href': 'https://www.zotero.org/groups/wlci/items/GTCT5NII',\n",
       "   'type': 'text/html'},\n",
       "  'up': {'href': 'https://api.zotero.org/groups/2341914/items/BH3VH7QL',\n",
       "   'type': 'application/json'}},\n",
       " 'meta': {'createdByUser': {'id': 1119084,\n",
       "   'username': 'skybristol',\n",
       "   'name': 'Sky Bristol',\n",
       "   'links': {'alternate': {'href': 'https://www.zotero.org/skybristol',\n",
       "     'type': 'text/html'}}}},\n",
       " 'data': {'key': 'GTCT5NII',\n",
       "  'version': 3181,\n",
       "  'parentItem': 'BH3VH7QL',\n",
       "  'itemType': 'attachment',\n",
       "  'linkMode': 'linked_url',\n",
       "  'title': 'xDD Document Link',\n",
       "  'accessDate': '2019-09-28T17:58:14Z',\n",
       "  'url': 'https://geodeepdive.org/api/articles?docid=5900f56ccf58f172049f469a',\n",
       "  'note': 'Link to xDD document established through search algorithm',\n",
       "  'contentType': '',\n",
       "  'charset': '',\n",
       "  'tags': [{'tag': 'xdd_doc_link'}],\n",
       "  'relations': {},\n",
       "  'dateAdded': '2019-09-28T17:58:14Z',\n",
       "  'dateModified': '2019-09-28T17:58:14Z'}}"
      ]
     },
     "metadata": {},
     "output_type": "display_data"
    },
    {
     "name": "stdout",
     "output_type": "stream",
     "text": [
      "MSU75H97 10.2747/1548-1603.49.3.378\n",
      "TRECRZAA 10.1080/01431161.2011.605085\n"
     ]
    },
    {
     "data": {
      "text/plain": [
       "{'key': 'DKNPPJUB',\n",
       " 'version': 3182,\n",
       " 'library': {'type': 'group',\n",
       "  'id': 2341914,\n",
       "  'name': 'WLCI',\n",
       "  'links': {'alternate': {'href': 'https://www.zotero.org/groups/wlci',\n",
       "    'type': 'text/html'}}},\n",
       " 'links': {'self': {'href': 'https://api.zotero.org/groups/2341914/items/DKNPPJUB',\n",
       "   'type': 'application/json'},\n",
       "  'alternate': {'href': 'https://www.zotero.org/groups/wlci/items/DKNPPJUB',\n",
       "   'type': 'text/html'},\n",
       "  'up': {'href': 'https://api.zotero.org/groups/2341914/items/TRECRZAA',\n",
       "   'type': 'application/json'}},\n",
       " 'meta': {'createdByUser': {'id': 1119084,\n",
       "   'username': 'skybristol',\n",
       "   'name': 'Sky Bristol',\n",
       "   'links': {'alternate': {'href': 'https://www.zotero.org/skybristol',\n",
       "     'type': 'text/html'}}}},\n",
       " 'data': {'key': 'DKNPPJUB',\n",
       "  'version': 3182,\n",
       "  'parentItem': 'TRECRZAA',\n",
       "  'itemType': 'attachment',\n",
       "  'linkMode': 'linked_url',\n",
       "  'title': 'xDD Document Link',\n",
       "  'accessDate': '2019-09-28T17:58:16Z',\n",
       "  'url': 'https://geodeepdive.org/api/articles?docid=5904c6c6cf58f152d18be8bf',\n",
       "  'note': 'Link to xDD document established through search algorithm',\n",
       "  'contentType': '',\n",
       "  'charset': '',\n",
       "  'tags': [{'tag': 'xdd_doc_link'}],\n",
       "  'relations': {},\n",
       "  'dateAdded': '2019-09-28T17:58:16Z',\n",
       "  'dateModified': '2019-09-28T17:58:16Z'}}"
      ]
     },
     "metadata": {},
     "output_type": "display_data"
    },
    {
     "name": "stdout",
     "output_type": "stream",
     "text": [
      "5GTCJ27A 10.1002/ecs2.2113\n"
     ]
    },
    {
     "data": {
      "text/plain": [
       "{'key': '6Z92HKUS',\n",
       " 'version': 3183,\n",
       " 'library': {'type': 'group',\n",
       "  'id': 2341914,\n",
       "  'name': 'WLCI',\n",
       "  'links': {'alternate': {'href': 'https://www.zotero.org/groups/wlci',\n",
       "    'type': 'text/html'}}},\n",
       " 'links': {'self': {'href': 'https://api.zotero.org/groups/2341914/items/6Z92HKUS',\n",
       "   'type': 'application/json'},\n",
       "  'alternate': {'href': 'https://www.zotero.org/groups/wlci/items/6Z92HKUS',\n",
       "   'type': 'text/html'},\n",
       "  'up': {'href': 'https://api.zotero.org/groups/2341914/items/5GTCJ27A',\n",
       "   'type': 'application/json'}},\n",
       " 'meta': {'createdByUser': {'id': 1119084,\n",
       "   'username': 'skybristol',\n",
       "   'name': 'Sky Bristol',\n",
       "   'links': {'alternate': {'href': 'https://www.zotero.org/skybristol',\n",
       "     'type': 'text/html'}}}},\n",
       " 'data': {'key': '6Z92HKUS',\n",
       "  'version': 3183,\n",
       "  'parentItem': '5GTCJ27A',\n",
       "  'itemType': 'attachment',\n",
       "  'linkMode': 'linked_url',\n",
       "  'title': 'xDD Document Link',\n",
       "  'accessDate': '2019-09-28T17:58:17Z',\n",
       "  'url': 'https://geodeepdive.org/api/articles?docid=5c4977e21faed6554893aeb0',\n",
       "  'note': 'Link to xDD document established through search algorithm',\n",
       "  'contentType': '',\n",
       "  'charset': '',\n",
       "  'tags': [{'tag': 'xdd_doc_link'}],\n",
       "  'relations': {},\n",
       "  'dateAdded': '2019-09-28T17:58:17Z',\n",
       "  'dateModified': '2019-09-28T17:58:17Z'}}"
      ]
     },
     "metadata": {},
     "output_type": "display_data"
    },
    {
     "name": "stdout",
     "output_type": "stream",
     "text": [
      "D78REKE6 10.1002/ieam.4118\n"
     ]
    },
    {
     "data": {
      "text/plain": [
       "{'key': '2ZFI6BTH',\n",
       " 'version': 3184,\n",
       " 'library': {'type': 'group',\n",
       "  'id': 2341914,\n",
       "  'name': 'WLCI',\n",
       "  'links': {'alternate': {'href': 'https://www.zotero.org/groups/wlci',\n",
       "    'type': 'text/html'}}},\n",
       " 'links': {'self': {'href': 'https://api.zotero.org/groups/2341914/items/2ZFI6BTH',\n",
       "   'type': 'application/json'},\n",
       "  'alternate': {'href': 'https://www.zotero.org/groups/wlci/items/2ZFI6BTH',\n",
       "   'type': 'text/html'},\n",
       "  'up': {'href': 'https://api.zotero.org/groups/2341914/items/D78REKE6',\n",
       "   'type': 'application/json'}},\n",
       " 'meta': {'createdByUser': {'id': 1119084,\n",
       "   'username': 'skybristol',\n",
       "   'name': 'Sky Bristol',\n",
       "   'links': {'alternate': {'href': 'https://www.zotero.org/skybristol',\n",
       "     'type': 'text/html'}}}},\n",
       " 'data': {'key': '2ZFI6BTH',\n",
       "  'version': 3184,\n",
       "  'parentItem': 'D78REKE6',\n",
       "  'itemType': 'attachment',\n",
       "  'linkMode': 'linked_url',\n",
       "  'title': 'xDD Document Link',\n",
       "  'accessDate': '2019-09-28T17:58:19Z',\n",
       "  'url': 'https://geodeepdive.org/api/articles?docid=5ce31ce50b45c76caf8ae883',\n",
       "  'note': 'Link to xDD document established through search algorithm',\n",
       "  'contentType': '',\n",
       "  'charset': '',\n",
       "  'tags': [{'tag': 'xdd_doc_link'}],\n",
       "  'relations': {},\n",
       "  'dateAdded': '2019-09-28T17:58:19Z',\n",
       "  'dateModified': '2019-09-28T17:58:19Z'}}"
      ]
     },
     "metadata": {},
     "output_type": "display_data"
    },
    {
     "name": "stdout",
     "output_type": "stream",
     "text": [
      "K7EW3YQE 10.1890/08-2034.1\n"
     ]
    },
    {
     "data": {
      "text/plain": [
       "{'key': '3JJ84XPR',\n",
       " 'version': 3185,\n",
       " 'library': {'type': 'group',\n",
       "  'id': 2341914,\n",
       "  'name': 'WLCI',\n",
       "  'links': {'alternate': {'href': 'https://www.zotero.org/groups/wlci',\n",
       "    'type': 'text/html'}}},\n",
       " 'links': {'self': {'href': 'https://api.zotero.org/groups/2341914/items/3JJ84XPR',\n",
       "   'type': 'application/json'},\n",
       "  'alternate': {'href': 'https://www.zotero.org/groups/wlci/items/3JJ84XPR',\n",
       "   'type': 'text/html'},\n",
       "  'up': {'href': 'https://api.zotero.org/groups/2341914/items/K7EW3YQE',\n",
       "   'type': 'application/json'}},\n",
       " 'meta': {'createdByUser': {'id': 1119084,\n",
       "   'username': 'skybristol',\n",
       "   'name': 'Sky Bristol',\n",
       "   'links': {'alternate': {'href': 'https://www.zotero.org/skybristol',\n",
       "     'type': 'text/html'}}}},\n",
       " 'data': {'key': '3JJ84XPR',\n",
       "  'version': 3185,\n",
       "  'parentItem': 'K7EW3YQE',\n",
       "  'itemType': 'attachment',\n",
       "  'linkMode': 'linked_url',\n",
       "  'title': 'xDD Document Link',\n",
       "  'accessDate': '2019-09-28T17:58:21Z',\n",
       "  'url': 'https://geodeepdive.org/api/articles?docid=5839f904cf58f149de664120',\n",
       "  'note': 'Link to xDD document established through search algorithm',\n",
       "  'contentType': '',\n",
       "  'charset': '',\n",
       "  'tags': [{'tag': 'xdd_doc_link'}],\n",
       "  'relations': {},\n",
       "  'dateAdded': '2019-09-28T17:58:21Z',\n",
       "  'dateModified': '2019-09-28T17:58:21Z'}}"
      ]
     },
     "metadata": {},
     "output_type": "display_data"
    },
    {
     "name": "stdout",
     "output_type": "stream",
     "text": [
      "F4N9CWU6 10.2193/2008-478\n"
     ]
    },
    {
     "data": {
      "text/plain": [
       "{'key': 'JT6W83GN',\n",
       " 'version': 3186,\n",
       " 'library': {'type': 'group',\n",
       "  'id': 2341914,\n",
       "  'name': 'WLCI',\n",
       "  'links': {'alternate': {'href': 'https://www.zotero.org/groups/wlci',\n",
       "    'type': 'text/html'}}},\n",
       " 'links': {'self': {'href': 'https://api.zotero.org/groups/2341914/items/JT6W83GN',\n",
       "   'type': 'application/json'},\n",
       "  'alternate': {'href': 'https://www.zotero.org/groups/wlci/items/JT6W83GN',\n",
       "   'type': 'text/html'},\n",
       "  'up': {'href': 'https://api.zotero.org/groups/2341914/items/F4N9CWU6',\n",
       "   'type': 'application/json'}},\n",
       " 'meta': {'createdByUser': {'id': 1119084,\n",
       "   'username': 'skybristol',\n",
       "   'name': 'Sky Bristol',\n",
       "   'links': {'alternate': {'href': 'https://www.zotero.org/skybristol',\n",
       "     'type': 'text/html'}}}},\n",
       " 'data': {'key': 'JT6W83GN',\n",
       "  'version': 3186,\n",
       "  'parentItem': 'F4N9CWU6',\n",
       "  'itemType': 'attachment',\n",
       "  'linkMode': 'linked_url',\n",
       "  'title': 'xDD Document Link',\n",
       "  'accessDate': '2019-09-28T17:58:22Z',\n",
       "  'url': 'https://geodeepdive.org/api/articles?docid=572c8f7ccf58f1127a9809f7',\n",
       "  'note': 'Link to xDD document established through search algorithm',\n",
       "  'contentType': '',\n",
       "  'charset': '',\n",
       "  'tags': [{'tag': 'xdd_doc_link'}],\n",
       "  'relations': {},\n",
       "  'dateAdded': '2019-09-28T17:58:22Z',\n",
       "  'dateModified': '2019-09-28T17:58:22Z'}}"
      ]
     },
     "metadata": {},
     "output_type": "display_data"
    },
    {
     "name": "stdout",
     "output_type": "stream",
     "text": [
      "7243RZFL 10.1111/1365-2664.12013\n"
     ]
    },
    {
     "data": {
      "text/plain": [
       "{'key': 'SIHSIVC9',\n",
       " 'version': 3187,\n",
       " 'library': {'type': 'group',\n",
       "  'id': 2341914,\n",
       "  'name': 'WLCI',\n",
       "  'links': {'alternate': {'href': 'https://www.zotero.org/groups/wlci',\n",
       "    'type': 'text/html'}}},\n",
       " 'links': {'self': {'href': 'https://api.zotero.org/groups/2341914/items/SIHSIVC9',\n",
       "   'type': 'application/json'},\n",
       "  'alternate': {'href': 'https://www.zotero.org/groups/wlci/items/SIHSIVC9',\n",
       "   'type': 'text/html'},\n",
       "  'up': {'href': 'https://api.zotero.org/groups/2341914/items/7243RZFL',\n",
       "   'type': 'application/json'}},\n",
       " 'meta': {'createdByUser': {'id': 1119084,\n",
       "   'username': 'skybristol',\n",
       "   'name': 'Sky Bristol',\n",
       "   'links': {'alternate': {'href': 'https://www.zotero.org/skybristol',\n",
       "     'type': 'text/html'}}}},\n",
       " 'data': {'key': 'SIHSIVC9',\n",
       "  'version': 3187,\n",
       "  'parentItem': '7243RZFL',\n",
       "  'itemType': 'attachment',\n",
       "  'linkMode': 'linked_url',\n",
       "  'title': 'xDD Document Link',\n",
       "  'accessDate': '2019-09-28T17:58:23Z',\n",
       "  'url': 'https://geodeepdive.org/api/articles?docid=58976134cf58f1a1de231c7a',\n",
       "  'note': 'Link to xDD document established through search algorithm',\n",
       "  'contentType': '',\n",
       "  'charset': '',\n",
       "  'tags': [{'tag': 'xdd_doc_link'}],\n",
       "  'relations': {},\n",
       "  'dateAdded': '2019-09-28T17:58:23Z',\n",
       "  'dateModified': '2019-09-28T17:58:23Z'}}"
      ]
     },
     "metadata": {},
     "output_type": "display_data"
    },
    {
     "name": "stdout",
     "output_type": "stream",
     "text": [
      "Q9VEKFZX 10.1111/j.1365-2656.2011.01845.x\n"
     ]
    },
    {
     "data": {
      "text/plain": [
       "{'key': 'QC4HERZ5',\n",
       " 'version': 3188,\n",
       " 'library': {'type': 'group',\n",
       "  'id': 2341914,\n",
       "  'name': 'WLCI',\n",
       "  'links': {'alternate': {'href': 'https://www.zotero.org/groups/wlci',\n",
       "    'type': 'text/html'}}},\n",
       " 'links': {'self': {'href': 'https://api.zotero.org/groups/2341914/items/QC4HERZ5',\n",
       "   'type': 'application/json'},\n",
       "  'alternate': {'href': 'https://www.zotero.org/groups/wlci/items/QC4HERZ5',\n",
       "   'type': 'text/html'},\n",
       "  'up': {'href': 'https://api.zotero.org/groups/2341914/items/Q9VEKFZX',\n",
       "   'type': 'application/json'}},\n",
       " 'meta': {'createdByUser': {'id': 1119084,\n",
       "   'username': 'skybristol',\n",
       "   'name': 'Sky Bristol',\n",
       "   'links': {'alternate': {'href': 'https://www.zotero.org/skybristol',\n",
       "     'type': 'text/html'}}}},\n",
       " 'data': {'key': 'QC4HERZ5',\n",
       "  'version': 3188,\n",
       "  'parentItem': 'Q9VEKFZX',\n",
       "  'itemType': 'attachment',\n",
       "  'linkMode': 'linked_url',\n",
       "  'title': 'xDD Document Link',\n",
       "  'accessDate': '2019-09-28T17:58:25Z',\n",
       "  'url': 'https://geodeepdive.org/api/articles?docid=583da612cf58f107cb09840d',\n",
       "  'note': 'Link to xDD document established through search algorithm',\n",
       "  'contentType': '',\n",
       "  'charset': '',\n",
       "  'tags': [{'tag': 'xdd_doc_link'}],\n",
       "  'relations': {},\n",
       "  'dateAdded': '2019-09-28T17:58:25Z',\n",
       "  'dateModified': '2019-09-28T17:58:25Z'}}"
      ]
     },
     "metadata": {},
     "output_type": "display_data"
    },
    {
     "name": "stdout",
     "output_type": "stream",
     "text": [
      "K4YNMGZX 10.1016/j.biocon.2018.10.020\n"
     ]
    },
    {
     "data": {
      "text/plain": [
       "{'key': 'JXGI65SA',\n",
       " 'version': 3189,\n",
       " 'library': {'type': 'group',\n",
       "  'id': 2341914,\n",
       "  'name': 'WLCI',\n",
       "  'links': {'alternate': {'href': 'https://www.zotero.org/groups/wlci',\n",
       "    'type': 'text/html'}}},\n",
       " 'links': {'self': {'href': 'https://api.zotero.org/groups/2341914/items/JXGI65SA',\n",
       "   'type': 'application/json'},\n",
       "  'alternate': {'href': 'https://www.zotero.org/groups/wlci/items/JXGI65SA',\n",
       "   'type': 'text/html'},\n",
       "  'up': {'href': 'https://api.zotero.org/groups/2341914/items/K4YNMGZX',\n",
       "   'type': 'application/json'}},\n",
       " 'meta': {'createdByUser': {'id': 1119084,\n",
       "   'username': 'skybristol',\n",
       "   'name': 'Sky Bristol',\n",
       "   'links': {'alternate': {'href': 'https://www.zotero.org/skybristol',\n",
       "     'type': 'text/html'}}}},\n",
       " 'data': {'key': 'JXGI65SA',\n",
       "  'version': 3189,\n",
       "  'parentItem': 'K4YNMGZX',\n",
       "  'itemType': 'attachment',\n",
       "  'linkMode': 'linked_url',\n",
       "  'title': 'xDD Document Link',\n",
       "  'accessDate': '2019-09-28T17:58:27Z',\n",
       "  'url': 'https://geodeepdive.org/api/articles?docid=5c1cc81f1faed65548897433',\n",
       "  'note': 'Link to xDD document established through search algorithm',\n",
       "  'contentType': '',\n",
       "  'charset': '',\n",
       "  'tags': [{'tag': 'xdd_doc_link'}],\n",
       "  'relations': {},\n",
       "  'dateAdded': '2019-09-28T17:58:27Z',\n",
       "  'dateModified': '2019-09-28T17:58:27Z'}}"
      ]
     },
     "metadata": {},
     "output_type": "display_data"
    },
    {
     "name": "stdout",
     "output_type": "stream",
     "text": [
      "JK87YUFS 10.1002/ece3.3607\n"
     ]
    },
    {
     "data": {
      "text/plain": [
       "{'key': 'NB6IZ4B3',\n",
       " 'version': 3190,\n",
       " 'library': {'type': 'group',\n",
       "  'id': 2341914,\n",
       "  'name': 'WLCI',\n",
       "  'links': {'alternate': {'href': 'https://www.zotero.org/groups/wlci',\n",
       "    'type': 'text/html'}}},\n",
       " 'links': {'self': {'href': 'https://api.zotero.org/groups/2341914/items/NB6IZ4B3',\n",
       "   'type': 'application/json'},\n",
       "  'alternate': {'href': 'https://www.zotero.org/groups/wlci/items/NB6IZ4B3',\n",
       "   'type': 'text/html'},\n",
       "  'up': {'href': 'https://api.zotero.org/groups/2341914/items/JK87YUFS',\n",
       "   'type': 'application/json'}},\n",
       " 'meta': {'createdByUser': {'id': 1119084,\n",
       "   'username': 'skybristol',\n",
       "   'name': 'Sky Bristol',\n",
       "   'links': {'alternate': {'href': 'https://www.zotero.org/skybristol',\n",
       "     'type': 'text/html'}}}},\n",
       " 'data': {'key': 'NB6IZ4B3',\n",
       "  'version': 3190,\n",
       "  'parentItem': 'JK87YUFS',\n",
       "  'itemType': 'attachment',\n",
       "  'linkMode': 'linked_url',\n",
       "  'title': 'xDD Document Link',\n",
       "  'accessDate': '2019-09-28T17:58:29Z',\n",
       "  'url': 'https://geodeepdive.org/api/articles?docid=5a49f8becf58f132c3775c3a',\n",
       "  'note': 'Link to xDD document established through search algorithm',\n",
       "  'contentType': '',\n",
       "  'charset': '',\n",
       "  'tags': [{'tag': 'xdd_doc_link'}],\n",
       "  'relations': {},\n",
       "  'dateAdded': '2019-09-28T17:58:29Z',\n",
       "  'dateModified': '2019-09-28T17:58:29Z'}}"
      ]
     },
     "metadata": {},
     "output_type": "display_data"
    },
    {
     "name": "stdout",
     "output_type": "stream",
     "text": [
      "4W5FVZZM 10.1016/j.jag.2014.01.008\n"
     ]
    },
    {
     "data": {
      "text/plain": [
       "{'key': '4NV8CXX3',\n",
       " 'version': 3191,\n",
       " 'library': {'type': 'group',\n",
       "  'id': 2341914,\n",
       "  'name': 'WLCI',\n",
       "  'links': {'alternate': {'href': 'https://www.zotero.org/groups/wlci',\n",
       "    'type': 'text/html'}}},\n",
       " 'links': {'self': {'href': 'https://api.zotero.org/groups/2341914/items/4NV8CXX3',\n",
       "   'type': 'application/json'},\n",
       "  'alternate': {'href': 'https://www.zotero.org/groups/wlci/items/4NV8CXX3',\n",
       "   'type': 'text/html'},\n",
       "  'up': {'href': 'https://api.zotero.org/groups/2341914/items/4W5FVZZM',\n",
       "   'type': 'application/json'}},\n",
       " 'meta': {'createdByUser': {'id': 1119084,\n",
       "   'username': 'skybristol',\n",
       "   'name': 'Sky Bristol',\n",
       "   'links': {'alternate': {'href': 'https://www.zotero.org/skybristol',\n",
       "     'type': 'text/html'}}}},\n",
       " 'data': {'key': '4NV8CXX3',\n",
       "  'version': 3191,\n",
       "  'parentItem': '4W5FVZZM',\n",
       "  'itemType': 'attachment',\n",
       "  'linkMode': 'linked_url',\n",
       "  'title': 'xDD Document Link',\n",
       "  'accessDate': '2019-09-28T17:58:30Z',\n",
       "  'url': 'https://geodeepdive.org/api/articles?docid=551d04b9e138236e51a9956a',\n",
       "  'note': 'Link to xDD document established through search algorithm',\n",
       "  'contentType': '',\n",
       "  'charset': '',\n",
       "  'tags': [{'tag': 'xdd_doc_link'}],\n",
       "  'relations': {},\n",
       "  'dateAdded': '2019-09-28T17:58:30Z',\n",
       "  'dateModified': '2019-09-28T17:58:30Z'}}"
      ]
     },
     "metadata": {},
     "output_type": "display_data"
    },
    {
     "name": "stdout",
     "output_type": "stream",
     "text": [
      "9N87KUPL 10.1080/15420353.2014.885925\n"
     ]
    },
    {
     "data": {
      "text/plain": [
       "{'key': 'DX9NDGI9',\n",
       " 'version': 3192,\n",
       " 'library': {'type': 'group',\n",
       "  'id': 2341914,\n",
       "  'name': 'WLCI',\n",
       "  'links': {'alternate': {'href': 'https://www.zotero.org/groups/wlci',\n",
       "    'type': 'text/html'}}},\n",
       " 'links': {'self': {'href': 'https://api.zotero.org/groups/2341914/items/DX9NDGI9',\n",
       "   'type': 'application/json'},\n",
       "  'alternate': {'href': 'https://www.zotero.org/groups/wlci/items/DX9NDGI9',\n",
       "   'type': 'text/html'},\n",
       "  'up': {'href': 'https://api.zotero.org/groups/2341914/items/9N87KUPL',\n",
       "   'type': 'application/json'}},\n",
       " 'meta': {'createdByUser': {'id': 1119084,\n",
       "   'username': 'skybristol',\n",
       "   'name': 'Sky Bristol',\n",
       "   'links': {'alternate': {'href': 'https://www.zotero.org/skybristol',\n",
       "     'type': 'text/html'}}}},\n",
       " 'data': {'key': 'DX9NDGI9',\n",
       "  'version': 3192,\n",
       "  'parentItem': '9N87KUPL',\n",
       "  'itemType': 'attachment',\n",
       "  'linkMode': 'linked_url',\n",
       "  'title': 'xDD Document Link',\n",
       "  'accessDate': '2019-09-28T17:58:32Z',\n",
       "  'url': 'https://geodeepdive.org/api/articles?docid=5c7442c01faed65548974980',\n",
       "  'note': 'Link to xDD document established through search algorithm',\n",
       "  'contentType': '',\n",
       "  'charset': '',\n",
       "  'tags': [{'tag': 'xdd_doc_link'}],\n",
       "  'relations': {},\n",
       "  'dateAdded': '2019-09-28T17:58:32Z',\n",
       "  'dateModified': '2019-09-28T17:58:32Z'}}"
      ]
     },
     "metadata": {},
     "output_type": "display_data"
    },
    {
     "name": "stdout",
     "output_type": "stream",
     "text": [
      "XYW5M83E 10.1002/jwmg.1050\n"
     ]
    },
    {
     "data": {
      "text/plain": [
       "{'key': '4SEJA4RT',\n",
       " 'version': 3193,\n",
       " 'library': {'type': 'group',\n",
       "  'id': 2341914,\n",
       "  'name': 'WLCI',\n",
       "  'links': {'alternate': {'href': 'https://www.zotero.org/groups/wlci',\n",
       "    'type': 'text/html'}}},\n",
       " 'links': {'self': {'href': 'https://api.zotero.org/groups/2341914/items/4SEJA4RT',\n",
       "   'type': 'application/json'},\n",
       "  'alternate': {'href': 'https://www.zotero.org/groups/wlci/items/4SEJA4RT',\n",
       "   'type': 'text/html'},\n",
       "  'up': {'href': 'https://api.zotero.org/groups/2341914/items/XYW5M83E',\n",
       "   'type': 'application/json'}},\n",
       " 'meta': {'createdByUser': {'id': 1119084,\n",
       "   'username': 'skybristol',\n",
       "   'name': 'Sky Bristol',\n",
       "   'links': {'alternate': {'href': 'https://www.zotero.org/skybristol',\n",
       "     'type': 'text/html'}}}},\n",
       " 'data': {'key': '4SEJA4RT',\n",
       "  'version': 3193,\n",
       "  'parentItem': 'XYW5M83E',\n",
       "  'itemType': 'attachment',\n",
       "  'linkMode': 'linked_url',\n",
       "  'title': 'xDD Document Link',\n",
       "  'accessDate': '2019-09-28T17:58:34Z',\n",
       "  'url': 'https://geodeepdive.org/api/articles?docid=5d4384980b45c76cafa2c0eb',\n",
       "  'note': 'Link to xDD document established through search algorithm',\n",
       "  'contentType': '',\n",
       "  'charset': '',\n",
       "  'tags': [{'tag': 'xdd_doc_link'}],\n",
       "  'relations': {},\n",
       "  'dateAdded': '2019-09-28T17:58:34Z',\n",
       "  'dateModified': '2019-09-28T17:58:34Z'}}"
      ]
     },
     "metadata": {},
     "output_type": "display_data"
    },
    {
     "name": "stdout",
     "output_type": "stream",
     "text": [
      "Q5TCVPYX 10.1002/eap.1512\n"
     ]
    },
    {
     "data": {
      "text/plain": [
       "{'key': 'J5IE86MW',\n",
       " 'version': 3194,\n",
       " 'library': {'type': 'group',\n",
       "  'id': 2341914,\n",
       "  'name': 'WLCI',\n",
       "  'links': {'alternate': {'href': 'https://www.zotero.org/groups/wlci',\n",
       "    'type': 'text/html'}}},\n",
       " 'links': {'self': {'href': 'https://api.zotero.org/groups/2341914/items/J5IE86MW',\n",
       "   'type': 'application/json'},\n",
       "  'alternate': {'href': 'https://www.zotero.org/groups/wlci/items/J5IE86MW',\n",
       "   'type': 'text/html'},\n",
       "  'up': {'href': 'https://api.zotero.org/groups/2341914/items/Q5TCVPYX',\n",
       "   'type': 'application/json'}},\n",
       " 'meta': {'createdByUser': {'id': 1119084,\n",
       "   'username': 'skybristol',\n",
       "   'name': 'Sky Bristol',\n",
       "   'links': {'alternate': {'href': 'https://www.zotero.org/skybristol',\n",
       "     'type': 'text/html'}}}},\n",
       " 'data': {'key': 'J5IE86MW',\n",
       "  'version': 3194,\n",
       "  'parentItem': 'Q5TCVPYX',\n",
       "  'itemType': 'attachment',\n",
       "  'linkMode': 'linked_url',\n",
       "  'title': 'xDD Document Link',\n",
       "  'accessDate': '2019-09-28T17:58:36Z',\n",
       "  'url': 'https://geodeepdive.org/api/articles?docid=58e2c641cf58f1697d39b86b',\n",
       "  'note': 'Link to xDD document established through search algorithm',\n",
       "  'contentType': '',\n",
       "  'charset': '',\n",
       "  'tags': [{'tag': 'xdd_doc_link'}],\n",
       "  'relations': {},\n",
       "  'dateAdded': '2019-09-28T17:58:36Z',\n",
       "  'dateModified': '2019-09-28T17:58:36Z'}}"
      ]
     },
     "metadata": {},
     "output_type": "display_data"
    },
    {
     "name": "stdout",
     "output_type": "stream",
     "text": [
      "A3PMD7DU 10.2111/REM-D-12-00056.1\n",
      "U3MKG3Y5 10.1306/10011212090\n",
      "822S7HY8 10.1016/j.ecolind.2017.12.033\n"
     ]
    },
    {
     "data": {
      "text/plain": [
       "{'key': 'KANRHBTN',\n",
       " 'version': 3195,\n",
       " 'library': {'type': 'group',\n",
       "  'id': 2341914,\n",
       "  'name': 'WLCI',\n",
       "  'links': {'alternate': {'href': 'https://www.zotero.org/groups/wlci',\n",
       "    'type': 'text/html'}}},\n",
       " 'links': {'self': {'href': 'https://api.zotero.org/groups/2341914/items/KANRHBTN',\n",
       "   'type': 'application/json'},\n",
       "  'alternate': {'href': 'https://www.zotero.org/groups/wlci/items/KANRHBTN',\n",
       "   'type': 'text/html'},\n",
       "  'up': {'href': 'https://api.zotero.org/groups/2341914/items/822S7HY8',\n",
       "   'type': 'application/json'}},\n",
       " 'meta': {'createdByUser': {'id': 1119084,\n",
       "   'username': 'skybristol',\n",
       "   'name': 'Sky Bristol',\n",
       "   'links': {'alternate': {'href': 'https://www.zotero.org/skybristol',\n",
       "     'type': 'text/html'}}}},\n",
       " 'data': {'key': 'KANRHBTN',\n",
       "  'version': 3195,\n",
       "  'parentItem': '822S7HY8',\n",
       "  'itemType': 'attachment',\n",
       "  'linkMode': 'linked_url',\n",
       "  'title': 'xDD Document Link',\n",
       "  'accessDate': '2019-09-28T17:58:39Z',\n",
       "  'url': 'https://geodeepdive.org/api/articles?docid=5ad055c3cf58f1a9152a8fd5',\n",
       "  'note': 'Link to xDD document established through search algorithm',\n",
       "  'contentType': '',\n",
       "  'charset': '',\n",
       "  'tags': [{'tag': 'xdd_doc_link'}],\n",
       "  'relations': {},\n",
       "  'dateAdded': '2019-09-28T17:58:39Z',\n",
       "  'dateModified': '2019-09-28T17:58:39Z'}}"
      ]
     },
     "metadata": {},
     "output_type": "display_data"
    },
    {
     "name": "stdout",
     "output_type": "stream",
     "text": [
      "Z7TMPV6Q 10.1016/j.ecolind.2015.03.002\n"
     ]
    },
    {
     "data": {
      "text/plain": [
       "{'key': 'BJ67DNKC',\n",
       " 'version': 3196,\n",
       " 'library': {'type': 'group',\n",
       "  'id': 2341914,\n",
       "  'name': 'WLCI',\n",
       "  'links': {'alternate': {'href': 'https://www.zotero.org/groups/wlci',\n",
       "    'type': 'text/html'}}},\n",
       " 'links': {'self': {'href': 'https://api.zotero.org/groups/2341914/items/BJ67DNKC',\n",
       "   'type': 'application/json'},\n",
       "  'alternate': {'href': 'https://www.zotero.org/groups/wlci/items/BJ67DNKC',\n",
       "   'type': 'text/html'},\n",
       "  'up': {'href': 'https://api.zotero.org/groups/2341914/items/Z7TMPV6Q',\n",
       "   'type': 'application/json'}},\n",
       " 'meta': {'createdByUser': {'id': 1119084,\n",
       "   'username': 'skybristol',\n",
       "   'name': 'Sky Bristol',\n",
       "   'links': {'alternate': {'href': 'https://www.zotero.org/skybristol',\n",
       "     'type': 'text/html'}}}},\n",
       " 'data': {'key': 'BJ67DNKC',\n",
       "  'version': 3196,\n",
       "  'parentItem': 'Z7TMPV6Q',\n",
       "  'itemType': 'attachment',\n",
       "  'linkMode': 'linked_url',\n",
       "  'title': 'xDD Document Link',\n",
       "  'accessDate': '2019-09-28T17:58:40Z',\n",
       "  'url': 'https://geodeepdive.org/api/articles?docid=579f4458cf58f123c56623f8',\n",
       "  'note': 'Link to xDD document established through search algorithm',\n",
       "  'contentType': '',\n",
       "  'charset': '',\n",
       "  'tags': [{'tag': 'xdd_doc_link'}],\n",
       "  'relations': {},\n",
       "  'dateAdded': '2019-09-28T17:58:40Z',\n",
       "  'dateModified': '2019-09-28T17:58:40Z'}}"
      ]
     },
     "metadata": {},
     "output_type": "display_data"
    },
    {
     "name": "stdout",
     "output_type": "stream",
     "text": [
      "JHHSGSZ3 10.1117/1.JRS.7.073508\n",
      "5PXF3TPC 10.1016/j.jag.2011.09.012\n"
     ]
    },
    {
     "data": {
      "text/plain": [
       "{'key': 'Q47QDBXJ',\n",
       " 'version': 3197,\n",
       " 'library': {'type': 'group',\n",
       "  'id': 2341914,\n",
       "  'name': 'WLCI',\n",
       "  'links': {'alternate': {'href': 'https://www.zotero.org/groups/wlci',\n",
       "    'type': 'text/html'}}},\n",
       " 'links': {'self': {'href': 'https://api.zotero.org/groups/2341914/items/Q47QDBXJ',\n",
       "   'type': 'application/json'},\n",
       "  'alternate': {'href': 'https://www.zotero.org/groups/wlci/items/Q47QDBXJ',\n",
       "   'type': 'text/html'},\n",
       "  'up': {'href': 'https://api.zotero.org/groups/2341914/items/5PXF3TPC',\n",
       "   'type': 'application/json'}},\n",
       " 'meta': {'createdByUser': {'id': 1119084,\n",
       "   'username': 'skybristol',\n",
       "   'name': 'Sky Bristol',\n",
       "   'links': {'alternate': {'href': 'https://www.zotero.org/skybristol',\n",
       "     'type': 'text/html'}}}},\n",
       " 'data': {'key': 'Q47QDBXJ',\n",
       "  'version': 3197,\n",
       "  'parentItem': '5PXF3TPC',\n",
       "  'itemType': 'attachment',\n",
       "  'linkMode': 'linked_url',\n",
       "  'title': 'xDD Document Link',\n",
       "  'accessDate': '2019-09-28T17:58:42Z',\n",
       "  'url': 'https://geodeepdive.org/api/articles?docid=551d6881e138236e51a9970e',\n",
       "  'note': 'Link to xDD document established through search algorithm',\n",
       "  'contentType': '',\n",
       "  'charset': '',\n",
       "  'tags': [{'tag': 'xdd_doc_link'}],\n",
       "  'relations': {},\n",
       "  'dateAdded': '2019-09-28T17:58:42Z',\n",
       "  'dateModified': '2019-09-28T17:58:42Z'}}"
      ]
     },
     "metadata": {},
     "output_type": "display_data"
    },
    {
     "name": "stdout",
     "output_type": "stream",
     "text": [
      "LSJ875PV 10.1111/gcb.12852\n"
     ]
    },
    {
     "data": {
      "text/plain": [
       "{'key': 'FSIQ24BG',\n",
       " 'version': 3201,\n",
       " 'library': {'type': 'group',\n",
       "  'id': 2341914,\n",
       "  'name': 'WLCI',\n",
       "  'links': {'alternate': {'href': 'https://www.zotero.org/groups/wlci',\n",
       "    'type': 'text/html'}}},\n",
       " 'links': {'self': {'href': 'https://api.zotero.org/groups/2341914/items/FSIQ24BG',\n",
       "   'type': 'application/json'},\n",
       "  'alternate': {'href': 'https://www.zotero.org/groups/wlci/items/FSIQ24BG',\n",
       "   'type': 'text/html'},\n",
       "  'up': {'href': 'https://api.zotero.org/groups/2341914/items/LSJ875PV',\n",
       "   'type': 'application/json'}},\n",
       " 'meta': {'createdByUser': {'id': 1119084,\n",
       "   'username': 'skybristol',\n",
       "   'name': 'Sky Bristol',\n",
       "   'links': {'alternate': {'href': 'https://www.zotero.org/skybristol',\n",
       "     'type': 'text/html'}}}},\n",
       " 'data': {'key': 'FSIQ24BG',\n",
       "  'version': 3201,\n",
       "  'parentItem': 'LSJ875PV',\n",
       "  'itemType': 'attachment',\n",
       "  'linkMode': 'linked_url',\n",
       "  'title': 'xDD Document Link',\n",
       "  'accessDate': '2019-09-28T17:58:44Z',\n",
       "  'url': 'https://geodeepdive.org/api/articles?docid=585b52f3cf58f1a722da9ab5',\n",
       "  'note': 'Link to xDD document established through search algorithm',\n",
       "  'contentType': '',\n",
       "  'charset': '',\n",
       "  'tags': [{'tag': 'xdd_doc_link'}],\n",
       "  'relations': {},\n",
       "  'dateAdded': '2019-09-28T17:58:44Z',\n",
       "  'dateModified': '2019-09-28T17:58:44Z'}}"
      ]
     },
     "metadata": {},
     "output_type": "display_data"
    },
    {
     "name": "stdout",
     "output_type": "stream",
     "text": [
      "YK64M5GP 10.1080/17445647.2012.745381\n",
      "DNANIMHC 10.3133/cir1407\n"
     ]
    },
    {
     "data": {
      "text/plain": [
       "{'key': 'RDS7VTPG',\n",
       " 'version': 3162,\n",
       " 'library': {'type': 'group',\n",
       "  'id': 2341914,\n",
       "  'name': 'WLCI',\n",
       "  'links': {'alternate': {'href': 'https://www.zotero.org/groups/wlci',\n",
       "    'type': 'text/html'}}},\n",
       " 'links': {'self': {'href': 'https://api.zotero.org/groups/2341914/items/RDS7VTPG',\n",
       "   'type': 'application/json'},\n",
       "  'alternate': {'href': 'https://www.zotero.org/groups/wlci/items/RDS7VTPG',\n",
       "   'type': 'text/html'},\n",
       "  'up': {'href': 'https://api.zotero.org/groups/2341914/items/DNANIMHC',\n",
       "   'type': 'application/json'}},\n",
       " 'meta': {'createdByUser': {'id': 1119084,\n",
       "   'username': 'skybristol',\n",
       "   'name': 'Sky Bristol',\n",
       "   'links': {'alternate': {'href': 'https://www.zotero.org/skybristol',\n",
       "     'type': 'text/html'}}}},\n",
       " 'data': {'key': 'RDS7VTPG',\n",
       "  'version': 3162,\n",
       "  'parentItem': 'DNANIMHC',\n",
       "  'itemType': 'attachment',\n",
       "  'linkMode': 'linked_url',\n",
       "  'title': 'xDD Document Link',\n",
       "  'accessDate': '2019-09-28T17:58:46Z',\n",
       "  'url': 'https://geodeepdive.org/api/articles?docid=55b8c034e13823bd29ba89bc',\n",
       "  'note': 'Link to xDD document established through search algorithm',\n",
       "  'contentType': '',\n",
       "  'charset': '',\n",
       "  'tags': [{'tag': 'xdd_doc_link'}],\n",
       "  'relations': {},\n",
       "  'dateAdded': '2019-09-28T17:58:46Z',\n",
       "  'dateModified': '2019-09-28T17:58:46Z'}}"
      ]
     },
     "metadata": {},
     "output_type": "display_data"
    },
    {
     "name": "stdout",
     "output_type": "stream",
     "text": [
      "ZP43FL59 10.3133/sir20125025\n",
      "KVSUPQDN 10.3133/wlci7\n",
      "FLZKZ5W8 10.3133/ds800\n"
     ]
    },
    {
     "data": {
      "text/plain": [
       "{'key': 'ZJ9VN67F',\n",
       " 'version': 3167,\n",
       " 'library': {'type': 'group',\n",
       "  'id': 2341914,\n",
       "  'name': 'WLCI',\n",
       "  'links': {'alternate': {'href': 'https://www.zotero.org/groups/wlci',\n",
       "    'type': 'text/html'}}},\n",
       " 'links': {'self': {'href': 'https://api.zotero.org/groups/2341914/items/ZJ9VN67F',\n",
       "   'type': 'application/json'},\n",
       "  'alternate': {'href': 'https://www.zotero.org/groups/wlci/items/ZJ9VN67F',\n",
       "   'type': 'text/html'},\n",
       "  'up': {'href': 'https://api.zotero.org/groups/2341914/items/FLZKZ5W8',\n",
       "   'type': 'application/json'}},\n",
       " 'meta': {'createdByUser': {'id': 1119084,\n",
       "   'username': 'skybristol',\n",
       "   'name': 'Sky Bristol',\n",
       "   'links': {'alternate': {'href': 'https://www.zotero.org/skybristol',\n",
       "     'type': 'text/html'}}}},\n",
       " 'data': {'key': 'ZJ9VN67F',\n",
       "  'version': 3167,\n",
       "  'parentItem': 'FLZKZ5W8',\n",
       "  'itemType': 'attachment',\n",
       "  'linkMode': 'linked_url',\n",
       "  'title': 'xDD Document Link',\n",
       "  'accessDate': '2019-09-28T17:58:48Z',\n",
       "  'url': 'https://geodeepdive.org/api/articles?docid=558c0111e13823109f3ed679',\n",
       "  'note': 'Link to xDD document established through search algorithm',\n",
       "  'contentType': '',\n",
       "  'charset': '',\n",
       "  'tags': [{'tag': 'xdd_doc_link'}],\n",
       "  'relations': {},\n",
       "  'dateAdded': '2019-09-28T17:58:48Z',\n",
       "  'dateModified': '2019-09-28T17:58:48Z'}}"
      ]
     },
     "metadata": {},
     "output_type": "display_data"
    },
    {
     "name": "stdout",
     "output_type": "stream",
     "text": [
      "9H4QL3RG 10.3133/ds934\n",
      "44AMWAPV 10.3133/sir20165089A\n"
     ]
    },
    {
     "data": {
      "text/plain": [
       "{'key': 'ZQA2EHK4',\n",
       " 'version': 3173,\n",
       " 'library': {'type': 'group',\n",
       "  'id': 2341914,\n",
       "  'name': 'WLCI',\n",
       "  'links': {'alternate': {'href': 'https://www.zotero.org/groups/wlci',\n",
       "    'type': 'text/html'}}},\n",
       " 'links': {'self': {'href': 'https://api.zotero.org/groups/2341914/items/ZQA2EHK4',\n",
       "   'type': 'application/json'},\n",
       "  'alternate': {'href': 'https://www.zotero.org/groups/wlci/items/ZQA2EHK4',\n",
       "   'type': 'text/html'},\n",
       "  'up': {'href': 'https://api.zotero.org/groups/2341914/items/44AMWAPV',\n",
       "   'type': 'application/json'}},\n",
       " 'meta': {'createdByUser': {'id': 1119084,\n",
       "   'username': 'skybristol',\n",
       "   'name': 'Sky Bristol',\n",
       "   'links': {'alternate': {'href': 'https://www.zotero.org/skybristol',\n",
       "     'type': 'text/html'}}}},\n",
       " 'data': {'key': 'ZQA2EHK4',\n",
       "  'version': 3173,\n",
       "  'parentItem': '44AMWAPV',\n",
       "  'itemType': 'attachment',\n",
       "  'linkMode': 'linked_url',\n",
       "  'title': 'xDD Document Link',\n",
       "  'accessDate': '2019-09-28T17:58:50Z',\n",
       "  'url': 'https://geodeepdive.org/api/articles?docid=57c28175cf58f1aa5dd91edd',\n",
       "  'note': 'Link to xDD document established through search algorithm',\n",
       "  'contentType': '',\n",
       "  'charset': '',\n",
       "  'tags': [{'tag': 'xdd_doc_link'}],\n",
       "  'relations': {},\n",
       "  'dateAdded': '2019-09-28T17:58:50Z',\n",
       "  'dateModified': '2019-09-28T17:58:50Z'}}"
      ]
     },
     "metadata": {},
     "output_type": "display_data"
    },
    {
     "name": "stdout",
     "output_type": "stream",
     "text": [
      "RVX7L5SN 10.3133/cir1423\n",
      "RN27ZQWE 10.3133/sir20085073\n",
      "7Z2FZZF5 10.3133/ofr20171089\n",
      "KBPYNQWK 10.3133/sir20095168\n",
      "CL22FBEA 10.3133/ofr20161141\n",
      "H587YP7B 10.3133/ofr20151091\n",
      "H6HRSK8V 10.3133/ofr20141093\n"
     ]
    },
    {
     "data": {
      "text/plain": [
       "{'key': 'RJ3HAIKB',\n",
       " 'version': 3174,\n",
       " 'library': {'type': 'group',\n",
       "  'id': 2341914,\n",
       "  'name': 'WLCI',\n",
       "  'links': {'alternate': {'href': 'https://www.zotero.org/groups/wlci',\n",
       "    'type': 'text/html'}}},\n",
       " 'links': {'self': {'href': 'https://api.zotero.org/groups/2341914/items/RJ3HAIKB',\n",
       "   'type': 'application/json'},\n",
       "  'alternate': {'href': 'https://www.zotero.org/groups/wlci/items/RJ3HAIKB',\n",
       "   'type': 'text/html'},\n",
       "  'up': {'href': 'https://api.zotero.org/groups/2341914/items/H6HRSK8V',\n",
       "   'type': 'application/json'}},\n",
       " 'meta': {'createdByUser': {'id': 1119084,\n",
       "   'username': 'skybristol',\n",
       "   'name': 'Sky Bristol',\n",
       "   'links': {'alternate': {'href': 'https://www.zotero.org/skybristol',\n",
       "     'type': 'text/html'}}}},\n",
       " 'data': {'key': 'RJ3HAIKB',\n",
       "  'version': 3174,\n",
       "  'parentItem': 'H6HRSK8V',\n",
       "  'itemType': 'attachment',\n",
       "  'linkMode': 'linked_url',\n",
       "  'title': 'xDD Document Link',\n",
       "  'accessDate': '2019-09-28T17:58:53Z',\n",
       "  'url': 'https://geodeepdive.org/api/articles?docid=55adc4e8e13823763a830743',\n",
       "  'note': 'Link to xDD document established through search algorithm',\n",
       "  'contentType': '',\n",
       "  'charset': '',\n",
       "  'tags': [{'tag': 'xdd_doc_link'}],\n",
       "  'relations': {},\n",
       "  'dateAdded': '2019-09-28T17:58:53Z',\n",
       "  'dateModified': '2019-09-28T17:58:53Z'}}"
      ]
     },
     "metadata": {},
     "output_type": "display_data"
    },
    {
     "name": "stdout",
     "output_type": "stream",
     "text": [
      "K2L6VG4G 10.3133/ofr20141213\n",
      "CT5KBADF 10.3133/ofr20131033\n"
     ]
    },
    {
     "data": {
      "text/plain": [
       "{'key': 'G5NQVK6X',\n",
       " 'version': 3175,\n",
       " 'library': {'type': 'group',\n",
       "  'id': 2341914,\n",
       "  'name': 'WLCI',\n",
       "  'links': {'alternate': {'href': 'https://www.zotero.org/groups/wlci',\n",
       "    'type': 'text/html'}}},\n",
       " 'links': {'self': {'href': 'https://api.zotero.org/groups/2341914/items/G5NQVK6X',\n",
       "   'type': 'application/json'},\n",
       "  'alternate': {'href': 'https://www.zotero.org/groups/wlci/items/G5NQVK6X',\n",
       "   'type': 'text/html'},\n",
       "  'up': {'href': 'https://api.zotero.org/groups/2341914/items/CT5KBADF',\n",
       "   'type': 'application/json'}},\n",
       " 'meta': {'createdByUser': {'id': 1119084,\n",
       "   'username': 'skybristol',\n",
       "   'name': 'Sky Bristol',\n",
       "   'links': {'alternate': {'href': 'https://www.zotero.org/skybristol',\n",
       "     'type': 'text/html'}}}},\n",
       " 'data': {'key': 'G5NQVK6X',\n",
       "  'version': 3175,\n",
       "  'parentItem': 'CT5KBADF',\n",
       "  'itemType': 'attachment',\n",
       "  'linkMode': 'linked_url',\n",
       "  'title': 'xDD Document Link',\n",
       "  'accessDate': '2019-09-28T17:58:55Z',\n",
       "  'url': 'https://geodeepdive.org/api/articles?docid=55a02bdde1382381ff36440f',\n",
       "  'note': 'Link to xDD document established through search algorithm',\n",
       "  'contentType': '',\n",
       "  'charset': '',\n",
       "  'tags': [{'tag': 'xdd_doc_link'}],\n",
       "  'relations': {},\n",
       "  'dateAdded': '2019-09-28T17:58:55Z',\n",
       "  'dateModified': '2019-09-28T17:58:55Z'}}"
      ]
     },
     "metadata": {},
     "output_type": "display_data"
    },
    {
     "name": "stdout",
     "output_type": "stream",
     "text": [
      "4WT3U9E6 10.3133/ofr20111219\n",
      "XMXXS765 10.3133/ofr20101231\n",
      "IEYTRRWY 10.3133/sir20085195\n",
      "XZWGTSI9 10.3133/ofr20091201\n",
      "YFQXR5VJ 10.3133/ofr20181048\n",
      "3JYDMUQG 10.3133/5130\n",
      "NCXMEYX5 10.3133/ds843\n"
     ]
    },
    {
     "data": {
      "text/plain": [
       "{'key': 'WWFMGVTJ',\n",
       " 'version': 3176,\n",
       " 'library': {'type': 'group',\n",
       "  'id': 2341914,\n",
       "  'name': 'WLCI',\n",
       "  'links': {'alternate': {'href': 'https://www.zotero.org/groups/wlci',\n",
       "    'type': 'text/html'}}},\n",
       " 'links': {'self': {'href': 'https://api.zotero.org/groups/2341914/items/WWFMGVTJ',\n",
       "   'type': 'application/json'},\n",
       "  'alternate': {'href': 'https://www.zotero.org/groups/wlci/items/WWFMGVTJ',\n",
       "   'type': 'text/html'},\n",
       "  'up': {'href': 'https://api.zotero.org/groups/2341914/items/NCXMEYX5',\n",
       "   'type': 'application/json'}},\n",
       " 'meta': {'createdByUser': {'id': 1119084,\n",
       "   'username': 'skybristol',\n",
       "   'name': 'Sky Bristol',\n",
       "   'links': {'alternate': {'href': 'https://www.zotero.org/skybristol',\n",
       "     'type': 'text/html'}}}},\n",
       " 'data': {'key': 'WWFMGVTJ',\n",
       "  'version': 3176,\n",
       "  'parentItem': 'NCXMEYX5',\n",
       "  'itemType': 'attachment',\n",
       "  'linkMode': 'linked_url',\n",
       "  'title': 'xDD Document Link',\n",
       "  'accessDate': '2019-09-28T17:58:58Z',\n",
       "  'url': 'https://geodeepdive.org/api/articles?docid=558bc840e13823109f3ed530',\n",
       "  'note': 'Link to xDD document established through search algorithm',\n",
       "  'contentType': '',\n",
       "  'charset': '',\n",
       "  'tags': [{'tag': 'xdd_doc_link'}],\n",
       "  'relations': {},\n",
       "  'dateAdded': '2019-09-28T17:58:58Z',\n",
       "  'dateModified': '2019-09-28T17:58:58Z'}}"
      ]
     },
     "metadata": {},
     "output_type": "display_data"
    },
    {
     "name": "stdout",
     "output_type": "stream",
     "text": [
      "MELVLUTE 10.3133/gip145\n",
      "7ENFGSJV 10.3133/ds683\n",
      "466DDC37 10.3133/ds625\n",
      "PPSY2A2L 10.3133/ds437\n",
      "KRNS5IS6 10.3133/sir20155090\n",
      "UFZ9L526 10.3133/ds700\n"
     ]
    },
    {
     "data": {
      "text/plain": [
       "{'key': '8JHMKMDQ',\n",
       " 'version': 3178,\n",
       " 'library': {'type': 'group',\n",
       "  'id': 2341914,\n",
       "  'name': 'WLCI',\n",
       "  'links': {'alternate': {'href': 'https://www.zotero.org/groups/wlci',\n",
       "    'type': 'text/html'}}},\n",
       " 'links': {'self': {'href': 'https://api.zotero.org/groups/2341914/items/8JHMKMDQ',\n",
       "   'type': 'application/json'},\n",
       "  'alternate': {'href': 'https://www.zotero.org/groups/wlci/items/8JHMKMDQ',\n",
       "   'type': 'text/html'},\n",
       "  'up': {'href': 'https://api.zotero.org/groups/2341914/items/UFZ9L526',\n",
       "   'type': 'application/json'}},\n",
       " 'meta': {'createdByUser': {'id': 1119084,\n",
       "   'username': 'skybristol',\n",
       "   'name': 'Sky Bristol',\n",
       "   'links': {'alternate': {'href': 'https://www.zotero.org/skybristol',\n",
       "     'type': 'text/html'}}}},\n",
       " 'data': {'key': '8JHMKMDQ',\n",
       "  'version': 3178,\n",
       "  'parentItem': 'UFZ9L526',\n",
       "  'itemType': 'attachment',\n",
       "  'linkMode': 'linked_url',\n",
       "  'title': 'xDD Document Link',\n",
       "  'accessDate': '2019-09-28T17:59:00Z',\n",
       "  'url': 'https://geodeepdive.org/api/articles?docid=557d53f4e138239225f86c0a',\n",
       "  'note': 'Link to xDD document established through search algorithm',\n",
       "  'contentType': '',\n",
       "  'charset': '',\n",
       "  'tags': [{'tag': 'xdd_doc_link'}],\n",
       "  'relations': {},\n",
       "  'dateAdded': '2019-09-28T17:59:00Z',\n",
       "  'dateModified': '2019-09-28T17:59:00Z'}}"
      ]
     },
     "metadata": {},
     "output_type": "display_data"
    },
    {
     "name": "stdout",
     "output_type": "stream",
     "text": [
      "YN6T2FXV 10.5066/f7br8qdd\n",
      "JWXRFX2Q 10.5066/f7fq9v2j\n",
      "J5DYX32I 10.3133/ofr20141239\n"
     ]
    },
    {
     "data": {
      "text/plain": [
       "{'key': 'U4F59JIX',\n",
       " 'version': 3198,\n",
       " 'library': {'type': 'group',\n",
       "  'id': 2341914,\n",
       "  'name': 'WLCI',\n",
       "  'links': {'alternate': {'href': 'https://www.zotero.org/groups/wlci',\n",
       "    'type': 'text/html'}}},\n",
       " 'links': {'self': {'href': 'https://api.zotero.org/groups/2341914/items/U4F59JIX',\n",
       "   'type': 'application/json'},\n",
       "  'alternate': {'href': 'https://www.zotero.org/groups/wlci/items/U4F59JIX',\n",
       "   'type': 'text/html'},\n",
       "  'up': {'href': 'https://api.zotero.org/groups/2341914/items/J5DYX32I',\n",
       "   'type': 'application/json'}},\n",
       " 'meta': {'createdByUser': {'id': 1119084,\n",
       "   'username': 'skybristol',\n",
       "   'name': 'Sky Bristol',\n",
       "   'links': {'alternate': {'href': 'https://www.zotero.org/skybristol',\n",
       "     'type': 'text/html'}}}},\n",
       " 'data': {'key': 'U4F59JIX',\n",
       "  'version': 3198,\n",
       "  'parentItem': 'J5DYX32I',\n",
       "  'itemType': 'attachment',\n",
       "  'linkMode': 'linked_url',\n",
       "  'title': 'xDD Document Link',\n",
       "  'accessDate': '2019-09-28T17:59:02Z',\n",
       "  'url': 'https://geodeepdive.org/api/articles?docid=559d70e4e138230816dad80f',\n",
       "  'note': 'Link to xDD document established through search algorithm',\n",
       "  'contentType': '',\n",
       "  'charset': '',\n",
       "  'tags': [{'tag': 'xdd_doc_link'}],\n",
       "  'relations': {},\n",
       "  'dateAdded': '2019-09-28T17:59:02Z',\n",
       "  'dateModified': '2019-09-28T17:59:02Z'}}"
      ]
     },
     "metadata": {},
     "output_type": "display_data"
    },
    {
     "name": "stdout",
     "output_type": "stream",
     "text": [
      "2QRUGVFA 10.3133/ofr20181139\n",
      "WEP4DBRQ 10.3133/ofr20141123\n"
     ]
    },
    {
     "data": {
      "text/plain": [
       "{'key': 'RP9H2QSK',\n",
       " 'version': 3199,\n",
       " 'library': {'type': 'group',\n",
       "  'id': 2341914,\n",
       "  'name': 'WLCI',\n",
       "  'links': {'alternate': {'href': 'https://www.zotero.org/groups/wlci',\n",
       "    'type': 'text/html'}}},\n",
       " 'links': {'self': {'href': 'https://api.zotero.org/groups/2341914/items/RP9H2QSK',\n",
       "   'type': 'application/json'},\n",
       "  'alternate': {'href': 'https://www.zotero.org/groups/wlci/items/RP9H2QSK',\n",
       "   'type': 'text/html'},\n",
       "  'up': {'href': 'https://api.zotero.org/groups/2341914/items/WEP4DBRQ',\n",
       "   'type': 'application/json'}},\n",
       " 'meta': {'createdByUser': {'id': 1119084,\n",
       "   'username': 'skybristol',\n",
       "   'name': 'Sky Bristol',\n",
       "   'links': {'alternate': {'href': 'https://www.zotero.org/skybristol',\n",
       "     'type': 'text/html'}}}},\n",
       " 'data': {'key': 'RP9H2QSK',\n",
       "  'version': 3199,\n",
       "  'parentItem': 'WEP4DBRQ',\n",
       "  'itemType': 'attachment',\n",
       "  'linkMode': 'linked_url',\n",
       "  'title': 'xDD Document Link',\n",
       "  'accessDate': '2019-09-28T17:59:04Z',\n",
       "  'url': 'https://geodeepdive.org/api/articles?docid=56422982cf58f134b46ac6d3',\n",
       "  'note': 'Link to xDD document established through search algorithm',\n",
       "  'contentType': '',\n",
       "  'charset': '',\n",
       "  'tags': [{'tag': 'xdd_doc_link'}],\n",
       "  'relations': {},\n",
       "  'dateAdded': '2019-09-28T17:59:04Z',\n",
       "  'dateModified': '2019-09-28T17:59:04Z'}}"
      ]
     },
     "metadata": {},
     "output_type": "display_data"
    },
    {
     "name": "stdout",
     "output_type": "stream",
     "text": [
      "WJESVJUN 10.3133/ds770\n"
     ]
    },
    {
     "data": {
      "text/plain": [
       "{'key': 'IKSTJD4K',\n",
       " 'version': 3200,\n",
       " 'library': {'type': 'group',\n",
       "  'id': 2341914,\n",
       "  'name': 'WLCI',\n",
       "  'links': {'alternate': {'href': 'https://www.zotero.org/groups/wlci',\n",
       "    'type': 'text/html'}}},\n",
       " 'links': {'self': {'href': 'https://api.zotero.org/groups/2341914/items/IKSTJD4K',\n",
       "   'type': 'application/json'},\n",
       "  'alternate': {'href': 'https://www.zotero.org/groups/wlci/items/IKSTJD4K',\n",
       "   'type': 'text/html'},\n",
       "  'up': {'href': 'https://api.zotero.org/groups/2341914/items/WJESVJUN',\n",
       "   'type': 'application/json'}},\n",
       " 'meta': {'createdByUser': {'id': 1119084,\n",
       "   'username': 'skybristol',\n",
       "   'name': 'Sky Bristol',\n",
       "   'links': {'alternate': {'href': 'https://www.zotero.org/skybristol',\n",
       "     'type': 'text/html'}}}},\n",
       " 'data': {'key': 'IKSTJD4K',\n",
       "  'version': 3200,\n",
       "  'parentItem': 'WJESVJUN',\n",
       "  'itemType': 'attachment',\n",
       "  'linkMode': 'linked_url',\n",
       "  'title': 'xDD Document Link',\n",
       "  'accessDate': '2019-09-28T17:59:05Z',\n",
       "  'url': 'https://geodeepdive.org/api/articles?docid=558edc9ae13823109f3ee609',\n",
       "  'note': 'Link to xDD document established through search algorithm',\n",
       "  'contentType': '',\n",
       "  'charset': '',\n",
       "  'tags': [{'tag': 'xdd_doc_link'}],\n",
       "  'relations': {},\n",
       "  'dateAdded': '2019-09-28T17:59:05Z',\n",
       "  'dateModified': '2019-09-28T17:59:05Z'}}"
      ]
     },
     "metadata": {},
     "output_type": "display_data"
    },
    {
     "name": "stdout",
     "output_type": "stream",
     "text": [
      "DSJ4Z9E7 10.3133/ds524\n",
      "5RYDFKE5 10.3133/fs20173030\n",
      "RJ6VU7QH 10.3133/ofr20181188\n"
     ]
    },
    {
     "data": {
      "text/plain": [
       "{'key': 'DVPZ36KR',\n",
       " 'version': 3202,\n",
       " 'library': {'type': 'group',\n",
       "  'id': 2341914,\n",
       "  'name': 'WLCI',\n",
       "  'links': {'alternate': {'href': 'https://www.zotero.org/groups/wlci',\n",
       "    'type': 'text/html'}}},\n",
       " 'links': {'self': {'href': 'https://api.zotero.org/groups/2341914/items/DVPZ36KR',\n",
       "   'type': 'application/json'},\n",
       "  'alternate': {'href': 'https://www.zotero.org/groups/wlci/items/DVPZ36KR',\n",
       "   'type': 'text/html'},\n",
       "  'up': {'href': 'https://api.zotero.org/groups/2341914/items/RJ6VU7QH',\n",
       "   'type': 'application/json'}},\n",
       " 'meta': {'createdByUser': {'id': 1119084,\n",
       "   'username': 'skybristol',\n",
       "   'name': 'Sky Bristol',\n",
       "   'links': {'alternate': {'href': 'https://www.zotero.org/skybristol',\n",
       "     'type': 'text/html'}}}},\n",
       " 'data': {'key': 'DVPZ36KR',\n",
       "  'version': 3202,\n",
       "  'parentItem': 'RJ6VU7QH',\n",
       "  'itemType': 'attachment',\n",
       "  'linkMode': 'linked_url',\n",
       "  'title': 'xDD Document Link',\n",
       "  'accessDate': '2019-09-28T17:59:07Z',\n",
       "  'url': 'https://geodeepdive.org/api/articles?docid=5d23b0bf0b45c76caf91e0b3',\n",
       "  'note': 'Link to xDD document established through search algorithm',\n",
       "  'contentType': '',\n",
       "  'charset': '',\n",
       "  'tags': [{'tag': 'xdd_doc_link'}],\n",
       "  'relations': {},\n",
       "  'dateAdded': '2019-09-28T17:59:07Z',\n",
       "  'dateModified': '2019-09-28T17:59:07Z'}}"
      ]
     },
     "metadata": {},
     "output_type": "display_data"
    },
    {
     "name": "stdout",
     "output_type": "stream",
     "text": [
      "IFRB23U7 10.3133/ofr20091274\n",
      "UKX4YSWG 10.3133/ds510\n",
      "CEPBNS8E 10.3133/sir20105067\n",
      "WVAXM5H4 10.3133/ds891\n",
      "Z7LFWN5E 10.3133/ofr20161147\n"
     ]
    },
    {
     "data": {
      "text/plain": [
       "{'key': 'Z25JSPTZ',\n",
       " 'version': 3203,\n",
       " 'library': {'type': 'group',\n",
       "  'id': 2341914,\n",
       "  'name': 'WLCI',\n",
       "  'links': {'alternate': {'href': 'https://www.zotero.org/groups/wlci',\n",
       "    'type': 'text/html'}}},\n",
       " 'links': {'self': {'href': 'https://api.zotero.org/groups/2341914/items/Z25JSPTZ',\n",
       "   'type': 'application/json'},\n",
       "  'alternate': {'href': 'https://www.zotero.org/groups/wlci/items/Z25JSPTZ',\n",
       "   'type': 'text/html'},\n",
       "  'up': {'href': 'https://api.zotero.org/groups/2341914/items/Z7LFWN5E',\n",
       "   'type': 'application/json'}},\n",
       " 'meta': {'createdByUser': {'id': 1119084,\n",
       "   'username': 'skybristol',\n",
       "   'name': 'Sky Bristol',\n",
       "   'links': {'alternate': {'href': 'https://www.zotero.org/skybristol',\n",
       "     'type': 'text/html'}}}},\n",
       " 'data': {'key': 'Z25JSPTZ',\n",
       "  'version': 3203,\n",
       "  'parentItem': 'Z7LFWN5E',\n",
       "  'itemType': 'attachment',\n",
       "  'linkMode': 'linked_url',\n",
       "  'title': 'xDD Document Link',\n",
       "  'accessDate': '2019-09-28T17:59:09Z',\n",
       "  'url': 'https://geodeepdive.org/api/articles?docid=57d99162cf58f191c21a5823',\n",
       "  'note': 'Link to xDD document established through search algorithm',\n",
       "  'contentType': '',\n",
       "  'charset': '',\n",
       "  'tags': [{'tag': 'xdd_doc_link'}],\n",
       "  'relations': {},\n",
       "  'dateAdded': '2019-09-28T17:59:09Z',\n",
       "  'dateModified': '2019-09-28T17:59:09Z'}}"
      ]
     },
     "metadata": {},
     "output_type": "display_data"
    }
   ],
   "source": [
    "for ref in lookup_doi_list:\n",
    "    print(ref[0], ref[1])\n",
    "    xdd_data = xdd_api(\n",
    "        'articles', \n",
    "        'max=1&doi='+str(ref[1])\n",
    "    )\n",
    "\n",
    "    if xdd_data is not None:\n",
    "        child_items = wlci_lib.children(ref[0])\n",
    "        current_xdd_doc_attachment = next((i for i in child_items if i[\"data\"][\"title\"] == \"xDD Document Link\"), None)\n",
    "        \n",
    "        if current_xdd_doc_attachment is None:\n",
    "            xdd_doc_attachment = xdd_link_attachment(ref[0], xdd_data[0], wlci_lib.item_template(\"attachment\", linkmode=\"linked_url\"))\n",
    "            create_response = wlci_lib.create_items([xdd_doc_attachment])\n",
    "            if not create_response[\"successful\"]:\n",
    "                display(create_response)\n",
    "        else:\n",
    "            display(current_xdd_doc_attachment)\n"
   ]
  }
 ],
 "metadata": {
  "kernelspec": {
   "display_name": "wlci-species",
   "language": "python",
   "name": "wlci-species"
  },
  "language_info": {
   "codemirror_mode": {
    "name": "ipython",
    "version": 3
   },
   "file_extension": ".py",
   "mimetype": "text/x-python",
   "name": "python",
   "nbconvert_exporter": "python",
   "pygments_lexer": "ipython3",
   "version": "3.7.3"
  }
 },
 "nbformat": 4,
 "nbformat_minor": 2
}
