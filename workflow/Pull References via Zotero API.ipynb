{
 "cells": [
  {
   "cell_type": "markdown",
   "metadata": {},
   "source": [
    "In this notebook, I'm addressing the problem I raised in a GitHub issue of how to keep things straight between a shared Zotero library and processing to a) establish linkages to the xDD Digital Library and b) extracted data/information from associated xDD documents. I reworked the original process of operating against an export from the Zotero library to one that works against the Zotero API via the pyzotero package.\n",
    "\n",
    "I'm breaking this up into a two part exploration. This first part simply runs the process of establishing a linkage on DOI to a corresponding xDD document identifier by putting a link attachment back onto the Zotero library item. That establishes a base of operations for subsequent data extraction processes, keeping everything on established Zotero library items where continued curation can occur via web or desktop clients.\n",
    "\n",
    "To operate this code, you will need to establish the ZOTERO_API_KEY environment variable in your Python environment. That key is tied to a given user account that has read/write permissions to the WLCI Library Group (established with the group ID parameter.\n",
    "\n",
    "This same idea should apply for any other Zotero library where we want to run the same overall process of linking a library reference to an xDD digital NLP representation. In the second part of this experiment, I will pick up from the established \"xDD Document Link\" identifier, pull back a list of associated species scientific names, and put those into a child attachment of the xDD Document Link attachment. This then begins to lay out structured annotation retrieved via algorithms directly into the Zotero library items, adding value to those items and using the Zotero library as a living cloud-based repository with both human and software generated value."
   ]
  },
  {
   "cell_type": "code",
   "execution_count": 1,
   "metadata": {},
   "outputs": [],
   "source": [
    "from pyzotero import zotero\n",
    "import os\n",
    "import requests\n",
    "from datetime import datetime\n",
    "from IPython.display import display"
   ]
  },
  {
   "cell_type": "code",
   "execution_count": 2,
   "metadata": {},
   "outputs": [],
   "source": [
    "wlci_library_group_id = \"2341914\""
   ]
  },
  {
   "cell_type": "code",
   "execution_count": 3,
   "metadata": {},
   "outputs": [],
   "source": [
    "wlci_lib = zotero.Zotero(wlci_library_group_id, \"group\", os.environ[\"ZOTERO_API_KEY\"])"
   ]
  },
  {
   "cell_type": "code",
   "execution_count": 4,
   "metadata": {},
   "outputs": [],
   "source": [
    "wlci_lib_items = wlci_lib.everything(wlci_lib.top())"
   ]
  },
  {
   "cell_type": "code",
   "execution_count": 5,
   "metadata": {},
   "outputs": [
    {
     "name": "stdout",
     "output_type": "stream",
     "text": [
      "299\n"
     ]
    }
   ],
   "source": [
    "print(len(wlci_lib_items))"
   ]
  },
  {
   "cell_type": "code",
   "execution_count": 6,
   "metadata": {},
   "outputs": [
    {
     "data": {
      "text/plain": [
       "{'book',\n",
       " 'document',\n",
       " 'journalArticle',\n",
       " 'presentation',\n",
       " 'report',\n",
       " 'thesis',\n",
       " 'videoRecording',\n",
       " 'webpage'}"
      ]
     },
     "execution_count": 6,
     "metadata": {},
     "output_type": "execute_result"
    }
   ],
   "source": [
    "set([i[\"data\"][\"itemType\"] for i in wlci_lib_items])"
   ]
  },
  {
   "cell_type": "markdown",
   "metadata": {},
   "source": [
    "In our current work with the xDD library, we are only working on those articles for which we were able to establish a DOI in our Zotero library. DOIs either came from the original article metadata imported into the library and are in the DOI property, or they were added as a note and will show up in the extra property for now. (Need to revisit how we manage this in the library.) To work these over, I assemble a list of Zotero IDs and DOIs."
   ]
  },
  {
   "cell_type": "code",
   "execution_count": 7,
   "metadata": {},
   "outputs": [],
   "source": [
    "lookup_doi_list = [(i[\"data\"][\"key\"],i[\"data\"][\"DOI\"]) for i in wlci_lib_items if \"DOI\" in i[\"data\"].keys() and len(i[\"data\"][\"DOI\"]) > 0]\n",
    "lookup_doi_list.extend([(i[\"data\"][\"key\"],i[\"data\"][\"extra\"]) for i in wlci_lib_items if \"DOI\" not in i[\"data\"].keys() and len(i[\"data\"][\"extra\"]) > 0 and i[\"data\"][\"extra\"].split(\":\")[0] != \"OCLC\"])"
   ]
  },
  {
   "cell_type": "markdown",
   "metadata": {},
   "source": [
    "We will eventually pull these functions out into our Python package for this work. I tweaked on what Daniel started here with a somewhat different take on the xdd_api consultation process. I also added a helper function to assemble the necessary information into the Zotero template for the attachment.\n",
    "\n",
    "I had to fork the pyzotero package and create a [branch](https://github.com/skybristol/pyzotero/tree/attachment-template-type) with an adjustment to the item_template function, which was failing on the \"attachment\" template type and needed an additional parameter against the Zotero REST API. I'll post this back to the project as a pull request for consideration."
   ]
  },
  {
   "cell_type": "code",
   "execution_count": 12,
   "metadata": {},
   "outputs": [],
   "source": [
    "def xdd_api(route, params):\n",
    "    \"\"\"Create list of docs mentioning a term of interest\n",
    "    Parameters : see https://geodeepdive.org/api for more detail\n",
    "    ----------\n",
    "    routes : str of available api routes for xDD \n",
    "    params : str of key value pairs of paramaters:values separated by &\n",
    "    \"\"\"\n",
    "    base_url = 'https://geodeepdive.org/api'\n",
    "    search = (base_url + '/' + route + '?' + str(params))\n",
    "    r=requests.get(search)\n",
    "    if r.status_code == 200 and 'success' in r.json():\n",
    "        json_r = r.json()\n",
    "        data = json_r['success']['data']\n",
    "        return data\n",
    "    elif r.status_code == 200:\n",
    "        return None\n",
    "    else:\n",
    "        return None\n",
    "\n",
    "    \n",
    "def xdd_link_attachment(parent_id, xdd_record, template):\n",
    "    template[\"parentItem\"] = parent_id\n",
    "    template[\"title\"] = \"xDD Document Link\"\n",
    "    template[\"url\"] = f\"https://geodeepdive.org/api/articles?docid={xdd_record['_gddid']}\"\n",
    "    template[\"accessDate\"] = \"CURRENT_TIMESTAMP\"\n",
    "    template[\"note\"] = \"Link to xDD document established through search algorithm\"\n",
    "    return template"
   ]
  },
  {
   "cell_type": "markdown",
   "metadata": {},
   "source": [
    "Here I run through the list of DOIs and Zotero IDs to check xDD for a link. This could be rearranged in a variety of ways and will need to be explored further for production use. I do check to make sure we don't already have a link of the appropriate \"type\" (based on assigning a particular title to the attachment)."
   ]
  },
  {
   "cell_type": "code",
   "execution_count": 14,
   "metadata": {},
   "outputs": [
    {
     "name": "stdout",
     "output_type": "stream",
     "text": [
      "NNI3PJ5Z 10.1111/1365-2664.12513\n"
     ]
    },
    {
     "data": {
      "text/plain": [
       "{'key': '2QVF3BJH',\n",
       " 'version': 3112,\n",
       " 'library': {'type': 'group',\n",
       "  'id': 2341914,\n",
       "  'name': 'WLCI',\n",
       "  'links': {'alternate': {'href': 'https://www.zotero.org/groups/wlci',\n",
       "    'type': 'text/html'}}},\n",
       " 'links': {'self': {'href': 'https://api.zotero.org/groups/2341914/items/2QVF3BJH',\n",
       "   'type': 'application/json'},\n",
       "  'alternate': {'href': 'https://www.zotero.org/groups/wlci/items/2QVF3BJH',\n",
       "   'type': 'text/html'},\n",
       "  'up': {'href': 'https://api.zotero.org/groups/2341914/items/NNI3PJ5Z',\n",
       "   'type': 'application/json'}},\n",
       " 'meta': {'createdByUser': {'id': 1119084,\n",
       "   'username': 'skybristol',\n",
       "   'name': 'Sky Bristol',\n",
       "   'links': {'alternate': {'href': 'https://www.zotero.org/skybristol',\n",
       "     'type': 'text/html'}}}},\n",
       " 'data': {'key': '2QVF3BJH',\n",
       "  'version': 3112,\n",
       "  'parentItem': 'NNI3PJ5Z',\n",
       "  'itemType': 'attachment',\n",
       "  'linkMode': 'linked_url',\n",
       "  'title': 'xDD Document Link',\n",
       "  'accessDate': '2019-09-28T17:42:09Z',\n",
       "  'url': 'https://geodeepdive.org/api/articles?docid=5897848bcf58f1ac5aa42563',\n",
       "  'note': 'Link to xDD document established through search algorithm',\n",
       "  'contentType': '',\n",
       "  'charset': '',\n",
       "  'tags': [],\n",
       "  'relations': {},\n",
       "  'dateAdded': '2019-09-28T17:42:09Z',\n",
       "  'dateModified': '2019-09-28T17:42:09Z'}}"
      ]
     },
     "metadata": {},
     "output_type": "display_data"
    },
    {
     "name": "stdout",
     "output_type": "stream",
     "text": [
      "88PSMFIC 10.1016/j.biocon.2015.02.009\n"
     ]
    },
    {
     "data": {
      "text/plain": [
       "{'key': 'JV8EH3GN',\n",
       " 'version': 3114,\n",
       " 'library': {'type': 'group',\n",
       "  'id': 2341914,\n",
       "  'name': 'WLCI',\n",
       "  'links': {'alternate': {'href': 'https://www.zotero.org/groups/wlci',\n",
       "    'type': 'text/html'}}},\n",
       " 'links': {'self': {'href': 'https://api.zotero.org/groups/2341914/items/JV8EH3GN',\n",
       "   'type': 'application/json'},\n",
       "  'alternate': {'href': 'https://www.zotero.org/groups/wlci/items/JV8EH3GN',\n",
       "   'type': 'text/html'},\n",
       "  'up': {'href': 'https://api.zotero.org/groups/2341914/items/88PSMFIC',\n",
       "   'type': 'application/json'}},\n",
       " 'meta': {'createdByUser': {'id': 1119084,\n",
       "   'username': 'skybristol',\n",
       "   'name': 'Sky Bristol',\n",
       "   'links': {'alternate': {'href': 'https://www.zotero.org/skybristol',\n",
       "     'type': 'text/html'}}}},\n",
       " 'data': {'key': 'JV8EH3GN',\n",
       "  'version': 3114,\n",
       "  'parentItem': '88PSMFIC',\n",
       "  'itemType': 'attachment',\n",
       "  'linkMode': 'linked_url',\n",
       "  'title': 'xDD Document Link',\n",
       "  'accessDate': '2019-09-28T17:44:07Z',\n",
       "  'url': 'https://geodeepdive.org/api/articles?docid=57a84443cf58f17046db1a8a',\n",
       "  'note': 'Link to xDD document established through search algorithm',\n",
       "  'contentType': '',\n",
       "  'charset': '',\n",
       "  'tags': [],\n",
       "  'relations': {},\n",
       "  'dateAdded': '2019-09-28T17:44:07Z',\n",
       "  'dateModified': '2019-09-28T17:44:07Z'}}"
      ]
     },
     "metadata": {},
     "output_type": "display_data"
    },
    {
     "name": "stdout",
     "output_type": "stream",
     "text": [
      "G9L9FU5W 10.1016/j.ecolmodel.2017.05.017\n"
     ]
    },
    {
     "data": {
      "text/plain": [
       "{'key': 'GDDCHMSE',\n",
       " 'version': 3116,\n",
       " 'library': {'type': 'group',\n",
       "  'id': 2341914,\n",
       "  'name': 'WLCI',\n",
       "  'links': {'alternate': {'href': 'https://www.zotero.org/groups/wlci',\n",
       "    'type': 'text/html'}}},\n",
       " 'links': {'self': {'href': 'https://api.zotero.org/groups/2341914/items/GDDCHMSE',\n",
       "   'type': 'application/json'},\n",
       "  'alternate': {'href': 'https://www.zotero.org/groups/wlci/items/GDDCHMSE',\n",
       "   'type': 'text/html'},\n",
       "  'up': {'href': 'https://api.zotero.org/groups/2341914/items/G9L9FU5W',\n",
       "   'type': 'application/json'}},\n",
       " 'meta': {'createdByUser': {'id': 1119084,\n",
       "   'username': 'skybristol',\n",
       "   'name': 'Sky Bristol',\n",
       "   'links': {'alternate': {'href': 'https://www.zotero.org/skybristol',\n",
       "     'type': 'text/html'}}}},\n",
       " 'data': {'key': 'GDDCHMSE',\n",
       "  'version': 3116,\n",
       "  'parentItem': 'G9L9FU5W',\n",
       "  'itemType': 'attachment',\n",
       "  'linkMode': 'linked_url',\n",
       "  'title': 'xDD Document Link',\n",
       "  'accessDate': '2019-09-28T17:48:19Z',\n",
       "  'url': 'https://geodeepdive.org/api/articles?docid=5acfde1ecf58f17c7517b27d',\n",
       "  'note': 'Link to xDD document established through search algorithm',\n",
       "  'contentType': '',\n",
       "  'charset': '',\n",
       "  'tags': [],\n",
       "  'relations': {},\n",
       "  'dateAdded': '2019-09-28T17:48:19Z',\n",
       "  'dateModified': '2019-09-28T17:48:19Z'}}"
      ]
     },
     "metadata": {},
     "output_type": "display_data"
    },
    {
     "name": "stdout",
     "output_type": "stream",
     "text": [
      "W5K4UAZ8 10.1002/jwmg.21179\n"
     ]
    },
    {
     "data": {
      "text/plain": [
       "{'key': '2S6BI6XI',\n",
       " 'version': 3117,\n",
       " 'library': {'type': 'group',\n",
       "  'id': 2341914,\n",
       "  'name': 'WLCI',\n",
       "  'links': {'alternate': {'href': 'https://www.zotero.org/groups/wlci',\n",
       "    'type': 'text/html'}}},\n",
       " 'links': {'self': {'href': 'https://api.zotero.org/groups/2341914/items/2S6BI6XI',\n",
       "   'type': 'application/json'},\n",
       "  'alternate': {'href': 'https://www.zotero.org/groups/wlci/items/2S6BI6XI',\n",
       "   'type': 'text/html'},\n",
       "  'up': {'href': 'https://api.zotero.org/groups/2341914/items/W5K4UAZ8',\n",
       "   'type': 'application/json'}},\n",
       " 'meta': {'createdByUser': {'id': 1119084,\n",
       "   'username': 'skybristol',\n",
       "   'name': 'Sky Bristol',\n",
       "   'links': {'alternate': {'href': 'https://www.zotero.org/skybristol',\n",
       "     'type': 'text/html'}}}},\n",
       " 'data': {'key': '2S6BI6XI',\n",
       "  'version': 3117,\n",
       "  'parentItem': 'W5K4UAZ8',\n",
       "  'itemType': 'attachment',\n",
       "  'linkMode': 'linked_url',\n",
       "  'title': 'xDD Document Link',\n",
       "  'accessDate': '2019-09-28T17:48:20Z',\n",
       "  'url': 'https://geodeepdive.org/api/articles?docid=5c2c22901faed655488b289b',\n",
       "  'note': 'Link to xDD document established through search algorithm',\n",
       "  'contentType': '',\n",
       "  'charset': '',\n",
       "  'tags': [],\n",
       "  'relations': {},\n",
       "  'dateAdded': '2019-09-28T17:48:20Z',\n",
       "  'dateModified': '2019-09-28T17:48:20Z'}}"
      ]
     },
     "metadata": {},
     "output_type": "display_data"
    },
    {
     "name": "stdout",
     "output_type": "stream",
     "text": [
      "2S5E6PXT 10.1111/fme.12303\n"
     ]
    },
    {
     "data": {
      "text/plain": [
       "{'key': 'WQCJ2VNR',\n",
       " 'version': 3118,\n",
       " 'library': {'type': 'group',\n",
       "  'id': 2341914,\n",
       "  'name': 'WLCI',\n",
       "  'links': {'alternate': {'href': 'https://www.zotero.org/groups/wlci',\n",
       "    'type': 'text/html'}}},\n",
       " 'links': {'self': {'href': 'https://api.zotero.org/groups/2341914/items/WQCJ2VNR',\n",
       "   'type': 'application/json'},\n",
       "  'alternate': {'href': 'https://www.zotero.org/groups/wlci/items/WQCJ2VNR',\n",
       "   'type': 'text/html'},\n",
       "  'up': {'href': 'https://api.zotero.org/groups/2341914/items/2S5E6PXT',\n",
       "   'type': 'application/json'}},\n",
       " 'meta': {'createdByUser': {'id': 1119084,\n",
       "   'username': 'skybristol',\n",
       "   'name': 'Sky Bristol',\n",
       "   'links': {'alternate': {'href': 'https://www.zotero.org/skybristol',\n",
       "     'type': 'text/html'}}}},\n",
       " 'data': {'key': 'WQCJ2VNR',\n",
       "  'version': 3118,\n",
       "  'parentItem': '2S5E6PXT',\n",
       "  'itemType': 'attachment',\n",
       "  'linkMode': 'linked_url',\n",
       "  'title': 'xDD Document Link',\n",
       "  'accessDate': '2019-09-28T17:53:58Z',\n",
       "  'url': 'https://geodeepdive.org/api/articles?docid=5d3c21570b45c76cafa16ab2',\n",
       "  'note': 'Link to xDD document established through search algorithm',\n",
       "  'contentType': '',\n",
       "  'charset': '',\n",
       "  'tags': [],\n",
       "  'relations': {},\n",
       "  'dateAdded': '2019-09-28T17:53:58Z',\n",
       "  'dateModified': '2019-09-28T17:53:58Z'}}"
      ]
     },
     "metadata": {},
     "output_type": "display_data"
    },
    {
     "name": "stdout",
     "output_type": "stream",
     "text": [
      "EDVXJFQK 10.1002/jwmg.123\n"
     ]
    },
    {
     "data": {
      "text/plain": [
       "{'key': '43A79WUT',\n",
       " 'version': 3119,\n",
       " 'library': {'type': 'group',\n",
       "  'id': 2341914,\n",
       "  'name': 'WLCI',\n",
       "  'links': {'alternate': {'href': 'https://www.zotero.org/groups/wlci',\n",
       "    'type': 'text/html'}}},\n",
       " 'links': {'self': {'href': 'https://api.zotero.org/groups/2341914/items/43A79WUT',\n",
       "   'type': 'application/json'},\n",
       "  'alternate': {'href': 'https://www.zotero.org/groups/wlci/items/43A79WUT',\n",
       "   'type': 'text/html'},\n",
       "  'up': {'href': 'https://api.zotero.org/groups/2341914/items/EDVXJFQK',\n",
       "   'type': 'application/json'}},\n",
       " 'meta': {'createdByUser': {'id': 1119084,\n",
       "   'username': 'skybristol',\n",
       "   'name': 'Sky Bristol',\n",
       "   'links': {'alternate': {'href': 'https://www.zotero.org/skybristol',\n",
       "     'type': 'text/html'}}}},\n",
       " 'data': {'key': '43A79WUT',\n",
       "  'version': 3119,\n",
       "  'parentItem': 'EDVXJFQK',\n",
       "  'itemType': 'attachment',\n",
       "  'linkMode': 'linked_url',\n",
       "  'title': 'xDD Document Link',\n",
       "  'accessDate': '2019-09-28T17:54:00Z',\n",
       "  'url': 'https://geodeepdive.org/api/articles?docid=5d4384980b45c76cafa2c0b0',\n",
       "  'note': 'Link to xDD document established through search algorithm',\n",
       "  'contentType': '',\n",
       "  'charset': '',\n",
       "  'tags': [],\n",
       "  'relations': {},\n",
       "  'dateAdded': '2019-09-28T17:54:00Z',\n",
       "  'dateModified': '2019-09-28T17:54:00Z'}}"
      ]
     },
     "metadata": {},
     "output_type": "display_data"
    },
    {
     "name": "stdout",
     "output_type": "stream",
     "text": [
      "EC835SP7 10.3996/022014-JFWM-016\n",
      "ARXBE7P4 10.1002/ecs2.1817\n"
     ]
    },
    {
     "data": {
      "text/plain": [
       "{'key': '5TGURDT2',\n",
       " 'version': 3120,\n",
       " 'library': {'type': 'group',\n",
       "  'id': 2341914,\n",
       "  'name': 'WLCI',\n",
       "  'links': {'alternate': {'href': 'https://www.zotero.org/groups/wlci',\n",
       "    'type': 'text/html'}}},\n",
       " 'links': {'self': {'href': 'https://api.zotero.org/groups/2341914/items/5TGURDT2',\n",
       "   'type': 'application/json'},\n",
       "  'alternate': {'href': 'https://www.zotero.org/groups/wlci/items/5TGURDT2',\n",
       "   'type': 'text/html'},\n",
       "  'up': {'href': 'https://api.zotero.org/groups/2341914/items/ARXBE7P4',\n",
       "   'type': 'application/json'}},\n",
       " 'meta': {'createdByUser': {'id': 1119084,\n",
       "   'username': 'skybristol',\n",
       "   'name': 'Sky Bristol',\n",
       "   'links': {'alternate': {'href': 'https://www.zotero.org/skybristol',\n",
       "     'type': 'text/html'}}}},\n",
       " 'data': {'key': '5TGURDT2',\n",
       "  'version': 3120,\n",
       "  'parentItem': 'ARXBE7P4',\n",
       "  'itemType': 'attachment',\n",
       "  'linkMode': 'linked_url',\n",
       "  'title': 'xDD Document Link',\n",
       "  'accessDate': '2019-09-28T17:57:46Z',\n",
       "  'url': 'https://geodeepdive.org/api/articles?docid=5d1ed9d20b45c76caf912f8f',\n",
       "  'note': 'Link to xDD document established through search algorithm',\n",
       "  'contentType': '',\n",
       "  'charset': '',\n",
       "  'tags': [],\n",
       "  'relations': {},\n",
       "  'dateAdded': '2019-09-28T17:57:46Z',\n",
       "  'dateModified': '2019-09-28T17:57:46Z'}}"
      ]
     },
     "metadata": {},
     "output_type": "display_data"
    },
    {
     "name": "stdout",
     "output_type": "stream",
     "text": [
      "ZURD2T85 10.1007/s10666-017-9559-1\n",
      "A2WG577D 10.1002/wmon.1014\n",
      "K8PT4QFH 10.1007/s00442-010-1768-0\n",
      "4TCBL9S3 10.1002/jwmg.337\n",
      "JFV5GDKM 10.1002/jwmg.155\n",
      "R3NSCC9R 10.1002/jwmg.21386\n"
     ]
    },
    {
     "data": {
      "text/plain": [
       "{'key': '9ETANTY8',\n",
       " 'version': 3105,\n",
       " 'library': {'type': 'group',\n",
       "  'id': 2341914,\n",
       "  'name': 'WLCI',\n",
       "  'links': {'alternate': {'href': 'https://www.zotero.org/groups/wlci',\n",
       "    'type': 'text/html'}}},\n",
       " 'links': {'self': {'href': 'https://api.zotero.org/groups/2341914/items/9ETANTY8',\n",
       "   'type': 'application/json'},\n",
       "  'alternate': {'href': 'https://www.zotero.org/groups/wlci/items/9ETANTY8',\n",
       "   'type': 'text/html'},\n",
       "  'up': {'href': 'https://api.zotero.org/groups/2341914/items/R3NSCC9R',\n",
       "   'type': 'application/json'}},\n",
       " 'meta': {'createdByUser': {'id': 1119084,\n",
       "   'username': 'skybristol',\n",
       "   'name': 'Sky Bristol',\n",
       "   'links': {'alternate': {'href': 'https://www.zotero.org/skybristol',\n",
       "     'type': 'text/html'}}}},\n",
       " 'data': {'key': '9ETANTY8',\n",
       "  'version': 3105,\n",
       "  'parentItem': 'R3NSCC9R',\n",
       "  'itemType': 'attachment',\n",
       "  'linkMode': 'linked_url',\n",
       "  'title': 'xDD Document Link',\n",
       "  'accessDate': '2019-09-27T21:17:21Z',\n",
       "  'url': 'https://geodeepdive.org/api/articles?docid=5c2c30a41faed655488b299b',\n",
       "  'note': '',\n",
       "  'contentType': '',\n",
       "  'charset': '',\n",
       "  'tags': [],\n",
       "  'relations': {},\n",
       "  'dateAdded': '2019-09-27T21:17:21Z',\n",
       "  'dateModified': '2019-09-28T16:51:48Z'}}"
      ]
     },
     "metadata": {},
     "output_type": "display_data"
    },
    {
     "name": "stdout",
     "output_type": "stream",
     "text": [
      "M7QX7I8U 10.1002/jwmg.21560\n",
      "HJ28LVB4 10.1016/j.jhydrol.2015.02.020\n",
      "RUATTVSK 10.1016/j.foreco.2016.01.017\n",
      "X3I66DJ8 10.1080/2150704X.2015.1072289\n",
      "BH3VH7QL 10.1111/ele.12772\n",
      "MSU75H97 10.2747/1548-1603.49.3.378\n",
      "TRECRZAA 10.1080/01431161.2011.605085\n",
      "5GTCJ27A 10.1002/ecs2.2113\n",
      "D78REKE6 10.1002/ieam.4118\n",
      "K7EW3YQE 10.1890/08-2034.1\n",
      "F4N9CWU6 10.2193/2008-478\n",
      "7243RZFL 10.1111/1365-2664.12013\n",
      "Q9VEKFZX 10.1111/j.1365-2656.2011.01845.x\n",
      "K4YNMGZX 10.1016/j.biocon.2018.10.020\n",
      "JK87YUFS 10.1002/ece3.3607\n",
      "4W5FVZZM 10.1016/j.jag.2014.01.008\n",
      "9N87KUPL 10.1080/15420353.2014.885925\n",
      "XYW5M83E 10.1002/jwmg.1050\n",
      "Q5TCVPYX 10.1002/eap.1512\n",
      "A3PMD7DU 10.2111/REM-D-12-00056.1\n",
      "U3MKG3Y5 10.1306/10011212090\n",
      "822S7HY8 10.1016/j.ecolind.2017.12.033\n",
      "Z7TMPV6Q 10.1016/j.ecolind.2015.03.002\n",
      "JHHSGSZ3 10.1117/1.JRS.7.073508\n",
      "5PXF3TPC 10.1016/j.jag.2011.09.012\n",
      "LSJ875PV 10.1111/gcb.12852\n",
      "YK64M5GP 10.1080/17445647.2012.745381\n",
      "DNANIMHC 10.3133/cir1407\n",
      "ZP43FL59 10.3133/sir20125025\n",
      "KVSUPQDN 10.3133/wlci7\n",
      "FLZKZ5W8 10.3133/ds800\n",
      "9H4QL3RG 10.3133/ds934\n",
      "44AMWAPV 10.3133/sir20165089A\n",
      "RVX7L5SN 10.3133/cir1423\n",
      "RN27ZQWE 10.3133/sir20085073\n",
      "7Z2FZZF5 10.3133/ofr20171089\n",
      "KBPYNQWK 10.3133/sir20095168\n",
      "CL22FBEA 10.3133/ofr20161141\n",
      "H587YP7B 10.3133/ofr20151091\n",
      "H6HRSK8V 10.3133/ofr20141093\n",
      "K2L6VG4G 10.3133/ofr20141213\n",
      "CT5KBADF 10.3133/ofr20131033\n",
      "4WT3U9E6 10.3133/ofr20111219\n",
      "XMXXS765 10.3133/ofr20101231\n",
      "IEYTRRWY 10.3133/sir20085195\n",
      "XZWGTSI9 10.3133/ofr20091201\n",
      "YFQXR5VJ 10.3133/ofr20181048\n",
      "3JYDMUQG 10.3133/5130\n",
      "NCXMEYX5 10.3133/ds843\n",
      "MELVLUTE 10.3133/gip145\n",
      "7ENFGSJV 10.3133/ds683\n",
      "466DDC37 10.3133/ds625\n",
      "PPSY2A2L 10.3133/ds437\n",
      "KRNS5IS6 10.3133/sir20155090\n",
      "UFZ9L526 10.3133/ds700\n",
      "YN6T2FXV 10.5066/f7br8qdd\n",
      "JWXRFX2Q 10.5066/f7fq9v2j\n",
      "J5DYX32I 10.3133/ofr20141239\n",
      "2QRUGVFA 10.3133/ofr20181139\n",
      "WEP4DBRQ 10.3133/ofr20141123\n",
      "WJESVJUN 10.3133/ds770\n",
      "DSJ4Z9E7 10.3133/ds524\n",
      "5RYDFKE5 10.3133/fs20173030\n",
      "RJ6VU7QH 10.3133/ofr20181188\n",
      "IFRB23U7 10.3133/ofr20091274\n",
      "UKX4YSWG 10.3133/ds510\n",
      "CEPBNS8E 10.3133/sir20105067\n",
      "WVAXM5H4 10.3133/ds891\n",
      "Z7LFWN5E 10.3133/ofr20161147\n"
     ]
    }
   ],
   "source": [
    "for ref in lookup_doi_list:\n",
    "    print(ref[0], ref[1])\n",
    "    xdd_data = xdd_api(\n",
    "        'articles', \n",
    "        'max=1&doi='+str(ref[1])\n",
    "    )\n",
    "\n",
    "    if xdd_data is not None:\n",
    "        child_items = wlci_lib.children(ref[0])\n",
    "        current_xdd_doc_attachment = next((i for i in child_items if i[\"data\"][\"title\"] == \"xDD Document Link\"), None)\n",
    "        \n",
    "        if current_xdd_doc_attachment is None:\n",
    "            xdd_doc_attachment = xdd_link_attachment(ref[0], xdd_data[0], wlci_lib.item_template(\"attachment\", linkmode=\"linked_url\"))\n",
    "            create_response = wlci_lib.create_items([xdd_doc_attachment])\n",
    "            if not create_response[\"successful\"]:\n",
    "                display(create_response)\n",
    "        else:\n",
    "            display(current_xdd_doc_attachment)\n"
   ]
  },
  {
   "cell_type": "code",
   "execution_count": null,
   "metadata": {},
   "outputs": [],
   "source": []
  }
 ],
 "metadata": {
  "kernelspec": {
   "display_name": "Python 3",
   "language": "python",
   "name": "python3"
  },
  "language_info": {
   "codemirror_mode": {
    "name": "ipython",
    "version": 3
   },
   "file_extension": ".py",
   "mimetype": "text/x-python",
   "name": "python",
   "nbconvert_exporter": "python",
   "pygments_lexer": "ipython3",
   "version": "3.7.3"
  }
 },
 "nbformat": 4,
 "nbformat_minor": 2
}
