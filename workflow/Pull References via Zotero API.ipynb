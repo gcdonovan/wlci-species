{
 "cells": [
  {
   "cell_type": "markdown",
   "metadata": {},
   "source": [
    "In this notebook, I'm addressing the problem I raised in a GitHub issue of how to keep things straight between a shared Zotero library and processing to a) establish linkages to the xDD Digital Library and b) extracted data/information from associated xDD documents. I reworked the original process of operating against an export from the Zotero library to one that works against the Zotero API via the pyzotero package.\n",
    "\n",
    "I'm breaking this up into a two part exploration. This first part simply runs the process of establishing a linkage on DOI to a corresponding xDD document identifier by putting a link attachment back onto the Zotero library item. That establishes a base of operations for subsequent data extraction processes, keeping everything on established Zotero library items where continued curation can occur via web or desktop clients.\n",
    "\n",
    "To operate this code, you will need to establish the ZOTERO_API_KEY environment variable in your Python environment. That key is tied to a given user account that has read/write permissions to the WLCI Library Group (established with the group ID parameter.\n",
    "\n",
    "This same idea should apply for any other Zotero library where we want to run the same overall process of linking a library reference to an xDD digital NLP representation. In the second part of this experiment, I will pick up from the established \"xDD Document Link\" identifier, pull back a list of associated species scientific names, and put those into a child attachment of the xDD Document Link attachment. This then begins to lay out structured annotation retrieved via algorithms directly into the Zotero library items, adding value to those items and using the Zotero library as a living cloud-based repository with both human and software generated value."
   ]
  },
  {
   "cell_type": "code",
   "execution_count": 1,
   "metadata": {},
   "outputs": [],
   "source": [
    "from pyzotero import zotero\n",
    "import os\n",
    "import requests\n",
    "from IPython.display import display"
   ]
  },
  {
   "cell_type": "code",
   "execution_count": 2,
   "metadata": {},
   "outputs": [],
   "source": [
    "wlci_library_group_id = \"2341914\""
   ]
  },
  {
   "cell_type": "code",
   "execution_count": 3,
   "metadata": {},
   "outputs": [],
   "source": [
    "wlci_lib = zotero.Zotero(wlci_library_group_id, \"group\", os.environ[\"ZOTERO_API_KEY\"])"
   ]
  },
  {
   "cell_type": "code",
   "execution_count": null,
   "metadata": {},
   "outputs": [],
   "source": [
    "wlci_lib_items = wlci_lib.everything(wlci_lib.top())"
   ]
  },
  {
   "cell_type": "code",
   "execution_count": null,
   "metadata": {},
   "outputs": [],
   "source": [
    "print(len(wlci_lib_items))"
   ]
  },
  {
   "cell_type": "code",
   "execution_count": null,
   "metadata": {},
   "outputs": [],
   "source": [
    "set([i[\"data\"][\"itemType\"] for i in wlci_lib_items])"
   ]
  },
  {
   "cell_type": "markdown",
   "metadata": {},
   "source": [
    "In our current work with the xDD library, we are only working on those articles for which we were able to establish a DOI in our Zotero library. DOIs either came from the original article metadata imported into the library and are in the DOI property, or they were added as a note and will show up in the extra property for now. (Need to revisit how we manage this in the library.) To work these over, I assemble a list of Zotero IDs and DOIs."
   ]
  },
  {
   "cell_type": "code",
   "execution_count": null,
   "metadata": {},
   "outputs": [],
   "source": [
    "lookup_doi_list = [(i[\"data\"][\"key\"],i[\"data\"][\"DOI\"]) for i in wlci_lib_items if \"DOI\" in i[\"data\"].keys() and len(i[\"data\"][\"DOI\"]) > 0]\n",
    "lookup_doi_list.extend([(i[\"data\"][\"key\"],i[\"data\"][\"extra\"]) for i in wlci_lib_items if \"DOI\" not in i[\"data\"].keys() and len(i[\"data\"][\"extra\"]) > 0 and i[\"data\"][\"extra\"].split(\":\")[0] != \"OCLC\"])"
   ]
  },
  {
   "cell_type": "markdown",
   "metadata": {},
   "source": [
    "We will eventually pull these functions out into our Python package for this work. I tweaked on what Daniel started here with a somewhat different take on the xdd_api consultation process. I also added a helper function to assemble the necessary information into the Zotero template for the attachment.\n",
    "\n",
    "I had to fork the pyzotero package and create a [branch](https://github.com/skybristol/pyzotero/tree/attachment-template-type) with an adjustment to the item_template function, which was failing on the \"attachment\" template type and needed an additional parameter against the Zotero REST API. I'll post this back to the project as a pull request for consideration."
   ]
  },
  {
   "cell_type": "code",
   "execution_count": 5,
   "metadata": {},
   "outputs": [],
   "source": [
    "def xdd_api(route, params):\n",
    "    \"\"\"Create list of docs mentioning a term of interest\n",
    "    Parameters : see https://geodeepdive.org/api for more detail\n",
    "    ----------\n",
    "    routes : str of available api routes for xDD \n",
    "    params : str of key value pairs of paramaters:values separated by &\n",
    "    \"\"\"\n",
    "    base_url = 'https://geodeepdive.org/api'\n",
    "    search = (base_url + '/' + route + '?' + str(params))\n",
    "    r=requests.get(search)\n",
    "    if r.status_code == 200 and 'success' in r.json():\n",
    "        json_r = r.json()\n",
    "        data = json_r['success']['data']\n",
    "        return data\n",
    "    elif r.status_code == 200:\n",
    "        return None\n",
    "    else:\n",
    "        return None\n",
    "\n",
    "    \n",
    "def xdd_link_attachment(parent_id, xdd_record, template):\n",
    "    template[\"parentItem\"] = parent_id\n",
    "    template[\"title\"] = \"xDD Document Link\"\n",
    "    template[\"url\"] = f\"https://geodeepdive.org/api/articles?docid={xdd_record['_gddid']}\"\n",
    "    template[\"accessDate\"] = \"CURRENT_TIMESTAMP\"\n",
    "    template[\"note\"] = \"Link to xDD document established through search algorithm\"\n",
    "    template[\"tags\"] = [\"xdd_doc_link\"]\n",
    "    return template"
   ]
  },
  {
   "cell_type": "markdown",
   "metadata": {},
   "source": [
    "Here I run through the list of DOIs and Zotero IDs to check xDD for a link. This could be rearranged in a variety of ways and will need to be explored further for production use. I do check to make sure we don't already have a link of the appropriate \"type\" (based on assigning a particular title to the attachment)."
   ]
  },
  {
   "cell_type": "code",
   "execution_count": null,
   "metadata": {},
   "outputs": [],
   "source": [
    "for ref in lookup_doi_list:\n",
    "    print(ref[0], ref[1])\n",
    "    xdd_data = xdd_api(\n",
    "        'articles', \n",
    "        'max=1&doi='+str(ref[1])\n",
    "    )\n",
    "\n",
    "    if xdd_data is not None:\n",
    "        child_items = wlci_lib.children(ref[0])\n",
    "        current_xdd_doc_attachment = next((i for i in child_items if i[\"data\"][\"title\"] == \"xDD Document Link\"), None)\n",
    "        \n",
    "        if current_xdd_doc_attachment is None:\n",
    "            xdd_doc_attachment = xdd_link_attachment(ref[0], xdd_data[0], wlci_lib.item_template(\"attachment\", linkmode=\"linked_url\"))\n",
    "            create_response = wlci_lib.create_items([xdd_doc_attachment])\n",
    "            if not create_response[\"successful\"]:\n",
    "                display(create_response)\n",
    "        else:\n",
    "            display(current_xdd_doc_attachment)\n"
   ]
  },
  {
   "cell_type": "code",
   "execution_count": null,
   "metadata": {},
   "outputs": [],
   "source": []
  }
 ],
 "metadata": {
  "kernelspec": {
   "display_name": "Python 3",
   "language": "python",
   "name": "python3"
  },
  "language_info": {
   "codemirror_mode": {
    "name": "ipython",
    "version": 3
   },
   "file_extension": ".py",
   "mimetype": "text/x-python",
   "name": "python",
   "nbconvert_exporter": "python",
   "pygments_lexer": "ipython3",
   "version": "3.7.3"
  }
 },
 "nbformat": 4,
 "nbformat_minor": 2
}
