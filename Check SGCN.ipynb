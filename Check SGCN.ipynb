{
 "cells": [
  {
   "cell_type": "markdown",
   "metadata": {},
   "source": [
    "This notebook uses an sgcn module in the bispy package to search the National List SGCN API. It returns and caches the summarized National List records, which include the list of states that have the species in their conservation planning process."
   ]
  },
  {
   "cell_type": "code",
   "execution_count": 1,
   "metadata": {},
   "outputs": [],
   "source": [
    "#Import needed packages\n",
    "import bispy\n",
    "import json\n",
    "from IPython.display import display\n",
    "from joblib import Parallel, delayed\n",
    "\n",
    "sgcn = bispy.sgcn.Search()\n",
    "bis_utils = bispy.bis.Utils()"
   ]
  },
  {
   "cell_type": "code",
   "execution_count": 2,
   "metadata": {},
   "outputs": [],
   "source": [
    "# Open up the cached updated ITIS list with valid/accepted species names\n",
    "with open(\"cache/updated_itis.json\", \"r\") as f:\n",
    "    valid_itis = json.loads(f.read())"
   ]
  },
  {
   "cell_type": "code",
   "execution_count": 3,
   "metadata": {},
   "outputs": [
    {
     "data": {
      "text/plain": [
       "[{'scientific_name': 'Festuca idahoensis', 'itis_usage': 'accepted'},\n",
       " {'scientific_name': 'Ursus americanus', 'itis_usage': 'valid'},\n",
       " {'scientific_name': 'Pseudotsuga menziesii', 'itis_usage': 'accepted'},\n",
       " {'scientific_name': 'Tamiasciurus hudsonicus', 'itis_usage': 'valid'},\n",
       " {'scientific_name': 'Otis tarda', 'itis_usage': 'valid'},\n",
       " {'scientific_name': 'Melanitta perspicillata', 'itis_usage': 'valid'},\n",
       " {'scientific_name': 'Taxidea taxus', 'itis_usage': 'valid'},\n",
       " {'scientific_name': 'Puccinellia rupestris', 'itis_usage': 'accepted'},\n",
       " {'scientific_name': 'Artemisiospiza belli', 'itis_usage': 'valid'},\n",
       " {'scientific_name': 'Rangifer tarandus groenlandicus', 'itis_usage': 'valid'},\n",
       " {'scientific_name': 'Urocitellus armatus', 'itis_usage': 'valid'},\n",
       " {'scientific_name': 'Centrocercus urophasianus', 'itis_usage': 'valid'},\n",
       " {'scientific_name': 'Procapra gutturosa', 'itis_usage': 'valid'},\n",
       " {'scientific_name': 'Juniperus communis', 'itis_usage': 'accepted'},\n",
       " {'scientific_name': 'Cronartium ribicola', 'itis_usage': 'accepted'},\n",
       " {'scientific_name': 'Spizella breweri', 'itis_usage': 'valid'},\n",
       " {'scientific_name': 'Atriplex argentea', 'itis_usage': 'accepted'},\n",
       " {'scientific_name': 'Atriplex canescens', 'itis_usage': 'accepted'},\n",
       " {'scientific_name': 'Leymus cinereus', 'itis_usage': 'accepted'},\n",
       " {'scientific_name': 'Oncorhynchus clarkii', 'itis_usage': 'valid'},\n",
       " {'scientific_name': 'Sarcobatus vermiculatus', 'itis_usage': 'accepted'},\n",
       " {'scientific_name': 'Pinus contorta', 'itis_usage': 'accepted'},\n",
       " {'scientific_name': 'Centrocercus minimus', 'itis_usage': 'valid'},\n",
       " {'scientific_name': 'Pinus flexilis', 'itis_usage': 'accepted'},\n",
       " {'scientific_name': 'Ericameria nauseosa', 'itis_usage': 'accepted'},\n",
       " {'scientific_name': 'Sphaeralcea coccinea', 'itis_usage': 'accepted'},\n",
       " {'scientific_name': 'Thinopyrum ponticum', 'itis_usage': 'accepted'},\n",
       " {'scientific_name': 'Ictidomys tridecemlineatus', 'itis_usage': 'valid'},\n",
       " {'scientific_name': 'Kochia prostrata', 'itis_usage': 'accepted'},\n",
       " {'scientific_name': 'Castor canadensis', 'itis_usage': 'valid'},\n",
       " {'scientific_name': 'Dendroctonus pseudotsugae', 'itis_usage': 'valid'},\n",
       " {'scientific_name': 'Medicago sativa', 'itis_usage': 'accepted'},\n",
       " {'scientific_name': 'Lepus townsendii', 'itis_usage': 'valid'},\n",
       " {'scientific_name': 'Antilocapra americana', 'itis_usage': 'valid'},\n",
       " {'scientific_name': 'Potorous tridactylus', 'itis_usage': 'valid'},\n",
       " {'scientific_name': 'Elymus elymoides', 'itis_usage': 'accepted'},\n",
       " {'scientific_name': 'Microtus californicus', 'itis_usage': 'valid'},\n",
       " {'scientific_name': 'Bromus tectorum', 'itis_usage': 'accepted'},\n",
       " {'scientific_name': 'Prunus virginiana', 'itis_usage': 'accepted'},\n",
       " {'scientific_name': 'Vaccinium membranaceum', 'itis_usage': 'accepted'},\n",
       " {'scientific_name': 'Pseudoroegneria spicata', 'itis_usage': 'accepted'},\n",
       " {'scientific_name': 'Salvelinus namaycush', 'itis_usage': 'valid'},\n",
       " {'scientific_name': 'Capreolus capreolus', 'itis_usage': 'valid'},\n",
       " {'scientific_name': 'Buteo regalis', 'itis_usage': 'valid'},\n",
       " {'scientific_name': 'Orgyia pseudotsugata', 'itis_usage': 'valid'},\n",
       " {'scientific_name': 'Artemisia cana', 'itis_usage': 'accepted'},\n",
       " {'scientific_name': 'Aquila chrysaetos', 'itis_usage': 'valid'},\n",
       " {'scientific_name': 'Descurainia sophia', 'itis_usage': 'accepted'},\n",
       " {'scientific_name': 'Cercocarpus montanus', 'itis_usage': 'accepted'},\n",
       " {'scientific_name': 'Bison bison', 'itis_usage': 'valid'},\n",
       " {'scientific_name': 'Zea mays', 'itis_usage': 'accepted'},\n",
       " {'scientific_name': 'Juniperus communis var. depressa',\n",
       "  'itis_usage': 'accepted'},\n",
       " {'scientific_name': 'Amelanchier alnifolia', 'itis_usage': 'accepted'},\n",
       " {'scientific_name': 'Connochaetes taurinus', 'itis_usage': 'valid'},\n",
       " {'scientific_name': 'Canis lupus', 'itis_usage': 'valid'},\n",
       " {'scientific_name': 'Passer domesticus', 'itis_usage': 'valid'},\n",
       " {'scientific_name': 'Artemisia tridentata ssp. wyomingensis',\n",
       "  'itis_usage': 'accepted'},\n",
       " {'scientific_name': 'Phleum pratense', 'itis_usage': 'accepted'},\n",
       " {'scientific_name': 'Halogeton glomeratus', 'itis_usage': 'accepted'},\n",
       " {'scientific_name': 'Vulpes vulpes', 'itis_usage': 'valid'},\n",
       " {'scientific_name': 'Betula nana', 'itis_usage': 'accepted'},\n",
       " {'scientific_name': 'Cottus bairdii', 'itis_usage': 'valid'},\n",
       " {'scientific_name': 'Kochia prostrata', 'itis_usage': 'accepted'},\n",
       " {'scientific_name': 'Haliaeetus leucocephalus', 'itis_usage': 'valid'},\n",
       " {'scientific_name': 'Arctostaphylos patula', 'itis_usage': 'accepted'},\n",
       " {'scientific_name': 'Suaeda maritima', 'itis_usage': 'accepted'},\n",
       " {'scientific_name': 'Picea engelmannii', 'itis_usage': 'accepted'},\n",
       " {'scientific_name': 'Odocoileus hemionus', 'itis_usage': 'valid'},\n",
       " {'scientific_name': 'Achnatherum hymenoides', 'itis_usage': 'accepted'},\n",
       " {'scientific_name': 'Oreoscoptes montanus', 'itis_usage': 'valid'},\n",
       " {'scientific_name': 'Clupea pallasii', 'itis_usage': 'valid'},\n",
       " {'scientific_name': 'Corvus corax', 'itis_usage': 'valid'},\n",
       " {'scientific_name': 'Branta canadensis', 'itis_usage': 'valid'},\n",
       " {'scientific_name': 'Abies lasiocarpa', 'itis_usage': 'accepted'},\n",
       " {'scientific_name': 'Lepidochelys olivacea', 'itis_usage': 'valid'},\n",
       " {'scientific_name': 'Microtus agrestis', 'itis_usage': 'valid'},\n",
       " {'scientific_name': 'Reithrodontomys megalotis', 'itis_usage': 'valid'},\n",
       " {'scientific_name': 'Catostomus platyrhynchus', 'itis_usage': 'valid'},\n",
       " {'scientific_name': 'Falco sparverius', 'itis_usage': 'valid'},\n",
       " {'scientific_name': 'Elymus lanceolatus', 'itis_usage': 'accepted'},\n",
       " {'scientific_name': 'Pascopyrum smithii', 'itis_usage': 'accepted'},\n",
       " {'scientific_name': 'Alces alces', 'itis_usage': 'valid'},\n",
       " {'scientific_name': 'Purshia tridentata', 'itis_usage': 'accepted'},\n",
       " {'scientific_name': 'Oncorhynchus clarkii pleuriticus',\n",
       "  'itis_usage': 'valid'},\n",
       " {'scientific_name': 'Lullula arborea', 'itis_usage': 'valid'},\n",
       " {'scientific_name': 'Canis latrans', 'itis_usage': 'valid'},\n",
       " {'scientific_name': 'Lanius ludovicianus', 'itis_usage': 'valid'},\n",
       " {'scientific_name': 'Brucella melitensis', 'itis_usage': 'valid'},\n",
       " {'scientific_name': 'Rangifer tarandus', 'itis_usage': 'valid'},\n",
       " {'scientific_name': 'Glaucomys volans', 'itis_usage': 'valid'},\n",
       " {'scientific_name': 'Oncorhynchus nerka', 'itis_usage': 'valid'},\n",
       " {'scientific_name': 'Ovis canadensis', 'itis_usage': 'valid'},\n",
       " {'scientific_name': 'Brachylagus idahoensis', 'itis_usage': 'valid'},\n",
       " {'scientific_name': 'Branta leucopsis', 'itis_usage': 'valid'},\n",
       " {'scientific_name': 'Thrichomys pachyurus', 'itis_usage': 'valid'},\n",
       " {'scientific_name': 'Dendroctonus ponderosae', 'itis_usage': 'valid'},\n",
       " {'scientific_name': 'Procyon lotor', 'itis_usage': 'valid'},\n",
       " {'scientific_name': 'Fringilla montifringilla', 'itis_usage': 'valid'},\n",
       " {'scientific_name': 'Pinus albicaulis', 'itis_usage': 'accepted'},\n",
       " {'scientific_name': 'Equus quagga burchellii', 'itis_usage': 'valid'},\n",
       " {'scientific_name': 'Artemisiospiza nevadensis', 'itis_usage': 'valid'},\n",
       " {'scientific_name': 'Shepherdia canadensis', 'itis_usage': 'accepted'},\n",
       " {'scientific_name': 'Atriplex gardneri', 'itis_usage': 'accepted'},\n",
       " {'scientific_name': 'Colinus virginianus', 'itis_usage': 'valid'},\n",
       " {'scientific_name': 'Peromyscus keeni', 'itis_usage': 'valid'},\n",
       " {'scientific_name': 'Hesperostipa comata', 'itis_usage': 'accepted'},\n",
       " {'scientific_name': 'Krascheninnikovia lanata', 'itis_usage': 'accepted'},\n",
       " {'scientific_name': 'Cervus elaphus', 'itis_usage': 'valid'},\n",
       " {'scientific_name': 'Artemisia tridentata', 'itis_usage': 'accepted'},\n",
       " {'scientific_name': 'Lyrurus tetrix', 'itis_usage': 'valid'},\n",
       " {'scientific_name': 'Macaca sylvanus', 'itis_usage': 'valid'},\n",
       " {'scientific_name': 'Peromyscus maniculatus', 'itis_usage': 'valid'},\n",
       " {'scientific_name': 'Tamias minimus', 'itis_usage': 'valid'},\n",
       " {'scientific_name': 'Ursus arctos', 'itis_usage': 'valid'},\n",
       " {'scientific_name': 'Cercocarpus ledifolius', 'itis_usage': 'accepted'},\n",
       " {'scientific_name': 'Populus tremuloides', 'itis_usage': 'accepted'}]"
      ]
     },
     "execution_count": 3,
     "metadata": {},
     "output_type": "execute_result"
    }
   ],
   "source": [
    "valid_itis"
   ]
  },
  {
   "cell_type": "code",
   "execution_count": 5,
   "metadata": {},
   "outputs": [
    {
     "data": {
      "text/plain": [
       "116"
      ]
     },
     "execution_count": 5,
     "metadata": {},
     "output_type": "execute_result"
    }
   ],
   "source": [
    "# Use joblib to run multiple requests for TESS documents in parallel via the valid/accepted ITIS scientific name\n",
    "sgcn_result = Parallel(n_jobs=8)(delayed(sgcn.search)(name) for name in [r[\"scientific_name\"] for r in valid_itis]) \n",
    "len(sgcn_result)"
   ]
  },
  {
   "cell_type": "code",
   "execution_count": 6,
   "metadata": {},
   "outputs": [
    {
     "data": {
      "text/plain": [
       "57"
      ]
     },
     "execution_count": 6,
     "metadata": {},
     "output_type": "execute_result"
    }
   ],
   "source": [
    "# Filter to give just cases where a SGCN species name matched with the valid/accepted ITIS names\n",
    "sgcn_success=[i for i in sgcn_result if i['processing_metadata']['status'] == 'success']\n",
    "len(sgcn_success)"
   ]
  },
  {
   "cell_type": "code",
   "execution_count": 7,
   "metadata": {
    "scrolled": true
   },
   "outputs": [
    {
     "data": {
      "text/plain": [
       "{'Doc Cache File': 'cache/sgcn.json',\n",
       " 'Number of Documents in Cache': 57,\n",
       " 'Document Number 38': {'processing_metadata': {'status': 'success',\n",
       "   'date_processed': '2019-08-06T21:48:28.377184',\n",
       "   'status_message': 'Name Match',\n",
       "   'api': 'https://api.sciencebase.gov/bis-api/api/v1/swap/nationallist?scientificname=Alces alces'},\n",
       "  'parameters': {'Scientific Name': 'Alces alces', 'Name Source': None},\n",
       "  'sgcn_species': {'statelist_2005': 'Massachusetts,Michigan,Wisconsin,Wyoming',\n",
       "   'statelist_2015': 'Vermont,Wyoming',\n",
       "   'scientificname': 'Alces alces',\n",
       "   'commonname': 'moose',\n",
       "   'taxonomicgroup': 'Mammals',\n",
       "   'taxonomicrank': 'Species',\n",
       "   'matchmethod': 'Exact Match',\n",
       "   'acceptedauthorityurl': 'https://www.itis.gov/servlet/SingleRpt/SingleRpt?search_topic=TSN&search_value=180703'}}}"
      ]
     },
     "metadata": {},
     "output_type": "display_data"
    }
   ],
   "source": [
    "# Cache the array of retrieved documents and return/display a random sample for verification\n",
    "display(bis_utils.doc_cache(\"cache/sgcn.json\", sgcn_success))"
   ]
  },
  {
   "cell_type": "markdown",
   "metadata": {},
   "source": [
    "Here we look to see which WLCI species show up on the Wyoming SGCN list. "
   ]
  },
  {
   "cell_type": "code",
   "execution_count": 15,
   "metadata": {},
   "outputs": [
    {
     "name": "stdout",
     "output_type": "stream",
     "text": [
      "Bell's Sparrow ====== Artemisiospiza belli\n",
      "Uinta Ground Squirrel ====== Urocitellus armatus\n",
      "Greater Sage Grouse ====== Centrocercus urophasianus\n",
      "Brewer's Sparrow ====== Spizella breweri\n",
      "cutthroat trout ====== Oncorhynchus clarkii\n",
      "Ferruginous Hawk ====== Buteo regalis\n",
      "mottled sculpin ====== Cottus bairdii\n",
      "Bald Eagle ====== Haliaeetus leucocephalus\n",
      "Sage Thrasher ====== Oreoscoptes montanus\n",
      "mountain sucker ====== Catostomus platyrhynchus\n",
      "moose ====== Alces alces\n",
      "Colorado River cutthroat trout ====== Oncorhynchus clarkii pleuriticus\n",
      "bighorn sheep ====== Ovis canadensis\n",
      "Pygmy Rabbit ====== Brachylagus idahoensis\n",
      "Brown Bear ====== Ursus arctos\n"
     ]
    }
   ],
   "source": [
    "sgcn_wy_names = []\n",
    "for spp in [r[\"sgcn_species\"] for r in sgcn_success if r[\"processing_metadata\"][\"status\"] == \"success\"]:\n",
    "    if \"Wyoming\" in spp[\"statelist_2005\"] or \"Wyoming\" in spp[\"statelist_2015\"]:\n",
    "        print(spp[\"commonname\"], '======', spp[\"scientificname\"])\n",
    "        sgcn_wy_names.append(spp[\"scientificname\"])"
   ]
  },
  {
   "cell_type": "code",
   "execution_count": 16,
   "metadata": {},
   "outputs": [
    {
     "data": {
      "text/plain": [
       "15"
      ]
     },
     "execution_count": 16,
     "metadata": {},
     "output_type": "execute_result"
    }
   ],
   "source": [
    "len(sgcn_wy_names)"
   ]
  },
  {
   "cell_type": "markdown",
   "metadata": {},
   "source": [
    "Note\n",
    "\n",
    "There were no SGCN records found based on the names that ITIS considered invalid or not accepted"
   ]
  },
  {
   "cell_type": "code",
   "execution_count": 8,
   "metadata": {},
   "outputs": [],
   "source": [
    "# Open up the cached updated ITIS list with invalid/not accepted species names\n",
    "with open(\"cache/invalid_itis.json\", \"r\") as f:\n",
    "    invalid_itis = json.loads(f.read())"
   ]
  },
  {
   "cell_type": "code",
   "execution_count": 9,
   "metadata": {},
   "outputs": [],
   "source": [
    "# Use joblib to run multiple requests for SGCN documents in parallel via the invalid/not accepted ITIS scientific names\n",
    "invalid_result = Parallel(n_jobs=8)(delayed(sgcn.search)(name) for name in [r[\"scientific_name\"] for r in invalid_itis]) "
   ]
  },
  {
   "cell_type": "code",
   "execution_count": 10,
   "metadata": {},
   "outputs": [],
   "source": [
    "# Filter to give just cases where a SGCN species name matched with the invalid/not accepted ITIS names\n",
    "invalid_result=[i for i in invalid_result if i['processing_metadata']['status'] == 'success']"
   ]
  },
  {
   "cell_type": "code",
   "execution_count": 11,
   "metadata": {},
   "outputs": [
    {
     "data": {
      "text/plain": [
       "0"
      ]
     },
     "execution_count": 11,
     "metadata": {},
     "output_type": "execute_result"
    }
   ],
   "source": [
    "len(invalid_result)"
   ]
  }
 ],
 "metadata": {
  "kernelspec": {
   "display_name": "Python 3",
   "language": "python",
   "name": "python3"
  },
  "language_info": {
   "codemirror_mode": {
    "name": "ipython",
    "version": 3
   },
   "file_extension": ".py",
   "mimetype": "text/x-python",
   "name": "python",
   "nbconvert_exporter": "python",
   "pygments_lexer": "ipython3",
   "version": "3.7.3"
  }
 },
 "nbformat": 4,
 "nbformat_minor": 2
}
