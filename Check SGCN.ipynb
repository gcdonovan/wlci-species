{
 "cells": [
  {
   "cell_type": "markdown",
   "metadata": {},
   "source": [
    "This notebook uses an SGCN module in the bispy package to search the National List SGCN API. It returns and caches the summarized National List records, which include the list of states that have the species in their conservation planning process."
   ]
  },
  {
   "cell_type": "code",
   "execution_count": null,
   "metadata": {},
   "outputs": [],
   "source": [
    "#Import needed packages\n",
    "import bispy\n",
    "import json\n",
    "from IPython.display import display\n",
    "from joblib import Parallel, delayed\n",
    "\n",
    "sgcn = bispy.sgcn.Search()\n",
    "bis_utils = bispy.bis.Utils()"
   ]
  },
  {
   "cell_type": "code",
   "execution_count": null,
   "metadata": {},
   "outputs": [],
   "source": [
    "# Open up cache updated ITIS list with valid/accepted species names from ITIS Exploration.ipynb\n",
    "with open(\"cache/valid_itis.json\", \"r\") as f:\n",
    "    valid_itis = json.loads(f.read())"
   ]
  },
  {
   "cell_type": "code",
   "execution_count": null,
   "metadata": {},
   "outputs": [],
   "source": [
    "# Use joblib to run multiple requests for TESS documents in parallel via the valid/accepted ITIS scientific name\n",
    "sgcn_result = Parallel(n_jobs=8)(delayed(sgcn.search)(name) for name in [r[\"scientific_name\"] for r in valid_itis]) \n",
    "len(sgcn_result)"
   ]
  },
  {
   "cell_type": "code",
   "execution_count": null,
   "metadata": {},
   "outputs": [],
   "source": [
    "sgcn_result"
   ]
  },
  {
   "cell_type": "code",
   "execution_count": null,
   "metadata": {},
   "outputs": [],
   "source": [
    "# Filter to give just cases where SGCN species names matched with valid/accepted ITIS species names\n",
    "sgcn_success=[i for i in sgcn_result if i['processing_metadata']['status'] == 'success']\n",
    "len(sgcn_success)"
   ]
  },
  {
   "cell_type": "code",
   "execution_count": null,
   "metadata": {},
   "outputs": [],
   "source": [
    "wy_sgcn_success= \n",
    "\n",
    "sgcn_wy_names = []\n",
    "for spp in [r[\"sgcn_species\"] for r in sgcn_success if r[\"processing_metadata\"][\"status\"] == \"success\"]:\n",
    "    if \"Wyoming\" in spp[\"statelist_2005\"] or \"Wyoming\" in spp[\"statelist_2015\"]:"
   ]
  },
  {
   "cell_type": "code",
   "execution_count": null,
   "metadata": {
    "scrolled": true
   },
   "outputs": [],
   "source": [
    "# Cache the array of retrieved documents and return/display a random sample for verification\n",
    "display(bis_utils.doc_cache(\"cache/sgcn.json\", sgcn_success))"
   ]
  },
  {
   "cell_type": "markdown",
   "metadata": {},
   "source": [
    "Here we look to see which WLCI species show up on the Wyoming SGCN list"
   ]
  },
  {
   "cell_type": "code",
   "execution_count": null,
   "metadata": {},
   "outputs": [],
   "source": [
    "sgcn_wy_names = []\n",
    "for spp in [r[\"sgcn_species\"] for r in sgcn_success if r[\"processing_metadata\"][\"status\"] == \"success\"]:\n",
    "    if \"Wyoming\" in spp[\"statelist_2005\"] or \"Wyoming\" in spp[\"statelist_2015\"]:\n",
    "        print(spp[\"commonname\"], '======', spp[\"scientificname\"])\n",
    "        sgcn_wy_names.append(spp[\"scientificname\"])"
   ]
  },
  {
   "cell_type": "markdown",
   "metadata": {},
   "source": [
    "Check to see if any invalid/not accepted ITIS specie names matched with SGCN records"
   ]
  },
  {
   "cell_type": "code",
   "execution_count": null,
   "metadata": {},
   "outputs": [],
   "source": [
    "# Open up the cached updated ITIS list with invalid/not accepted species names from ITIS Exploration.ipynb\n",
    "with open(\"cache/invalid_itis.json\", \"r\") as f:\n",
    "    invalid_itis = json.loads(f.read())"
   ]
  },
  {
   "cell_type": "code",
   "execution_count": null,
   "metadata": {},
   "outputs": [],
   "source": [
    "# Use joblib to run multiple requests for SGCN documents in parallel via the invalid/not accepted ITIS scientific name\n",
    "invalid_result = Parallel(n_jobs=8)(delayed(sgcn.search)(name) for name in [r[\"scientific_name\"] for r in invalid_itis]) "
   ]
  },
  {
   "cell_type": "code",
   "execution_count": null,
   "metadata": {},
   "outputs": [],
   "source": [
    "# Filter to give just cases where SGCN species names matched with invalid/not accepted ITIS names\n",
    "invalid_result=[i for i in invalid_result if i['processing_metadata']['status'] == 'success']"
   ]
  },
  {
   "cell_type": "code",
   "execution_count": null,
   "metadata": {},
   "outputs": [],
   "source": [
    "len(invalid_result)"
   ]
  },
  {
   "cell_type": "markdown",
   "metadata": {},
   "source": [
    "No SGCN records macthed with the invalid/not accepted ITIS specie names"
   ]
  }
 ],
 "metadata": {
  "kernelspec": {
   "display_name": "Python 3",
   "language": "python",
   "name": "python3"
  },
  "language_info": {
   "codemirror_mode": {
    "name": "ipython",
    "version": 3
   },
   "file_extension": ".py",
   "mimetype": "text/x-python",
   "name": "python",
   "nbconvert_exporter": "python",
   "pygments_lexer": "ipython3",
   "version": "3.7.3"
  }
 },
 "nbformat": 4,
 "nbformat_minor": 2
}
