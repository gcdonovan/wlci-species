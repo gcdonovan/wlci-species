{
 "cells": [
  {
   "cell_type": "markdown",
   "metadata": {},
   "source": [
    "Consult the ITIS API to retrieve information and cache for later processing. This is done via the ITIS module in the bispy package that uses various search mechanisms against ITIS and slightly repackages the returned data for use."
   ]
  },
  {
   "cell_type": "code",
   "execution_count": 1,
   "metadata": {},
   "outputs": [],
   "source": [
    "import json\n",
    "import bispy\n",
    "from IPython.display import display\n",
    "from joblib import Parallel, delayed\n",
    "import jsonschema\n",
    "\n",
    "itis = bispy.itis.Itis()\n",
    "bis_utils = bispy.bis.Utils()\n",
    "\n",
    "import warnings\n",
    "warnings.filterwarnings('ignore')"
   ]
  },
  {
   "cell_type": "code",
   "execution_count": 2,
   "metadata": {},
   "outputs": [],
   "source": [
    "# Open source WLCI list created from build-specie-list.ipynb\n",
    "with open(\"cache/WLCI Species List from Literature.json\", \"r\") as f:\n",
    "    sp_list = json.loads(f.read())\n",
    "sci_name_list = list(set([spp[\"Scientific Name\"] for spp in sp_list]))"
   ]
  },
  {
   "cell_type": "code",
   "execution_count": 3,
   "metadata": {},
   "outputs": [
    {
     "data": {
      "text/plain": [
       "['Sphaeralcea coccinea',\n",
       " 'Betula nana',\n",
       " 'Vulpes vulpes',\n",
       " 'Arctostaphylos patula',\n",
       " 'Cronartium ribicola',\n",
       " 'Juniperus communis var. depressa',\n",
       " 'Canis latrans',\n",
       " 'Atriplex gardneri',\n",
       " 'Artemisiospiza nevadensis',\n",
       " 'Haliaeetus leucocephalus',\n",
       " 'Canis lupus',\n",
       " 'Ictidomys tridecemlineatus',\n",
       " 'Amphispiza belli',\n",
       " 'Centrocercus minimus',\n",
       " 'Lepus townsendii',\n",
       " 'Rangifer tarandus groenlandicus',\n",
       " 'Hesperostipa comata',\n",
       " 'Prunus virginiana',\n",
       " 'Atriplex canescens',\n",
       " 'Zea mays',\n",
       " 'Glaucomys volans',\n",
       " 'Elymus lanceolatus',\n",
       " 'Atriplex argentea',\n",
       " 'Ovis canadensis',\n",
       " 'Juniperus communis',\n",
       " 'Brucella abortus',\n",
       " 'Thrichomys fosteri',\n",
       " 'Bassia prostrata',\n",
       " 'Urocitellus armatus',\n",
       " 'Lepidochelys olivacea',\n",
       " 'Corvus corax',\n",
       " 'Brachylagus idahoensis',\n",
       " 'Dendroctonus ponderosae',\n",
       " 'Pinus albicaulis',\n",
       " 'Pascopyrum smithii',\n",
       " 'Oncorhynchus nerka',\n",
       " 'Colinus virginianus',\n",
       " 'Artemisia tridentata',\n",
       " 'Fringilla montifringilla',\n",
       " 'Picea engelmannii',\n",
       " 'Cercocarpus montanus',\n",
       " 'Reithrodontomys megalotis',\n",
       " 'Rangifer tarandus',\n",
       " 'Ericameria nauseosa',\n",
       " 'Vaccinium membranaceum',\n",
       " 'Ursus americanus',\n",
       " 'Orgyia pseudotsugata',\n",
       " 'Thinopyrum ponticum',\n",
       " 'Achnatherum hymenoides',\n",
       " 'Artemisia cana',\n",
       " 'Bromus tectorum',\n",
       " 'Shepherdia canadensis',\n",
       " 'Spizella breweri',\n",
       " 'Kochia prostrata',\n",
       " 'Pinus contorta',\n",
       " 'Macaca sylvanus',\n",
       " 'Oreoscoptes montanus',\n",
       " 'Descurainia sophia',\n",
       " 'Catostomus platyrhynchus',\n",
       " 'Elymus elymoides',\n",
       " 'Artemisia tridentata ssp. wyomingensis',\n",
       " 'Poa secunda',\n",
       " 'Dendroctonus pseudotsugae',\n",
       " 'Bison bison',\n",
       " 'Branta leucopsis',\n",
       " 'Melanitta perspicillata',\n",
       " 'Abies lasiocarpa',\n",
       " 'Sarcobatus vermiculatus',\n",
       " 'Passer domesticus',\n",
       " 'Halogeton glomeratus',\n",
       " 'Ursus arctos',\n",
       " 'Populus tremuloides',\n",
       " 'Buteo regalis',\n",
       " 'Procapra gutturosa',\n",
       " 'Odocoileus hemionus',\n",
       " 'Potorous tridactylus',\n",
       " 'Procyon lotor',\n",
       " 'Antilocapra americana',\n",
       " 'Oncorhynchus clarkii pleuriticus',\n",
       " 'Centrocercus urophasianus',\n",
       " 'Alces alces',\n",
       " 'Falco sparverius',\n",
       " 'Medicago sativa',\n",
       " 'Purshia tridentata',\n",
       " 'Cervus elaphus',\n",
       " 'Cottus bairdii',\n",
       " 'Suaeda maritima',\n",
       " 'Lanius ludovicianus',\n",
       " 'Cercocarpus ledifolius',\n",
       " 'Castor canadensis',\n",
       " 'Peromyscus keeni',\n",
       " 'Pseudoroegneria spicata',\n",
       " 'Leymus cinereus',\n",
       " 'Festuca idahoensis',\n",
       " 'Tetrao tetrix',\n",
       " 'Taxidea taxus',\n",
       " 'Aquila chrysaetos',\n",
       " 'Pinus flexilis',\n",
       " 'Tamias minimus',\n",
       " 'Connochaetes taurinus',\n",
       " 'Phleum pratense',\n",
       " 'Krascheninnikovia lanata',\n",
       " 'Tamiasciurus hudsonicus',\n",
       " 'Peromyscus maniculatus',\n",
       " 'Oncorhynchus clarkii',\n",
       " 'Otis tarda',\n",
       " 'Clupea pallasii',\n",
       " 'Salvelinus namaycush',\n",
       " 'Microtus agrestis',\n",
       " 'Capreolus capreolus',\n",
       " 'Branta canadensis',\n",
       " 'Equus burchelli',\n",
       " 'Lullula arborea',\n",
       " 'Pseudotsuga menziesii',\n",
       " 'Amelanchier alnifolia',\n",
       " 'Microtus californicus']"
      ]
     },
     "execution_count": 3,
     "metadata": {},
     "output_type": "execute_result"
    }
   ],
   "source": [
    "#print initial list\n",
    "sci_name_list"
   ]
  },
  {
   "cell_type": "code",
   "execution_count": 4,
   "metadata": {},
   "outputs": [
    {
     "name": "stdout",
     "output_type": "stream",
     "text": [
      "CPU times: user 377 ms, sys: 86.3 ms, total: 464 ms\n",
      "Wall time: 7.61 s\n"
     ]
    }
   ],
   "source": [
    "%%time\n",
    "# Use joblib to run multiple requests for ITIS documents in parallel via known ITIS TSNs\n",
    "itis_cache = Parallel(n_jobs=8)(delayed(itis.search)(name) for name in sci_name_list)"
   ]
  },
  {
   "cell_type": "code",
   "execution_count": 5,
   "metadata": {},
   "outputs": [
    {
     "data": {
      "text/plain": [
       "{'Doc Cache File': 'cache/itis.json',\n",
       " 'Number of Documents in Cache': 116,\n",
       " 'Document Number 36': {'processing_metadata': {'status': 'success',\n",
       "   'date_processed': '2019-07-31T13:45:33.392860',\n",
       "   'status_message': 'Exact Match',\n",
       "   'details': [{'Exact Match': 'https://services.itis.gov/?wt=json&rows=10&q=nameWOInd:Colinus\\\\%20virginianus'}]},\n",
       "  'itis_data': [{'tsn': '175863',\n",
       "    'nameWInd': 'Colinus virginianus',\n",
       "    'nameWOInd': 'Colinus virginianus',\n",
       "    'unit1': 'Colinus',\n",
       "    'unit2': 'virginianus',\n",
       "    'usage': 'valid',\n",
       "    'kingdom': 'Animalia',\n",
       "    'parentTSN': '175862',\n",
       "    'rank': 'Species',\n",
       "    'date_created': '1996-06-13 14:51:08',\n",
       "    'date_modified': '2005-06-08 00:00:00',\n",
       "    'biological_taxonomy': [{'rank': 'Kingdom', 'name': 'Animalia'},\n",
       "     {'rank': 'Subkingdom', 'name': 'Bilateria'},\n",
       "     {'rank': 'Infrakingdom', 'name': 'Deuterostomia'},\n",
       "     {'rank': 'Phylum', 'name': 'Chordata'},\n",
       "     {'rank': 'Subphylum', 'name': 'Vertebrata'},\n",
       "     {'rank': 'Infraphylum', 'name': 'Gnathostomata'},\n",
       "     {'rank': 'Superclass', 'name': 'Tetrapoda'},\n",
       "     {'rank': 'Class', 'name': 'Aves'},\n",
       "     {'rank': 'Order', 'name': 'Galliformes'},\n",
       "     {'rank': 'Family', 'name': 'Odontophoridae'},\n",
       "     {'rank': 'Genus', 'name': 'Colinus'},\n",
       "     {'rank': 'Species', 'name': 'Colinus virginianus'}],\n",
       "    'hierarchy': ['Animalia',\n",
       "     'Bilateria',\n",
       "     'Deuterostomia',\n",
       "     'Chordata',\n",
       "     'Vertebrata',\n",
       "     'Gnathostomata',\n",
       "     'Tetrapoda',\n",
       "     'Aves',\n",
       "     'Galliformes',\n",
       "     'Odontophoridae',\n",
       "     'Colinus',\n",
       "     'Colinus virginianus'],\n",
       "    'commonnames': [{'name': 'Codorniz cotuí', 'language': 'Spanish'},\n",
       "     {'name': 'Northern Bobwhite', 'language': 'English'},\n",
       "     {'name': 'colin de Virginie', 'language': 'French'}]}]}}"
      ]
     },
     "metadata": {},
     "output_type": "display_data"
    }
   ],
   "source": [
    "# Cache the array of retrieved documents and return/display a random sample for verification\n",
    "display(bis_utils.doc_cache(\"cache/itis.json\", itis_cache))"
   ]
  },
  {
   "cell_type": "code",
   "execution_count": null,
   "metadata": {},
   "outputs": [],
   "source": []
  }
 ],
 "metadata": {
  "kernelspec": {
   "display_name": "Python 3",
   "language": "python",
   "name": "python3"
  },
  "language_info": {
   "codemirror_mode": {
    "name": "ipython",
    "version": 3
   },
   "file_extension": ".py",
   "mimetype": "text/x-python",
   "name": "python",
   "nbconvert_exporter": "python",
   "pygments_lexer": "ipython3",
   "version": "3.7.3"
  }
 },
 "nbformat": 4,
 "nbformat_minor": 2
}
