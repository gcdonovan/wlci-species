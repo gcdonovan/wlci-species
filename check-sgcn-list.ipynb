{
 "cells": [
  {
   "cell_type": "markdown",
   "metadata": {},
   "source": [
    "The WLCI team has shown interest in understanding the connection of WLCI species to the State Species of Greatest Conservation Need. The USGS builds and maintains a synthesis of state species, linking species names to taxonomic authorities (ITIS and WoRMS) to produce a synthesized National list for each decadal reporting period (with some periodic updates during the intervening years). This notebook leverages an sgcn module in the bispy package to search the National List SGCN API. It returns and caches the summarized National List records, which include the list of states that have the species in their conservation planning process."
   ]
  },
  {
   "cell_type": "code",
   "execution_count": 6,
   "metadata": {},
   "outputs": [],
   "source": [
    "import requests\n",
    "import json\n",
    "import bispy\n",
    "from IPython.display import display\n",
    "from joblib import Parallel, delayed\n",
    "import random\n",
    "\n",
    "sgcn = bispy.sgcn.Search()\n",
    "\n",
    "\n",
    "import warnings\n",
    "warnings.filterwarnings('ignore')"
   ]
  },
  {
   "cell_type": "code",
   "execution_count": 7,
   "metadata": {},
   "outputs": [],
   "source": [
    "# Open source WLCI list created from build-specie-list.ipynb\n",
    "with open(\"sources/wlci_xdd_specie_list.txt\", \"r\") as f:\n",
    "    sp_list =f.readlines()\n",
    "sp_list= [x.strip() for x in sp_list]"
   ]
  },
  {
   "cell_type": "code",
   "execution_count": 8,
   "metadata": {},
   "outputs": [],
   "source": [
    "# Use joblib to run multiple requests for SGCN records in parallel via scientific names\n",
    "sgcn_cache = Parallel(n_jobs=8)(delayed(sgcn.search)(name) for name in [r for r in sp_list])"
   ]
  },
  {
   "cell_type": "code",
   "execution_count": 9,
   "metadata": {},
   "outputs": [],
   "source": [
    "# Dump just the records we found to a cache file\n",
    "with open(\"cache/sgcn.json\", \"w\") as f:\n",
    "    f.write(json.dumps([s for s in sgcn_cache if s[\"search_results\"] > 0], indent=4))"
   ]
  },
  {
   "cell_type": "code",
   "execution_count": 10,
   "metadata": {},
   "outputs": [
    {
     "name": "stdout",
     "output_type": "stream",
     "text": [
      "115\n"
     ]
    },
    {
     "data": {
      "text/plain": [
       "{'search_api': 'https://sciencebase.usgs.gov/staging/bis/api/v1/swap/nationallist?scientificname=Centrocercus urophasianus',\n",
       " 'search_date': '2019-07-03T15:40:42.490408',\n",
       " 'results': [{'gid': 3147,\n",
       "   'statelist_2005': 'California,Colorado,Idaho,Montana,Nebraska,Nevada,North Dakota,Oregon,South Dakota,Utah,Washington,Wyoming',\n",
       "   'statelist_2015': 'California,Colorado,Idaho,Montana,Nevada,North Dakota,Oregon,South Dakota,Utah,Washington,Wyoming',\n",
       "   'sgcn2005': 12,\n",
       "   'sgcn2015': 11,\n",
       "   'scientificname': 'Centrocercus urophasianus',\n",
       "   'commonname': 'Greater Sage Grouse',\n",
       "   'taxonomicgroup': 'Birds',\n",
       "   'taxonomicrank': 'Species',\n",
       "   'matchmethod': 'Exact Match',\n",
       "   'acceptedauthorityurl': 'https://www.itis.gov/servlet/SingleRpt/SingleRpt?search_topic=TSN&search_value=175855'}],\n",
       " 'search_results': 1}"
      ]
     },
     "metadata": {},
     "output_type": "display_data"
    }
   ],
   "source": [
    "# Open the file back up and verify\n",
    "with open(\"cache/sgcn.json\", \"r\") as f:\n",
    "    sgcn_cache = json.loads(f.read())\n",
    "\n",
    "print(len(sgcn_cache))\n",
    "display(sgcn_cache[random.randint(0,len(sgcn_cache)-1)])"
   ]
  },
  {
   "cell_type": "code",
   "execution_count": null,
   "metadata": {},
   "outputs": [],
   "source": []
  }
 ],
 "metadata": {
  "kernelspec": {
   "display_name": "Python 3",
   "language": "python",
   "name": "python3"
  },
  "language_info": {
   "codemirror_mode": {
    "name": "ipython",
    "version": 3
   },
   "file_extension": ".py",
   "mimetype": "text/x-python",
   "name": "python",
   "nbconvert_exporter": "python",
   "pygments_lexer": "ipython3",
   "version": "3.6.8"
  }
 },
 "nbformat": 4,
 "nbformat_minor": 2
}
