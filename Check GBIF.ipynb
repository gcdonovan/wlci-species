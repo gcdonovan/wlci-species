{
 "cells": [
  {
   "cell_type": "markdown",
   "metadata": {},
   "source": [
    "This notebook uses a set of functions and module within the bispy package to interact with the GBIF API to pull back information on WLCI species.\n",
    "\n",
    "The GBIF records are retrieved and cached based on valid/accepted ITIS species names and the invalid/not accepted ITIS species names."
   ]
  },
  {
   "cell_type": "code",
   "execution_count": null,
   "metadata": {},
   "outputs": [],
   "source": [
    "#Import needed packages\n",
    "import json\n",
    "import bispy\n",
    "from IPython.display import display\n",
    "from joblib import Parallel, delayed\n",
    "\n",
    "gbif = bispy.gbif.Gbif()\n",
    "bis_utils = bispy.bis.Utils()"
   ]
  },
  {
   "cell_type": "code",
   "execution_count": null,
   "metadata": {},
   "outputs": [],
   "source": [
    "# Open up the cached updated ITIS list with valid/accepted species names from ITIS Exploration.ipynb\n",
    "with open(\"cache/valid_itis.json\", \"r\") as f:\n",
    "    valid_itis = json.loads(f.read())"
   ]
  },
  {
   "cell_type": "code",
   "execution_count": null,
   "metadata": {},
   "outputs": [],
   "source": [
    "# Use joblib to run multiple requests for GBIF records in parallel via the valid/accepted ITIS scientific names\n",
    "gbif_results = Parallel(n_jobs=8)(delayed(gbif.summarize_us_species)(name) for name in [r[\"scientific_name\"] for r in valid_itis])\n",
    "len(gbif_results)"
   ]
  },
  {
   "cell_type": "code",
   "execution_count": null,
   "metadata": {},
   "outputs": [],
   "source": [
    "# Filter to give just cases where GBIF species name matched with valid/accepted ITIS names\n",
    "success_gbif = [i for i in gbif_results if i[\"processing_metadata\"][\"status\"] == \"success\"]\n",
    "len(success_gbif)"
   ]
  },
  {
   "cell_type": "code",
   "execution_count": null,
   "metadata": {},
   "outputs": [],
   "source": [
    "#Display records listed as failure for valid/accepted ITIS specie names\n",
    "fail_gbif = [i for i in gbif_results if i[\"processing_metadata\"][\"status\"] == \"failure\"]\n",
    "fail_gbif"
   ]
  },
  {
   "cell_type": "code",
   "execution_count": null,
   "metadata": {},
   "outputs": [],
   "source": [
    "# Cache the array of retrieved documents and return/display a random sample for verification\n",
    "display(bis_utils.doc_cache(\"cache/gbif.json\", success_gbif))"
   ]
  },
  {
   "cell_type": "code",
   "execution_count": null,
   "metadata": {},
   "outputs": [],
   "source": [
    "# Open up the cached updated ITIS list with invalid/not accepted species names from ITIS Exploration.ipynb\n",
    "with open(\"cache/invalid_itis.json\", \"r\") as f:\n",
    "    invalid_itis = json.loads(f.read())"
   ]
  },
  {
   "cell_type": "code",
   "execution_count": null,
   "metadata": {},
   "outputs": [],
   "source": [
    "# Use joblib to run multiple requests for GBIF documents in parallel via the invalid/not accepted ITIS scientific names\n",
    "invalid_result = Parallel(n_jobs=8)(delayed(gbif.summarize_us_species)(name) for name in [r[\"scientific_name\"] for r in invalid_itis]) "
   ]
  },
  {
   "cell_type": "code",
   "execution_count": null,
   "metadata": {},
   "outputs": [],
   "source": [
    "#Display result to identify the GBIF record that matched the invalid/not accepted ITIS name\n",
    "invalid_result"
   ]
  },
  {
   "cell_type": "code",
   "execution_count": null,
   "metadata": {},
   "outputs": [],
   "source": [
    "# Cache the retrieved document and return/display a sample for verification\n",
    "display(bis_utils.doc_cache(\"cache/invalid_gbif.json\", invalid_result))"
   ]
  }
 ],
 "metadata": {
  "kernelspec": {
   "display_name": "Python 3",
   "language": "python",
   "name": "python3"
  },
  "language_info": {
   "codemirror_mode": {
    "name": "ipython",
    "version": 3
   },
   "file_extension": ".py",
   "mimetype": "text/x-python",
   "name": "python",
   "nbconvert_exporter": "python",
   "pygments_lexer": "ipython3",
   "version": "3.7.3"
  }
 },
 "nbformat": 4,
 "nbformat_minor": 2
}
