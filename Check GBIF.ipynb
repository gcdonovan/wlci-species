{
 "cells": [
  {
   "cell_type": "markdown",
   "metadata": {},
   "source": [
    "This notebook uses a set of functions and module within the bispy package to interact with the GBIF API to pull back information on WLCI species.\n",
    "\n",
    "The GBIF records are retrieved and cached based on valid/accepted ITIS species names and the invalid/not accepted ITIS species names."
   ]
  },
  {
   "cell_type": "code",
   "execution_count": 1,
   "metadata": {},
   "outputs": [],
   "source": [
    "#Import needed packages\n",
    "import json\n",
    "import bispy\n",
    "from IPython.display import display\n",
    "from joblib import Parallel, delayed\n",
    "\n",
    "gbif = bispy.gbif.Gbif()\n",
    "bis_utils = bispy.bis.Utils()"
   ]
  },
  {
   "cell_type": "code",
   "execution_count": 2,
   "metadata": {},
   "outputs": [],
   "source": [
    "# Open up the cached updated ITIS list with valid/accepted species names from ITIS Exploration.ipynb\n",
    "with open(\"cache/valid_itis.json\", \"r\") as f:\n",
    "    valid_itis = json.loads(f.read())"
   ]
  },
  {
   "cell_type": "code",
   "execution_count": 3,
   "metadata": {},
   "outputs": [
    {
     "data": {
      "text/plain": [
       "116"
      ]
     },
     "execution_count": 3,
     "metadata": {},
     "output_type": "execute_result"
    }
   ],
   "source": [
    "# Use joblib to run multiple requests for GBIF records in parallel via the valid/accepted ITIS scientific names\n",
    "gbif_results = Parallel(n_jobs=8)(delayed(gbif.summarize_us_species)(name) for name in [r[\"scientific_name\"] for r in valid_itis])\n",
    "len(gbif_results)"
   ]
  },
  {
   "cell_type": "code",
   "execution_count": 4,
   "metadata": {},
   "outputs": [
    {
     "data": {
      "text/plain": [
       "114"
      ]
     },
     "execution_count": 4,
     "metadata": {},
     "output_type": "execute_result"
    }
   ],
   "source": [
    "# Filter to give just cases where GBIF species name matched with valid/accepted ITIS names\n",
    "success_gbif = [i for i in gbif_results if i[\"processing_metadata\"][\"status\"] == \"success\"]\n",
    "len(success_gbif)"
   ]
  },
  {
   "cell_type": "code",
   "execution_count": 6,
   "metadata": {},
   "outputs": [
    {
     "data": {
      "text/plain": [
       "[{'processing_metadata': {'status': 'failure',\n",
       "   'date_processed': '2019-08-14T14:35:26.619359',\n",
       "   'status_message': 'Not Matched',\n",
       "   'api': ['https://api.gbif.org/v1/species/suggest?q=Artemisia tridentata ssp. wyomingensis']},\n",
       "  'parameters': {'Scientific Name': 'Artemisia tridentata ssp. wyomingensis'}},\n",
       " {'processing_metadata': {'status': 'failure',\n",
       "   'date_processed': '2019-08-14T14:35:26.619359',\n",
       "   'status_message': 'Not Matched',\n",
       "   'api': ['https://api.gbif.org/v1/species/suggest?q=Oncorhynchus clarkii pleuriticus']},\n",
       "  'parameters': {'Scientific Name': 'Oncorhynchus clarkii pleuriticus'}}]"
      ]
     },
     "execution_count": 6,
     "metadata": {},
     "output_type": "execute_result"
    }
   ],
   "source": [
    "#Display records listed as failure for valid/accepted ITIS specie names\n",
    "fail_gbif = [i for i in gbif_results if i[\"processing_metadata\"][\"status\"] == \"failure\"]\n",
    "fail_gbif"
   ]
  },
  {
   "cell_type": "code",
   "execution_count": 7,
   "metadata": {},
   "outputs": [
    {
     "data": {
      "text/plain": [
       "{'Doc Cache File': 'cache/gbif.json',\n",
       " 'Number of Documents in Cache': 114,\n",
       " 'Document Number 95': {'processing_metadata': {'status': 'success',\n",
       "   'date_processed': '2019-08-14T14:35:26.619359',\n",
       "   'status_message': 'Matched',\n",
       "   'api': ['https://api.gbif.org/v1/species/suggest?q=Fringilla montifringilla',\n",
       "    'https://api.gbif.org/v1/occurrence/search?country=US&limit=0&facet=institutionCode&facet=year&facet=basisOfRecord&scientificName=Fringilla montifringilla']},\n",
       "  'parameters': {'Scientific Name': 'Fringilla montifringilla'},\n",
       "  'gbif_species': {'key': 2494441,\n",
       "   'resolvable_identifier': 'http://api.gbif.org/v1/species/2494441',\n",
       "   'biological_taxonomy': [{'rank': 'kingdom', 'name': 'Animalia'},\n",
       "    {'rank': 'phylum', 'name': 'Chordata'},\n",
       "    {'rank': 'class', 'name': 'Aves'},\n",
       "    {'rank': 'order', 'name': 'Passeriformes'},\n",
       "    {'rank': 'family', 'name': 'Fringillidae'},\n",
       "    {'rank': 'genus', 'name': 'Fringilla'},\n",
       "    {'rank': 'species', 'name': 'Fringilla montifringilla'}],\n",
       "   'Scientific Name': 'Fringilla montifringilla',\n",
       "   'name_with_source': 'Fringilla montifringilla Linnaeus, 1758',\n",
       "   'rank': 'SPECIES',\n",
       "   'TaxonomicStatus': 'ACCEPTED',\n",
       "   'synonym': False,\n",
       "   'Occurrence Summary': {'count': 3372,\n",
       "    'facets': [{'field': 'INSTITUTION_CODE',\n",
       "      'counts': [{'name': 'clo', 'count': 3286},\n",
       "       {'name': 'uam', 'count': 44},\n",
       "       {'name': 'inaturalist', 'count': 28},\n",
       "       {'name': 'cumv', 'count': 5},\n",
       "       {'name': 'fmnh', 'count': 2},\n",
       "       {'name': 'usnm', 'count': 2},\n",
       "       {'name': 'uwbm', 'count': 2},\n",
       "       {'name': 'cas', 'count': 1},\n",
       "       {'name': 'sbmnh', 'count': 1}]},\n",
       "     {'field': 'YEAR',\n",
       "      'counts': [{'name': '2016', 'count': 613},\n",
       "       {'name': '2015', 'count': 405},\n",
       "       {'name': '2014', 'count': 363},\n",
       "       {'name': '2017', 'count': 317},\n",
       "       {'name': '2012', 'count': 302},\n",
       "       {'name': '2018', 'count': 242},\n",
       "       {'name': '2013', 'count': 190},\n",
       "       {'name': '2007', 'count': 89},\n",
       "       {'name': '2000', 'count': 73},\n",
       "       {'name': '2011', 'count': 70}]},\n",
       "     {'field': 'BASIS_OF_RECORD',\n",
       "      'counts': [{'name': 'HUMAN_OBSERVATION', 'count': 3303},\n",
       "       {'name': 'PRESERVED_SPECIMEN', 'count': 57},\n",
       "       {'name': 'OBSERVATION', 'count': 6},\n",
       "       {'name': 'MACHINE_OBSERVATION', 'count': 5},\n",
       "       {'name': 'UNKNOWN', 'count': 1}]}]}}}}"
      ]
     },
     "metadata": {},
     "output_type": "display_data"
    }
   ],
   "source": [
    "# Cache the array of retrieved documents and return/display a random sample for verification\n",
    "display(bis_utils.doc_cache(\"cache/gbif.json\", success_gbif))"
   ]
  },
  {
   "cell_type": "code",
   "execution_count": 8,
   "metadata": {},
   "outputs": [],
   "source": [
    "# Open up the cached updated ITIS list with invalid/not accepted species names from ITIS Exploration.ipynb\n",
    "with open(\"cache/invalid_itis.json\", \"r\") as f:\n",
    "    invalid_itis = json.loads(f.read())"
   ]
  },
  {
   "cell_type": "code",
   "execution_count": 9,
   "metadata": {},
   "outputs": [],
   "source": [
    "# Use joblib to run multiple requests for GBIF documents in parallel via the invalid/not accepted ITIS scientific names\n",
    "invalid_result = Parallel(n_jobs=8)(delayed(gbif.summarize_us_species)(name) for name in [r[\"scientific_name\"] for r in invalid_itis]) "
   ]
  },
  {
   "cell_type": "code",
   "execution_count": 15,
   "metadata": {},
   "outputs": [
    {
     "data": {
      "text/plain": [
       "[{'processing_metadata': {'status': 'success',\n",
       "   'date_processed': '2019-08-14T14:35:26.619359',\n",
       "   'status_message': 'Matched',\n",
       "   'api': ['https://api.gbif.org/v1/species/suggest?q=Amphispiza belli',\n",
       "    'https://api.gbif.org/v1/occurrence/search?country=US&limit=0&facet=institutionCode&facet=year&facet=basisOfRecord&scientificName=Amphispiza belli']},\n",
       "  'parameters': {'Scientific Name': 'Amphispiza belli'},\n",
       "  'gbif_species': {'key': 2491751,\n",
       "   'resolvable_identifier': 'http://api.gbif.org/v1/species/2491751',\n",
       "   'biological_taxonomy': [{'rank': 'kingdom', 'name': 'Animalia'},\n",
       "    {'rank': 'phylum', 'name': 'Chordata'},\n",
       "    {'rank': 'class', 'name': 'Aves'},\n",
       "    {'rank': 'order', 'name': 'Passeriformes'},\n",
       "    {'rank': 'family', 'name': 'Emberizidae'},\n",
       "    {'rank': 'genus', 'name': 'Artemisiospiza'},\n",
       "    {'rank': 'species', 'name': 'Artemisiospiza belli'}],\n",
       "   'Scientific Name': 'Amphispiza belli',\n",
       "   'name_with_source': 'Amphispiza belli (Cassin, 1850)',\n",
       "   'rank': 'SPECIES',\n",
       "   'TaxonomicStatus': 'SYNONYM',\n",
       "   'synonym': True,\n",
       "   'Occurrence Summary': {'count': 2861,\n",
       "    'facets': [{'field': 'INSTITUTION_CODE',\n",
       "      'counts': [{'name': 'prbo', 'count': 1557},\n",
       "       {'name': 'mcz', 'count': 229},\n",
       "       {'name': 'clo', 'count': 227},\n",
       "       {'name': 'lsumz', 'count': 158},\n",
       "       {'name': 'msb', 'count': 99},\n",
       "       {'name': 'psm', 'count': 97},\n",
       "       {'name': 'uwbm', 'count': 76},\n",
       "       {'name': 'wfvz', 'count': 72},\n",
       "       {'name': 'dmns', 'count': 68},\n",
       "       {'name': 'amnh', 'count': 36}]},\n",
       "     {'field': 'YEAR',\n",
       "      'counts': [{'name': '2005', 'count': 443},\n",
       "       {'name': '2006', 'count': 300},\n",
       "       {'name': '2004', 'count': 282},\n",
       "       {'name': '1998', 'count': 171},\n",
       "       {'name': '1999', 'count': 138},\n",
       "       {'name': '2003', 'count': 129},\n",
       "       {'name': '2000', 'count': 103},\n",
       "       {'name': '2001', 'count': 78},\n",
       "       {'name': '2002', 'count': 73},\n",
       "       {'name': '1908', 'count': 41}]},\n",
       "     {'field': 'BASIS_OF_RECORD',\n",
       "      'counts': [{'name': 'OBSERVATION', 'count': 1784},\n",
       "       {'name': 'PRESERVED_SPECIMEN', 'count': 1066},\n",
       "       {'name': 'UNKNOWN', 'count': 8},\n",
       "       {'name': 'FOSSIL_SPECIMEN', 'count': 3}]}]}}},\n",
       " {'processing_metadata': {'status': 'success',\n",
       "   'date_processed': '2019-08-14T14:35:26.619359',\n",
       "   'status_message': 'Matched',\n",
       "   'api': ['https://api.gbif.org/v1/species/suggest?q=Brucella abortus',\n",
       "    'https://api.gbif.org/v1/occurrence/search?country=US&limit=0&facet=institutionCode&facet=year&facet=basisOfRecord&scientificName=Brucella abortus']},\n",
       "  'parameters': {'Scientific Name': 'Brucella abortus'},\n",
       "  'gbif_species': {'key': 5427509,\n",
       "   'resolvable_identifier': 'http://api.gbif.org/v1/species/5427509',\n",
       "   'biological_taxonomy': [{'rank': 'kingdom', 'name': 'Bacteria'},\n",
       "    {'rank': 'phylum', 'name': 'Proteobacteria'},\n",
       "    {'rank': 'class', 'name': 'Alphaproteobacteria'},\n",
       "    {'rank': 'order', 'name': 'Rhizobiales'},\n",
       "    {'rank': 'family', 'name': 'Brucellaceae'},\n",
       "    {'rank': 'genus', 'name': 'Brucella'},\n",
       "    {'rank': 'species', 'name': 'Brucella melitensis'}],\n",
       "   'Scientific Name': 'Brucella abortus',\n",
       "   'name_with_source': 'Brucella abortus (Schmidt, 1901) Meyer & Shaw, 1920',\n",
       "   'rank': 'SPECIES',\n",
       "   'TaxonomicStatus': 'SYNONYM',\n",
       "   'synonym': True,\n",
       "   'Occurrence Summary': {'count': 0,\n",
       "    'facets': [{'field': 'INSTITUTION_CODE', 'counts': []},\n",
       "     {'field': 'YEAR', 'counts': []},\n",
       "     {'field': 'BASIS_OF_RECORD', 'counts': []}]}}},\n",
       " {'processing_metadata': {'status': 'success',\n",
       "   'date_processed': '2019-08-14T14:35:26.619359',\n",
       "   'status_message': 'Matched',\n",
       "   'api': ['https://api.gbif.org/v1/species/suggest?q=Thrichomys fosteri',\n",
       "    'https://api.gbif.org/v1/occurrence/search?country=US&limit=0&facet=institutionCode&facet=year&facet=basisOfRecord&scientificName=Thrichomys fosteri']},\n",
       "  'parameters': {'Scientific Name': 'Thrichomys fosteri'},\n",
       "  'gbif_species': {'key': 6066819,\n",
       "   'resolvable_identifier': 'http://api.gbif.org/v1/species/6066819',\n",
       "   'biological_taxonomy': [{'rank': 'kingdom', 'name': 'Animalia'},\n",
       "    {'rank': 'phylum', 'name': 'Chordata'},\n",
       "    {'rank': 'class', 'name': 'Mammalia'},\n",
       "    {'rank': 'order', 'name': 'Rodentia'},\n",
       "    {'rank': 'family', 'name': 'Echimyidae'},\n",
       "    {'rank': 'genus', 'name': 'Thrichomys'},\n",
       "    {'rank': 'species', 'name': 'Thrichomys pachyurus'}],\n",
       "   'Scientific Name': 'Thrichomys fosteri',\n",
       "   'name_with_source': 'Thrichomys fosteri Thomas, 1903',\n",
       "   'rank': 'SPECIES',\n",
       "   'TaxonomicStatus': 'SYNONYM',\n",
       "   'synonym': True,\n",
       "   'Occurrence Summary': {'count': 0,\n",
       "    'facets': [{'field': 'INSTITUTION_CODE', 'counts': []},\n",
       "     {'field': 'YEAR', 'counts': []},\n",
       "     {'field': 'BASIS_OF_RECORD', 'counts': []}]}}},\n",
       " {'processing_metadata': {'status': 'success',\n",
       "   'date_processed': '2019-08-14T14:35:26.619359',\n",
       "   'status_message': 'Matched',\n",
       "   'api': ['https://api.gbif.org/v1/species/suggest?q=Equus burchelli',\n",
       "    'https://api.gbif.org/v1/occurrence/search?country=US&limit=0&facet=institutionCode&facet=year&facet=basisOfRecord&scientificName=Equus burchelli']},\n",
       "  'parameters': {'Scientific Name': 'Equus burchelli'},\n",
       "  'gbif_species': {'key': 2440885,\n",
       "   'resolvable_identifier': 'http://api.gbif.org/v1/species/2440885',\n",
       "   'biological_taxonomy': [{'rank': 'kingdom', 'name': 'Animalia'},\n",
       "    {'rank': 'phylum', 'name': 'Chordata'},\n",
       "    {'rank': 'class', 'name': 'Mammalia'},\n",
       "    {'rank': 'order', 'name': 'Perissodactyla'},\n",
       "    {'rank': 'family', 'name': 'Equidae'},\n",
       "    {'rank': 'genus', 'name': 'Equus'},\n",
       "    {'rank': 'species', 'name': 'Equus quagga'}],\n",
       "   'Scientific Name': 'Equus burchellii',\n",
       "   'name_with_source': 'Equus burchellii (Gray, 1824)',\n",
       "   'rank': 'SPECIES',\n",
       "   'TaxonomicStatus': 'SYNONYM',\n",
       "   'synonym': True,\n",
       "   'Occurrence Summary': {'facets': []}}},\n",
       " {'processing_metadata': {'status': 'success',\n",
       "   'date_processed': '2019-08-14T14:35:26.619359',\n",
       "   'status_message': 'Matched',\n",
       "   'api': ['https://api.gbif.org/v1/species/suggest?q=Tetrao tetrix',\n",
       "    'https://api.gbif.org/v1/occurrence/search?country=US&limit=0&facet=institutionCode&facet=year&facet=basisOfRecord&scientificName=Tetrao tetrix']},\n",
       "  'parameters': {'Scientific Name': 'Tetrao tetrix'},\n",
       "  'gbif_species': {'key': 8379871,\n",
       "   'resolvable_identifier': 'http://api.gbif.org/v1/species/8379871',\n",
       "   'biological_taxonomy': [{'rank': 'kingdom', 'name': 'Animalia'},\n",
       "    {'rank': 'phylum', 'name': 'Chordata'},\n",
       "    {'rank': 'class', 'name': 'Aves'},\n",
       "    {'rank': 'order', 'name': 'Galliformes'},\n",
       "    {'rank': 'family', 'name': 'Phasianidae'},\n",
       "    {'rank': 'genus', 'name': 'Lyrurus'},\n",
       "    {'rank': 'species', 'name': 'Lyrurus tetrix'}],\n",
       "   'Scientific Name': 'Tetrao tetrix',\n",
       "   'name_with_source': 'Tetrao tetrix Linnaeus, 1758',\n",
       "   'rank': 'SPECIES',\n",
       "   'TaxonomicStatus': 'SYNONYM',\n",
       "   'synonym': True,\n",
       "   'Occurrence Summary': {'count': 1,\n",
       "    'facets': [{'field': 'INSTITUTION_CODE',\n",
       "      'counts': [{'name': 'cumv', 'count': 1}]},\n",
       "     {'field': 'YEAR', 'counts': [{'name': '1860', 'count': 1}]},\n",
       "     {'field': 'BASIS_OF_RECORD',\n",
       "      'counts': [{'name': 'PRESERVED_SPECIMEN', 'count': 1}]}]}}},\n",
       " {'processing_metadata': {'status': 'success',\n",
       "   'date_processed': '2019-08-14T14:35:26.619359',\n",
       "   'status_message': 'Matched',\n",
       "   'api': ['https://api.gbif.org/v1/species/suggest?q=Bassia prostrata',\n",
       "    'https://api.gbif.org/v1/occurrence/search?country=US&limit=0&facet=institutionCode&facet=year&facet=basisOfRecord&scientificName=Bassia prostrata']},\n",
       "  'parameters': {'Scientific Name': 'Bassia prostrata'},\n",
       "  'gbif_species': {'key': 5568099,\n",
       "   'resolvable_identifier': 'http://api.gbif.org/v1/species/5568099',\n",
       "   'biological_taxonomy': [{'rank': 'kingdom', 'name': 'Plantae'},\n",
       "    {'rank': 'phylum', 'name': 'Tracheophyta'},\n",
       "    {'rank': 'class', 'name': 'Magnoliopsida'},\n",
       "    {'rank': 'order', 'name': 'Caryophyllales'},\n",
       "    {'rank': 'family', 'name': 'Amaranthaceae'},\n",
       "    {'rank': 'genus', 'name': 'Bassia'},\n",
       "    {'rank': 'species', 'name': 'Bassia prostrata'}],\n",
       "   'Scientific Name': 'Bassia prostrata',\n",
       "   'name_with_source': 'Bassia prostrata (L.) Beck',\n",
       "   'rank': 'SPECIES',\n",
       "   'TaxonomicStatus': 'SYNONYM',\n",
       "   'synonym': True,\n",
       "   'Occurrence Summary': {'count': 36,\n",
       "    'facets': [{'field': 'INSTITUTION_CODE',\n",
       "      'counts': [{'name': 'ny', 'count': 18},\n",
       "       {'name': 'usu', 'count': 8},\n",
       "       {'name': 'ku', 'count': 3},\n",
       "       {'name': 'asu', 'count': 1},\n",
       "       {'name': 'dbg', 'count': 1},\n",
       "       {'name': 'flas', 'count': 1},\n",
       "       {'name': 'inaturalist', 'count': 1},\n",
       "       {'name': 'ma', 'count': 1},\n",
       "       {'name': 'ucs', 'count': 1},\n",
       "       {'name': 'uwbm', 'count': 1}]},\n",
       "     {'field': 'YEAR',\n",
       "      'counts': [{'name': '2007', 'count': 9},\n",
       "       {'name': '2002', 'count': 8},\n",
       "       {'name': '2006', 'count': 4},\n",
       "       {'name': '2003', 'count': 3},\n",
       "       {'name': '1998', 'count': 2},\n",
       "       {'name': '2013', 'count': 2},\n",
       "       {'name': '1979', 'count': 1},\n",
       "       {'name': '2000', 'count': 1},\n",
       "       {'name': '2001', 'count': 1},\n",
       "       {'name': '2005', 'count': 1}]},\n",
       "     {'field': 'BASIS_OF_RECORD',\n",
       "      'counts': [{'name': 'PRESERVED_SPECIMEN', 'count': 35},\n",
       "       {'name': 'HUMAN_OBSERVATION', 'count': 1}]}]}}}]"
      ]
     },
     "execution_count": 15,
     "metadata": {},
     "output_type": "execute_result"
    }
   ],
   "source": [
    "#Display result to identify the GBIF record that matched the invalid/not accepted ITIS name\n",
    "invalid_result"
   ]
  },
  {
   "cell_type": "code",
   "execution_count": null,
   "metadata": {},
   "outputs": [],
   "source": [
    "# Cache the retrieved document and return/display a sample for verification\n",
    "display(bis_utils.doc_cache(\"cache/Results of Consultations with Invalid ITIS Species Names/invalid_gbif.json\", invalid_result))"
   ]
  },
  {
   "cell_type": "code",
   "execution_count": null,
   "metadata": {},
   "outputs": [],
   "source": []
  }
 ],
 "metadata": {
  "kernelspec": {
   "display_name": "Python 3",
   "language": "python",
   "name": "python3"
  },
  "language_info": {
   "codemirror_mode": {
    "name": "ipython",
    "version": 3
   },
   "file_extension": ".py",
   "mimetype": "text/x-python",
   "name": "python",
   "nbconvert_exporter": "python",
   "pygments_lexer": "ipython3",
   "version": "3.7.3"
  }
 },
 "nbformat": 4,
 "nbformat_minor": 2
}
