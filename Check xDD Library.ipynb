{
 "cells": [
  {
   "cell_type": "markdown",
   "metadata": {},
   "source": [
    "To keep up with current literature on species of interest this notebook accesses eXtract Dark Data (xDD), formaly known as GeoDeepDive.  The xDD database is continuously being updated with published scientific literature from many of the large publishers including Elsiver, Taylor & Francis, GSA, and USGS.  We are currently working with the xDD team  on a number of tools and techniques for a) identifying literature potentially applicable to species-based research and b) using natural language processing tools to pull specific data from those sources for use. This is an ongoing effort that will result in improved production capabilities over time.\n",
    "\n",
    "In the near term, we take advantage of some basic and enhanced search functionality to identify potential articles of interested in the xDD library of millions of documents that are increasing daily. The xdd module in the bispy package contains some search and packaging functionality that interfaces with the xDD REST API."
   ]
  },
  {
   "cell_type": "code",
   "execution_count": 2,
   "metadata": {},
   "outputs": [],
   "source": [
    "#Import needed packages\n",
    "import json\n",
    "import bispy\n",
    "from IPython.display import display\n",
    "from joblib import Parallel, delayed\n",
    "\n",
    "xdd = bispy.xdd.Xdd()\n",
    "bis_utils = bispy.bis.Utils()"
   ]
  },
  {
   "cell_type": "code",
   "execution_count": 3,
   "metadata": {},
   "outputs": [],
   "source": [
    "with open(\"cache/valid_itis.json\", 'r') as f:\n",
    "    valid_itis=json.loads(f.read())"
   ]
  },
  {
   "cell_type": "code",
   "execution_count": 4,
   "metadata": {},
   "outputs": [
    {
     "data": {
      "text/plain": [
       "[{'scientific_name': 'Festuca idahoensis', 'itis_usage': 'accepted'},\n",
       " {'scientific_name': 'Ursus americanus', 'itis_usage': 'valid'},\n",
       " {'scientific_name': 'Pseudotsuga menziesii', 'itis_usage': 'accepted'},\n",
       " {'scientific_name': 'Tamiasciurus hudsonicus', 'itis_usage': 'valid'},\n",
       " {'scientific_name': 'Otis tarda', 'itis_usage': 'valid'},\n",
       " {'scientific_name': 'Melanitta perspicillata', 'itis_usage': 'valid'},\n",
       " {'scientific_name': 'Taxidea taxus', 'itis_usage': 'valid'},\n",
       " {'scientific_name': 'Puccinellia rupestris', 'itis_usage': 'accepted'},\n",
       " {'scientific_name': 'Artemisiospiza belli', 'itis_usage': 'valid'},\n",
       " {'scientific_name': 'Rangifer tarandus groenlandicus', 'itis_usage': 'valid'},\n",
       " {'scientific_name': 'Urocitellus armatus', 'itis_usage': 'valid'},\n",
       " {'scientific_name': 'Centrocercus urophasianus', 'itis_usage': 'valid'},\n",
       " {'scientific_name': 'Procapra gutturosa', 'itis_usage': 'valid'},\n",
       " {'scientific_name': 'Juniperus communis', 'itis_usage': 'accepted'},\n",
       " {'scientific_name': 'Cronartium ribicola', 'itis_usage': 'accepted'},\n",
       " {'scientific_name': 'Spizella breweri', 'itis_usage': 'valid'},\n",
       " {'scientific_name': 'Atriplex argentea', 'itis_usage': 'accepted'},\n",
       " {'scientific_name': 'Atriplex canescens', 'itis_usage': 'accepted'},\n",
       " {'scientific_name': 'Leymus cinereus', 'itis_usage': 'accepted'},\n",
       " {'scientific_name': 'Oncorhynchus clarkii', 'itis_usage': 'valid'},\n",
       " {'scientific_name': 'Sarcobatus vermiculatus', 'itis_usage': 'accepted'},\n",
       " {'scientific_name': 'Pinus contorta', 'itis_usage': 'accepted'},\n",
       " {'scientific_name': 'Centrocercus minimus', 'itis_usage': 'valid'},\n",
       " {'scientific_name': 'Pinus flexilis', 'itis_usage': 'accepted'},\n",
       " {'scientific_name': 'Ericameria nauseosa', 'itis_usage': 'accepted'},\n",
       " {'scientific_name': 'Sphaeralcea coccinea', 'itis_usage': 'accepted'},\n",
       " {'scientific_name': 'Thinopyrum ponticum', 'itis_usage': 'accepted'},\n",
       " {'scientific_name': 'Ictidomys tridecemlineatus', 'itis_usage': 'valid'},\n",
       " {'scientific_name': 'Kochia prostrata', 'itis_usage': 'accepted'},\n",
       " {'scientific_name': 'Castor canadensis', 'itis_usage': 'valid'},\n",
       " {'scientific_name': 'Dendroctonus pseudotsugae', 'itis_usage': 'valid'},\n",
       " {'scientific_name': 'Medicago sativa', 'itis_usage': 'accepted'},\n",
       " {'scientific_name': 'Lepus townsendii', 'itis_usage': 'valid'},\n",
       " {'scientific_name': 'Antilocapra americana', 'itis_usage': 'valid'},\n",
       " {'scientific_name': 'Potorous tridactylus', 'itis_usage': 'valid'},\n",
       " {'scientific_name': 'Elymus elymoides', 'itis_usage': 'accepted'},\n",
       " {'scientific_name': 'Microtus californicus', 'itis_usage': 'valid'},\n",
       " {'scientific_name': 'Bromus tectorum', 'itis_usage': 'accepted'},\n",
       " {'scientific_name': 'Prunus virginiana', 'itis_usage': 'accepted'},\n",
       " {'scientific_name': 'Vaccinium membranaceum', 'itis_usage': 'accepted'},\n",
       " {'scientific_name': 'Pseudoroegneria spicata', 'itis_usage': 'accepted'},\n",
       " {'scientific_name': 'Salvelinus namaycush', 'itis_usage': 'valid'},\n",
       " {'scientific_name': 'Capreolus capreolus', 'itis_usage': 'valid'},\n",
       " {'scientific_name': 'Buteo regalis', 'itis_usage': 'valid'},\n",
       " {'scientific_name': 'Orgyia pseudotsugata', 'itis_usage': 'valid'},\n",
       " {'scientific_name': 'Artemisia cana', 'itis_usage': 'accepted'},\n",
       " {'scientific_name': 'Aquila chrysaetos', 'itis_usage': 'valid'},\n",
       " {'scientific_name': 'Descurainia sophia', 'itis_usage': 'accepted'},\n",
       " {'scientific_name': 'Cercocarpus montanus', 'itis_usage': 'accepted'},\n",
       " {'scientific_name': 'Bison bison', 'itis_usage': 'valid'},\n",
       " {'scientific_name': 'Zea mays', 'itis_usage': 'accepted'},\n",
       " {'scientific_name': 'Juniperus communis var. depressa',\n",
       "  'itis_usage': 'accepted'},\n",
       " {'scientific_name': 'Amelanchier alnifolia', 'itis_usage': 'accepted'},\n",
       " {'scientific_name': 'Connochaetes taurinus', 'itis_usage': 'valid'},\n",
       " {'scientific_name': 'Canis lupus', 'itis_usage': 'valid'},\n",
       " {'scientific_name': 'Passer domesticus', 'itis_usage': 'valid'},\n",
       " {'scientific_name': 'Artemisia tridentata ssp. wyomingensis',\n",
       "  'itis_usage': 'accepted'},\n",
       " {'scientific_name': 'Phleum pratense', 'itis_usage': 'accepted'},\n",
       " {'scientific_name': 'Halogeton glomeratus', 'itis_usage': 'accepted'},\n",
       " {'scientific_name': 'Vulpes vulpes', 'itis_usage': 'valid'},\n",
       " {'scientific_name': 'Betula nana', 'itis_usage': 'accepted'},\n",
       " {'scientific_name': 'Cottus bairdii', 'itis_usage': 'valid'},\n",
       " {'scientific_name': 'Kochia prostrata', 'itis_usage': 'accepted'},\n",
       " {'scientific_name': 'Haliaeetus leucocephalus', 'itis_usage': 'valid'},\n",
       " {'scientific_name': 'Arctostaphylos patula', 'itis_usage': 'accepted'},\n",
       " {'scientific_name': 'Suaeda maritima', 'itis_usage': 'accepted'},\n",
       " {'scientific_name': 'Picea engelmannii', 'itis_usage': 'accepted'},\n",
       " {'scientific_name': 'Odocoileus hemionus', 'itis_usage': 'valid'},\n",
       " {'scientific_name': 'Achnatherum hymenoides', 'itis_usage': 'accepted'},\n",
       " {'scientific_name': 'Oreoscoptes montanus', 'itis_usage': 'valid'},\n",
       " {'scientific_name': 'Clupea pallasii', 'itis_usage': 'valid'},\n",
       " {'scientific_name': 'Corvus corax', 'itis_usage': 'valid'},\n",
       " {'scientific_name': 'Branta canadensis', 'itis_usage': 'valid'},\n",
       " {'scientific_name': 'Abies lasiocarpa', 'itis_usage': 'accepted'},\n",
       " {'scientific_name': 'Lepidochelys olivacea', 'itis_usage': 'valid'},\n",
       " {'scientific_name': 'Microtus agrestis', 'itis_usage': 'valid'},\n",
       " {'scientific_name': 'Reithrodontomys megalotis', 'itis_usage': 'valid'},\n",
       " {'scientific_name': 'Catostomus platyrhynchus', 'itis_usage': 'valid'},\n",
       " {'scientific_name': 'Falco sparverius', 'itis_usage': 'valid'},\n",
       " {'scientific_name': 'Elymus lanceolatus', 'itis_usage': 'accepted'},\n",
       " {'scientific_name': 'Pascopyrum smithii', 'itis_usage': 'accepted'},\n",
       " {'scientific_name': 'Alces alces', 'itis_usage': 'valid'},\n",
       " {'scientific_name': 'Purshia tridentata', 'itis_usage': 'accepted'},\n",
       " {'scientific_name': 'Oncorhynchus clarkii pleuriticus',\n",
       "  'itis_usage': 'valid'},\n",
       " {'scientific_name': 'Lullula arborea', 'itis_usage': 'valid'},\n",
       " {'scientific_name': 'Canis latrans', 'itis_usage': 'valid'},\n",
       " {'scientific_name': 'Lanius ludovicianus', 'itis_usage': 'valid'},\n",
       " {'scientific_name': 'Brucella melitensis', 'itis_usage': 'valid'},\n",
       " {'scientific_name': 'Rangifer tarandus', 'itis_usage': 'valid'},\n",
       " {'scientific_name': 'Glaucomys volans', 'itis_usage': 'valid'},\n",
       " {'scientific_name': 'Oncorhynchus nerka', 'itis_usage': 'valid'},\n",
       " {'scientific_name': 'Ovis canadensis', 'itis_usage': 'valid'},\n",
       " {'scientific_name': 'Brachylagus idahoensis', 'itis_usage': 'valid'},\n",
       " {'scientific_name': 'Branta leucopsis', 'itis_usage': 'valid'},\n",
       " {'scientific_name': 'Thrichomys pachyurus', 'itis_usage': 'valid'},\n",
       " {'scientific_name': 'Dendroctonus ponderosae', 'itis_usage': 'valid'},\n",
       " {'scientific_name': 'Procyon lotor', 'itis_usage': 'valid'},\n",
       " {'scientific_name': 'Fringilla montifringilla', 'itis_usage': 'valid'},\n",
       " {'scientific_name': 'Pinus albicaulis', 'itis_usage': 'accepted'},\n",
       " {'scientific_name': 'Equus quagga burchellii', 'itis_usage': 'valid'},\n",
       " {'scientific_name': 'Artemisiospiza nevadensis', 'itis_usage': 'valid'},\n",
       " {'scientific_name': 'Shepherdia canadensis', 'itis_usage': 'accepted'},\n",
       " {'scientific_name': 'Atriplex gardneri', 'itis_usage': 'accepted'},\n",
       " {'scientific_name': 'Colinus virginianus', 'itis_usage': 'valid'},\n",
       " {'scientific_name': 'Peromyscus keeni', 'itis_usage': 'valid'},\n",
       " {'scientific_name': 'Hesperostipa comata', 'itis_usage': 'accepted'},\n",
       " {'scientific_name': 'Krascheninnikovia lanata', 'itis_usage': 'accepted'},\n",
       " {'scientific_name': 'Cervus elaphus', 'itis_usage': 'valid'},\n",
       " {'scientific_name': 'Artemisia tridentata', 'itis_usage': 'accepted'},\n",
       " {'scientific_name': 'Lyrurus tetrix', 'itis_usage': 'valid'},\n",
       " {'scientific_name': 'Macaca sylvanus', 'itis_usage': 'valid'},\n",
       " {'scientific_name': 'Peromyscus maniculatus', 'itis_usage': 'valid'},\n",
       " {'scientific_name': 'Tamias minimus', 'itis_usage': 'valid'},\n",
       " {'scientific_name': 'Ursus arctos', 'itis_usage': 'valid'},\n",
       " {'scientific_name': 'Cercocarpus ledifolius', 'itis_usage': 'accepted'},\n",
       " {'scientific_name': 'Populus tremuloides', 'itis_usage': 'accepted'}]"
      ]
     },
     "execution_count": 4,
     "metadata": {},
     "output_type": "execute_result"
    }
   ],
   "source": [
    "valid_itis"
   ]
  },
  {
   "cell_type": "code",
   "execution_count": 8,
   "metadata": {},
   "outputs": [],
   "source": [
    "#Select all \"valid\" ITIS species names\n",
    "valid_xdd=[i for i in valid_itis if i['itis_usage'] == 'valid' ]"
   ]
  },
  {
   "cell_type": "code",
   "execution_count": 9,
   "metadata": {},
   "outputs": [
    {
     "ename": "SSLError",
     "evalue": "None: Max retries exceeded with url: /api/snippets?full_results&clean&term=Ursus%20americanus (Caused by None)",
     "output_type": "error",
     "traceback": [
      "\u001b[0;31m---------------------------------------------------------------------------\u001b[0m",
      "\u001b[0;31m_RemoteTraceback\u001b[0m                          Traceback (most recent call last)",
      "\u001b[0;31m_RemoteTraceback\u001b[0m: \n\"\"\"\nTraceback (most recent call last):\n  File \"/anaconda3/lib/python3.7/site-packages/urllib3/contrib/pyopenssl.py\", line 453, in wrap_socket\n    cnx.do_handshake()\n  File \"/anaconda3/lib/python3.7/site-packages/OpenSSL/SSL.py\", line 1915, in do_handshake\n    self._raise_ssl_error(self._ssl, result)\n  File \"/anaconda3/lib/python3.7/site-packages/OpenSSL/SSL.py\", line 1647, in _raise_ssl_error\n    _raise_current_error()\n  File \"/anaconda3/lib/python3.7/site-packages/OpenSSL/_util.py\", line 54, in exception_from_error_queue\n    raise exception_type(errors)\nOpenSSL.SSL.Error: [('SSL routines', 'tls_process_server_certificate', 'certificate verify failed')]\n\nDuring handling of the above exception, another exception occurred:\n\nTraceback (most recent call last):\n  File \"/anaconda3/lib/python3.7/site-packages/urllib3/connectionpool.py\", line 600, in urlopen\n    chunked=chunked)\n  File \"/anaconda3/lib/python3.7/site-packages/urllib3/connectionpool.py\", line 343, in _make_request\n    self._validate_conn(conn)\n  File \"/anaconda3/lib/python3.7/site-packages/urllib3/connectionpool.py\", line 839, in _validate_conn\n    conn.connect()\n  File \"/anaconda3/lib/python3.7/site-packages/urllib3/connection.py\", line 344, in connect\n    ssl_context=context)\n  File \"/anaconda3/lib/python3.7/site-packages/urllib3/util/ssl_.py\", line 344, in ssl_wrap_socket\n    return context.wrap_socket(sock, server_hostname=server_hostname)\n  File \"/anaconda3/lib/python3.7/site-packages/urllib3/contrib/pyopenssl.py\", line 459, in wrap_socket\n    raise ssl.SSLError('bad handshake: %r' % e)\nssl.SSLError: (\"bad handshake: Error([('SSL routines', 'tls_process_server_certificate', 'certificate verify failed')])\",)\n\nDuring handling of the above exception, another exception occurred:\n\nTraceback (most recent call last):\n  File \"/anaconda3/lib/python3.7/site-packages/requests/adapters.py\", line 449, in send\n    timeout=timeout\n  File \"/anaconda3/lib/python3.7/site-packages/urllib3/connectionpool.py\", line 638, in urlopen\n    _stacktrace=sys.exc_info()[2])\n  File \"/anaconda3/lib/python3.7/site-packages/urllib3/util/retry.py\", line 398, in increment\n    raise MaxRetryError(_pool, url, error or ResponseError(cause))\nurllib3.exceptions.MaxRetryError: HTTPSConnectionPool(host='geodeepdive.org', port=443): Max retries exceeded with url: /api/snippets?full_results&clean&term=Ursus%20americanus (Caused by SSLError(SSLError(\"bad handshake: Error([('SSL routines', 'tls_process_server_certificate', 'certificate verify failed')])\")))\n\nDuring handling of the above exception, another exception occurred:\n\nTraceback (most recent call last):\n  File \"/anaconda3/lib/python3.7/site-packages/joblib/externals/loky/process_executor.py\", line 418, in _process_worker\n    r = call_item()\n  File \"/anaconda3/lib/python3.7/site-packages/joblib/externals/loky/process_executor.py\", line 272, in __call__\n    return self.fn(*self.args, **self.kwargs)\n  File \"/anaconda3/lib/python3.7/site-packages/joblib/_parallel_backends.py\", line 567, in __call__\n    return self.func(*args, **kwargs)\n  File \"/anaconda3/lib/python3.7/site-packages/joblib/parallel.py\", line 225, in __call__\n    for func, args, kwargs in self.items]\n  File \"/anaconda3/lib/python3.7/site-packages/joblib/parallel.py\", line 225, in <listcomp>\n    for func, args, kwargs in self.items]\n  File \"/anaconda3/lib/python3.7/site-packages/bispy/xdd.py\", line 36, in snippets\n    xdd_response = requests.get(xdd_result[\"processing_metadata\"][\"api\"])\n  File \"/anaconda3/lib/python3.7/site-packages/requests/api.py\", line 75, in get\n    return request('get', url, params=params, **kwargs)\n  File \"/anaconda3/lib/python3.7/site-packages/requests/api.py\", line 60, in request\n    return session.request(method=method, url=url, **kwargs)\n  File \"/anaconda3/lib/python3.7/site-packages/requests/sessions.py\", line 533, in request\n    resp = self.send(prep, **send_kwargs)\n  File \"/anaconda3/lib/python3.7/site-packages/requests/sessions.py\", line 646, in send\n    r = adapter.send(request, **kwargs)\n  File \"/anaconda3/lib/python3.7/site-packages/requests/adapters.py\", line 514, in send\n    raise SSLError(e, request=request)\nrequests.exceptions.SSLError: HTTPSConnectionPool(host='geodeepdive.org', port=443): Max retries exceeded with url: /api/snippets?full_results&clean&term=Ursus%20americanus (Caused by SSLError(SSLError(\"bad handshake: Error([('SSL routines', 'tls_process_server_certificate', 'certificate verify failed')])\")))\n\"\"\"",
      "\nThe above exception was the direct cause of the following exception:\n",
      "\u001b[0;31mSSLError\u001b[0m                                  Traceback (most recent call last)",
      "\u001b[0;32m<ipython-input-9-08da1b2291f3>\u001b[0m in \u001b[0;36m<module>\u001b[0;34m\u001b[0m\n\u001b[1;32m      1\u001b[0m \u001b[0;31m# Use joblib to run multiple requests to xDD in parallel via \"valid\" scientific names\u001b[0m\u001b[0;34m\u001b[0m\u001b[0;34m\u001b[0m\u001b[0;34m\u001b[0m\u001b[0m\n\u001b[0;32m----> 2\u001b[0;31m \u001b[0mvalid_xdd_results\u001b[0m \u001b[0;34m=\u001b[0m \u001b[0mParallel\u001b[0m\u001b[0;34m(\u001b[0m\u001b[0mn_jobs\u001b[0m\u001b[0;34m=\u001b[0m\u001b[0;36m8\u001b[0m\u001b[0;34m)\u001b[0m\u001b[0;34m(\u001b[0m\u001b[0mdelayed\u001b[0m\u001b[0;34m(\u001b[0m\u001b[0mxdd\u001b[0m\u001b[0;34m.\u001b[0m\u001b[0msnippets\u001b[0m\u001b[0;34m)\u001b[0m\u001b[0;34m(\u001b[0m\u001b[0mr\u001b[0m\u001b[0;34m[\u001b[0m\u001b[0;34m\"scientific_name\"\u001b[0m\u001b[0;34m]\u001b[0m\u001b[0;34m)\u001b[0m \u001b[0;32mfor\u001b[0m \u001b[0mr\u001b[0m \u001b[0;32min\u001b[0m \u001b[0mvalid_xdd\u001b[0m\u001b[0;34m)\u001b[0m\u001b[0;34m\u001b[0m\u001b[0;34m\u001b[0m\u001b[0m\n\u001b[0m",
      "\u001b[0;32m/anaconda3/lib/python3.7/site-packages/joblib/parallel.py\u001b[0m in \u001b[0;36m__call__\u001b[0;34m(self, iterable)\u001b[0m\n\u001b[1;32m    932\u001b[0m \u001b[0;34m\u001b[0m\u001b[0m\n\u001b[1;32m    933\u001b[0m             \u001b[0;32mwith\u001b[0m \u001b[0mself\u001b[0m\u001b[0;34m.\u001b[0m\u001b[0m_backend\u001b[0m\u001b[0;34m.\u001b[0m\u001b[0mretrieval_context\u001b[0m\u001b[0;34m(\u001b[0m\u001b[0;34m)\u001b[0m\u001b[0;34m:\u001b[0m\u001b[0;34m\u001b[0m\u001b[0;34m\u001b[0m\u001b[0m\n\u001b[0;32m--> 934\u001b[0;31m                 \u001b[0mself\u001b[0m\u001b[0;34m.\u001b[0m\u001b[0mretrieve\u001b[0m\u001b[0;34m(\u001b[0m\u001b[0;34m)\u001b[0m\u001b[0;34m\u001b[0m\u001b[0;34m\u001b[0m\u001b[0m\n\u001b[0m\u001b[1;32m    935\u001b[0m             \u001b[0;31m# Make sure that we get a last message telling us we are done\u001b[0m\u001b[0;34m\u001b[0m\u001b[0;34m\u001b[0m\u001b[0;34m\u001b[0m\u001b[0m\n\u001b[1;32m    936\u001b[0m             \u001b[0melapsed_time\u001b[0m \u001b[0;34m=\u001b[0m \u001b[0mtime\u001b[0m\u001b[0;34m.\u001b[0m\u001b[0mtime\u001b[0m\u001b[0;34m(\u001b[0m\u001b[0;34m)\u001b[0m \u001b[0;34m-\u001b[0m \u001b[0mself\u001b[0m\u001b[0;34m.\u001b[0m\u001b[0m_start_time\u001b[0m\u001b[0;34m\u001b[0m\u001b[0;34m\u001b[0m\u001b[0m\n",
      "\u001b[0;32m/anaconda3/lib/python3.7/site-packages/joblib/parallel.py\u001b[0m in \u001b[0;36mretrieve\u001b[0;34m(self)\u001b[0m\n\u001b[1;32m    831\u001b[0m             \u001b[0;32mtry\u001b[0m\u001b[0;34m:\u001b[0m\u001b[0;34m\u001b[0m\u001b[0;34m\u001b[0m\u001b[0m\n\u001b[1;32m    832\u001b[0m                 \u001b[0;32mif\u001b[0m \u001b[0mgetattr\u001b[0m\u001b[0;34m(\u001b[0m\u001b[0mself\u001b[0m\u001b[0;34m.\u001b[0m\u001b[0m_backend\u001b[0m\u001b[0;34m,\u001b[0m \u001b[0;34m'supports_timeout'\u001b[0m\u001b[0;34m,\u001b[0m \u001b[0;32mFalse\u001b[0m\u001b[0;34m)\u001b[0m\u001b[0;34m:\u001b[0m\u001b[0;34m\u001b[0m\u001b[0;34m\u001b[0m\u001b[0m\n\u001b[0;32m--> 833\u001b[0;31m                     \u001b[0mself\u001b[0m\u001b[0;34m.\u001b[0m\u001b[0m_output\u001b[0m\u001b[0;34m.\u001b[0m\u001b[0mextend\u001b[0m\u001b[0;34m(\u001b[0m\u001b[0mjob\u001b[0m\u001b[0;34m.\u001b[0m\u001b[0mget\u001b[0m\u001b[0;34m(\u001b[0m\u001b[0mtimeout\u001b[0m\u001b[0;34m=\u001b[0m\u001b[0mself\u001b[0m\u001b[0;34m.\u001b[0m\u001b[0mtimeout\u001b[0m\u001b[0;34m)\u001b[0m\u001b[0;34m)\u001b[0m\u001b[0;34m\u001b[0m\u001b[0;34m\u001b[0m\u001b[0m\n\u001b[0m\u001b[1;32m    834\u001b[0m                 \u001b[0;32melse\u001b[0m\u001b[0;34m:\u001b[0m\u001b[0;34m\u001b[0m\u001b[0;34m\u001b[0m\u001b[0m\n\u001b[1;32m    835\u001b[0m                     \u001b[0mself\u001b[0m\u001b[0;34m.\u001b[0m\u001b[0m_output\u001b[0m\u001b[0;34m.\u001b[0m\u001b[0mextend\u001b[0m\u001b[0;34m(\u001b[0m\u001b[0mjob\u001b[0m\u001b[0;34m.\u001b[0m\u001b[0mget\u001b[0m\u001b[0;34m(\u001b[0m\u001b[0;34m)\u001b[0m\u001b[0;34m)\u001b[0m\u001b[0;34m\u001b[0m\u001b[0;34m\u001b[0m\u001b[0m\n",
      "\u001b[0;32m/anaconda3/lib/python3.7/site-packages/joblib/_parallel_backends.py\u001b[0m in \u001b[0;36mwrap_future_result\u001b[0;34m(future, timeout)\u001b[0m\n\u001b[1;32m    519\u001b[0m         AsyncResults.get from multiprocessing.\"\"\"\n\u001b[1;32m    520\u001b[0m         \u001b[0;32mtry\u001b[0m\u001b[0;34m:\u001b[0m\u001b[0;34m\u001b[0m\u001b[0;34m\u001b[0m\u001b[0m\n\u001b[0;32m--> 521\u001b[0;31m             \u001b[0;32mreturn\u001b[0m \u001b[0mfuture\u001b[0m\u001b[0;34m.\u001b[0m\u001b[0mresult\u001b[0m\u001b[0;34m(\u001b[0m\u001b[0mtimeout\u001b[0m\u001b[0;34m=\u001b[0m\u001b[0mtimeout\u001b[0m\u001b[0;34m)\u001b[0m\u001b[0;34m\u001b[0m\u001b[0;34m\u001b[0m\u001b[0m\n\u001b[0m\u001b[1;32m    522\u001b[0m         \u001b[0;32mexcept\u001b[0m \u001b[0mLokyTimeoutError\u001b[0m\u001b[0;34m:\u001b[0m\u001b[0;34m\u001b[0m\u001b[0;34m\u001b[0m\u001b[0m\n\u001b[1;32m    523\u001b[0m             \u001b[0;32mraise\u001b[0m \u001b[0mTimeoutError\u001b[0m\u001b[0;34m(\u001b[0m\u001b[0;34m)\u001b[0m\u001b[0;34m\u001b[0m\u001b[0;34m\u001b[0m\u001b[0m\n",
      "\u001b[0;32m/anaconda3/lib/python3.7/concurrent/futures/_base.py\u001b[0m in \u001b[0;36mresult\u001b[0;34m(self, timeout)\u001b[0m\n\u001b[1;32m    430\u001b[0m                 \u001b[0;32mraise\u001b[0m \u001b[0mCancelledError\u001b[0m\u001b[0;34m(\u001b[0m\u001b[0;34m)\u001b[0m\u001b[0;34m\u001b[0m\u001b[0;34m\u001b[0m\u001b[0m\n\u001b[1;32m    431\u001b[0m             \u001b[0;32melif\u001b[0m \u001b[0mself\u001b[0m\u001b[0;34m.\u001b[0m\u001b[0m_state\u001b[0m \u001b[0;34m==\u001b[0m \u001b[0mFINISHED\u001b[0m\u001b[0;34m:\u001b[0m\u001b[0;34m\u001b[0m\u001b[0;34m\u001b[0m\u001b[0m\n\u001b[0;32m--> 432\u001b[0;31m                 \u001b[0;32mreturn\u001b[0m \u001b[0mself\u001b[0m\u001b[0;34m.\u001b[0m\u001b[0m__get_result\u001b[0m\u001b[0;34m(\u001b[0m\u001b[0;34m)\u001b[0m\u001b[0;34m\u001b[0m\u001b[0;34m\u001b[0m\u001b[0m\n\u001b[0m\u001b[1;32m    433\u001b[0m             \u001b[0;32melse\u001b[0m\u001b[0;34m:\u001b[0m\u001b[0;34m\u001b[0m\u001b[0;34m\u001b[0m\u001b[0m\n\u001b[1;32m    434\u001b[0m                 \u001b[0;32mraise\u001b[0m \u001b[0mTimeoutError\u001b[0m\u001b[0;34m(\u001b[0m\u001b[0;34m)\u001b[0m\u001b[0;34m\u001b[0m\u001b[0;34m\u001b[0m\u001b[0m\n",
      "\u001b[0;32m/anaconda3/lib/python3.7/concurrent/futures/_base.py\u001b[0m in \u001b[0;36m__get_result\u001b[0;34m(self)\u001b[0m\n\u001b[1;32m    382\u001b[0m     \u001b[0;32mdef\u001b[0m \u001b[0m__get_result\u001b[0m\u001b[0;34m(\u001b[0m\u001b[0mself\u001b[0m\u001b[0;34m)\u001b[0m\u001b[0;34m:\u001b[0m\u001b[0;34m\u001b[0m\u001b[0;34m\u001b[0m\u001b[0m\n\u001b[1;32m    383\u001b[0m         \u001b[0;32mif\u001b[0m \u001b[0mself\u001b[0m\u001b[0;34m.\u001b[0m\u001b[0m_exception\u001b[0m\u001b[0;34m:\u001b[0m\u001b[0;34m\u001b[0m\u001b[0;34m\u001b[0m\u001b[0m\n\u001b[0;32m--> 384\u001b[0;31m             \u001b[0;32mraise\u001b[0m \u001b[0mself\u001b[0m\u001b[0;34m.\u001b[0m\u001b[0m_exception\u001b[0m\u001b[0;34m\u001b[0m\u001b[0;34m\u001b[0m\u001b[0m\n\u001b[0m\u001b[1;32m    385\u001b[0m         \u001b[0;32melse\u001b[0m\u001b[0;34m:\u001b[0m\u001b[0;34m\u001b[0m\u001b[0;34m\u001b[0m\u001b[0m\n\u001b[1;32m    386\u001b[0m             \u001b[0;32mreturn\u001b[0m \u001b[0mself\u001b[0m\u001b[0;34m.\u001b[0m\u001b[0m_result\u001b[0m\u001b[0;34m\u001b[0m\u001b[0;34m\u001b[0m\u001b[0m\n",
      "\u001b[0;31mSSLError\u001b[0m: None: Max retries exceeded with url: /api/snippets?full_results&clean&term=Ursus%20americanus (Caused by None)"
     ]
    }
   ],
   "source": [
    "# Use joblib to run multiple requests to xDD in parallel via \"valid\" scientific names\n",
    "valid_xdd_results = Parallel(n_jobs=8)(delayed(xdd.snippets)(r[\"scientific_name\"]) for r in valid_xdd)"
   ]
  },
  {
   "cell_type": "code",
   "execution_count": null,
   "metadata": {},
   "outputs": [],
   "source": [
    "# Filter to give just cases where xDD records matched with \"valid\" ITIS species names\n",
    "success_valid_xdd=[i for i in valid_xdd_results if i['processing_metadata']['status'] == 'success' ]"
   ]
  },
  {
   "cell_type": "code",
   "execution_count": null,
   "metadata": {},
   "outputs": [],
   "source": [
    "#Select all \"accepted\" ITIS species names\n",
    "accepted_xdd=[i for i in valid_itis if i['itis_usage'] == 'accepted']"
   ]
  },
  {
   "cell_type": "code",
   "execution_count": null,
   "metadata": {},
   "outputs": [],
   "source": [
    "# Use joblib to run multiple requests to xDD in parallel via \"accepted\" scientific names\n",
    "accepted_xdd_results = Parallel(n_jobs=8)(delayed(xdd.snippets)(r[\"scientific_name\"]) for r in accepted_xdd)"
   ]
  },
  {
   "cell_type": "code",
   "execution_count": null,
   "metadata": {},
   "outputs": [],
   "source": [
    "# Filter to give just cases where xDD records matched with \"accepted\" ITIS species names\n",
    "success_accepted_xdd=[i for i in accepted_xdd_results if i['processing_metadata']['status'] == 'success' ]"
   ]
  },
  {
   "cell_type": "code",
   "execution_count": null,
   "metadata": {},
   "outputs": [],
   "source": [
    "# Cache the array of retrieved documents and return/display a random sample for verification\n",
    "display(bis_utils.doc_cache(\"cache/xdd.json\", success_valid_xdd and success_accepted_xdd ))"
   ]
  },
  {
   "cell_type": "markdown",
   "metadata": {},
   "source": [
    "Check to see if any invalid/not accepted ITIS specie names matched with xDD records"
   ]
  },
  {
   "cell_type": "code",
   "execution_count": null,
   "metadata": {},
   "outputs": [],
   "source": [
    "with open(\"cache/invalid_itis.json\", 'r') as f:\n",
    "    invalid_itis=json.loads(f.read())"
   ]
  },
  {
   "cell_type": "code",
   "execution_count": null,
   "metadata": {},
   "outputs": [],
   "source": [
    "# Use joblib to run multiple requests to xDD in parallel via scientific names\n",
    "invalid_xdd_results = Parallel(n_jobs=8)(delayed(xdd.snippets)(r[\"scientific_name\"]) for r in invalid_itis)\n",
    "len(invalid_xdd_results)"
   ]
  },
  {
   "cell_type": "code",
   "execution_count": 7,
   "metadata": {},
   "outputs": [
    {
     "ename": "NameError",
     "evalue": "name 'invalid_xdd_results' is not defined",
     "output_type": "error",
     "traceback": [
      "\u001b[0;31m---------------------------------------------------------------------------\u001b[0m",
      "\u001b[0;31mNameError\u001b[0m                                 Traceback (most recent call last)",
      "\u001b[0;32m<ipython-input-7-c6ff9ec8e659>\u001b[0m in \u001b[0;36m<module>\u001b[0;34m\u001b[0m\n\u001b[1;32m      1\u001b[0m \u001b[0;31m# Filter to give just cases where xDD records matched with invalid/not accepted ITIS species names\u001b[0m\u001b[0;34m\u001b[0m\u001b[0;34m\u001b[0m\u001b[0;34m\u001b[0m\u001b[0m\n\u001b[0;32m----> 2\u001b[0;31m \u001b[0minvalid_result\u001b[0m\u001b[0;34m=\u001b[0m\u001b[0;34m[\u001b[0m\u001b[0mi\u001b[0m \u001b[0;32mfor\u001b[0m \u001b[0mi\u001b[0m \u001b[0;32min\u001b[0m \u001b[0minvalid_xdd_results\u001b[0m \u001b[0;32mif\u001b[0m \u001b[0mi\u001b[0m\u001b[0;34m[\u001b[0m\u001b[0;34m'processing_metadata'\u001b[0m\u001b[0;34m]\u001b[0m\u001b[0;34m[\u001b[0m\u001b[0;34m'status'\u001b[0m\u001b[0;34m]\u001b[0m \u001b[0;34m==\u001b[0m \u001b[0;34m'success'\u001b[0m \u001b[0;34m]\u001b[0m\u001b[0;34m\u001b[0m\u001b[0;34m\u001b[0m\u001b[0m\n\u001b[0m\u001b[1;32m      3\u001b[0m \u001b[0mlen\u001b[0m\u001b[0;34m(\u001b[0m\u001b[0minvalid_result\u001b[0m\u001b[0;34m)\u001b[0m\u001b[0;34m\u001b[0m\u001b[0;34m\u001b[0m\u001b[0m\n",
      "\u001b[0;31mNameError\u001b[0m: name 'invalid_xdd_results' is not defined"
     ]
    }
   ],
   "source": [
    "# Filter to give just cases where xDD records matched with invalid/not accepted ITIS species names\n",
    "invalid_result=[i for i in invalid_xdd_results if i['processing_metadata']['status'] == 'success' ]\n",
    "len(invalid_result)"
   ]
  },
  {
   "cell_type": "code",
   "execution_count": 1,
   "metadata": {},
   "outputs": [
    {
     "ename": "NameError",
     "evalue": "name 'bis_utils' is not defined",
     "output_type": "error",
     "traceback": [
      "\u001b[0;31m---------------------------------------------------------------------------\u001b[0m",
      "\u001b[0;31mNameError\u001b[0m                                 Traceback (most recent call last)",
      "\u001b[0;32m<ipython-input-1-35501ceefb52>\u001b[0m in \u001b[0;36m<module>\u001b[0;34m\u001b[0m\n\u001b[1;32m      1\u001b[0m \u001b[0;31m# Cache the retrieved document and return/display a sample for verification\u001b[0m\u001b[0;34m\u001b[0m\u001b[0;34m\u001b[0m\u001b[0;34m\u001b[0m\u001b[0m\n\u001b[0;32m----> 2\u001b[0;31m \u001b[0mdisplay\u001b[0m\u001b[0;34m(\u001b[0m\u001b[0mbis_utils\u001b[0m\u001b[0;34m.\u001b[0m\u001b[0mdoc_cache\u001b[0m\u001b[0;34m(\u001b[0m\u001b[0;34m\"cache/invalid_xdd.json\"\u001b[0m\u001b[0;34m,\u001b[0m \u001b[0minvalid_result\u001b[0m\u001b[0;34m)\u001b[0m\u001b[0;34m)\u001b[0m\u001b[0;34m\u001b[0m\u001b[0;34m\u001b[0m\u001b[0m\n\u001b[0m",
      "\u001b[0;31mNameError\u001b[0m: name 'bis_utils' is not defined"
     ]
    }
   ],
   "source": [
    "# Cache the retrieved document and return/display a sample for verification\n",
    "display(bis_utils.doc_cache(\"cache/invalid_xdd.json\", invalid_result))"
   ]
  },
  {
   "cell_type": "code",
   "execution_count": null,
   "metadata": {},
   "outputs": [],
   "source": []
  }
 ],
 "metadata": {
  "kernelspec": {
   "display_name": "Python 3",
   "language": "python",
   "name": "python3"
  },
  "language_info": {
   "codemirror_mode": {
    "name": "ipython",
    "version": 3
   },
   "file_extension": ".py",
   "mimetype": "text/x-python",
   "name": "python",
   "nbconvert_exporter": "python",
   "pygments_lexer": "ipython3",
   "version": "3.7.3"
  }
 },
 "nbformat": 4,
 "nbformat_minor": 2
}
