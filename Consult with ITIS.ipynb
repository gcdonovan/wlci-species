{
 "cells": [
  {
   "cell_type": "markdown",
   "metadata": {},
   "source": [
    "Consult the ITIS API to retrieve information and cache for later processing. This is done via the ITIS module in the bispy package that uses various search mechanisms against ITIS and slightly repackages the returned data for use."
   ]
  },
  {
   "cell_type": "code",
   "execution_count": 9,
   "metadata": {},
   "outputs": [],
   "source": [
    "#Import needed packages\n",
    "import json\n",
    "import bispy\n",
    "from IPython.display import display\n",
    "from joblib import Parallel, delayed\n",
    "import jsonschema\n",
    "\n",
    "itis = bispy.itis.Itis()\n",
    "bis_utils = bispy.bis.Utils()"
   ]
  },
  {
   "cell_type": "code",
   "execution_count": 10,
   "metadata": {},
   "outputs": [],
   "source": [
    "# Open source WLCI list created from build-specie-list.ipynb\n",
    "with open(\"sources/WLCI Species List from Literature.json\", \"r\") as f:\n",
    "    sp_list = json.loads(f.read())\n",
    "sci_name_list = list(set([spp[\"Scientific Name\"] for spp in sp_list]))"
   ]
  },
  {
   "cell_type": "code",
   "execution_count": 11,
   "metadata": {},
   "outputs": [
    {
     "data": {
      "text/plain": [
       "['Falco mexicanus',\n",
       " 'Agave americana',\n",
       " 'Gavia stellata',\n",
       " 'Passer domesticus',\n",
       " 'Hesperostipa comata',\n",
       " 'Branta canadensis',\n",
       " 'Connochaetes taurinus',\n",
       " 'Prunus virginiana',\n",
       " 'Lanius ludovicianus',\n",
       " 'Castor canadensis',\n",
       " 'Buteo regalis',\n",
       " 'Sphaeralcea coccinea',\n",
       " 'Descurainia sophia',\n",
       " 'Abies lasiocarpa',\n",
       " 'Ericameria nauseosa',\n",
       " 'Lasiurus cinereus semotus',\n",
       " 'Clupea pallasii',\n",
       " 'Oncorhynchus mykiss',\n",
       " 'Clupea pallasi',\n",
       " 'Thrichomys fosteri',\n",
       " 'Pseudoroegneria spicata',\n",
       " 'Brucella abortus',\n",
       " 'Grus canadensis',\n",
       " 'Artemisia tridentata',\n",
       " 'Pterodroma sandwichensis',\n",
       " 'Brachylagus idahoensis',\n",
       " 'Ictidomys tridecemlineatus',\n",
       " 'Pinus albicaulis',\n",
       " 'Cervus elaphus',\n",
       " 'Zea mays',\n",
       " 'Peromyscus keeni',\n",
       " 'Clangula hyemalis',\n",
       " 'Juniperus communis',\n",
       " 'Cercocarpus ledifolius',\n",
       " 'Pascopyrum smithii',\n",
       " 'Amorpha canescens',\n",
       " 'Centrocercus minimus',\n",
       " 'Eremophila alpestris',\n",
       " 'Fringilla montifringilla',\n",
       " 'Dendroctonus pseudotsugae',\n",
       " 'Canis latrans',\n",
       " 'Sarcobatus vermiculatus',\n",
       " 'Orgyia pseudotsugata',\n",
       " 'Rhynchophanes mccownii',\n",
       " 'Buteo swainsoni',\n",
       " 'Oreoscoptes montanus',\n",
       " 'Vulpes velox',\n",
       " 'Centrocercus urophasianus',\n",
       " 'Betula nana',\n",
       " 'Cottus bairdii',\n",
       " 'Oncorhynchus clarkii',\n",
       " 'Ammodramus savannarum',\n",
       " 'Bombus griseocollis',\n",
       " 'Morus bassanus',\n",
       " 'Tympanuchus pallidicinctus',\n",
       " 'Microtus agrestis',\n",
       " 'Populus tremuloides',\n",
       " 'Cercocarpus montanus',\n",
       " 'Tamias minimus',\n",
       " 'Lullula arborea',\n",
       " 'Haliaeetus leucocephalus',\n",
       " 'Branta leucopsis',\n",
       " 'Artemisia cana',\n",
       " 'Apis mellifera',\n",
       " 'Bassia prostrata',\n",
       " 'Sterna dougallii',\n",
       " 'Setophaga discolor',\n",
       " 'Peromyscus maniculatus',\n",
       " 'Atriplex gardneri',\n",
       " 'Elymus lanceolatus',\n",
       " 'Festuca idahoensis',\n",
       " 'Ursus arctos',\n",
       " 'Vaccinium membranaceum',\n",
       " 'Artemisia tridentata ssp. wyomingensis',\n",
       " 'Colinus virginianus',\n",
       " 'Shepherdia canadensis',\n",
       " 'Halogeton glomeratus',\n",
       " 'Myotis sodalis',\n",
       " 'Ovis canadensis',\n",
       " 'Urocitellus armatus',\n",
       " 'Vulpes vulpes',\n",
       " 'Ammodytes marinus',\n",
       " 'Aythya marila',\n",
       " 'Macaca sylvanus',\n",
       " 'Elymus elymoides',\n",
       " 'Tamiasciurus hudsonicus',\n",
       " 'Oncorhynchus nerka',\n",
       " 'Catostomus platyrhynchus',\n",
       " 'Falco sparverius',\n",
       " 'Lepidochelys olivacea',\n",
       " 'Kochia prostrata',\n",
       " 'Picea engelmannii',\n",
       " 'Suaeda maritima',\n",
       " 'Amelanchier alnifolia',\n",
       " 'Pelecanus occidentalis',\n",
       " 'Melanitta perspicillata',\n",
       " 'Schoenoplectus acutus',\n",
       " 'Juniperus communis var. depressa',\n",
       " 'Glaucomys volans',\n",
       " 'Canis lupus',\n",
       " 'Arctostaphylos patula',\n",
       " 'Ursus americanus',\n",
       " 'Procyon lotor',\n",
       " 'Purshia tridentata',\n",
       " 'Artemisiospiza nevadensis',\n",
       " 'Grus americana',\n",
       " 'Capreolus capreolus',\n",
       " 'Amphispiza belli',\n",
       " 'Oncorhynchus clarkii pleuriticus',\n",
       " 'Equus burchelli',\n",
       " 'Leymus cinereus',\n",
       " 'Alces alces',\n",
       " 'Microtus californicus',\n",
       " 'Dendroctonus ponderosae',\n",
       " 'Puffinus newelli',\n",
       " 'Odocoileus hemionus',\n",
       " 'Buteo jamaicensis',\n",
       " 'Otis tarda',\n",
       " 'Cronartium ribicola',\n",
       " 'Lasiurus cinereus',\n",
       " 'Oncorhynchus gorbuscha',\n",
       " 'Bromus tectorum',\n",
       " 'Rangifer tarandus',\n",
       " 'Panicum virgatum',\n",
       " 'Gymnogyps californianus',\n",
       " 'Lasiurus borealis',\n",
       " 'Mergus merganser',\n",
       " 'Corvus corax',\n",
       " 'Reithrodontomys megalotis',\n",
       " 'Aythya affinis',\n",
       " 'Xerospermophilus mohavensis',\n",
       " 'Pinus flexilis',\n",
       " 'Spizella breweri',\n",
       " 'Oncorhynchus tshawytscha',\n",
       " 'Phleum pratense',\n",
       " 'Achnatherum hymenoides',\n",
       " 'Potorous tridactylus',\n",
       " 'Pseudotsuga menziesii',\n",
       " 'Lepus townsendii',\n",
       " 'Melanitta deglandi',\n",
       " 'Salvelinus namaycush',\n",
       " 'Myotis septentrionalis',\n",
       " 'Atriplex canescens',\n",
       " 'Aquila chrysaetos',\n",
       " 'Anoplopoma fimbria',\n",
       " 'Circus cyaneus',\n",
       " 'Gopherus agassizii',\n",
       " 'Mallotus villosus',\n",
       " 'Krascheninnikovia lanata',\n",
       " 'Rangifer tarandus groenlandicus',\n",
       " 'Taxidea taxus',\n",
       " 'Poa secunda',\n",
       " 'Podiceps grisegena',\n",
       " 'Tetrao tetrix',\n",
       " 'Gavia immer',\n",
       " 'Bison bison',\n",
       " 'Pinus contorta',\n",
       " 'Procapra gutturosa',\n",
       " 'Medicago sativa',\n",
       " 'Atriplex argentea',\n",
       " 'Thinopyrum ponticum',\n",
       " 'Antilocapra americana']"
      ]
     },
     "execution_count": 11,
     "metadata": {},
     "output_type": "execute_result"
    }
   ],
   "source": [
    "#print initial list\n",
    "sci_name_list"
   ]
  },
  {
   "cell_type": "code",
   "execution_count": 12,
   "metadata": {},
   "outputs": [
    {
     "data": {
      "text/plain": [
       "162"
      ]
     },
     "execution_count": 12,
     "metadata": {},
     "output_type": "execute_result"
    }
   ],
   "source": [
    "# Use joblib to run multiple requests for ITIS records in parallel via scientific species names from the WLCI Species List from Literature\n",
    "itis_list = Parallel(n_jobs=8)(delayed(itis.search)(name) for name in sci_name_list)\n",
    "len(itis_list)"
   ]
  },
  {
   "cell_type": "code",
   "execution_count": 13,
   "metadata": {},
   "outputs": [
    {
     "data": {
      "text/plain": [
       "162"
      ]
     },
     "execution_count": 13,
     "metadata": {},
     "output_type": "execute_result"
    }
   ],
   "source": [
    "# Filter to give just cases where ITIS records successfully matched with the WLCI scientific species names\n",
    "itis_cache=[i for i in itis_list if i['processing_metadata']['status'] == 'success']\n",
    "len(itis_cache)"
   ]
  },
  {
   "cell_type": "code",
   "execution_count": 14,
   "metadata": {},
   "outputs": [
    {
     "data": {
      "text/plain": [
       "{'Doc Cache File': 'cache/itis.json',\n",
       " 'Number of Documents in Cache': 162,\n",
       " 'Document Number 124': {'processing_metadata': {'status': 'success',\n",
       "   'date_processed': '2019-08-13T14:47:35.013275',\n",
       "   'status_message': 'Exact Match',\n",
       "   'details': [{'Exact Match': 'https://services.itis.gov/?wt=json&rows=10&q=nameWOInd:Gymnogyps\\\\%20californianus'}]},\n",
       "  'itis_data': [{'tsn': '175274',\n",
       "    'nameWInd': 'Gymnogyps californianus',\n",
       "    'nameWOInd': 'Gymnogyps californianus',\n",
       "    'unit1': 'Gymnogyps',\n",
       "    'unit2': 'californianus',\n",
       "    'usage': 'valid',\n",
       "    'kingdom': 'Animalia',\n",
       "    'parentTSN': '175273',\n",
       "    'rank': 'Species',\n",
       "    'synonyms': ['175274:$Vultur californianus$'],\n",
       "    'synonymTSNs': ['175274:$175275$'],\n",
       "    'date_created': '1996-06-13 14:51:08',\n",
       "    'date_modified': '2011-09-22 00:00:00',\n",
       "    'biological_taxonomy': [{'rank': 'Kingdom', 'name': 'Animalia'},\n",
       "     {'rank': 'Subkingdom', 'name': 'Bilateria'},\n",
       "     {'rank': 'Infrakingdom', 'name': 'Deuterostomia'},\n",
       "     {'rank': 'Phylum', 'name': 'Chordata'},\n",
       "     {'rank': 'Subphylum', 'name': 'Vertebrata'},\n",
       "     {'rank': 'Infraphylum', 'name': 'Gnathostomata'},\n",
       "     {'rank': 'Superclass', 'name': 'Tetrapoda'},\n",
       "     {'rank': 'Class', 'name': 'Aves'},\n",
       "     {'rank': 'Order', 'name': 'Accipitriformes'},\n",
       "     {'rank': 'Family', 'name': 'Cathartidae'},\n",
       "     {'rank': 'Genus', 'name': 'Gymnogyps'},\n",
       "     {'rank': 'Species', 'name': 'Gymnogyps californianus'}],\n",
       "    'hierarchy': ['Animalia',\n",
       "     'Bilateria',\n",
       "     'Deuterostomia',\n",
       "     'Chordata',\n",
       "     'Vertebrata',\n",
       "     'Gnathostomata',\n",
       "     'Tetrapoda',\n",
       "     'Aves',\n",
       "     'Accipitriformes',\n",
       "     'Cathartidae',\n",
       "     'Gymnogyps',\n",
       "     'Gymnogyps californianus'],\n",
       "    'commonnames': [{'name': 'California Condor', 'language': 'English'},\n",
       "     {'name': 'Cóndor californiano', 'language': 'Spanish'},\n",
       "     {'name': 'Condor de Californie', 'language': 'French'}]}]}}"
      ]
     },
     "metadata": {},
     "output_type": "display_data"
    }
   ],
   "source": [
    "# Cache the array of retrieved documents and return/display a random sample for verification\n",
    "display(bis_utils.doc_cache(\"cache/itis.json\", itis_cache))"
   ]
  }
 ],
 "metadata": {
  "kernelspec": {
   "display_name": "Python 3",
   "language": "python",
   "name": "python3"
  },
  "language_info": {
   "codemirror_mode": {
    "name": "ipython",
    "version": 3
   },
   "file_extension": ".py",
   "mimetype": "text/x-python",
   "name": "python",
   "nbconvert_exporter": "python",
   "pygments_lexer": "ipython3",
   "version": "3.7.3"
  }
 },
 "nbformat": 4,
 "nbformat_minor": 2
}
