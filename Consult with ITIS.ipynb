{
 "cells": [
  {
   "cell_type": "markdown",
   "metadata": {},
   "source": [
    "Consult the ITIS API to retrieve information and cache for later processing. This is done via the ITIS module in the bispy package that uses various search mechanisms against ITIS and slightly repackages the returned data for use."
   ]
  },
  {
   "cell_type": "code",
   "execution_count": 3,
   "metadata": {},
   "outputs": [],
   "source": [
    "#Import needed packages\n",
    "import json\n",
    "import bispy\n",
    "from IPython.display import display\n",
    "from joblib import Parallel, delayed\n",
    "import jsonschema\n",
    "\n",
    "itis = bispy.itis.Itis()\n",
    "bis_utils = bispy.bis.Utils()\n",
    "\n",
    "import warnings\n",
    "warnings.filterwarnings('ignore')"
   ]
  },
  {
   "cell_type": "code",
   "execution_count": 4,
   "metadata": {},
   "outputs": [],
   "source": [
    "url='http://www.itis.gov/ITISWebService/services/ITISService/getGeographicValues'"
   ]
  },
  {
   "cell_type": "code",
   "execution_count": 7,
   "metadata": {},
   "outputs": [],
   "source": [
    "# Open source WLCI list created from build-specie-list.ipynb\n",
    "with open(\"sources/WLCI Species List from Literature.json\", \"r\") as f:\n",
    "    sp_list = json.loads(f.read())\n",
    "sci_name_list = list(set([spp[\"Scientific Name\"] for spp in sp_list]))"
   ]
  },
  {
   "cell_type": "code",
   "execution_count": 8,
   "metadata": {},
   "outputs": [
    {
     "data": {
      "text/plain": [
       "['Microtus californicus',\n",
       " 'Amphispiza belli',\n",
       " 'Ammodytes marinus',\n",
       " 'Gavia stellata',\n",
       " 'Xerospermophilus mohavensis',\n",
       " 'Circus cyaneus',\n",
       " 'Lanius ludovicianus',\n",
       " 'Tamiasciurus hudsonicus',\n",
       " 'Setophaga discolor',\n",
       " 'Artemisia tridentata',\n",
       " 'Myotis septentrionalis',\n",
       " 'Dendroctonus pseudotsugae',\n",
       " 'Krascheninnikovia lanata',\n",
       " 'Vulpes vulpes',\n",
       " 'Pterodroma sandwichensis',\n",
       " 'Poa secunda',\n",
       " 'Cottus bairdii',\n",
       " 'Centrocercus minimus',\n",
       " 'Artemisiospiza nevadensis',\n",
       " 'Bombus griseocollis',\n",
       " 'Buteo jamaicensis',\n",
       " 'Amorpha canescens',\n",
       " 'Kochia prostrata',\n",
       " 'Branta leucopsis',\n",
       " 'Hesperostipa comata',\n",
       " 'Pelecanus occidentalis',\n",
       " 'Glaucomys volans',\n",
       " 'Peromyscus maniculatus',\n",
       " 'Corvus corax',\n",
       " 'Oncorhynchus tshawytscha',\n",
       " 'Purshia tridentata',\n",
       " 'Arctostaphylos patula',\n",
       " 'Populus tremuloides',\n",
       " 'Pseudotsuga menziesii',\n",
       " 'Atriplex gardneri',\n",
       " 'Melanitta perspicillata',\n",
       " 'Prunus virginiana',\n",
       " 'Sarcobatus vermiculatus',\n",
       " 'Achnatherum hymenoides',\n",
       " 'Ericameria nauseosa',\n",
       " 'Falco sparverius',\n",
       " 'Agave americana',\n",
       " 'Taxidea taxus',\n",
       " 'Bromus tectorum',\n",
       " 'Aquila chrysaetos',\n",
       " 'Orgyia pseudotsugata',\n",
       " 'Microtus agrestis',\n",
       " 'Juniperus communis',\n",
       " 'Colinus virginianus',\n",
       " 'Connochaetes taurinus',\n",
       " 'Leymus cinereus',\n",
       " 'Buteo swainsoni',\n",
       " 'Juniperus communis var. depressa',\n",
       " 'Mergus merganser',\n",
       " 'Atriplex argentea',\n",
       " 'Clupea pallasii',\n",
       " 'Bison bison',\n",
       " 'Sphaeralcea coccinea',\n",
       " 'Picea engelmannii',\n",
       " 'Capreolus capreolus',\n",
       " 'Oncorhynchus mykiss',\n",
       " 'Lasiurus cinereus semotus',\n",
       " 'Peromyscus keeni',\n",
       " 'Gavia immer',\n",
       " 'Aythya affinis',\n",
       " 'Podiceps grisegena',\n",
       " 'Eremophila alpestris',\n",
       " 'Elymus lanceolatus',\n",
       " 'Suaeda maritima',\n",
       " 'Mallotus villosus',\n",
       " 'Oncorhynchus clarkii pleuriticus',\n",
       " 'Phleum pratense',\n",
       " 'Gymnogyps californianus',\n",
       " 'Buteo regalis',\n",
       " 'Puffinus newelli',\n",
       " 'Artemisia cana',\n",
       " 'Canis lupus',\n",
       " 'Catostomus platyrhynchus',\n",
       " 'Myotis sodalis',\n",
       " 'Procapra gutturosa',\n",
       " 'Atriplex canescens',\n",
       " 'Pinus albicaulis',\n",
       " 'Abies lasiocarpa',\n",
       " 'Passer domesticus',\n",
       " 'Rhynchophanes mccownii',\n",
       " 'Tetrao tetrix',\n",
       " 'Cervus elaphus',\n",
       " 'Oncorhynchus nerka',\n",
       " 'Panicum virgatum',\n",
       " 'Grus americana',\n",
       " 'Halogeton glomeratus',\n",
       " 'Brucella abortus',\n",
       " 'Cronartium ribicola',\n",
       " 'Tympanuchus pallidicinctus',\n",
       " 'Urocitellus armatus',\n",
       " 'Oncorhynchus clarkii',\n",
       " 'Gopherus agassizii',\n",
       " 'Lasiurus borealis',\n",
       " 'Odocoileus hemionus',\n",
       " 'Clangula hyemalis',\n",
       " 'Medicago sativa',\n",
       " 'Branta canadensis',\n",
       " 'Betula nana',\n",
       " 'Vaccinium membranaceum',\n",
       " 'Pinus flexilis',\n",
       " 'Ictidomys tridecemlineatus',\n",
       " 'Macaca sylvanus',\n",
       " 'Morus bassanus',\n",
       " 'Lepidochelys olivacea',\n",
       " 'Anoplopoma fimbria',\n",
       " 'Apis mellifera',\n",
       " 'Vulpes velox',\n",
       " 'Alces alces',\n",
       " 'Ovis canadensis',\n",
       " 'Potorous tridactylus',\n",
       " 'Sterna dougallii',\n",
       " 'Shepherdia canadensis',\n",
       " 'Equus burchelli',\n",
       " 'Reithrodontomys megalotis',\n",
       " 'Oncorhynchus gorbuscha',\n",
       " 'Zea mays',\n",
       " 'Schoenoplectus acutus',\n",
       " 'Centrocercus urophasianus',\n",
       " 'Cercocarpus ledifolius',\n",
       " 'Antilocapra americana',\n",
       " 'Melanitta deglandi',\n",
       " 'Canis latrans',\n",
       " 'Oreoscoptes montanus',\n",
       " 'Otis tarda',\n",
       " 'Grus canadensis',\n",
       " 'Haliaeetus leucocephalus',\n",
       " 'Tamias minimus',\n",
       " 'Rangifer tarandus',\n",
       " 'Pascopyrum smithii',\n",
       " 'Castor canadensis',\n",
       " 'Ursus arctos',\n",
       " 'Ammodramus savannarum',\n",
       " 'Amelanchier alnifolia',\n",
       " 'Elymus elymoides',\n",
       " 'Thinopyrum ponticum',\n",
       " 'Ursus americanus',\n",
       " 'Dendroctonus ponderosae',\n",
       " 'Pseudoroegneria spicata',\n",
       " 'Procyon lotor',\n",
       " 'Lepus townsendii',\n",
       " 'Lullula arborea',\n",
       " 'Thrichomys fosteri',\n",
       " 'Salvelinus namaycush',\n",
       " 'Cercocarpus montanus',\n",
       " 'Bassia prostrata',\n",
       " 'Clupea pallasi',\n",
       " 'Aythya marila',\n",
       " 'Rangifer tarandus groenlandicus',\n",
       " 'Lasiurus cinereus',\n",
       " 'Pinus contorta',\n",
       " 'Falco mexicanus',\n",
       " 'Descurainia sophia',\n",
       " 'Spizella breweri',\n",
       " 'Brachylagus idahoensis',\n",
       " 'Fringilla montifringilla',\n",
       " 'Festuca idahoensis',\n",
       " 'Artemisia tridentata ssp. wyomingensis']"
      ]
     },
     "execution_count": 8,
     "metadata": {},
     "output_type": "execute_result"
    }
   ],
   "source": [
    "#print initial list\n",
    "sci_name_list"
   ]
  },
  {
   "cell_type": "code",
   "execution_count": 9,
   "metadata": {},
   "outputs": [
    {
     "data": {
      "text/plain": [
       "162"
      ]
     },
     "execution_count": 9,
     "metadata": {},
     "output_type": "execute_result"
    }
   ],
   "source": [
    "# Use joblib to run multiple requests for ITIS documents in parallel via known ITIS TSNs\n",
    "itis_list = Parallel(n_jobs=8)(delayed(itis.search)(name) for name in sci_name_list)\n",
    "len(itis_list)"
   ]
  },
  {
   "cell_type": "code",
   "execution_count": 10,
   "metadata": {},
   "outputs": [
    {
     "data": {
      "text/plain": [
       "162"
      ]
     },
     "execution_count": 10,
     "metadata": {},
     "output_type": "execute_result"
    }
   ],
   "source": [
    "#Select records listed as successful\n",
    "itis_cache=[i for i in itis_list if i['processing_metadata']['status'] == 'success']\n",
    "len(itis_cache)"
   ]
  },
  {
   "cell_type": "code",
   "execution_count": 13,
   "metadata": {},
   "outputs": [
    {
     "data": {
      "text/plain": [
       "{'Doc Cache File': 'cache/itis.json',\n",
       " 'Number of Documents in Cache': 116,\n",
       " 'Document Number 108': {'processing_metadata': {'status': 'success',\n",
       "   'date_processed': '2019-08-06T20:57:44.942788',\n",
       "   'status_message': 'Exact Match',\n",
       "   'details': [{'Exact Match': 'https://services.itis.gov/?wt=json&rows=10&q=nameWOInd:Artemisia\\\\%20tridentata'}]},\n",
       "  'itis_data': [{'tsn': '35498',\n",
       "    'nameWInd': 'Artemisia tridentata',\n",
       "    'nameWOInd': 'Artemisia tridentata',\n",
       "    'unit1': 'Artemisia',\n",
       "    'unit2': 'tridentata',\n",
       "    'usage': 'accepted',\n",
       "    'kingdom': 'Plantae',\n",
       "    'parentTSN': '35431',\n",
       "    'rank': 'Species',\n",
       "    'date_created': '1996-06-13 14:51:08',\n",
       "    'date_modified': '2010-10-05 00:00:00',\n",
       "    'biological_taxonomy': [{'rank': 'Kingdom', 'name': 'Plantae'},\n",
       "     {'rank': 'Subkingdom', 'name': 'Viridiplantae'},\n",
       "     {'rank': 'Infrakingdom', 'name': 'Streptophyta'},\n",
       "     {'rank': 'Superdivision', 'name': 'Embryophyta'},\n",
       "     {'rank': 'Division', 'name': 'Tracheophyta'},\n",
       "     {'rank': 'Subdivision', 'name': 'Spermatophytina'},\n",
       "     {'rank': 'Class', 'name': 'Magnoliopsida'},\n",
       "     {'rank': 'Superorder', 'name': 'Asteranae'},\n",
       "     {'rank': 'Order', 'name': 'Asterales'},\n",
       "     {'rank': 'Family', 'name': 'Asteraceae'},\n",
       "     {'rank': 'Genus', 'name': 'Artemisia'},\n",
       "     {'rank': 'Species', 'name': 'Artemisia tridentata'}],\n",
       "    'hierarchy': ['Plantae',\n",
       "     'Viridiplantae',\n",
       "     'Streptophyta',\n",
       "     'Embryophyta',\n",
       "     'Tracheophyta',\n",
       "     'Spermatophytina',\n",
       "     'Magnoliopsida',\n",
       "     'Asteranae',\n",
       "     'Asterales',\n",
       "     'Asteraceae',\n",
       "     'Artemisia',\n",
       "     'Artemisia tridentata'],\n",
       "    'commonnames': [{'name': 'big sagebrush', 'language': 'English'},\n",
       "     {'name': 'big sagebush', 'language': 'English'}]}]}}"
      ]
     },
     "metadata": {},
     "output_type": "display_data"
    }
   ],
   "source": [
    "# Cache the array of retrieved documents and return/display a random sample for verification\n",
    "display(bis_utils.doc_cache(\"cache/itis.json\", itis_cache))"
   ]
  }
 ],
 "metadata": {
  "kernelspec": {
   "display_name": "Python 3",
   "language": "python",
   "name": "python3"
  },
  "language_info": {
   "codemirror_mode": {
    "name": "ipython",
    "version": 3
   },
   "file_extension": ".py",
   "mimetype": "text/x-python",
   "name": "python",
   "nbconvert_exporter": "python",
   "pygments_lexer": "ipython3",
   "version": "3.7.3"
  }
 },
 "nbformat": 4,
 "nbformat_minor": 2
}
