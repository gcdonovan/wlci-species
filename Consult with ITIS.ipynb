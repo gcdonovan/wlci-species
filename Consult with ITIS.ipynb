{
 "cells": [
  {
   "cell_type": "markdown",
   "metadata": {},
   "source": [
    "Consult the ITIS API to retrieve information and cache for later processing. This is done via the ITIS module in the bispy package that uses various search mechanisms against ITIS and slightly repackages the returned data for use."
   ]
  },
  {
   "cell_type": "code",
   "execution_count": 1,
   "metadata": {},
   "outputs": [],
   "source": [
    "#Import needed packages\n",
    "import json\n",
    "import bispy\n",
    "from IPython.display import display\n",
    "from joblib import Parallel, delayed\n",
    "import jsonschema\n",
    "\n",
    "itis = bispy.itis.Itis()\n",
    "bis_utils = bispy.bis.Utils()\n",
    "\n",
    "import warnings\n",
    "warnings.filterwarnings('ignore')"
   ]
  },
  {
   "cell_type": "code",
   "execution_count": 2,
   "metadata": {},
   "outputs": [],
   "source": [
    "# Open source WLCI list created from build-specie-list.ipynb\n",
    "with open(\"cache/WLCI Species List from Literature.json\", \"r\") as f:\n",
    "    sp_list = json.loads(f.read())\n",
    "sci_name_list = list(set([spp[\"Scientific Name\"] for spp in sp_list]))"
   ]
  },
  {
   "cell_type": "code",
   "execution_count": 3,
   "metadata": {},
   "outputs": [
    {
     "data": {
      "text/plain": [
       "['Festuca idahoensis',\n",
       " 'Ursus americanus',\n",
       " 'Pseudotsuga menziesii',\n",
       " 'Tamiasciurus hudsonicus',\n",
       " 'Otis tarda',\n",
       " 'Melanitta perspicillata',\n",
       " 'Taxidea taxus',\n",
       " 'Poa secunda',\n",
       " 'Amphispiza belli',\n",
       " 'Rangifer tarandus groenlandicus',\n",
       " 'Urocitellus armatus',\n",
       " 'Centrocercus urophasianus',\n",
       " 'Procapra gutturosa',\n",
       " 'Juniperus communis',\n",
       " 'Cronartium ribicola',\n",
       " 'Spizella breweri',\n",
       " 'Atriplex argentea',\n",
       " 'Atriplex canescens',\n",
       " 'Leymus cinereus',\n",
       " 'Oncorhynchus clarkii',\n",
       " 'Sarcobatus vermiculatus',\n",
       " 'Pinus contorta',\n",
       " 'Centrocercus minimus',\n",
       " 'Pinus flexilis',\n",
       " 'Ericameria nauseosa',\n",
       " 'Sphaeralcea coccinea',\n",
       " 'Thinopyrum ponticum',\n",
       " 'Ictidomys tridecemlineatus',\n",
       " 'Bassia prostrata',\n",
       " 'Castor canadensis',\n",
       " 'Dendroctonus pseudotsugae',\n",
       " 'Medicago sativa',\n",
       " 'Lepus townsendii',\n",
       " 'Antilocapra americana',\n",
       " 'Potorous tridactylus',\n",
       " 'Elymus elymoides',\n",
       " 'Microtus californicus',\n",
       " 'Bromus tectorum',\n",
       " 'Prunus virginiana',\n",
       " 'Vaccinium membranaceum',\n",
       " 'Pseudoroegneria spicata',\n",
       " 'Salvelinus namaycush',\n",
       " 'Capreolus capreolus',\n",
       " 'Buteo regalis',\n",
       " 'Orgyia pseudotsugata',\n",
       " 'Artemisia cana',\n",
       " 'Aquila chrysaetos',\n",
       " 'Descurainia sophia',\n",
       " 'Cercocarpus montanus',\n",
       " 'Bison bison',\n",
       " 'Zea mays',\n",
       " 'Juniperus communis var. depressa',\n",
       " 'Amelanchier alnifolia',\n",
       " 'Connochaetes taurinus',\n",
       " 'Canis lupus',\n",
       " 'Passer domesticus',\n",
       " 'Artemisia tridentata ssp. wyomingensis',\n",
       " 'Phleum pratense',\n",
       " 'Halogeton glomeratus',\n",
       " 'Vulpes vulpes',\n",
       " 'Betula nana',\n",
       " 'Cottus bairdii',\n",
       " 'Kochia prostrata',\n",
       " 'Haliaeetus leucocephalus',\n",
       " 'Arctostaphylos patula',\n",
       " 'Suaeda maritima',\n",
       " 'Picea engelmannii',\n",
       " 'Odocoileus hemionus',\n",
       " 'Achnatherum hymenoides',\n",
       " 'Oreoscoptes montanus',\n",
       " 'Clupea pallasii',\n",
       " 'Corvus corax',\n",
       " 'Branta canadensis',\n",
       " 'Abies lasiocarpa',\n",
       " 'Lepidochelys olivacea',\n",
       " 'Microtus agrestis',\n",
       " 'Reithrodontomys megalotis',\n",
       " 'Catostomus platyrhynchus',\n",
       " 'Falco sparverius',\n",
       " 'Elymus lanceolatus',\n",
       " 'Pascopyrum smithii',\n",
       " 'Alces alces',\n",
       " 'Purshia tridentata',\n",
       " 'Oncorhynchus clarkii pleuriticus',\n",
       " 'Lullula arborea',\n",
       " 'Canis latrans',\n",
       " 'Lanius ludovicianus',\n",
       " 'Brucella abortus',\n",
       " 'Rangifer tarandus',\n",
       " 'Glaucomys volans',\n",
       " 'Oncorhynchus nerka',\n",
       " 'Ovis canadensis',\n",
       " 'Brachylagus idahoensis',\n",
       " 'Branta leucopsis',\n",
       " 'Thrichomys fosteri',\n",
       " 'Dendroctonus ponderosae',\n",
       " 'Procyon lotor',\n",
       " 'Fringilla montifringilla',\n",
       " 'Pinus albicaulis',\n",
       " 'Equus burchelli',\n",
       " 'Artemisiospiza nevadensis',\n",
       " 'Shepherdia canadensis',\n",
       " 'Atriplex gardneri',\n",
       " 'Colinus virginianus',\n",
       " 'Peromyscus keeni',\n",
       " 'Hesperostipa comata',\n",
       " 'Krascheninnikovia lanata',\n",
       " 'Cervus elaphus',\n",
       " 'Artemisia tridentata',\n",
       " 'Tetrao tetrix',\n",
       " 'Macaca sylvanus',\n",
       " 'Peromyscus maniculatus',\n",
       " 'Tamias minimus',\n",
       " 'Ursus arctos',\n",
       " 'Cercocarpus ledifolius',\n",
       " 'Populus tremuloides']"
      ]
     },
     "execution_count": 3,
     "metadata": {},
     "output_type": "execute_result"
    }
   ],
   "source": [
    "#print initial list\n",
    "sci_name_list"
   ]
  },
  {
   "cell_type": "code",
   "execution_count": 11,
   "metadata": {},
   "outputs": [
    {
     "data": {
      "text/plain": [
       "116"
      ]
     },
     "execution_count": 11,
     "metadata": {},
     "output_type": "execute_result"
    }
   ],
   "source": [
    "%%time\n",
    "# Use joblib to run multiple requests for ITIS documents in parallel via known ITIS TSNs\n",
    "itis_list = Parallel(n_jobs=8)(delayed(itis.search)(name) for name in sci_name_list)\n",
    "len(itis_list)"
   ]
  },
  {
   "cell_type": "code",
   "execution_count": 12,
   "metadata": {},
   "outputs": [
    {
     "data": {
      "text/plain": [
       "116"
      ]
     },
     "execution_count": 12,
     "metadata": {},
     "output_type": "execute_result"
    }
   ],
   "source": [
    "#Select records listed as successful\n",
    "itis_cache=[i for i in itis_list if i['processing_metadata']['status'] == 'success']\n",
    "len(itis_cache)"
   ]
  },
  {
   "cell_type": "code",
   "execution_count": 13,
   "metadata": {},
   "outputs": [
    {
     "data": {
      "text/plain": [
       "{'Doc Cache File': 'cache/itis.json',\n",
       " 'Number of Documents in Cache': 116,\n",
       " 'Document Number 108': {'processing_metadata': {'status': 'success',\n",
       "   'date_processed': '2019-08-06T20:57:44.942788',\n",
       "   'status_message': 'Exact Match',\n",
       "   'details': [{'Exact Match': 'https://services.itis.gov/?wt=json&rows=10&q=nameWOInd:Artemisia\\\\%20tridentata'}]},\n",
       "  'itis_data': [{'tsn': '35498',\n",
       "    'nameWInd': 'Artemisia tridentata',\n",
       "    'nameWOInd': 'Artemisia tridentata',\n",
       "    'unit1': 'Artemisia',\n",
       "    'unit2': 'tridentata',\n",
       "    'usage': 'accepted',\n",
       "    'kingdom': 'Plantae',\n",
       "    'parentTSN': '35431',\n",
       "    'rank': 'Species',\n",
       "    'date_created': '1996-06-13 14:51:08',\n",
       "    'date_modified': '2010-10-05 00:00:00',\n",
       "    'biological_taxonomy': [{'rank': 'Kingdom', 'name': 'Plantae'},\n",
       "     {'rank': 'Subkingdom', 'name': 'Viridiplantae'},\n",
       "     {'rank': 'Infrakingdom', 'name': 'Streptophyta'},\n",
       "     {'rank': 'Superdivision', 'name': 'Embryophyta'},\n",
       "     {'rank': 'Division', 'name': 'Tracheophyta'},\n",
       "     {'rank': 'Subdivision', 'name': 'Spermatophytina'},\n",
       "     {'rank': 'Class', 'name': 'Magnoliopsida'},\n",
       "     {'rank': 'Superorder', 'name': 'Asteranae'},\n",
       "     {'rank': 'Order', 'name': 'Asterales'},\n",
       "     {'rank': 'Family', 'name': 'Asteraceae'},\n",
       "     {'rank': 'Genus', 'name': 'Artemisia'},\n",
       "     {'rank': 'Species', 'name': 'Artemisia tridentata'}],\n",
       "    'hierarchy': ['Plantae',\n",
       "     'Viridiplantae',\n",
       "     'Streptophyta',\n",
       "     'Embryophyta',\n",
       "     'Tracheophyta',\n",
       "     'Spermatophytina',\n",
       "     'Magnoliopsida',\n",
       "     'Asteranae',\n",
       "     'Asterales',\n",
       "     'Asteraceae',\n",
       "     'Artemisia',\n",
       "     'Artemisia tridentata'],\n",
       "    'commonnames': [{'name': 'big sagebrush', 'language': 'English'},\n",
       "     {'name': 'big sagebush', 'language': 'English'}]}]}}"
      ]
     },
     "metadata": {},
     "output_type": "display_data"
    }
   ],
   "source": [
    "# Cache the array of retrieved documents and return/display a random sample for verification\n",
    "display(bis_utils.doc_cache(\"cache/itis.json\", itis_cache))"
   ]
  },
  {
   "cell_type": "code",
   "execution_count": null,
   "metadata": {},
   "outputs": [],
   "source": []
  }
 ],
 "metadata": {
  "kernelspec": {
   "display_name": "Python 3",
   "language": "python",
   "name": "python3"
  },
  "language_info": {
   "codemirror_mode": {
    "name": "ipython",
    "version": 3
   },
   "file_extension": ".py",
   "mimetype": "text/x-python",
   "name": "python",
   "nbconvert_exporter": "python",
   "pygments_lexer": "ipython3",
   "version": "3.7.3"
  }
 },
 "nbformat": 4,
 "nbformat_minor": 2
}
