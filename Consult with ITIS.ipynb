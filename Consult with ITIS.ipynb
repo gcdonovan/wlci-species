{
 "cells": [
  {
   "cell_type": "markdown",
   "metadata": {},
   "source": [
    "Consult the ITIS API to retrieve information and cache for later processing. This is done via the ITIS module in the bispy package that uses various search mechanisms against ITIS and slightly repackages the returned data for use."
   ]
  },
  {
   "cell_type": "code",
   "execution_count": 2,
   "metadata": {},
   "outputs": [],
   "source": [
    "#Import needed packages\n",
    "import json\n",
    "import bispy\n",
    "from IPython.display import display\n",
    "from joblib import Parallel, delayed\n",
    "import jsonschema\n",
    "\n",
    "itis = bispy.itis.Itis()\n",
    "bis_utils = bispy.bis.Utils()\n",
    "\n",
    "import warnings\n",
    "warnings.filterwarnings('ignore')"
   ]
  },
  {
   "cell_type": "code",
   "execution_count": 3,
   "metadata": {},
   "outputs": [],
   "source": [
    "# Open source WLCI list created from build-specie-list.ipynb\n",
    "with open(\"cache/WLCI Species List from Literature.json\", \"r\") as f:\n",
    "    sp_list = json.loads(f.read())\n",
    "sci_name_list = list(set([spp[\"Scientific Name\"] for spp in sp_list]))"
   ]
  },
  {
   "cell_type": "code",
   "execution_count": 5,
   "metadata": {},
   "outputs": [
    {
     "data": {
      "text/plain": [
       "['Pinus albicaulis',\n",
       " 'Brachylagus idahoensis',\n",
       " 'Lepidochelys olivacea',\n",
       " 'Centrocercus minimus',\n",
       " 'Microtus agrestis',\n",
       " 'Kochia prostrata',\n",
       " 'Shepherdia canadensis',\n",
       " 'Potorous tridactylus',\n",
       " 'Ursus arctos',\n",
       " 'Achnatherum hymenoides',\n",
       " 'Reithrodontomys megalotis',\n",
       " 'Pseudotsuga menziesii',\n",
       " 'Colinus virginianus',\n",
       " 'Artemisia tridentata ssp. wyomingensis',\n",
       " 'Lanius ludovicianus',\n",
       " 'Populus tremuloides',\n",
       " 'Rangifer tarandus',\n",
       " 'Elymus elymoides',\n",
       " 'Salvelinus namaycush',\n",
       " 'Procapra gutturosa',\n",
       " 'Pinus contorta',\n",
       " 'Dendroctonus ponderosae',\n",
       " 'Spizella breweri',\n",
       " 'Medicago sativa',\n",
       " 'Haliaeetus leucocephalus',\n",
       " 'Purshia tridentata',\n",
       " 'Juniperus communis',\n",
       " 'Tetrao tetrix',\n",
       " 'Orgyia pseudotsugata',\n",
       " 'Falco sparverius',\n",
       " 'Clupea pallasii',\n",
       " 'Otis tarda',\n",
       " 'Abies lasiocarpa',\n",
       " 'Festuca idahoensis',\n",
       " 'Bison bison',\n",
       " 'Sarcobatus vermiculatus',\n",
       " 'Peromyscus maniculatus',\n",
       " 'Rangifer tarandus groenlandicus',\n",
       " 'Cronartium ribicola',\n",
       " 'Oncorhynchus clarkii pleuriticus',\n",
       " 'Oreoscoptes montanus',\n",
       " 'Amelanchier alnifolia',\n",
       " 'Amphispiza belli',\n",
       " 'Sphaeralcea coccinea',\n",
       " 'Catostomus platyrhynchus',\n",
       " 'Vaccinium membranaceum',\n",
       " 'Oncorhynchus clarkii',\n",
       " 'Descurainia sophia',\n",
       " 'Branta canadensis',\n",
       " 'Brucella abortus',\n",
       " 'Phleum pratense',\n",
       " 'Krascheninnikovia lanata',\n",
       " 'Artemisia tridentata',\n",
       " 'Odocoileus hemionus',\n",
       " 'Dendroctonus pseudotsugae',\n",
       " 'Alces alces',\n",
       " 'Atriplex canescens',\n",
       " 'Leymus cinereus',\n",
       " 'Juniperus communis var. depressa',\n",
       " 'Prunus virginiana',\n",
       " 'Procyon lotor',\n",
       " 'Glaucomys volans',\n",
       " 'Arctostaphylos patula',\n",
       " 'Artemisia cana',\n",
       " 'Connochaetes taurinus',\n",
       " 'Equus burchelli',\n",
       " 'Halogeton glomeratus',\n",
       " 'Artemisiospiza nevadensis',\n",
       " 'Betula nana',\n",
       " 'Cercocarpus montanus',\n",
       " 'Cervus elaphus',\n",
       " 'Antilocapra americana',\n",
       " 'Fringilla montifringilla',\n",
       " 'Capreolus capreolus',\n",
       " 'Poa secunda',\n",
       " 'Corvus corax',\n",
       " 'Bromus tectorum',\n",
       " 'Ovis canadensis',\n",
       " 'Canis latrans',\n",
       " 'Atriplex argentea',\n",
       " 'Lepus townsendii',\n",
       " 'Taxidea taxus',\n",
       " 'Aquila chrysaetos',\n",
       " 'Vulpes vulpes',\n",
       " 'Canis lupus',\n",
       " 'Tamias minimus',\n",
       " 'Macaca sylvanus',\n",
       " 'Lullula arborea',\n",
       " 'Cercocarpus ledifolius',\n",
       " 'Elymus lanceolatus',\n",
       " 'Microtus californicus',\n",
       " 'Hesperostipa comata',\n",
       " 'Suaeda maritima',\n",
       " 'Bassia prostrata',\n",
       " 'Tamiasciurus hudsonicus',\n",
       " 'Cottus bairdii',\n",
       " 'Passer domesticus',\n",
       " 'Zea mays',\n",
       " 'Buteo regalis',\n",
       " 'Oncorhynchus nerka',\n",
       " 'Castor canadensis',\n",
       " 'Pseudoroegneria spicata',\n",
       " 'Pinus flexilis',\n",
       " 'Urocitellus armatus',\n",
       " 'Branta leucopsis',\n",
       " 'Pascopyrum smithii',\n",
       " 'Ursus americanus',\n",
       " 'Melanitta perspicillata',\n",
       " 'Thrichomys fosteri',\n",
       " 'Ericameria nauseosa',\n",
       " 'Atriplex gardneri',\n",
       " 'Centrocercus urophasianus',\n",
       " 'Ictidomys tridecemlineatus',\n",
       " 'Picea engelmannii',\n",
       " 'Thinopyrum ponticum',\n",
       " 'Peromyscus keeni']"
      ]
     },
     "execution_count": 5,
     "metadata": {},
     "output_type": "execute_result"
    }
   ],
   "source": [
    "#print initial list\n",
    "sci_name_list"
   ]
  },
  {
   "cell_type": "code",
   "execution_count": 11,
   "metadata": {},
   "outputs": [
    {
     "data": {
      "text/plain": [
       "116"
      ]
     },
     "execution_count": 11,
     "metadata": {},
     "output_type": "execute_result"
    }
   ],
   "source": [
    "# Use joblib to run multiple requests for ITIS documents in parallel via known ITIS TSNs\n",
    "itis_list = Parallel(n_jobs=8)(delayed(itis.search)(name) for name in sci_name_list)\n",
    "len(itis_list)"
   ]
  },
  {
   "cell_type": "code",
   "execution_count": 12,
   "metadata": {},
   "outputs": [
    {
     "data": {
      "text/plain": [
       "116"
      ]
     },
     "execution_count": 12,
     "metadata": {},
     "output_type": "execute_result"
    }
   ],
   "source": [
    "#Select records listed as successful\n",
    "itis_cache=[i for i in itis_list if i['processing_metadata']['status'] == 'success']\n",
    "len(itis_cache)"
   ]
  },
  {
   "cell_type": "code",
   "execution_count": 13,
   "metadata": {},
   "outputs": [
    {
     "data": {
      "text/plain": [
       "{'Doc Cache File': 'cache/itis.json',\n",
       " 'Number of Documents in Cache': 116,\n",
       " 'Document Number 108': {'processing_metadata': {'status': 'success',\n",
       "   'date_processed': '2019-08-06T20:57:44.942788',\n",
       "   'status_message': 'Exact Match',\n",
       "   'details': [{'Exact Match': 'https://services.itis.gov/?wt=json&rows=10&q=nameWOInd:Artemisia\\\\%20tridentata'}]},\n",
       "  'itis_data': [{'tsn': '35498',\n",
       "    'nameWInd': 'Artemisia tridentata',\n",
       "    'nameWOInd': 'Artemisia tridentata',\n",
       "    'unit1': 'Artemisia',\n",
       "    'unit2': 'tridentata',\n",
       "    'usage': 'accepted',\n",
       "    'kingdom': 'Plantae',\n",
       "    'parentTSN': '35431',\n",
       "    'rank': 'Species',\n",
       "    'date_created': '1996-06-13 14:51:08',\n",
       "    'date_modified': '2010-10-05 00:00:00',\n",
       "    'biological_taxonomy': [{'rank': 'Kingdom', 'name': 'Plantae'},\n",
       "     {'rank': 'Subkingdom', 'name': 'Viridiplantae'},\n",
       "     {'rank': 'Infrakingdom', 'name': 'Streptophyta'},\n",
       "     {'rank': 'Superdivision', 'name': 'Embryophyta'},\n",
       "     {'rank': 'Division', 'name': 'Tracheophyta'},\n",
       "     {'rank': 'Subdivision', 'name': 'Spermatophytina'},\n",
       "     {'rank': 'Class', 'name': 'Magnoliopsida'},\n",
       "     {'rank': 'Superorder', 'name': 'Asteranae'},\n",
       "     {'rank': 'Order', 'name': 'Asterales'},\n",
       "     {'rank': 'Family', 'name': 'Asteraceae'},\n",
       "     {'rank': 'Genus', 'name': 'Artemisia'},\n",
       "     {'rank': 'Species', 'name': 'Artemisia tridentata'}],\n",
       "    'hierarchy': ['Plantae',\n",
       "     'Viridiplantae',\n",
       "     'Streptophyta',\n",
       "     'Embryophyta',\n",
       "     'Tracheophyta',\n",
       "     'Spermatophytina',\n",
       "     'Magnoliopsida',\n",
       "     'Asteranae',\n",
       "     'Asterales',\n",
       "     'Asteraceae',\n",
       "     'Artemisia',\n",
       "     'Artemisia tridentata'],\n",
       "    'commonnames': [{'name': 'big sagebrush', 'language': 'English'},\n",
       "     {'name': 'big sagebush', 'language': 'English'}]}]}}"
      ]
     },
     "metadata": {},
     "output_type": "display_data"
    }
   ],
   "source": [
    "# Cache the array of retrieved documents and return/display a random sample for verification\n",
    "display(bis_utils.doc_cache(\"cache/itis.json\", itis_cache))"
   ]
  }
 ],
 "metadata": {
  "kernelspec": {
   "display_name": "Python 3",
   "language": "python",
   "name": "python3"
  },
  "language_info": {
   "codemirror_mode": {
    "name": "ipython",
    "version": 3
   },
   "file_extension": ".py",
   "mimetype": "text/x-python",
   "name": "python",
   "nbconvert_exporter": "python",
   "pygments_lexer": "ipython3",
   "version": "3.7.3"
  }
 },
 "nbformat": 4,
 "nbformat_minor": 2
}
