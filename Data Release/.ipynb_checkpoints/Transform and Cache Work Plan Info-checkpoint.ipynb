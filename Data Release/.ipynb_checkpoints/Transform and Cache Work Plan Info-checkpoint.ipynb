{
 "cells": [
  {
   "cell_type": "markdown",
   "metadata": {},
   "source": [
    "The FWS work plan species originated from a published PDF file, but then a number of things have gone on over time to assemble information and assistance that USGS can provide from across Mission Areas and Science Centers. Much of this has been put together into one core spreadsheet that we are treating here as our master source (sources/Prelisting Science USGS Master_19Mar2018.xlsx). The worksheets in the spreadsheet all contain various kinds of information that we work with elsewhere in these notebooks. The main listing we refer to is in the \"FWS 7 Year Workplan Species\" worksheet. It has been enhanced a bit over time with an additional field with species guilds used for organizational purposes.\n",
    "\n",
    "This notebook digests the spreadsheet a little bit to produce a data structure that is more conducive to working with in Python throughout this system."
   ]
  },
  {
   "cell_type": "code",
   "execution_count": 1,
   "metadata": {},
   "outputs": [],
   "source": [
    "import pandas as pd\n",
    "import numpy as np\n",
    "import bispy\n",
    "from IPython.display import display\n",
    "import json\n",
    "import random"
   ]
  },
  {
   "cell_type": "code",
   "execution_count": 2,
   "metadata": {},
   "outputs": [],
   "source": [
    "# Open up the cached of ECOS info for use\n",
    "with open(\"cache/ecos_cache.json\", \"r\") as f:\n",
    "    cached_ecos_data = json.loads(f.read())\n",
    "\n",
    "# Quick function to retrieve the ECOS Link (Search URL recorded in processing metadata) for cached ECOS scraped records\n",
    "def ecos_bits(name, return_var=\"ECOS Link\"):\n",
    "    ecos_scraped_record = next((r for r in cached_ecos_data if r[\"Scientific Name\"] == name), None)\n",
    "    if ecos_scraped_record is None:\n",
    "        return_data = None\n",
    "    else:\n",
    "        if return_var == \"ECOS Link\":\n",
    "            return_data = ecos_scraped_record[\"Processing Metadata\"][\"Search URL\"]\n",
    "        elif return_var == \"ITIS TSN\":\n",
    "            return_data = ecos_scraped_record[\"ITIS TSN\"]\n",
    "\n",
    "    return return_data\n"
   ]
  },
  {
   "cell_type": "code",
   "execution_count": 3,
   "metadata": {},
   "outputs": [],
   "source": [
    "spp_list = pd.read_excel(\"sources/Prelisting Science USGS Master_19Mar2018.xlsx\", sheet_name=\"FWS 7 Year Workplan Species\", usecols=\"A:G\")\n",
    "spp_list_clean = pd.DataFrame(spp_list).replace({np.nan:None}).apply(lambda x: x.str.strip() if x.dtype == \"object\" else x)\n",
    "spp_list_clean[\"ECOS Link\"] = spp_list_clean.apply(lambda x: ecos_bits(x[\"Scientific Name\"]), axis=1)\n",
    "spp_list_clean[\"ITIS TSN\"] = spp_list_clean.apply(lambda x: ecos_bits(x[\"Scientific Name\"], \"ITIS TSN\"), axis=1)\n"
   ]
  },
  {
   "cell_type": "code",
   "execution_count": 4,
   "metadata": {},
   "outputs": [],
   "source": [
    "with open(\"cache/workplan_species.json\", \"w\") as f:\n",
    "    f.write(json.dumps(spp_list_clean.to_dict(orient='records'), indent=4))"
   ]
  },
  {
   "cell_type": "code",
   "execution_count": 5,
   "metadata": {},
   "outputs": [],
   "source": [
    "with open(\"cache/workplan_species.json\", \"r\") as f:\n",
    "    workplan_species = json.loads(f.read())"
   ]
  },
  {
   "cell_type": "code",
   "execution_count": 7,
   "metadata": {},
   "outputs": [
    {
     "name": "stdout",
     "output_type": "stream",
     "text": [
      "363\n"
     ]
    },
    {
     "data": {
      "text/plain": [
       "{'Bin': nan,\n",
       " 'ECOS Link': 'https://ecos.fws.gov/ecp/species/9957',\n",
       " 'Guild': 'Reptiles',\n",
       " 'ITIS TSN': '173814',\n",
       " 'Lead FWS Regional Office': 'Region 5 - Northeast',\n",
       " 'Proposed FWS Decision Timeframe (Fiscal Year)': 2023,\n",
       " 'Range': 'DC, DE, MA, MD, NC, NJ, PA, VA, WV',\n",
       " 'Scientific Name': 'Pseudemys rubriventris',\n",
       " 'Species Name (Common)': 'northern red-bellied cooter (range- wide)'}"
      ]
     },
     "metadata": {},
     "output_type": "display_data"
    }
   ],
   "source": [
    "print(len(workplan_species))\n",
    "display(workplan_species[random.randint(0,len(workplan_species)-1)])"
   ]
  },
  {
   "cell_type": "code",
   "execution_count": null,
   "metadata": {},
   "outputs": [],
   "source": []
  }
 ],
 "metadata": {
  "kernelspec": {
   "display_name": "Python 3",
   "language": "python",
   "name": "python3"
  },
  "language_info": {
   "codemirror_mode": {
    "name": "ipython",
    "version": 3
   },
   "file_extension": ".py",
   "mimetype": "text/x-python",
   "name": "python",
   "nbconvert_exporter": "python",
   "pygments_lexer": "ipython3",
   "version": "3.6.8"
  }
 },
 "nbformat": 4,
 "nbformat_minor": 2
}
